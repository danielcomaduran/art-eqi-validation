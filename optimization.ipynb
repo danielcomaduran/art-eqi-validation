{
 "cells": [
  {
   "cell_type": "markdown",
   "metadata": {},
   "source": [
    "# Optimization\n",
    "\n",
    "## Import libraries"
   ]
  },
  {
   "cell_type": "code",
   "execution_count": 1,
   "metadata": {},
   "outputs": [],
   "source": [
    "# Default libraries\n",
    "import numpy as np\n",
    "import scipy.optimize as optimize\n",
    "import matplotlib.pyplot as plt\n",
    "\n",
    "# Custom libraries\n",
    "import Functions.data_tools as data_tools\n",
    "from Functions.temple_data import TempleData\n",
    "from Functions.artifact_removal_tool import ART\n",
    "from Functions import eeg_quality_index as eqi"
   ]
  },
  {
   "cell_type": "markdown",
   "metadata": {},
   "source": [
    "## Import data"
   ]
  },
  {
   "cell_type": "code",
   "execution_count": 2,
   "metadata": {},
   "outputs": [
    {
     "name": "stdout",
     "output_type": "stream",
     "text": [
      "Extracting EDF parameters from c:\\Users\\danie\\Documents\\Projects\\art-eqi-p300-validation\\Data\\Temple\\edf\\01_tcp_ar\\002\\00000254\\s005_2010_11_15\\00000254_s005_t000.edf...\n",
      "EDF file detected\n",
      "Setting channel info structure...\n",
      "Creating raw.info structure...\n"
     ]
    }
   ],
   "source": [
    "file = r\"Data\\Temple\\edf\\01_tcp_ar\\002\\00000254\\s005_2010_11_15\\00000254_s005_t000.edf\" # NO artifacts\n",
    "# file = r\"Data\\Temple\\edf\\01_tcp_ar\\002\\00000254\\s005_2010_11_15\\00000254_s005_t000.edf\" # With artifacts\n",
    "temple = TempleData(file)"
   ]
  },
  {
   "cell_type": "code",
   "execution_count": 3,
   "metadata": {},
   "outputs": [],
   "source": [
    "artifacts_file = fr\"Data\\\\Temple\\\\csv\\\\labels_{temple.montage_type}.csv\"\n",
    "temple.get_artifacts_from_csv(artifacts_file)\n",
    "[chans, data] = temple.get_artifact_type_data(\"eyem\")"
   ]
  },
  {
   "cell_type": "markdown",
   "metadata": {},
   "source": [
    "## Single run example"
   ]
  },
  {
   "cell_type": "code",
   "execution_count": 20,
   "metadata": {},
   "outputs": [],
   "source": [
    "\n",
    "# Settings\n",
    "# - Temple data\n",
    "artifact_type = \"eyem\"  # Type of artifact to process\n",
    "test_percentage = 20    # Percentage of artifact to use as test [\\%]\n",
    "split_seed = 42         # Seed for reproducibility\n",
    "window_length = 5       # Length of window data [sec]\n",
    "\n",
    "window_samples = int(window_length * temple.srate)\n",
    "\n",
    "# - Optimization\n",
    "n_clusters = slice(1, 6, 1)\n",
    "fd_threshold = slice(1, 3, 0.2)\n",
    "ssa_threshold = slice(0.005, 0.02, 0.005)\n",
    "\n",
    "# Get artifacts\n",
    "artifacts_file = fr\"Data\\\\Temple\\\\csv\\\\labels_{temple.montage_type}.csv\"\n",
    "temple.get_artifacts_from_csv(artifacts_file)\n",
    "[artifacts_chans, eyem_artifacts] = temple.get_artifact_type_data(\n",
    "    artifact_type = artifact_type,\n",
    "    window_length = window_length,\n",
    "    )\n",
    "\n",
    "# Get clean data\n",
    "clean = temple.get_clean_data(window_length)\n",
    "clean_avg = np.mean(clean, axis=0)\n",
    "\n",
    "# Separate optimization and test sets\n",
    "[i_optim, i_test] = data_tools.split_list(\n",
    "    lst = list(artifacts_chans),\n",
    "    test_percentage = test_percentage,\n",
    "    seed = split_seed\n",
    "    )\n",
    "\n",
    "# Creat artifact removal\n",
    "art = ART(\n",
    "    window_length = window_length,   \n",
    ")\n",
    "\n",
    "# Create EEG Quality index\n",
    "eqi_total = np.zeros(eyem_artifacts.shape[:2])\n",
    "\n",
    "for (a, artifact) in enumerate(artifacts_chans):\n",
    "    for (c, chan) in enumerate(artifact):\n",
    "        subset_chans = [temple.ch_names.index(chan) for chan in artifact if chan in temple.ch_names]\n",
    "        test_eeg = art.remove_artifacts(\n",
    "            eyem_artifacts[a,c,:],\n",
    "            srate = temple.srate\n",
    "            )\n",
    "    \n",
    "        eqi_total[a,:] = eqi.scoring(\n",
    "            clean_eeg = clean_avg[subset_chans,:],\n",
    "            test_eeg = test_eeg,\n",
    "            srate_clean = temple.srate,\n",
    "            srate_test = temple.srate,\n",
    "            window = int(window_samples // 10),\n",
    "            slide = int(window_samples // 20)\n",
    "        )[0]  \n",
    "    "
   ]
  },
  {
   "cell_type": "code",
   "execution_count": 16,
   "metadata": {},
   "outputs": [],
   "source": [
    "a = eqi.scoring(\n",
    "            clean_eeg = clean_avg[subset_chans,:],\n",
    "            test_eeg = test_eeg,\n",
    "            srate_clean = temple.srate,\n",
    "            srate_test = temple.srate,\n",
    "            window = int(window_samples // 10),\n",
    "            slide = int(window_samples // 20)\n",
    "        )[0]  "
   ]
  },
  {
   "cell_type": "code",
   "execution_count": 11,
   "metadata": {},
   "outputs": [
    {
     "data": {
      "text/plain": [
       "array([[0., 0., 0., 0., 0., 2., 0., 0.]])"
      ]
     },
     "execution_count": 11,
     "metadata": {},
     "output_type": "execute_result"
    }
   ],
   "source": [
    "eqi_total"
   ]
  },
  {
   "cell_type": "code",
   "execution_count": null,
   "metadata": {},
   "outputs": [],
   "source": [
    "fig, ax = plt.subplots(len(subset_chans))\n",
    "t = np.linspace(0, clean_avg.shape[1]/temple.srate, int(clean_avg.shape[1]))\n",
    "\n",
    "for c,chan in enumerate(subset_chans):\n",
    "    ax[c].plot(t, clean_avg[c,:])"
   ]
  },
  {
   "cell_type": "code",
   "execution_count": null,
   "metadata": {},
   "outputs": [],
   "source": [
    "fig, ax = plt.subplots(eyem_artifacts.shape[1])\n",
    "\n",
    "for a in range(eyem_artifacts.shape[1]):\n",
    "    ax[a].plot(t, eyem_artifacts[2,a,:])"
   ]
  },
  {
   "cell_type": "code",
   "execution_count": null,
   "metadata": {},
   "outputs": [],
   "source": [
    "%matplotlib qt\n",
    "import mne\n",
    "\n",
    "mne_data = mne.io.read_raw_edf(file)\n",
    "mne_data.plot()"
   ]
  },
  {
   "cell_type": "code",
   "execution_count": null,
   "metadata": {},
   "outputs": [],
   "source": [
    "artifact_type = \"eyem\"\n",
    "window_length = window_length\n",
    "\n",
    "artifact_chans = []\n",
    "artifact_data = []\n",
    "\n",
    "if artifact_type in temple.artifacts:\n",
    "    # Create time vector for trial\n",
    "    [_, nsamples] = np.shape(temple.data)\n",
    "    t = np.linspace(0, nsamples/temple.srate, nsamples)\n",
    "\n",
    "    for _,artifact in temple.artifacts[artifact_type].items():\n",
    "        \n",
    "        artifact_duration = artifact[\"start_end\"][1] - artifact[\"start_end\"][0]\n",
    "        if (artifact_duration >= window_length):\n",
    "            # Artifact channel names\n",
    "            artifact_chans = artifact[\"chans\"]\n",
    "            \n",
    "            # Artifact data\n",
    "            chans_mask = np.isin(temple.ch_names, artifact_chans)\n",
    "            artifact_data = temple.data[]\n",
    "\n",
    "            "
   ]
  }
 ],
 "metadata": {
  "kernelspec": {
   "display_name": "art-eqi",
   "language": "python",
   "name": "python3"
  },
  "language_info": {
   "codemirror_mode": {
    "name": "ipython",
    "version": 3
   },
   "file_extension": ".py",
   "mimetype": "text/x-python",
   "name": "python",
   "nbconvert_exporter": "python",
   "pygments_lexer": "ipython3",
   "version": "3.11.7"
  }
 },
 "nbformat": 4,
 "nbformat_minor": 2
}
