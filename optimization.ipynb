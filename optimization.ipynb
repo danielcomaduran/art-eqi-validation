{
 "cells": [
  {
   "cell_type": "markdown",
   "metadata": {},
   "source": [
    "# Optimization\n",
    "\n",
    "## Import libraries"
   ]
  },
  {
   "cell_type": "code",
   "execution_count": 153,
   "metadata": {},
   "outputs": [
    {
     "name": "stdout",
     "output_type": "stream",
     "text": [
      "The autoreload extension is already loaded. To reload it, use:\n",
      "  %reload_ext autoreload\n"
     ]
    }
   ],
   "source": [
    "# Default libraries\n",
    "import numpy as np\n",
    "import scipy.optimize as optimize\n",
    "import matplotlib.pyplot as plt\n",
    "import tqdm\n",
    "import copy\n",
    "from tqdm import tqdm\n",
    "\n",
    "# Custom libraries\n",
    "import Functions.data_tools as data_tools\n",
    "from Functions.temple_data import TempleData\n",
    "from Functions.artifact_removal_tool import ART\n",
    "from Functions import eeg_quality_index as eqi\n",
    "from Functions import optimization as optimization\n",
    "\n",
    "# Jupyter magic to automatically reload modules when they have changed\n",
    "%load_ext autoreload\n",
    "%autoreload 3"
   ]
  },
  {
   "cell_type": "markdown",
   "metadata": {},
   "source": [
    "## Import data"
   ]
  },
  {
   "cell_type": "code",
   "execution_count": 198,
   "metadata": {},
   "outputs": [
    {
     "name": "stdout",
     "output_type": "stream",
     "text": [
      "Extracting EDF parameters from /home/araz/Downloads/Araz/edf/01_tcp_ar/002/00000254/s005_2010_11_15/00000254_s005_t000.edf...\n",
      "EDF file detected\n",
      "Setting channel info structure...\n",
      "Creating raw.info structure...\n"
     ]
    }
   ],
   "source": [
    "# file = r\"Data\\Temple\\edf\\01_tcp_ar\\072\\00007229\\s001_2010_11_02\\00007229_s001_t000.edf\"\n",
    "\n",
    "file = r\"/home/araz/Downloads/Araz/edf/01_tcp_ar/002/00000254/s005_2010_11_15/00000254_s005_t000.edf\"\n",
    "# file = r\"/home/araz/Downloads/Araz/edf/01_tcp_ar/004/00000458/s004_2003_02_12/00000458_s004_t001.edf\"\n",
    "\n",
    "# file = r\"Data\\Temple\\edf\\01_tcp_ar\\002\\00000254\\s005_2010_11_15\\00000254_s005_t000.edf\" # NO artifacts\n",
    "# file = r\"Data\\Temple\\edf\\01_tcp_ar\\002\\00000254\\s005_2010_11_15\\00000254_s005_t000.edf\" # With artifacts\n",
    "temple = TempleData(file)"
   ]
  },
  {
   "cell_type": "markdown",
   "metadata": {},
   "source": [
    "## Get artifacts and clean data"
   ]
  },
  {
   "cell_type": "code",
   "execution_count": 199,
   "metadata": {},
   "outputs": [
    {
     "name": "stdout",
     "output_type": "stream",
     "text": [
      "Extracting artifact type: eyem\n"
     ]
    }
   ],
   "source": [
    "# Settings\n",
    "artifact_type = \"eyem\"\n",
    "window_length = 2\n",
    "\n",
    "# Get artifacts\n",
    "# artifacts_file = fr\"Data\\\\Temple\\\\csv\\\\labels_{temple.montage_type}.csv\"\n",
    "artifacts_file = fr\"/home/araz/Downloads/Araz/csv/labels_{temple.montage_type}.csv\"\n",
    "temple.get_artifacts_from_csv(artifacts_file)\n",
    "[artifacts_chans, eyem_artifacts] = temple.get_artifact_type_data(\n",
    "    artifact_type = artifact_type,\n",
    "    window_length = window_length,\n",
    ")\n",
    "\n",
    "# Get clean data\n",
    "clean = temple.get_clean_data(window_length)\n",
    "# clean_avg = np.mean(clean, axis=0) * clean.shape[0]\n",
    "clean_avg = clean[10,:,:]"
   ]
  },
  {
   "cell_type": "markdown",
   "metadata": {},
   "source": [
    "## Single run example"
   ]
  },
  {
   "cell_type": "code",
   "execution_count": 200,
   "metadata": {},
   "outputs": [
    {
     "name": "stdout",
     "output_type": "stream",
     "text": [
      "Extracting artifact type: eyem\n",
      "Artifact 0\n",
      "Artifact 1\n",
      "Artifact 2\n"
     ]
    },
    {
     "name": "stderr",
     "output_type": "stream",
     "text": [
      "/home/araz/Documents/GitHub/art-eqi-p300-validation/Functions/artifact_removal_tool.py:170: UserWarning: Null variance found, returning raw EEG\n",
      "  warnings.warn(\"Null variance found, returning raw EEG\")\n"
     ]
    }
   ],
   "source": [
    "# Settings\n",
    "# - Temple data\n",
    "artifact_type = \"eyem\"  # Type of artifact to process\n",
    "test_percentage = 20    # Percentage of artifact to use as test [\\%]\n",
    "split_seed = 42         # Seed for reproducibility\n",
    "window_length = 3       # Length of window data [sec]\n",
    "\n",
    "window_samples = int(window_length * temple.srate)\n",
    "\n",
    "# - Optimization\n",
    "x0 = (5, 1, 0.018)\n",
    "n_clusters = slice(1, 6, 1)\n",
    "fd_threshold = slice(1, 3, 0.2)\n",
    "ssa_threshold = slice(0.005, 0.02, 0.005)\n",
    "\n",
    "# Get artifacts\n",
    "# artifacts_file = fr\"Data\\\\Temple\\\\csv\\\\labels_{temple.montage_type}.csv\"\n",
    "artifacts_file = fr\"/home/araz/Downloads/Araz/csv/labels_{temple.montage_type}.csv\"\n",
    "temple.get_artifacts_from_csv(artifacts_file)\n",
    "[artifacts_chans, artifacts_data] = temple.get_artifact_type_data(\n",
    "    artifact_type = artifact_type,\n",
    "    window_length = window_length,\n",
    "    )\n",
    "\n",
    "# Get clean data\n",
    "clean = temple.get_clean_data(window_length)\n",
    "# clean_avg = np.mean(clean, axis=0) * clean.shape[0]\n",
    "clean_avg = clean[10,:,:]\n",
    "\n",
    "# Separate optimization and test sets\n",
    "[i_optim, i_test] = data_tools.split_list(\n",
    "    lst = list(artifacts_chans),\n",
    "    test_percentage = test_percentage,\n",
    "    seed = split_seed\n",
    "    )\n",
    "\n",
    "# Creat artifact removal\n",
    "art = ART(\n",
    "    window_length = window_length,  \n",
    "    n_clusters = x0[0],\n",
    "    fd_threshold = x0[1],\n",
    "    ssa_threshold = x0[2] \n",
    ")\n",
    "\n",
    "# Create EEG Quality index\n",
    "eqi_total = np.zeros(artifacts_data.shape[:2])\n",
    "\n",
    "# for (a, artifact) in enumerate(artifacts_chans):\n",
    "#     for (c, chan) in enumerate(artifact):\n",
    "#         subset_chans = [temple.ch_names.index(chan) for chan in artifact if chan in temple.ch_names]\n",
    "#         test_eeg = art.remove_artifacts(\n",
    "#             eyem_artifacts[a,c,:],\n",
    "#             srate = temple.srate\n",
    "#             )\n",
    "    \n",
    "#         eqi_total[a,:] = eqi.scoring(\n",
    "#             clean_eeg = clean_avg[subset_chans,:],\n",
    "#             test_eeg = test_eeg,\n",
    "#             srate_clean = temple.srate,\n",
    "#             srate_test = temple.srate,\n",
    "#             window = int(window_samples // 10),\n",
    "#             slide = int(window_samples // 20)\n",
    "#         )[0]  \n",
    "\n",
    "for (a, artifact) in enumerate(artifacts_chans):\n",
    "    print(f\"Artifact {a}\")\n",
    "    subset_chans = [temple.ch_names.index(chan) for chan in artifact if chan in temple.ch_names]\n",
    "    test_eeg = art.remove_artifacts(\n",
    "        artifacts_data[a,:,:],\n",
    "        srate = temple.srate\n",
    "        )\n",
    "\n",
    "    eqi_total[a,:] = eqi.scoring(\n",
    "        clean_eeg = clean_avg[subset_chans,:],\n",
    "        test_eeg = test_eeg,\n",
    "        srate_clean = temple.srate,\n",
    "        srate_test = temple.srate,\n",
    "        window = int(window_samples // 10),\n",
    "        slide = int(window_samples // 20)\n",
    "    )[0]  \n",
    "\n",
    "    a = 0"
   ]
  },
  {
   "cell_type": "code",
   "execution_count": 201,
   "metadata": {},
   "outputs": [
    {
     "data": {
      "text/plain": [
       "array([[0.        , 5.26315789, 0.        , 0.        , 0.        ,\n",
       "        0.        , 0.        , 0.        ],\n",
       "       [0.        , 0.        , 0.        , 0.        , 5.26315789,\n",
       "        0.        , 0.        , 0.        ],\n",
       "       [0.        , 0.        , 0.        , 0.        , 0.        ,\n",
       "        0.        , 0.        , 0.        ]])"
      ]
     },
     "execution_count": 201,
     "metadata": {},
     "output_type": "execute_result"
    }
   ],
   "source": [
    "eqi_total"
   ]
  },
  {
   "cell_type": "code",
   "execution_count": 202,
   "metadata": {},
   "outputs": [
    {
     "data": {
      "image/png": "[encoded data removed]",
      "text/plain": [
       "<Figure size 640x480 with 8 Axes>"
      ]
     },
     "metadata": {},
     "output_type": "display_data"
    },
    {
     "data": {
      "image/png": "[encoded data removed]",
      "text/plain": [
       "<Figure size 640x480 with 8 Axes>"
      ]
     },
     "metadata": {},
     "output_type": "display_data"
    }
   ],
   "source": [
    "fig, ax = plt.subplots(len(subset_chans))\n",
    "fig.suptitle(\"Clean \")\n",
    "for c,chan in enumerate(subset_chans):\n",
    "    ax[c].plot(clean_avg[c,:])\n",
    "\n",
    "fig, ax = plt.subplots(len(subset_chans))\n",
    "fig.suptitle(\"Artifact \")\n",
    "for c,chan in enumerate(subset_chans):\n",
    "    ax[c].plot(artifacts_data[2,c,:])\n",
    "\n",
    "    "
   ]
  },
  {
   "cell_type": "markdown",
   "metadata": {},
   "source": [
    "## Optimization example"
   ]
  },
  {
   "cell_type": "code",
   "execution_count": 51,
   "metadata": {},
   "outputs": [
    {
     "name": "stdout",
     "output_type": "stream",
     "text": [
      "Extracting artifact type: eyem\n",
      " EQI value 99.34210526315789\n"
     ]
    },
    {
     "name": "stderr",
     "output_type": "stream",
     "text": [
      "/home/araz/anaconda3/envs/art-eqi/lib/python3.11/site-packages/scipy/optimize/_minimize.py:580: RuntimeWarning: Method CG cannot handle bounds.\n",
      "  warn('Method %s cannot handle bounds.' % method,\n"
     ]
    },
    {
     "name": "stdout",
     "output_type": "stream",
     "text": [
      " EQI value 99.34210526315789\n",
      " EQI value 99.34210526315789\n",
      " EQI value 99.34210526315789\n"
     ]
    }
   ],
   "source": [
    "# Settings\n",
    "# - Temple data\n",
    "artifact_type = \"eyem\"  # Type of artifact to process\n",
    "test_percentage = 20    # Percentage of artifact to use as test [\\%]\n",
    "split_seed = 42         # Seed for reproducibility\n",
    "window_length = 5       # Length of window data [sec]\n",
    "\n",
    "window_samples = int(window_length * temple.srate)\n",
    "\n",
    "# - Optimization parameters\n",
    "n_clusters = (1, 10)\n",
    "fd_threshold = (0.1, 5)\n",
    "ssa_threshold = (0.001, 0.1)\n",
    "\n",
    "# n_clusters = slice(1, 6, 1)\n",
    "# fd_threshold = slice(1, 3, 0.2)\n",
    "# ssa_threshold = slice(0.005, 0.02, 0.005)\n",
    "\n",
    "# Get artifacts\n",
    "# artifacts_file = fr\"Data\\\\Temple\\\\csv\\\\labels_{temple.montage_type}.csv\"\n",
    "artifacts_file = fr\"/home/araz/Downloads/Araz/csv/labels_{temple.montage_type}.csv\"\n",
    "temple.get_artifacts_from_csv(artifacts_file)\n",
    "[artifacts_chans, artifacts_data] = temple.get_artifact_type_data(\n",
    "    artifact_type = artifact_type,\n",
    "    window_length = window_length,\n",
    "    )\n",
    "\n",
    "# Get clean data\n",
    "clean = temple.get_clean_data(window_length)\n",
    "clean_avg = clean[10,:,:]\n",
    "# clean_avg = np.mean(clean, axis=0) * clean.shape[0]\n",
    "\n",
    "# Optimize ART parameters\n",
    "for a,artifact in enumerate(artifacts_chans):\n",
    "    # Get subset of channels based on artifact\n",
    "    subset_chans = [temple.ch_names.index(chan) for chan in artifact if chan in temple.ch_names]\n",
    "\n",
    "    x0 = (5, 1, 0.018)\n",
    "    bounds = (n_clusters, fd_threshold, ssa_threshold)\n",
    "    args = (\n",
    "        clean_avg[subset_chans,:],\n",
    "        artifacts_data[a,:,:], \n",
    "        temple.srate,\n",
    "        window_length\n",
    "        )\n",
    "    res = optimize.minimize(\n",
    "        optimization.maximize_eqi,\n",
    "        x0 = x0,\n",
    "        bounds = bounds,\n",
    "        args = args,\n",
    "        method = \"CG\",\n",
    "        callback = lambda:print(\"Running\"),\n",
    "        tol = 1e-20,\n",
    "        options = {\n",
    "            \"maxiter\": 100\n",
    "        }\n",
    "    )"
   ]
  },
  {
   "cell_type": "code",
   "execution_count": 52,
   "metadata": {},
   "outputs": [
    {
     "data": {
      "text/plain": [
       " message: Optimization terminated successfully.\n",
       " success: True\n",
       "  status: 0\n",
       "     fun: 99.34210526315789\n",
       "       x: [ 5.000e+00  1.000e+00  1.800e-02]\n",
       "     nit: 0\n",
       "     jac: [ 0.000e+00  0.000e+00  0.000e+00]\n",
       "    nfev: 4\n",
       "    njev: 1"
      ]
     },
     "execution_count": 52,
     "metadata": {},
     "output_type": "execute_result"
    }
   ],
   "source": [
    "res"
   ]
  },
  {
   "cell_type": "markdown",
   "metadata": {},
   "source": [
    "## Brute force optimization\n",
    "\n",
    "Test different starting points and check the fun value"
   ]
  },
  {
   "cell_type": "code",
   "execution_count": null,
   "metadata": {},
   "outputs": [],
   "source": [
    "np.arange(0.005, 0.5, 0.1).shape"
   ]
  },
  {
   "cell_type": "code",
   "execution_count": null,
   "metadata": {},
   "outputs": [],
   "source": [
    "for a,artifact in enumerate(artifacts_chans):\n",
    "    # Get subset of channels based on artifact\n",
    "    subset_chans = [temple.ch_names.index(chan) for chan in artifact if chan in temple.ch_names]\n",
    "\n",
    "    n_clusters = slice(1, 10, 1)\n",
    "    fd_threshold = slice(0.1, 5, 1)\n",
    "    ssa_threshold = slice(0.005, 0.5, 0.01)\n",
    "    ranges = (n_clusters, fd_threshold, ssa_threshold)\n",
    "    \n",
    "    args = (\n",
    "        clean_avg[subset_chans,:],\n",
    "        artifacts_data[a,:,:], \n",
    "        temple.srate,\n",
    "        window_length\n",
    "        )\n",
    "    \n",
    "    res_brute = optimize.brute(\n",
    "        optimization.maximize_eqi,\n",
    "        ranges = ranges,\n",
    "        args = args\n",
    "    )\n",
    "    "
   ]
  },
  {
   "cell_type": "markdown",
   "metadata": {},
   "source": [
    "## Greedy search"
   ]
  },
  {
   "cell_type": "code",
   "execution_count": 203,
   "metadata": {},
   "outputs": [
    {
     "data": {
      "text/plain": [
       "[['FP1-F7', 'F7-T3', 'FP2-F8', 'F8-T4', 'FP1-F3', 'F3-C3', 'FP2-F4', 'F4-C4'],\n",
       " ['FP1-F7', 'F7-T3', 'FP2-F8', 'F8-T4', 'FP1-F3', 'F3-C3', 'FP2-F4', 'F4-C4'],\n",
       " ['FP1-F7', 'F7-T3', 'FP2-F8', 'F8-T4', 'FP1-F3', 'F3-C3', 'FP2-F4', 'F4-C4']]"
      ]
     },
     "execution_count": 203,
     "metadata": {},
     "output_type": "execute_result"
    }
   ],
   "source": [
    "artifacts_chans"
   ]
  },
  {
   "cell_type": "code",
   "execution_count": 224,
   "metadata": {},
   "outputs": [
    {
     "name": "stderr",
     "output_type": "stream",
     "text": [
      "x_best_err: 98.9071: : 0it [00:00, ?it/s]"
     ]
    },
    {
     "name": "stderr",
     "output_type": "stream",
     "text": [
      "x_best_err: 98.9071: : 500it [00:06, 76.38it/s]"
     ]
    },
    {
     "name": "stdout",
     "output_type": "stream",
     "text": [
      "x: [9.686982920471522, 0.3054839127248031, 0.03489140868993834], x_err: 98.90710382513662, x_best: [9.686982920471522, 0.3054839127248031, 0.03489140868993834], x_best_err: 98.90710382513662\n"
     ]
    },
    {
     "name": "stderr",
     "output_type": "stream",
     "text": [
      "\n"
     ]
    }
   ],
   "source": [
    "from tqdm import tqdm\n",
    "\n",
    "# Configurables\n",
    "max_stag_count = 20 # maximum number of iterations where x_err hasn't changed\n",
    "max_iter = 500 # maximum number of iterations\n",
    "x_err_tol = 0.1\n",
    "\n",
    "window_length = 1\n",
    "\n",
    "n_clusters = (1, 10)\n",
    "fd_threshold = (0.1, 10)\n",
    "ssa_threshold = (0.001, 0.1)\n",
    "bounds = (n_clusters, fd_threshold, ssa_threshold)\n",
    "\n",
    "def generate_candidate(bounds=bounds):\n",
    "    x = [(np.random.uniform(bounds[d][0], bounds[d][1])) for d in range(len(bounds))]\n",
    "    costs = []\n",
    "    for a,artifact in enumerate(artifacts_chans):\n",
    "        # Get subset of channels based on artifact\n",
    "        subset_chans = [temple.ch_names.index(chan) for chan in artifact if chan in temple.ch_names]\n",
    "        args = (\n",
    "            clean_avg[subset_chans,:],\n",
    "            artifacts_data[a,:,:], \n",
    "            temple.srate,\n",
    "            window_length\n",
    "        )\n",
    "        costs.append(optimization.maximize_eqi(x, *args))\n",
    "    return x, np.mean(costs)\n",
    "\n",
    "def generate_neighboring_candidate(x, MR=0.5):\n",
    "    x_new = copy.deepcopy(x)\n",
    "    for i in range(len(x)):\n",
    "        if np.random.uniform(0, 1) < MR:\n",
    "            x_new[i] = np.random.uniform(bounds[i][0], bounds[i][1])\n",
    "    costs = []\n",
    "    for a,artifact in enumerate(artifacts_chans):\n",
    "        # Get subset of channels based on artifact\n",
    "        subset_chans = [temple.ch_names.index(chan) for chan in artifact if chan in temple.ch_names]\n",
    "        args = (\n",
    "            clean_avg[subset_chans,:],\n",
    "            artifacts_data[a,:,:], \n",
    "            temple.srate,\n",
    "            window_length\n",
    "        )\n",
    "        costs.append(optimization.maximize_eqi(x_new, *args))\n",
    "    return x_new, np.mean(costs)\n",
    "\n",
    "x, x_err = generate_candidate() # generate a random x (particle/candidate) and its error (cost/objective/fitness function value)\n",
    "x_best = x.copy() # best solution found so far\n",
    "x_best_err = x_err # best error for that solution\n",
    "\n",
    "prev_x_err = x_err # previous iteration's x_err\n",
    "stag_count = 0 # number of iterations where x_err hasn't changed\n",
    "max_stag_count = max_stag_count # generate a new starting candidate if x_err hasn't changed for max_stag_count iterations\n",
    "\n",
    "# Stopping conditions\n",
    "max_iter = max_iter # maximum number of iterations\n",
    "x_err_tol = x_err_tol # stop searching for a better solution when x_err < x_err_tol\n",
    "\n",
    "pbar = tqdm() # progress bar\n",
    "try:\n",
    "    while abs(x_best_err) > x_err_tol and pbar.n < max_iter:\n",
    "\n",
    "        pbar.set_description(f'x_best_err: {x_best_err:.4f}')\n",
    "        pbar.update(1)\n",
    "\n",
    "        prev_x_err = x_err\n",
    "        stag_count = stag_count + 1 if prev_x_err == x_err else 0\n",
    "        \n",
    "        # Generate a random neighbor of x and calculate its error\n",
    "        if stag_count > max_stag_count:\n",
    "            x_new, x_new_err = generate_candidate()\n",
    "            stag_count = 0\n",
    "        else:\n",
    "            x_new, x_new_err = copy.deepcopy(x), x_err\n",
    "            x_new, x_new_err = generate_neighboring_candidate(x_new)\n",
    "\n",
    "        # Update x and x_err if the new solution is better\n",
    "        if x_new_err < x_err:\n",
    "            x, x_err = x_new, x_new_err # if x_new is better, update x and x_err\n",
    "            if x_err < x_best_err:\n",
    "                x_best, x_best_err = x, x_err # if x_new is the best, update x_best and x_best_err\n",
    "\n",
    "except KeyboardInterrupt:\n",
    "    pass\n",
    "finally:\n",
    "    pbar.close()\n",
    "\n",
    "print(f'x: {x}, x_err: {x_err}, x_best: {x_best}, x_best_err: {x_best_err}')"
   ]
  },
  {
   "cell_type": "markdown",
   "metadata": {},
   "source": [
    "## Differential evolution optimization"
   ]
  },
  {
   "cell_type": "code",
   "execution_count": 139,
   "metadata": {},
   "outputs": [
    {
     "name": "stderr",
     "output_type": "stream",
     "text": [
      "/home/araz/Documents/GitHub/art-eqi-p300-validation/Functions/eeg_quality_index.py:83: RuntimeWarning: divide by zero encountered in divide\n",
      "  z_scores = np.floor(np.abs((eqi_test-mean_eqi_clean)/std_eqi_clean)) # Calculate z-scores\n",
      "/home/araz/Documents/GitHub/art-eqi-p300-validation/Functions/eeg_quality_index.py:83: RuntimeWarning: invalid value encountered in divide\n",
      "  z_scores = np.floor(np.abs((eqi_test-mean_eqi_clean)/std_eqi_clean)) # Calculate z-scores\n",
      "/home/araz/Documents/GitHub/art-eqi-p300-validation/Functions/eeg_quality_index.py:83: RuntimeWarning: divide by zero encountered in divide\n",
      "  z_scores = np.floor(np.abs((eqi_test-mean_eqi_clean)/std_eqi_clean)) # Calculate z-scores\n",
      "/home/araz/Documents/GitHub/art-eqi-p300-validation/Functions/eeg_quality_index.py:83: RuntimeWarning: invalid value encountered in divide\n",
      "  z_scores = np.floor(np.abs((eqi_test-mean_eqi_clean)/std_eqi_clean)) # Calculate z-scores\n"
     ]
    },
    {
     "name": "stdout",
     "output_type": "stream",
     "text": [
      "Warning!\n",
      "One or more Z-scores have NaN values\n",
      "Review eqi_mean carefully\n",
      "Warning!\n",
      "One or more Z-scores have NaN values\n",
      "Review eqi_mean carefully\n"
     ]
    },
    {
     "name": "stderr",
     "output_type": "stream",
     "text": [
      "/home/araz/Documents/GitHub/art-eqi-p300-validation/Functions/eeg_quality_index.py:83: RuntimeWarning: divide by zero encountered in divide\n",
      "  z_scores = np.floor(np.abs((eqi_test-mean_eqi_clean)/std_eqi_clean)) # Calculate z-scores\n",
      "/home/araz/Documents/GitHub/art-eqi-p300-validation/Functions/eeg_quality_index.py:83: RuntimeWarning: invalid value encountered in divide\n",
      "  z_scores = np.floor(np.abs((eqi_test-mean_eqi_clean)/std_eqi_clean)) # Calculate z-scores\n",
      "/home/araz/Documents/GitHub/art-eqi-p300-validation/Functions/eeg_quality_index.py:83: RuntimeWarning: divide by zero encountered in divide\n",
      "  z_scores = np.floor(np.abs((eqi_test-mean_eqi_clean)/std_eqi_clean)) # Calculate z-scores\n",
      "/home/araz/Documents/GitHub/art-eqi-p300-validation/Functions/eeg_quality_index.py:83: RuntimeWarning: invalid value encountered in divide\n",
      "  z_scores = np.floor(np.abs((eqi_test-mean_eqi_clean)/std_eqi_clean)) # Calculate z-scores\n"
     ]
    },
    {
     "name": "stdout",
     "output_type": "stream",
     "text": [
      "Warning!\n",
      "One or more Z-scores have NaN values\n",
      "Review eqi_mean carefully\n",
      "Warning!\n",
      "One or more Z-scores have NaN values\n",
      "Review eqi_mean carefully\n"
     ]
    },
    {
     "name": "stderr",
     "output_type": "stream",
     "text": [
      "/home/araz/Documents/GitHub/art-eqi-p300-validation/Functions/eeg_quality_index.py:83: RuntimeWarning: divide by zero encountered in divide\n",
      "  z_scores = np.floor(np.abs((eqi_test-mean_eqi_clean)/std_eqi_clean)) # Calculate z-scores\n",
      "/home/araz/Documents/GitHub/art-eqi-p300-validation/Functions/eeg_quality_index.py:83: RuntimeWarning: invalid value encountered in divide\n",
      "  z_scores = np.floor(np.abs((eqi_test-mean_eqi_clean)/std_eqi_clean)) # Calculate z-scores\n",
      "/home/araz/Documents/GitHub/art-eqi-p300-validation/Functions/eeg_quality_index.py:83: RuntimeWarning: divide by zero encountered in divide\n",
      "  z_scores = np.floor(np.abs((eqi_test-mean_eqi_clean)/std_eqi_clean)) # Calculate z-scores\n",
      "/home/araz/Documents/GitHub/art-eqi-p300-validation/Functions/eeg_quality_index.py:83: RuntimeWarning: invalid value encountered in divide\n",
      "  z_scores = np.floor(np.abs((eqi_test-mean_eqi_clean)/std_eqi_clean)) # Calculate z-scores\n"
     ]
    },
    {
     "name": "stdout",
     "output_type": "stream",
     "text": [
      "Warning!\n",
      "One or more Z-scores have NaN values\n",
      "Review eqi_mean carefully\n",
      "Warning!\n",
      "One or more Z-scores have NaN values\n",
      "Review eqi_mean carefully\n"
     ]
    },
    {
     "name": "stderr",
     "output_type": "stream",
     "text": [
      "/home/araz/Documents/GitHub/art-eqi-p300-validation/Functions/eeg_quality_index.py:83: RuntimeWarning: divide by zero encountered in divide\n",
      "  z_scores = np.floor(np.abs((eqi_test-mean_eqi_clean)/std_eqi_clean)) # Calculate z-scores\n",
      "/home/araz/Documents/GitHub/art-eqi-p300-validation/Functions/eeg_quality_index.py:83: RuntimeWarning: invalid value encountered in divide\n",
      "  z_scores = np.floor(np.abs((eqi_test-mean_eqi_clean)/std_eqi_clean)) # Calculate z-scores\n",
      "/home/araz/Documents/GitHub/art-eqi-p300-validation/Functions/eeg_quality_index.py:83: RuntimeWarning: divide by zero encountered in divide\n",
      "  z_scores = np.floor(np.abs((eqi_test-mean_eqi_clean)/std_eqi_clean)) # Calculate z-scores\n",
      "/home/araz/Documents/GitHub/art-eqi-p300-validation/Functions/eeg_quality_index.py:83: RuntimeWarning: invalid value encountered in divide\n",
      "  z_scores = np.floor(np.abs((eqi_test-mean_eqi_clean)/std_eqi_clean)) # Calculate z-scores\n"
     ]
    },
    {
     "name": "stdout",
     "output_type": "stream",
     "text": [
      "Warning!\n",
      "One or more Z-scores have NaN values\n",
      "Review eqi_mean carefully\n",
      "Warning!\n",
      "One or more Z-scores have NaN values\n",
      "Review eqi_mean carefully\n"
     ]
    },
    {
     "name": "stderr",
     "output_type": "stream",
     "text": [
      "/home/araz/Documents/GitHub/art-eqi-p300-validation/Functions/eeg_quality_index.py:83: RuntimeWarning: divide by zero encountered in divide\n",
      "  z_scores = np.floor(np.abs((eqi_test-mean_eqi_clean)/std_eqi_clean)) # Calculate z-scores\n",
      "/home/araz/Documents/GitHub/art-eqi-p300-validation/Functions/eeg_quality_index.py:83: RuntimeWarning: invalid value encountered in divide\n",
      "  z_scores = np.floor(np.abs((eqi_test-mean_eqi_clean)/std_eqi_clean)) # Calculate z-scores\n"
     ]
    },
    {
     "name": "stdout",
     "output_type": "stream",
     "text": [
      "Warning!\n",
      "One or more Z-scores have NaN values\n",
      "Review eqi_mean carefully\n"
     ]
    },
    {
     "name": "stderr",
     "output_type": "stream",
     "text": [
      "/home/araz/Documents/GitHub/art-eqi-p300-validation/Functions/eeg_quality_index.py:83: RuntimeWarning: divide by zero encountered in divide\n",
      "  z_scores = np.floor(np.abs((eqi_test-mean_eqi_clean)/std_eqi_clean)) # Calculate z-scores\n",
      "/home/araz/Documents/GitHub/art-eqi-p300-validation/Functions/eeg_quality_index.py:83: RuntimeWarning: invalid value encountered in divide\n",
      "  z_scores = np.floor(np.abs((eqi_test-mean_eqi_clean)/std_eqi_clean)) # Calculate z-scores\n",
      "/home/araz/Documents/GitHub/art-eqi-p300-validation/Functions/eeg_quality_index.py:83: RuntimeWarning: divide by zero encountered in divide\n",
      "  z_scores = np.floor(np.abs((eqi_test-mean_eqi_clean)/std_eqi_clean)) # Calculate z-scores\n",
      "/home/araz/Documents/GitHub/art-eqi-p300-validation/Functions/eeg_quality_index.py:83: RuntimeWarning: invalid value encountered in divide\n",
      "  z_scores = np.floor(np.abs((eqi_test-mean_eqi_clean)/std_eqi_clean)) # Calculate z-scores\n"
     ]
    },
    {
     "name": "stdout",
     "output_type": "stream",
     "text": [
      "Warning!\n",
      "One or more Z-scores have NaN values\n",
      "Review eqi_mean carefully\n",
      "Warning!\n",
      "One or more Z-scores have NaN values\n",
      "Review eqi_mean carefully\n"
     ]
    },
    {
     "name": "stderr",
     "output_type": "stream",
     "text": [
      "/home/araz/Documents/GitHub/art-eqi-p300-validation/Functions/eeg_quality_index.py:83: RuntimeWarning: divide by zero encountered in divide\n",
      "  z_scores = np.floor(np.abs((eqi_test-mean_eqi_clean)/std_eqi_clean)) # Calculate z-scores\n",
      "/home/araz/Documents/GitHub/art-eqi-p300-validation/Functions/eeg_quality_index.py:83: RuntimeWarning: invalid value encountered in divide\n",
      "  z_scores = np.floor(np.abs((eqi_test-mean_eqi_clean)/std_eqi_clean)) # Calculate z-scores\n",
      "/home/araz/Documents/GitHub/art-eqi-p300-validation/Functions/eeg_quality_index.py:83: RuntimeWarning: divide by zero encountered in divide\n",
      "  z_scores = np.floor(np.abs((eqi_test-mean_eqi_clean)/std_eqi_clean)) # Calculate z-scores\n",
      "/home/araz/Documents/GitHub/art-eqi-p300-validation/Functions/eeg_quality_index.py:83: RuntimeWarning: invalid value encountered in divide\n",
      "  z_scores = np.floor(np.abs((eqi_test-mean_eqi_clean)/std_eqi_clean)) # Calculate z-scores\n",
      "/home/araz/Documents/GitHub/art-eqi-p300-validation/Functions/eeg_quality_index.py:83: RuntimeWarning: divide by zero encountered in divide\n",
      "  z_scores = np.floor(np.abs((eqi_test-mean_eqi_clean)/std_eqi_clean)) # Calculate z-scores\n",
      "/home/araz/Documents/GitHub/art-eqi-p300-validation/Functions/eeg_quality_index.py:83: RuntimeWarning: invalid value encountered in divide\n",
      "  z_scores = np.floor(np.abs((eqi_test-mean_eqi_clean)/std_eqi_clean)) # Calculate z-scores\n"
     ]
    },
    {
     "name": "stdout",
     "output_type": "stream",
     "text": [
      "Warning!\n",
      "One or more Z-scores have NaN values\n",
      "Review eqi_mean carefully\n",
      "Warning!\n",
      "One or more Z-scores have NaN values\n",
      "Review eqi_mean carefully\n",
      "Warning!\n",
      "One or more Z-scores have NaN values\n",
      "Review eqi_mean carefully\n"
     ]
    },
    {
     "name": "stderr",
     "output_type": "stream",
     "text": [
      "/home/araz/Documents/GitHub/art-eqi-p300-validation/Functions/eeg_quality_index.py:83: RuntimeWarning: divide by zero encountered in divide\n",
      "  z_scores = np.floor(np.abs((eqi_test-mean_eqi_clean)/std_eqi_clean)) # Calculate z-scores\n",
      "/home/araz/Documents/GitHub/art-eqi-p300-validation/Functions/eeg_quality_index.py:83: RuntimeWarning: invalid value encountered in divide\n",
      "  z_scores = np.floor(np.abs((eqi_test-mean_eqi_clean)/std_eqi_clean)) # Calculate z-scores\n"
     ]
    },
    {
     "name": "stdout",
     "output_type": "stream",
     "text": [
      "Warning!\n",
      "One or more Z-scores have NaN values\n",
      "Review eqi_mean carefully\n"
     ]
    },
    {
     "name": "stderr",
     "output_type": "stream",
     "text": [
      "/home/araz/Documents/GitHub/art-eqi-p300-validation/Functions/eeg_quality_index.py:83: RuntimeWarning: divide by zero encountered in divide\n",
      "  z_scores = np.floor(np.abs((eqi_test-mean_eqi_clean)/std_eqi_clean)) # Calculate z-scores\n",
      "/home/araz/Documents/GitHub/art-eqi-p300-validation/Functions/eeg_quality_index.py:83: RuntimeWarning: invalid value encountered in divide\n",
      "  z_scores = np.floor(np.abs((eqi_test-mean_eqi_clean)/std_eqi_clean)) # Calculate z-scores\n",
      "/home/araz/Documents/GitHub/art-eqi-p300-validation/Functions/eeg_quality_index.py:83: RuntimeWarning: divide by zero encountered in divide\n",
      "  z_scores = np.floor(np.abs((eqi_test-mean_eqi_clean)/std_eqi_clean)) # Calculate z-scores\n",
      "/home/araz/Documents/GitHub/art-eqi-p300-validation/Functions/eeg_quality_index.py:83: RuntimeWarning: invalid value encountered in divide\n",
      "  z_scores = np.floor(np.abs((eqi_test-mean_eqi_clean)/std_eqi_clean)) # Calculate z-scores\n"
     ]
    },
    {
     "name": "stdout",
     "output_type": "stream",
     "text": [
      "Warning!\n",
      "One or more Z-scores have NaN values\n",
      "Review eqi_mean carefully\n",
      "Warning!\n",
      "One or more Z-scores have NaN values\n",
      "Review eqi_mean carefully\n"
     ]
    },
    {
     "name": "stderr",
     "output_type": "stream",
     "text": [
      "/home/araz/Documents/GitHub/art-eqi-p300-validation/Functions/eeg_quality_index.py:83: RuntimeWarning: divide by zero encountered in divide\n",
      "  z_scores = np.floor(np.abs((eqi_test-mean_eqi_clean)/std_eqi_clean)) # Calculate z-scores\n",
      "/home/araz/Documents/GitHub/art-eqi-p300-validation/Functions/eeg_quality_index.py:83: RuntimeWarning: invalid value encountered in divide\n",
      "  z_scores = np.floor(np.abs((eqi_test-mean_eqi_clean)/std_eqi_clean)) # Calculate z-scores\n",
      "/home/araz/Documents/GitHub/art-eqi-p300-validation/Functions/eeg_quality_index.py:83: RuntimeWarning: divide by zero encountered in divide\n",
      "  z_scores = np.floor(np.abs((eqi_test-mean_eqi_clean)/std_eqi_clean)) # Calculate z-scores\n",
      "/home/araz/Documents/GitHub/art-eqi-p300-validation/Functions/eeg_quality_index.py:83: RuntimeWarning: invalid value encountered in divide\n",
      "  z_scores = np.floor(np.abs((eqi_test-mean_eqi_clean)/std_eqi_clean)) # Calculate z-scores\n"
     ]
    },
    {
     "name": "stdout",
     "output_type": "stream",
     "text": [
      "Warning!\n",
      "One or more Z-scores have NaN values\n",
      "Review eqi_mean carefully\n",
      "Warning!\n",
      "One or more Z-scores have NaN values\n",
      "Review eqi_mean carefully\n"
     ]
    },
    {
     "name": "stderr",
     "output_type": "stream",
     "text": [
      "/home/araz/Documents/GitHub/art-eqi-p300-validation/Functions/eeg_quality_index.py:83: RuntimeWarning: divide by zero encountered in divide\n",
      "  z_scores = np.floor(np.abs((eqi_test-mean_eqi_clean)/std_eqi_clean)) # Calculate z-scores\n",
      "/home/araz/Documents/GitHub/art-eqi-p300-validation/Functions/eeg_quality_index.py:83: RuntimeWarning: invalid value encountered in divide\n",
      "  z_scores = np.floor(np.abs((eqi_test-mean_eqi_clean)/std_eqi_clean)) # Calculate z-scores\n",
      "/home/araz/Documents/GitHub/art-eqi-p300-validation/Functions/eeg_quality_index.py:83: RuntimeWarning: divide by zero encountered in divide\n",
      "  z_scores = np.floor(np.abs((eqi_test-mean_eqi_clean)/std_eqi_clean)) # Calculate z-scores\n",
      "/home/araz/Documents/GitHub/art-eqi-p300-validation/Functions/eeg_quality_index.py:83: RuntimeWarning: invalid value encountered in divide\n",
      "  z_scores = np.floor(np.abs((eqi_test-mean_eqi_clean)/std_eqi_clean)) # Calculate z-scores\n"
     ]
    },
    {
     "name": "stdout",
     "output_type": "stream",
     "text": [
      "Warning!\n",
      "One or more Z-scores have NaN values\n",
      "Review eqi_mean carefully\n",
      "Warning!\n",
      "One or more Z-scores have NaN values\n",
      "Review eqi_mean carefully\n"
     ]
    },
    {
     "name": "stderr",
     "output_type": "stream",
     "text": [
      "/home/araz/Documents/GitHub/art-eqi-p300-validation/Functions/eeg_quality_index.py:83: RuntimeWarning: divide by zero encountered in divide\n",
      "  z_scores = np.floor(np.abs((eqi_test-mean_eqi_clean)/std_eqi_clean)) # Calculate z-scores\n",
      "/home/araz/Documents/GitHub/art-eqi-p300-validation/Functions/eeg_quality_index.py:83: RuntimeWarning: invalid value encountered in divide\n",
      "  z_scores = np.floor(np.abs((eqi_test-mean_eqi_clean)/std_eqi_clean)) # Calculate z-scores\n",
      "/home/araz/Documents/GitHub/art-eqi-p300-validation/Functions/eeg_quality_index.py:83: RuntimeWarning: divide by zero encountered in divide\n",
      "  z_scores = np.floor(np.abs((eqi_test-mean_eqi_clean)/std_eqi_clean)) # Calculate z-scores\n",
      "/home/araz/Documents/GitHub/art-eqi-p300-validation/Functions/eeg_quality_index.py:83: RuntimeWarning: invalid value encountered in divide\n",
      "  z_scores = np.floor(np.abs((eqi_test-mean_eqi_clean)/std_eqi_clean)) # Calculate z-scores\n"
     ]
    },
    {
     "name": "stdout",
     "output_type": "stream",
     "text": [
      "Warning!\n",
      "One or more Z-scores have NaN values\n",
      "Review eqi_mean carefully\n",
      "Warning!\n",
      "One or more Z-scores have NaN values\n",
      "Review eqi_mean carefully\n"
     ]
    },
    {
     "name": "stderr",
     "output_type": "stream",
     "text": [
      "/home/araz/Documents/GitHub/art-eqi-p300-validation/Functions/eeg_quality_index.py:83: RuntimeWarning: divide by zero encountered in divide\n",
      "  z_scores = np.floor(np.abs((eqi_test-mean_eqi_clean)/std_eqi_clean)) # Calculate z-scores\n",
      "/home/araz/Documents/GitHub/art-eqi-p300-validation/Functions/eeg_quality_index.py:83: RuntimeWarning: invalid value encountered in divide\n",
      "  z_scores = np.floor(np.abs((eqi_test-mean_eqi_clean)/std_eqi_clean)) # Calculate z-scores\n"
     ]
    },
    {
     "name": "stdout",
     "output_type": "stream",
     "text": [
      "Warning!\n",
      "One or more Z-scores have NaN values\n",
      "Review eqi_mean carefully\n"
     ]
    },
    {
     "name": "stderr",
     "output_type": "stream",
     "text": [
      "/home/araz/Documents/GitHub/art-eqi-p300-validation/Functions/eeg_quality_index.py:83: RuntimeWarning: divide by zero encountered in divide\n",
      "  z_scores = np.floor(np.abs((eqi_test-mean_eqi_clean)/std_eqi_clean)) # Calculate z-scores\n",
      "/home/araz/Documents/GitHub/art-eqi-p300-validation/Functions/eeg_quality_index.py:83: RuntimeWarning: invalid value encountered in divide\n",
      "  z_scores = np.floor(np.abs((eqi_test-mean_eqi_clean)/std_eqi_clean)) # Calculate z-scores\n",
      "/home/araz/Documents/GitHub/art-eqi-p300-validation/Functions/eeg_quality_index.py:83: RuntimeWarning: divide by zero encountered in divide\n",
      "  z_scores = np.floor(np.abs((eqi_test-mean_eqi_clean)/std_eqi_clean)) # Calculate z-scores\n",
      "/home/araz/Documents/GitHub/art-eqi-p300-validation/Functions/eeg_quality_index.py:83: RuntimeWarning: invalid value encountered in divide\n",
      "  z_scores = np.floor(np.abs((eqi_test-mean_eqi_clean)/std_eqi_clean)) # Calculate z-scores\n"
     ]
    },
    {
     "name": "stdout",
     "output_type": "stream",
     "text": [
      "Warning!\n",
      "One or more Z-scores have NaN values\n",
      "Review eqi_mean carefully\n",
      "Warning!\n",
      "One or more Z-scores have NaN values\n",
      "Review eqi_mean carefully\n"
     ]
    },
    {
     "name": "stderr",
     "output_type": "stream",
     "text": [
      "/home/araz/Documents/GitHub/art-eqi-p300-validation/Functions/eeg_quality_index.py:83: RuntimeWarning: divide by zero encountered in divide\n",
      "  z_scores = np.floor(np.abs((eqi_test-mean_eqi_clean)/std_eqi_clean)) # Calculate z-scores\n",
      "/home/araz/Documents/GitHub/art-eqi-p300-validation/Functions/eeg_quality_index.py:83: RuntimeWarning: invalid value encountered in divide\n",
      "  z_scores = np.floor(np.abs((eqi_test-mean_eqi_clean)/std_eqi_clean)) # Calculate z-scores\n",
      "/home/araz/Documents/GitHub/art-eqi-p300-validation/Functions/eeg_quality_index.py:83: RuntimeWarning: divide by zero encountered in divide\n",
      "  z_scores = np.floor(np.abs((eqi_test-mean_eqi_clean)/std_eqi_clean)) # Calculate z-scores\n",
      "/home/araz/Documents/GitHub/art-eqi-p300-validation/Functions/eeg_quality_index.py:83: RuntimeWarning: invalid value encountered in divide\n",
      "  z_scores = np.floor(np.abs((eqi_test-mean_eqi_clean)/std_eqi_clean)) # Calculate z-scores\n",
      "/home/araz/Documents/GitHub/art-eqi-p300-validation/Functions/eeg_quality_index.py:83: RuntimeWarning: divide by zero encountered in divide\n",
      "  z_scores = np.floor(np.abs((eqi_test-mean_eqi_clean)/std_eqi_clean)) # Calculate z-scores\n",
      "/home/araz/Documents/GitHub/art-eqi-p300-validation/Functions/eeg_quality_index.py:83: RuntimeWarning: invalid value encountered in divide\n",
      "  z_scores = np.floor(np.abs((eqi_test-mean_eqi_clean)/std_eqi_clean)) # Calculate z-scores\n"
     ]
    },
    {
     "name": "stdout",
     "output_type": "stream",
     "text": [
      "Warning!\n",
      "One or more Z-scores have NaN values\n",
      "Review eqi_mean carefully\n",
      "Warning!\n",
      "One or more Z-scores have NaN values\n",
      "Review eqi_mean carefully\n",
      "Warning!\n",
      "One or more Z-scores have NaN values\n",
      "Review eqi_mean carefully\n"
     ]
    },
    {
     "name": "stderr",
     "output_type": "stream",
     "text": [
      "/home/araz/Documents/GitHub/art-eqi-p300-validation/Functions/eeg_quality_index.py:83: RuntimeWarning: divide by zero encountered in divide\n",
      "  z_scores = np.floor(np.abs((eqi_test-mean_eqi_clean)/std_eqi_clean)) # Calculate z-scores\n",
      "/home/araz/Documents/GitHub/art-eqi-p300-validation/Functions/eeg_quality_index.py:83: RuntimeWarning: invalid value encountered in divide\n",
      "  z_scores = np.floor(np.abs((eqi_test-mean_eqi_clean)/std_eqi_clean)) # Calculate z-scores\n",
      "/home/araz/Documents/GitHub/art-eqi-p300-validation/Functions/eeg_quality_index.py:83: RuntimeWarning: divide by zero encountered in divide\n",
      "  z_scores = np.floor(np.abs((eqi_test-mean_eqi_clean)/std_eqi_clean)) # Calculate z-scores\n",
      "/home/araz/Documents/GitHub/art-eqi-p300-validation/Functions/eeg_quality_index.py:83: RuntimeWarning: invalid value encountered in divide\n",
      "  z_scores = np.floor(np.abs((eqi_test-mean_eqi_clean)/std_eqi_clean)) # Calculate z-scores\n"
     ]
    },
    {
     "name": "stdout",
     "output_type": "stream",
     "text": [
      "Warning!\n",
      "One or more Z-scores have NaN values\n",
      "Review eqi_mean carefully\n",
      "Warning!\n",
      "One or more Z-scores have NaN values\n",
      "Review eqi_mean carefully\n"
     ]
    },
    {
     "name": "stderr",
     "output_type": "stream",
     "text": [
      "/home/araz/Documents/GitHub/art-eqi-p300-validation/Functions/eeg_quality_index.py:83: RuntimeWarning: divide by zero encountered in divide\n",
      "  z_scores = np.floor(np.abs((eqi_test-mean_eqi_clean)/std_eqi_clean)) # Calculate z-scores\n",
      "/home/araz/Documents/GitHub/art-eqi-p300-validation/Functions/eeg_quality_index.py:83: RuntimeWarning: invalid value encountered in divide\n",
      "  z_scores = np.floor(np.abs((eqi_test-mean_eqi_clean)/std_eqi_clean)) # Calculate z-scores\n",
      "/home/araz/Documents/GitHub/art-eqi-p300-validation/Functions/eeg_quality_index.py:83: RuntimeWarning: divide by zero encountered in divide\n",
      "  z_scores = np.floor(np.abs((eqi_test-mean_eqi_clean)/std_eqi_clean)) # Calculate z-scores\n",
      "/home/araz/Documents/GitHub/art-eqi-p300-validation/Functions/eeg_quality_index.py:83: RuntimeWarning: invalid value encountered in divide\n",
      "  z_scores = np.floor(np.abs((eqi_test-mean_eqi_clean)/std_eqi_clean)) # Calculate z-scores\n"
     ]
    },
    {
     "name": "stdout",
     "output_type": "stream",
     "text": [
      "Warning!\n",
      "One or more Z-scores have NaN values\n",
      "Review eqi_mean carefully\n",
      "Warning!\n",
      "One or more Z-scores have NaN values\n",
      "Review eqi_mean carefully\n"
     ]
    },
    {
     "name": "stderr",
     "output_type": "stream",
     "text": [
      "/home/araz/Documents/GitHub/art-eqi-p300-validation/Functions/eeg_quality_index.py:83: RuntimeWarning: divide by zero encountered in divide\n",
      "  z_scores = np.floor(np.abs((eqi_test-mean_eqi_clean)/std_eqi_clean)) # Calculate z-scores\n",
      "/home/araz/Documents/GitHub/art-eqi-p300-validation/Functions/eeg_quality_index.py:83: RuntimeWarning: invalid value encountered in divide\n",
      "  z_scores = np.floor(np.abs((eqi_test-mean_eqi_clean)/std_eqi_clean)) # Calculate z-scores\n",
      "/home/araz/Documents/GitHub/art-eqi-p300-validation/Functions/eeg_quality_index.py:83: RuntimeWarning: divide by zero encountered in divide\n",
      "  z_scores = np.floor(np.abs((eqi_test-mean_eqi_clean)/std_eqi_clean)) # Calculate z-scores\n",
      "/home/araz/Documents/GitHub/art-eqi-p300-validation/Functions/eeg_quality_index.py:83: RuntimeWarning: invalid value encountered in divide\n",
      "  z_scores = np.floor(np.abs((eqi_test-mean_eqi_clean)/std_eqi_clean)) # Calculate z-scores\n"
     ]
    },
    {
     "name": "stdout",
     "output_type": "stream",
     "text": [
      "Warning!\n",
      "One or more Z-scores have NaN values\n",
      "Review eqi_mean carefully\n",
      "Warning!\n",
      "One or more Z-scores have NaN values\n",
      "Review eqi_mean carefully\n"
     ]
    },
    {
     "name": "stderr",
     "output_type": "stream",
     "text": [
      "/home/araz/Documents/GitHub/art-eqi-p300-validation/Functions/eeg_quality_index.py:83: RuntimeWarning: divide by zero encountered in divide\n",
      "  z_scores = np.floor(np.abs((eqi_test-mean_eqi_clean)/std_eqi_clean)) # Calculate z-scores\n",
      "/home/araz/Documents/GitHub/art-eqi-p300-validation/Functions/eeg_quality_index.py:83: RuntimeWarning: invalid value encountered in divide\n",
      "  z_scores = np.floor(np.abs((eqi_test-mean_eqi_clean)/std_eqi_clean)) # Calculate z-scores\n",
      "/home/araz/Documents/GitHub/art-eqi-p300-validation/Functions/eeg_quality_index.py:83: RuntimeWarning: divide by zero encountered in divide\n",
      "  z_scores = np.floor(np.abs((eqi_test-mean_eqi_clean)/std_eqi_clean)) # Calculate z-scores\n",
      "/home/araz/Documents/GitHub/art-eqi-p300-validation/Functions/eeg_quality_index.py:83: RuntimeWarning: invalid value encountered in divide\n",
      "  z_scores = np.floor(np.abs((eqi_test-mean_eqi_clean)/std_eqi_clean)) # Calculate z-scores\n"
     ]
    },
    {
     "name": "stdout",
     "output_type": "stream",
     "text": [
      "Warning!\n",
      "One or more Z-scores have NaN values\n",
      "Review eqi_mean carefully\n",
      "Warning!\n",
      "One or more Z-scores have NaN values\n",
      "Review eqi_mean carefully\n"
     ]
    },
    {
     "name": "stderr",
     "output_type": "stream",
     "text": [
      "/home/araz/Documents/GitHub/art-eqi-p300-validation/Functions/eeg_quality_index.py:83: RuntimeWarning: divide by zero encountered in divide\n",
      "  z_scores = np.floor(np.abs((eqi_test-mean_eqi_clean)/std_eqi_clean)) # Calculate z-scores\n",
      "/home/araz/Documents/GitHub/art-eqi-p300-validation/Functions/eeg_quality_index.py:83: RuntimeWarning: invalid value encountered in divide\n",
      "  z_scores = np.floor(np.abs((eqi_test-mean_eqi_clean)/std_eqi_clean)) # Calculate z-scores\n",
      "/home/araz/Documents/GitHub/art-eqi-p300-validation/Functions/eeg_quality_index.py:83: RuntimeWarning: divide by zero encountered in divide\n",
      "  z_scores = np.floor(np.abs((eqi_test-mean_eqi_clean)/std_eqi_clean)) # Calculate z-scores\n",
      "/home/araz/Documents/GitHub/art-eqi-p300-validation/Functions/eeg_quality_index.py:83: RuntimeWarning: invalid value encountered in divide\n",
      "  z_scores = np.floor(np.abs((eqi_test-mean_eqi_clean)/std_eqi_clean)) # Calculate z-scores\n"
     ]
    },
    {
     "name": "stdout",
     "output_type": "stream",
     "text": [
      "Warning!\n",
      "One or more Z-scores have NaN values\n",
      "Review eqi_mean carefully\n",
      "Warning!\n",
      "One or more Z-scores have NaN values\n",
      "Review eqi_mean carefully\n"
     ]
    },
    {
     "name": "stderr",
     "output_type": "stream",
     "text": [
      "/home/araz/Documents/GitHub/art-eqi-p300-validation/Functions/eeg_quality_index.py:83: RuntimeWarning: divide by zero encountered in divide\n",
      "  z_scores = np.floor(np.abs((eqi_test-mean_eqi_clean)/std_eqi_clean)) # Calculate z-scores\n",
      "/home/araz/Documents/GitHub/art-eqi-p300-validation/Functions/eeg_quality_index.py:83: RuntimeWarning: invalid value encountered in divide\n",
      "  z_scores = np.floor(np.abs((eqi_test-mean_eqi_clean)/std_eqi_clean)) # Calculate z-scores\n",
      "/home/araz/Documents/GitHub/art-eqi-p300-validation/Functions/eeg_quality_index.py:83: RuntimeWarning: divide by zero encountered in divide\n",
      "  z_scores = np.floor(np.abs((eqi_test-mean_eqi_clean)/std_eqi_clean)) # Calculate z-scores\n",
      "/home/araz/Documents/GitHub/art-eqi-p300-validation/Functions/eeg_quality_index.py:83: RuntimeWarning: invalid value encountered in divide\n",
      "  z_scores = np.floor(np.abs((eqi_test-mean_eqi_clean)/std_eqi_clean)) # Calculate z-scores\n"
     ]
    },
    {
     "name": "stdout",
     "output_type": "stream",
     "text": [
      "Warning!\n",
      "One or more Z-scores have NaN values\n",
      "Review eqi_mean carefully\n",
      "Warning!\n",
      "One or more Z-scores have NaN values\n",
      "Review eqi_mean carefully\n"
     ]
    },
    {
     "name": "stderr",
     "output_type": "stream",
     "text": [
      "/home/araz/Documents/GitHub/art-eqi-p300-validation/Functions/eeg_quality_index.py:83: RuntimeWarning: divide by zero encountered in divide\n",
      "  z_scores = np.floor(np.abs((eqi_test-mean_eqi_clean)/std_eqi_clean)) # Calculate z-scores\n",
      "/home/araz/Documents/GitHub/art-eqi-p300-validation/Functions/eeg_quality_index.py:83: RuntimeWarning: invalid value encountered in divide\n",
      "  z_scores = np.floor(np.abs((eqi_test-mean_eqi_clean)/std_eqi_clean)) # Calculate z-scores\n",
      "/home/araz/Documents/GitHub/art-eqi-p300-validation/Functions/eeg_quality_index.py:83: RuntimeWarning: divide by zero encountered in divide\n",
      "  z_scores = np.floor(np.abs((eqi_test-mean_eqi_clean)/std_eqi_clean)) # Calculate z-scores\n",
      "/home/araz/Documents/GitHub/art-eqi-p300-validation/Functions/eeg_quality_index.py:83: RuntimeWarning: invalid value encountered in divide\n",
      "  z_scores = np.floor(np.abs((eqi_test-mean_eqi_clean)/std_eqi_clean)) # Calculate z-scores\n"
     ]
    },
    {
     "name": "stdout",
     "output_type": "stream",
     "text": [
      "Warning!\n",
      "One or more Z-scores have NaN values\n",
      "Review eqi_mean carefully\n",
      "Warning!\n",
      "One or more Z-scores have NaN values\n",
      "Review eqi_mean carefully\n"
     ]
    },
    {
     "name": "stderr",
     "output_type": "stream",
     "text": [
      "/home/araz/Documents/GitHub/art-eqi-p300-validation/Functions/eeg_quality_index.py:83: RuntimeWarning: divide by zero encountered in divide\n",
      "  z_scores = np.floor(np.abs((eqi_test-mean_eqi_clean)/std_eqi_clean)) # Calculate z-scores\n",
      "/home/araz/Documents/GitHub/art-eqi-p300-validation/Functions/eeg_quality_index.py:83: RuntimeWarning: invalid value encountered in divide\n",
      "  z_scores = np.floor(np.abs((eqi_test-mean_eqi_clean)/std_eqi_clean)) # Calculate z-scores\n",
      "/home/araz/Documents/GitHub/art-eqi-p300-validation/Functions/eeg_quality_index.py:83: RuntimeWarning: divide by zero encountered in divide\n",
      "  z_scores = np.floor(np.abs((eqi_test-mean_eqi_clean)/std_eqi_clean)) # Calculate z-scores\n",
      "/home/araz/Documents/GitHub/art-eqi-p300-validation/Functions/eeg_quality_index.py:83: RuntimeWarning: invalid value encountered in divide\n",
      "  z_scores = np.floor(np.abs((eqi_test-mean_eqi_clean)/std_eqi_clean)) # Calculate z-scores\n"
     ]
    },
    {
     "name": "stdout",
     "output_type": "stream",
     "text": [
      "Warning!\n",
      "One or more Z-scores have NaN values\n",
      "Review eqi_mean carefully\n",
      "Warning!\n",
      "One or more Z-scores have NaN values\n",
      "Review eqi_mean carefully\n"
     ]
    },
    {
     "name": "stderr",
     "output_type": "stream",
     "text": [
      "/home/araz/Documents/GitHub/art-eqi-p300-validation/Functions/eeg_quality_index.py:83: RuntimeWarning: divide by zero encountered in divide\n",
      "  z_scores = np.floor(np.abs((eqi_test-mean_eqi_clean)/std_eqi_clean)) # Calculate z-scores\n",
      "/home/araz/Documents/GitHub/art-eqi-p300-validation/Functions/eeg_quality_index.py:83: RuntimeWarning: invalid value encountered in divide\n",
      "  z_scores = np.floor(np.abs((eqi_test-mean_eqi_clean)/std_eqi_clean)) # Calculate z-scores\n",
      "/home/araz/Documents/GitHub/art-eqi-p300-validation/Functions/eeg_quality_index.py:83: RuntimeWarning: divide by zero encountered in divide\n",
      "  z_scores = np.floor(np.abs((eqi_test-mean_eqi_clean)/std_eqi_clean)) # Calculate z-scores\n",
      "/home/araz/Documents/GitHub/art-eqi-p300-validation/Functions/eeg_quality_index.py:83: RuntimeWarning: invalid value encountered in divide\n",
      "  z_scores = np.floor(np.abs((eqi_test-mean_eqi_clean)/std_eqi_clean)) # Calculate z-scores\n"
     ]
    },
    {
     "name": "stdout",
     "output_type": "stream",
     "text": [
      "Warning!\n",
      "One or more Z-scores have NaN values\n",
      "Review eqi_mean carefully\n",
      "Warning!\n",
      "One or more Z-scores have NaN values\n",
      "Review eqi_mean carefully\n"
     ]
    },
    {
     "name": "stderr",
     "output_type": "stream",
     "text": [
      "/home/araz/Documents/GitHub/art-eqi-p300-validation/Functions/eeg_quality_index.py:83: RuntimeWarning: divide by zero encountered in divide\n",
      "  z_scores = np.floor(np.abs((eqi_test-mean_eqi_clean)/std_eqi_clean)) # Calculate z-scores\n",
      "/home/araz/Documents/GitHub/art-eqi-p300-validation/Functions/eeg_quality_index.py:83: RuntimeWarning: invalid value encountered in divide\n",
      "  z_scores = np.floor(np.abs((eqi_test-mean_eqi_clean)/std_eqi_clean)) # Calculate z-scores\n",
      "/home/araz/Documents/GitHub/art-eqi-p300-validation/Functions/eeg_quality_index.py:83: RuntimeWarning: divide by zero encountered in divide\n",
      "  z_scores = np.floor(np.abs((eqi_test-mean_eqi_clean)/std_eqi_clean)) # Calculate z-scores\n",
      "/home/araz/Documents/GitHub/art-eqi-p300-validation/Functions/eeg_quality_index.py:83: RuntimeWarning: invalid value encountered in divide\n",
      "  z_scores = np.floor(np.abs((eqi_test-mean_eqi_clean)/std_eqi_clean)) # Calculate z-scores\n"
     ]
    },
    {
     "name": "stdout",
     "output_type": "stream",
     "text": [
      "Warning!\n",
      "One or more Z-scores have NaN values\n",
      "Review eqi_mean carefully\n",
      "Warning!\n",
      "One or more Z-scores have NaN values\n",
      "Review eqi_mean carefully\n"
     ]
    },
    {
     "name": "stderr",
     "output_type": "stream",
     "text": [
      "/home/araz/Documents/GitHub/art-eqi-p300-validation/Functions/eeg_quality_index.py:83: RuntimeWarning: divide by zero encountered in divide\n",
      "  z_scores = np.floor(np.abs((eqi_test-mean_eqi_clean)/std_eqi_clean)) # Calculate z-scores\n",
      "/home/araz/Documents/GitHub/art-eqi-p300-validation/Functions/eeg_quality_index.py:83: RuntimeWarning: invalid value encountered in divide\n",
      "  z_scores = np.floor(np.abs((eqi_test-mean_eqi_clean)/std_eqi_clean)) # Calculate z-scores\n",
      "/home/araz/Documents/GitHub/art-eqi-p300-validation/Functions/eeg_quality_index.py:83: RuntimeWarning: divide by zero encountered in divide\n",
      "  z_scores = np.floor(np.abs((eqi_test-mean_eqi_clean)/std_eqi_clean)) # Calculate z-scores\n",
      "/home/araz/Documents/GitHub/art-eqi-p300-validation/Functions/eeg_quality_index.py:83: RuntimeWarning: invalid value encountered in divide\n",
      "  z_scores = np.floor(np.abs((eqi_test-mean_eqi_clean)/std_eqi_clean)) # Calculate z-scores\n",
      "/home/araz/Documents/GitHub/art-eqi-p300-validation/Functions/eeg_quality_index.py:83: RuntimeWarning: divide by zero encountered in divide\n",
      "  z_scores = np.floor(np.abs((eqi_test-mean_eqi_clean)/std_eqi_clean)) # Calculate z-scores\n",
      "/home/araz/Documents/GitHub/art-eqi-p300-validation/Functions/eeg_quality_index.py:83: RuntimeWarning: invalid value encountered in divide\n",
      "  z_scores = np.floor(np.abs((eqi_test-mean_eqi_clean)/std_eqi_clean)) # Calculate z-scores\n"
     ]
    },
    {
     "name": "stdout",
     "output_type": "stream",
     "text": [
      "Warning!\n",
      "One or more Z-scores have NaN values\n",
      "Review eqi_mean carefully\n",
      "Warning!\n",
      "One or more Z-scores have NaN values\n",
      "Review eqi_mean carefully\n",
      "Warning!\n",
      "One or more Z-scores have NaN values\n",
      "Review eqi_mean carefully\n"
     ]
    },
    {
     "name": "stderr",
     "output_type": "stream",
     "text": [
      "/home/araz/Documents/GitHub/art-eqi-p300-validation/Functions/eeg_quality_index.py:83: RuntimeWarning: divide by zero encountered in divide\n",
      "  z_scores = np.floor(np.abs((eqi_test-mean_eqi_clean)/std_eqi_clean)) # Calculate z-scores\n",
      "/home/araz/Documents/GitHub/art-eqi-p300-validation/Functions/eeg_quality_index.py:83: RuntimeWarning: invalid value encountered in divide\n",
      "  z_scores = np.floor(np.abs((eqi_test-mean_eqi_clean)/std_eqi_clean)) # Calculate z-scores\n",
      "/home/araz/Documents/GitHub/art-eqi-p300-validation/Functions/eeg_quality_index.py:83: RuntimeWarning: divide by zero encountered in divide\n",
      "  z_scores = np.floor(np.abs((eqi_test-mean_eqi_clean)/std_eqi_clean)) # Calculate z-scores\n",
      "/home/araz/Documents/GitHub/art-eqi-p300-validation/Functions/eeg_quality_index.py:83: RuntimeWarning: invalid value encountered in divide\n",
      "  z_scores = np.floor(np.abs((eqi_test-mean_eqi_clean)/std_eqi_clean)) # Calculate z-scores\n"
     ]
    },
    {
     "name": "stdout",
     "output_type": "stream",
     "text": [
      "Warning!\n",
      "One or more Z-scores have NaN values\n",
      "Review eqi_mean carefully\n",
      "Warning!\n",
      "One or more Z-scores have NaN values\n",
      "Review eqi_mean carefully\n"
     ]
    },
    {
     "name": "stderr",
     "output_type": "stream",
     "text": [
      "/home/araz/Documents/GitHub/art-eqi-p300-validation/Functions/eeg_quality_index.py:83: RuntimeWarning: divide by zero encountered in divide\n",
      "  z_scores = np.floor(np.abs((eqi_test-mean_eqi_clean)/std_eqi_clean)) # Calculate z-scores\n",
      "/home/araz/Documents/GitHub/art-eqi-p300-validation/Functions/eeg_quality_index.py:83: RuntimeWarning: invalid value encountered in divide\n",
      "  z_scores = np.floor(np.abs((eqi_test-mean_eqi_clean)/std_eqi_clean)) # Calculate z-scores\n",
      "/home/araz/Documents/GitHub/art-eqi-p300-validation/Functions/eeg_quality_index.py:83: RuntimeWarning: divide by zero encountered in divide\n",
      "  z_scores = np.floor(np.abs((eqi_test-mean_eqi_clean)/std_eqi_clean)) # Calculate z-scores\n",
      "/home/araz/Documents/GitHub/art-eqi-p300-validation/Functions/eeg_quality_index.py:83: RuntimeWarning: invalid value encountered in divide\n",
      "  z_scores = np.floor(np.abs((eqi_test-mean_eqi_clean)/std_eqi_clean)) # Calculate z-scores\n",
      "/home/araz/Documents/GitHub/art-eqi-p300-validation/Functions/eeg_quality_index.py:83: RuntimeWarning: divide by zero encountered in divide\n",
      "  z_scores = np.floor(np.abs((eqi_test-mean_eqi_clean)/std_eqi_clean)) # Calculate z-scores\n",
      "/home/araz/Documents/GitHub/art-eqi-p300-validation/Functions/eeg_quality_index.py:83: RuntimeWarning: invalid value encountered in divide\n",
      "  z_scores = np.floor(np.abs((eqi_test-mean_eqi_clean)/std_eqi_clean)) # Calculate z-scores\n"
     ]
    },
    {
     "name": "stdout",
     "output_type": "stream",
     "text": [
      "Warning!\n",
      "One or more Z-scores have NaN values\n",
      "Review eqi_mean carefully\n",
      "Warning!\n",
      "One or more Z-scores have NaN values\n",
      "Review eqi_mean carefully\n",
      "Warning!\n",
      "One or more Z-scores have NaN values\n",
      "Review eqi_mean carefully\n"
     ]
    },
    {
     "name": "stderr",
     "output_type": "stream",
     "text": [
      "/home/araz/Documents/GitHub/art-eqi-p300-validation/Functions/eeg_quality_index.py:83: RuntimeWarning: divide by zero encountered in divide\n",
      "  z_scores = np.floor(np.abs((eqi_test-mean_eqi_clean)/std_eqi_clean)) # Calculate z-scores\n",
      "/home/araz/Documents/GitHub/art-eqi-p300-validation/Functions/eeg_quality_index.py:83: RuntimeWarning: invalid value encountered in divide\n",
      "  z_scores = np.floor(np.abs((eqi_test-mean_eqi_clean)/std_eqi_clean)) # Calculate z-scores\n",
      "/home/araz/Documents/GitHub/art-eqi-p300-validation/Functions/eeg_quality_index.py:83: RuntimeWarning: divide by zero encountered in divide\n",
      "  z_scores = np.floor(np.abs((eqi_test-mean_eqi_clean)/std_eqi_clean)) # Calculate z-scores\n",
      "/home/araz/Documents/GitHub/art-eqi-p300-validation/Functions/eeg_quality_index.py:83: RuntimeWarning: invalid value encountered in divide\n",
      "  z_scores = np.floor(np.abs((eqi_test-mean_eqi_clean)/std_eqi_clean)) # Calculate z-scores\n"
     ]
    },
    {
     "name": "stdout",
     "output_type": "stream",
     "text": [
      "Warning!\n",
      "One or more Z-scores have NaN values\n",
      "Review eqi_mean carefully\n",
      "Warning!\n",
      "One or more Z-scores have NaN values\n",
      "Review eqi_mean carefully\n"
     ]
    },
    {
     "name": "stderr",
     "output_type": "stream",
     "text": [
      "/home/araz/Documents/GitHub/art-eqi-p300-validation/Functions/eeg_quality_index.py:83: RuntimeWarning: divide by zero encountered in divide\n",
      "  z_scores = np.floor(np.abs((eqi_test-mean_eqi_clean)/std_eqi_clean)) # Calculate z-scores\n",
      "/home/araz/Documents/GitHub/art-eqi-p300-validation/Functions/eeg_quality_index.py:83: RuntimeWarning: invalid value encountered in divide\n",
      "  z_scores = np.floor(np.abs((eqi_test-mean_eqi_clean)/std_eqi_clean)) # Calculate z-scores\n",
      "/home/araz/Documents/GitHub/art-eqi-p300-validation/Functions/eeg_quality_index.py:83: RuntimeWarning: divide by zero encountered in divide\n",
      "  z_scores = np.floor(np.abs((eqi_test-mean_eqi_clean)/std_eqi_clean)) # Calculate z-scores\n",
      "/home/araz/Documents/GitHub/art-eqi-p300-validation/Functions/eeg_quality_index.py:83: RuntimeWarning: invalid value encountered in divide\n",
      "  z_scores = np.floor(np.abs((eqi_test-mean_eqi_clean)/std_eqi_clean)) # Calculate z-scores\n"
     ]
    },
    {
     "name": "stdout",
     "output_type": "stream",
     "text": [
      "Warning!\n",
      "One or more Z-scores have NaN values\n",
      "Review eqi_mean carefully\n",
      "Warning!\n",
      "One or more Z-scores have NaN values\n",
      "Review eqi_mean carefully\n"
     ]
    },
    {
     "name": "stderr",
     "output_type": "stream",
     "text": [
      "/home/araz/Documents/GitHub/art-eqi-p300-validation/Functions/eeg_quality_index.py:83: RuntimeWarning: divide by zero encountered in divide\n",
      "  z_scores = np.floor(np.abs((eqi_test-mean_eqi_clean)/std_eqi_clean)) # Calculate z-scores\n",
      "/home/araz/Documents/GitHub/art-eqi-p300-validation/Functions/eeg_quality_index.py:83: RuntimeWarning: invalid value encountered in divide\n",
      "  z_scores = np.floor(np.abs((eqi_test-mean_eqi_clean)/std_eqi_clean)) # Calculate z-scores\n",
      "/home/araz/Documents/GitHub/art-eqi-p300-validation/Functions/eeg_quality_index.py:83: RuntimeWarning: divide by zero encountered in divide\n",
      "  z_scores = np.floor(np.abs((eqi_test-mean_eqi_clean)/std_eqi_clean)) # Calculate z-scores\n",
      "/home/araz/Documents/GitHub/art-eqi-p300-validation/Functions/eeg_quality_index.py:83: RuntimeWarning: invalid value encountered in divide\n",
      "  z_scores = np.floor(np.abs((eqi_test-mean_eqi_clean)/std_eqi_clean)) # Calculate z-scores\n"
     ]
    },
    {
     "name": "stdout",
     "output_type": "stream",
     "text": [
      "Warning!\n",
      "One or more Z-scores have NaN values\n",
      "Review eqi_mean carefully\n",
      "Warning!\n",
      "One or more Z-scores have NaN values\n",
      "Review eqi_mean carefully\n"
     ]
    },
    {
     "name": "stderr",
     "output_type": "stream",
     "text": [
      "/home/araz/Documents/GitHub/art-eqi-p300-validation/Functions/eeg_quality_index.py:83: RuntimeWarning: divide by zero encountered in divide\n",
      "  z_scores = np.floor(np.abs((eqi_test-mean_eqi_clean)/std_eqi_clean)) # Calculate z-scores\n",
      "/home/araz/Documents/GitHub/art-eqi-p300-validation/Functions/eeg_quality_index.py:83: RuntimeWarning: invalid value encountered in divide\n",
      "  z_scores = np.floor(np.abs((eqi_test-mean_eqi_clean)/std_eqi_clean)) # Calculate z-scores\n",
      "/home/araz/Documents/GitHub/art-eqi-p300-validation/Functions/eeg_quality_index.py:83: RuntimeWarning: divide by zero encountered in divide\n",
      "  z_scores = np.floor(np.abs((eqi_test-mean_eqi_clean)/std_eqi_clean)) # Calculate z-scores\n",
      "/home/araz/Documents/GitHub/art-eqi-p300-validation/Functions/eeg_quality_index.py:83: RuntimeWarning: invalid value encountered in divide\n",
      "  z_scores = np.floor(np.abs((eqi_test-mean_eqi_clean)/std_eqi_clean)) # Calculate z-scores\n"
     ]
    },
    {
     "name": "stdout",
     "output_type": "stream",
     "text": [
      "Warning!\n",
      "One or more Z-scores have NaN values\n",
      "Review eqi_mean carefully\n",
      "Warning!\n",
      "One or more Z-scores have NaN values\n",
      "Review eqi_mean carefully\n"
     ]
    },
    {
     "name": "stderr",
     "output_type": "stream",
     "text": [
      "/home/araz/Documents/GitHub/art-eqi-p300-validation/Functions/eeg_quality_index.py:83: RuntimeWarning: divide by zero encountered in divide\n",
      "  z_scores = np.floor(np.abs((eqi_test-mean_eqi_clean)/std_eqi_clean)) # Calculate z-scores\n",
      "/home/araz/Documents/GitHub/art-eqi-p300-validation/Functions/eeg_quality_index.py:83: RuntimeWarning: invalid value encountered in divide\n",
      "  z_scores = np.floor(np.abs((eqi_test-mean_eqi_clean)/std_eqi_clean)) # Calculate z-scores\n",
      "/home/araz/Documents/GitHub/art-eqi-p300-validation/Functions/eeg_quality_index.py:83: RuntimeWarning: divide by zero encountered in divide\n",
      "  z_scores = np.floor(np.abs((eqi_test-mean_eqi_clean)/std_eqi_clean)) # Calculate z-scores\n",
      "/home/araz/Documents/GitHub/art-eqi-p300-validation/Functions/eeg_quality_index.py:83: RuntimeWarning: invalid value encountered in divide\n",
      "  z_scores = np.floor(np.abs((eqi_test-mean_eqi_clean)/std_eqi_clean)) # Calculate z-scores\n"
     ]
    },
    {
     "name": "stdout",
     "output_type": "stream",
     "text": [
      "Warning!\n",
      "One or more Z-scores have NaN values\n",
      "Review eqi_mean carefully\n",
      "Warning!\n",
      "One or more Z-scores have NaN values\n",
      "Review eqi_mean carefully\n"
     ]
    },
    {
     "name": "stderr",
     "output_type": "stream",
     "text": [
      "/home/araz/Documents/GitHub/art-eqi-p300-validation/Functions/eeg_quality_index.py:83: RuntimeWarning: divide by zero encountered in divide\n",
      "  z_scores = np.floor(np.abs((eqi_test-mean_eqi_clean)/std_eqi_clean)) # Calculate z-scores\n",
      "/home/araz/Documents/GitHub/art-eqi-p300-validation/Functions/eeg_quality_index.py:83: RuntimeWarning: invalid value encountered in divide\n",
      "  z_scores = np.floor(np.abs((eqi_test-mean_eqi_clean)/std_eqi_clean)) # Calculate z-scores\n",
      "/home/araz/Documents/GitHub/art-eqi-p300-validation/Functions/eeg_quality_index.py:83: RuntimeWarning: divide by zero encountered in divide\n",
      "  z_scores = np.floor(np.abs((eqi_test-mean_eqi_clean)/std_eqi_clean)) # Calculate z-scores\n",
      "/home/araz/Documents/GitHub/art-eqi-p300-validation/Functions/eeg_quality_index.py:83: RuntimeWarning: invalid value encountered in divide\n",
      "  z_scores = np.floor(np.abs((eqi_test-mean_eqi_clean)/std_eqi_clean)) # Calculate z-scores\n"
     ]
    },
    {
     "name": "stdout",
     "output_type": "stream",
     "text": [
      "Warning!\n",
      "One or more Z-scores have NaN values\n",
      "Review eqi_mean carefully\n",
      "Warning!\n",
      "One or more Z-scores have NaN values\n",
      "Review eqi_mean carefully\n"
     ]
    },
    {
     "name": "stderr",
     "output_type": "stream",
     "text": [
      "/home/araz/Documents/GitHub/art-eqi-p300-validation/Functions/eeg_quality_index.py:83: RuntimeWarning: divide by zero encountered in divide\n",
      "  z_scores = np.floor(np.abs((eqi_test-mean_eqi_clean)/std_eqi_clean)) # Calculate z-scores\n",
      "/home/araz/Documents/GitHub/art-eqi-p300-validation/Functions/eeg_quality_index.py:83: RuntimeWarning: invalid value encountered in divide\n",
      "  z_scores = np.floor(np.abs((eqi_test-mean_eqi_clean)/std_eqi_clean)) # Calculate z-scores\n",
      "/home/araz/Documents/GitHub/art-eqi-p300-validation/Functions/eeg_quality_index.py:83: RuntimeWarning: divide by zero encountered in divide\n",
      "  z_scores = np.floor(np.abs((eqi_test-mean_eqi_clean)/std_eqi_clean)) # Calculate z-scores\n",
      "/home/araz/Documents/GitHub/art-eqi-p300-validation/Functions/eeg_quality_index.py:83: RuntimeWarning: invalid value encountered in divide\n",
      "  z_scores = np.floor(np.abs((eqi_test-mean_eqi_clean)/std_eqi_clean)) # Calculate z-scores\n"
     ]
    },
    {
     "name": "stdout",
     "output_type": "stream",
     "text": [
      "Warning!\n",
      "One or more Z-scores have NaN values\n",
      "Review eqi_mean carefully\n",
      "Warning!\n",
      "One or more Z-scores have NaN values\n",
      "Review eqi_mean carefully\n"
     ]
    },
    {
     "name": "stderr",
     "output_type": "stream",
     "text": [
      "/home/araz/Documents/GitHub/art-eqi-p300-validation/Functions/eeg_quality_index.py:83: RuntimeWarning: divide by zero encountered in divide\n",
      "  z_scores = np.floor(np.abs((eqi_test-mean_eqi_clean)/std_eqi_clean)) # Calculate z-scores\n",
      "/home/araz/Documents/GitHub/art-eqi-p300-validation/Functions/eeg_quality_index.py:83: RuntimeWarning: invalid value encountered in divide\n",
      "  z_scores = np.floor(np.abs((eqi_test-mean_eqi_clean)/std_eqi_clean)) # Calculate z-scores\n",
      "/home/araz/Documents/GitHub/art-eqi-p300-validation/Functions/eeg_quality_index.py:83: RuntimeWarning: divide by zero encountered in divide\n",
      "  z_scores = np.floor(np.abs((eqi_test-mean_eqi_clean)/std_eqi_clean)) # Calculate z-scores\n",
      "/home/araz/Documents/GitHub/art-eqi-p300-validation/Functions/eeg_quality_index.py:83: RuntimeWarning: invalid value encountered in divide\n",
      "  z_scores = np.floor(np.abs((eqi_test-mean_eqi_clean)/std_eqi_clean)) # Calculate z-scores\n"
     ]
    },
    {
     "name": "stdout",
     "output_type": "stream",
     "text": [
      "Warning!\n",
      "One or more Z-scores have NaN values\n",
      "Review eqi_mean carefully\n",
      "Warning!\n",
      "One or more Z-scores have NaN values\n",
      "Review eqi_mean carefully\n"
     ]
    },
    {
     "name": "stderr",
     "output_type": "stream",
     "text": [
      "/home/araz/Documents/GitHub/art-eqi-p300-validation/Functions/eeg_quality_index.py:83: RuntimeWarning: divide by zero encountered in divide\n",
      "  z_scores = np.floor(np.abs((eqi_test-mean_eqi_clean)/std_eqi_clean)) # Calculate z-scores\n",
      "/home/araz/Documents/GitHub/art-eqi-p300-validation/Functions/eeg_quality_index.py:83: RuntimeWarning: invalid value encountered in divide\n",
      "  z_scores = np.floor(np.abs((eqi_test-mean_eqi_clean)/std_eqi_clean)) # Calculate z-scores\n",
      "/home/araz/Documents/GitHub/art-eqi-p300-validation/Functions/eeg_quality_index.py:83: RuntimeWarning: divide by zero encountered in divide\n",
      "  z_scores = np.floor(np.abs((eqi_test-mean_eqi_clean)/std_eqi_clean)) # Calculate z-scores\n",
      "/home/araz/Documents/GitHub/art-eqi-p300-validation/Functions/eeg_quality_index.py:83: RuntimeWarning: invalid value encountered in divide\n",
      "  z_scores = np.floor(np.abs((eqi_test-mean_eqi_clean)/std_eqi_clean)) # Calculate z-scores\n"
     ]
    },
    {
     "name": "stdout",
     "output_type": "stream",
     "text": [
      "Warning!\n",
      "One or more Z-scores have NaN values\n",
      "Review eqi_mean carefully\n",
      "Warning!\n",
      "One or more Z-scores have NaN values\n",
      "Review eqi_mean carefully\n"
     ]
    },
    {
     "name": "stderr",
     "output_type": "stream",
     "text": [
      "/home/araz/Documents/GitHub/art-eqi-p300-validation/Functions/eeg_quality_index.py:83: RuntimeWarning: divide by zero encountered in divide\n",
      "  z_scores = np.floor(np.abs((eqi_test-mean_eqi_clean)/std_eqi_clean)) # Calculate z-scores\n",
      "/home/araz/Documents/GitHub/art-eqi-p300-validation/Functions/eeg_quality_index.py:83: RuntimeWarning: invalid value encountered in divide\n",
      "  z_scores = np.floor(np.abs((eqi_test-mean_eqi_clean)/std_eqi_clean)) # Calculate z-scores\n",
      "/home/araz/Documents/GitHub/art-eqi-p300-validation/Functions/eeg_quality_index.py:83: RuntimeWarning: divide by zero encountered in divide\n",
      "  z_scores = np.floor(np.abs((eqi_test-mean_eqi_clean)/std_eqi_clean)) # Calculate z-scores\n",
      "/home/araz/Documents/GitHub/art-eqi-p300-validation/Functions/eeg_quality_index.py:83: RuntimeWarning: invalid value encountered in divide\n",
      "  z_scores = np.floor(np.abs((eqi_test-mean_eqi_clean)/std_eqi_clean)) # Calculate z-scores\n"
     ]
    },
    {
     "name": "stdout",
     "output_type": "stream",
     "text": [
      "Warning!\n",
      "One or more Z-scores have NaN values\n",
      "Review eqi_mean carefully\n",
      "Warning!\n",
      "One or more Z-scores have NaN values\n",
      "Review eqi_mean carefully\n"
     ]
    },
    {
     "name": "stderr",
     "output_type": "stream",
     "text": [
      "/home/araz/Documents/GitHub/art-eqi-p300-validation/Functions/eeg_quality_index.py:83: RuntimeWarning: divide by zero encountered in divide\n",
      "  z_scores = np.floor(np.abs((eqi_test-mean_eqi_clean)/std_eqi_clean)) # Calculate z-scores\n",
      "/home/araz/Documents/GitHub/art-eqi-p300-validation/Functions/eeg_quality_index.py:83: RuntimeWarning: invalid value encountered in divide\n",
      "  z_scores = np.floor(np.abs((eqi_test-mean_eqi_clean)/std_eqi_clean)) # Calculate z-scores\n",
      "/home/araz/Documents/GitHub/art-eqi-p300-validation/Functions/eeg_quality_index.py:83: RuntimeWarning: divide by zero encountered in divide\n",
      "  z_scores = np.floor(np.abs((eqi_test-mean_eqi_clean)/std_eqi_clean)) # Calculate z-scores\n",
      "/home/araz/Documents/GitHub/art-eqi-p300-validation/Functions/eeg_quality_index.py:83: RuntimeWarning: invalid value encountered in divide\n",
      "  z_scores = np.floor(np.abs((eqi_test-mean_eqi_clean)/std_eqi_clean)) # Calculate z-scores\n"
     ]
    },
    {
     "name": "stdout",
     "output_type": "stream",
     "text": [
      "Warning!\n",
      "One or more Z-scores have NaN values\n",
      "Review eqi_mean carefully\n",
      "Warning!\n",
      "One or more Z-scores have NaN values\n",
      "Review eqi_mean carefully\n"
     ]
    },
    {
     "name": "stderr",
     "output_type": "stream",
     "text": [
      "/home/araz/Documents/GitHub/art-eqi-p300-validation/Functions/eeg_quality_index.py:83: RuntimeWarning: divide by zero encountered in divide\n",
      "  z_scores = np.floor(np.abs((eqi_test-mean_eqi_clean)/std_eqi_clean)) # Calculate z-scores\n",
      "/home/araz/Documents/GitHub/art-eqi-p300-validation/Functions/eeg_quality_index.py:83: RuntimeWarning: invalid value encountered in divide\n",
      "  z_scores = np.floor(np.abs((eqi_test-mean_eqi_clean)/std_eqi_clean)) # Calculate z-scores\n",
      "/home/araz/Documents/GitHub/art-eqi-p300-validation/Functions/eeg_quality_index.py:83: RuntimeWarning: divide by zero encountered in divide\n",
      "  z_scores = np.floor(np.abs((eqi_test-mean_eqi_clean)/std_eqi_clean)) # Calculate z-scores\n",
      "/home/araz/Documents/GitHub/art-eqi-p300-validation/Functions/eeg_quality_index.py:83: RuntimeWarning: invalid value encountered in divide\n",
      "  z_scores = np.floor(np.abs((eqi_test-mean_eqi_clean)/std_eqi_clean)) # Calculate z-scores\n"
     ]
    },
    {
     "name": "stdout",
     "output_type": "stream",
     "text": [
      "Warning!\n",
      "One or more Z-scores have NaN values\n",
      "Review eqi_mean carefully\n",
      "Warning!\n",
      "One or more Z-scores have NaN values\n",
      "Review eqi_mean carefully\n"
     ]
    },
    {
     "name": "stderr",
     "output_type": "stream",
     "text": [
      "/home/araz/Documents/GitHub/art-eqi-p300-validation/Functions/eeg_quality_index.py:83: RuntimeWarning: divide by zero encountered in divide\n",
      "  z_scores = np.floor(np.abs((eqi_test-mean_eqi_clean)/std_eqi_clean)) # Calculate z-scores\n",
      "/home/araz/Documents/GitHub/art-eqi-p300-validation/Functions/eeg_quality_index.py:83: RuntimeWarning: invalid value encountered in divide\n",
      "  z_scores = np.floor(np.abs((eqi_test-mean_eqi_clean)/std_eqi_clean)) # Calculate z-scores\n",
      "/home/araz/Documents/GitHub/art-eqi-p300-validation/Functions/eeg_quality_index.py:83: RuntimeWarning: divide by zero encountered in divide\n",
      "  z_scores = np.floor(np.abs((eqi_test-mean_eqi_clean)/std_eqi_clean)) # Calculate z-scores\n",
      "/home/araz/Documents/GitHub/art-eqi-p300-validation/Functions/eeg_quality_index.py:83: RuntimeWarning: invalid value encountered in divide\n",
      "  z_scores = np.floor(np.abs((eqi_test-mean_eqi_clean)/std_eqi_clean)) # Calculate z-scores\n"
     ]
    },
    {
     "name": "stdout",
     "output_type": "stream",
     "text": [
      "Warning!\n",
      "One or more Z-scores have NaN values\n",
      "Review eqi_mean carefully\n",
      "Warning!\n",
      "One or more Z-scores have NaN values\n",
      "Review eqi_mean carefully\n"
     ]
    },
    {
     "name": "stderr",
     "output_type": "stream",
     "text": [
      "/home/araz/Documents/GitHub/art-eqi-p300-validation/Functions/eeg_quality_index.py:83: RuntimeWarning: divide by zero encountered in divide\n",
      "  z_scores = np.floor(np.abs((eqi_test-mean_eqi_clean)/std_eqi_clean)) # Calculate z-scores\n",
      "/home/araz/Documents/GitHub/art-eqi-p300-validation/Functions/eeg_quality_index.py:83: RuntimeWarning: invalid value encountered in divide\n",
      "  z_scores = np.floor(np.abs((eqi_test-mean_eqi_clean)/std_eqi_clean)) # Calculate z-scores\n",
      "/home/araz/Documents/GitHub/art-eqi-p300-validation/Functions/eeg_quality_index.py:83: RuntimeWarning: divide by zero encountered in divide\n",
      "  z_scores = np.floor(np.abs((eqi_test-mean_eqi_clean)/std_eqi_clean)) # Calculate z-scores\n",
      "/home/araz/Documents/GitHub/art-eqi-p300-validation/Functions/eeg_quality_index.py:83: RuntimeWarning: invalid value encountered in divide\n",
      "  z_scores = np.floor(np.abs((eqi_test-mean_eqi_clean)/std_eqi_clean)) # Calculate z-scores\n"
     ]
    },
    {
     "name": "stdout",
     "output_type": "stream",
     "text": [
      "Warning!\n",
      "One or more Z-scores have NaN values\n",
      "Review eqi_mean carefully\n",
      "Warning!\n",
      "One or more Z-scores have NaN values\n",
      "Review eqi_mean carefully\n"
     ]
    },
    {
     "name": "stderr",
     "output_type": "stream",
     "text": [
      "/home/araz/Documents/GitHub/art-eqi-p300-validation/Functions/eeg_quality_index.py:83: RuntimeWarning: divide by zero encountered in divide\n",
      "  z_scores = np.floor(np.abs((eqi_test-mean_eqi_clean)/std_eqi_clean)) # Calculate z-scores\n",
      "/home/araz/Documents/GitHub/art-eqi-p300-validation/Functions/eeg_quality_index.py:83: RuntimeWarning: invalid value encountered in divide\n",
      "  z_scores = np.floor(np.abs((eqi_test-mean_eqi_clean)/std_eqi_clean)) # Calculate z-scores\n",
      "/home/araz/Documents/GitHub/art-eqi-p300-validation/Functions/eeg_quality_index.py:83: RuntimeWarning: divide by zero encountered in divide\n",
      "  z_scores = np.floor(np.abs((eqi_test-mean_eqi_clean)/std_eqi_clean)) # Calculate z-scores\n",
      "/home/araz/Documents/GitHub/art-eqi-p300-validation/Functions/eeg_quality_index.py:83: RuntimeWarning: invalid value encountered in divide\n",
      "  z_scores = np.floor(np.abs((eqi_test-mean_eqi_clean)/std_eqi_clean)) # Calculate z-scores\n",
      "/home/araz/Documents/GitHub/art-eqi-p300-validation/Functions/eeg_quality_index.py:83: RuntimeWarning: divide by zero encountered in divide\n",
      "  z_scores = np.floor(np.abs((eqi_test-mean_eqi_clean)/std_eqi_clean)) # Calculate z-scores\n",
      "/home/araz/Documents/GitHub/art-eqi-p300-validation/Functions/eeg_quality_index.py:83: RuntimeWarning: invalid value encountered in divide\n",
      "  z_scores = np.floor(np.abs((eqi_test-mean_eqi_clean)/std_eqi_clean)) # Calculate z-scores\n"
     ]
    },
    {
     "name": "stdout",
     "output_type": "stream",
     "text": [
      "Warning!\n",
      "One or more Z-scores have NaN values\n",
      "Review eqi_mean carefully\n",
      "Warning!\n",
      "One or more Z-scores have NaN values\n",
      "Review eqi_mean carefully\n",
      "Warning!\n",
      "One or more Z-scores have NaN values\n",
      "Review eqi_mean carefully\n"
     ]
    },
    {
     "name": "stderr",
     "output_type": "stream",
     "text": [
      "/home/araz/Documents/GitHub/art-eqi-p300-validation/Functions/eeg_quality_index.py:83: RuntimeWarning: divide by zero encountered in divide\n",
      "  z_scores = np.floor(np.abs((eqi_test-mean_eqi_clean)/std_eqi_clean)) # Calculate z-scores\n",
      "/home/araz/Documents/GitHub/art-eqi-p300-validation/Functions/eeg_quality_index.py:83: RuntimeWarning: invalid value encountered in divide\n",
      "  z_scores = np.floor(np.abs((eqi_test-mean_eqi_clean)/std_eqi_clean)) # Calculate z-scores\n",
      "/home/araz/Documents/GitHub/art-eqi-p300-validation/Functions/eeg_quality_index.py:83: RuntimeWarning: divide by zero encountered in divide\n",
      "  z_scores = np.floor(np.abs((eqi_test-mean_eqi_clean)/std_eqi_clean)) # Calculate z-scores\n",
      "/home/araz/Documents/GitHub/art-eqi-p300-validation/Functions/eeg_quality_index.py:83: RuntimeWarning: invalid value encountered in divide\n",
      "  z_scores = np.floor(np.abs((eqi_test-mean_eqi_clean)/std_eqi_clean)) # Calculate z-scores\n",
      "/home/araz/Documents/GitHub/art-eqi-p300-validation/Functions/eeg_quality_index.py:83: RuntimeWarning: divide by zero encountered in divide\n",
      "  z_scores = np.floor(np.abs((eqi_test-mean_eqi_clean)/std_eqi_clean)) # Calculate z-scores\n",
      "/home/araz/Documents/GitHub/art-eqi-p300-validation/Functions/eeg_quality_index.py:83: RuntimeWarning: invalid value encountered in divide\n",
      "  z_scores = np.floor(np.abs((eqi_test-mean_eqi_clean)/std_eqi_clean)) # Calculate z-scores\n"
     ]
    },
    {
     "name": "stdout",
     "output_type": "stream",
     "text": [
      "Warning!\n",
      "One or more Z-scores have NaN values\n",
      "Review eqi_mean carefully\n",
      "Warning!\n",
      "One or more Z-scores have NaN values\n",
      "Review eqi_mean carefully\n",
      "Warning!\n",
      "One or more Z-scores have NaN values\n",
      "Review eqi_mean carefully\n"
     ]
    },
    {
     "name": "stderr",
     "output_type": "stream",
     "text": [
      "/home/araz/Documents/GitHub/art-eqi-p300-validation/Functions/eeg_quality_index.py:83: RuntimeWarning: divide by zero encountered in divide\n",
      "  z_scores = np.floor(np.abs((eqi_test-mean_eqi_clean)/std_eqi_clean)) # Calculate z-scores\n",
      "/home/araz/Documents/GitHub/art-eqi-p300-validation/Functions/eeg_quality_index.py:83: RuntimeWarning: invalid value encountered in divide\n",
      "  z_scores = np.floor(np.abs((eqi_test-mean_eqi_clean)/std_eqi_clean)) # Calculate z-scores\n",
      "/home/araz/Documents/GitHub/art-eqi-p300-validation/Functions/eeg_quality_index.py:83: RuntimeWarning: divide by zero encountered in divide\n",
      "  z_scores = np.floor(np.abs((eqi_test-mean_eqi_clean)/std_eqi_clean)) # Calculate z-scores\n",
      "/home/araz/Documents/GitHub/art-eqi-p300-validation/Functions/eeg_quality_index.py:83: RuntimeWarning: invalid value encountered in divide\n",
      "  z_scores = np.floor(np.abs((eqi_test-mean_eqi_clean)/std_eqi_clean)) # Calculate z-scores\n"
     ]
    },
    {
     "name": "stdout",
     "output_type": "stream",
     "text": [
      "Warning!\n",
      "One or more Z-scores have NaN values\n",
      "Review eqi_mean carefully\n",
      "Warning!\n",
      "One or more Z-scores have NaN values\n",
      "Review eqi_mean carefully\n"
     ]
    },
    {
     "name": "stderr",
     "output_type": "stream",
     "text": [
      "/home/araz/Documents/GitHub/art-eqi-p300-validation/Functions/eeg_quality_index.py:83: RuntimeWarning: divide by zero encountered in divide\n",
      "  z_scores = np.floor(np.abs((eqi_test-mean_eqi_clean)/std_eqi_clean)) # Calculate z-scores\n",
      "/home/araz/Documents/GitHub/art-eqi-p300-validation/Functions/eeg_quality_index.py:83: RuntimeWarning: invalid value encountered in divide\n",
      "  z_scores = np.floor(np.abs((eqi_test-mean_eqi_clean)/std_eqi_clean)) # Calculate z-scores\n",
      "/home/araz/Documents/GitHub/art-eqi-p300-validation/Functions/eeg_quality_index.py:83: RuntimeWarning: divide by zero encountered in divide\n",
      "  z_scores = np.floor(np.abs((eqi_test-mean_eqi_clean)/std_eqi_clean)) # Calculate z-scores\n",
      "/home/araz/Documents/GitHub/art-eqi-p300-validation/Functions/eeg_quality_index.py:83: RuntimeWarning: invalid value encountered in divide\n",
      "  z_scores = np.floor(np.abs((eqi_test-mean_eqi_clean)/std_eqi_clean)) # Calculate z-scores\n"
     ]
    },
    {
     "name": "stdout",
     "output_type": "stream",
     "text": [
      "Warning!\n",
      "One or more Z-scores have NaN values\n",
      "Review eqi_mean carefully\n",
      "Warning!\n",
      "One or more Z-scores have NaN values\n",
      "Review eqi_mean carefully\n"
     ]
    },
    {
     "name": "stderr",
     "output_type": "stream",
     "text": [
      "/home/araz/Documents/GitHub/art-eqi-p300-validation/Functions/eeg_quality_index.py:83: RuntimeWarning: divide by zero encountered in divide\n",
      "  z_scores = np.floor(np.abs((eqi_test-mean_eqi_clean)/std_eqi_clean)) # Calculate z-scores\n",
      "/home/araz/Documents/GitHub/art-eqi-p300-validation/Functions/eeg_quality_index.py:83: RuntimeWarning: invalid value encountered in divide\n",
      "  z_scores = np.floor(np.abs((eqi_test-mean_eqi_clean)/std_eqi_clean)) # Calculate z-scores\n"
     ]
    },
    {
     "name": "stdout",
     "output_type": "stream",
     "text": [
      "Warning!\n",
      "One or more Z-scores have NaN values\n",
      "Review eqi_mean carefully\n"
     ]
    },
    {
     "name": "stderr",
     "output_type": "stream",
     "text": [
      "/home/araz/Documents/GitHub/art-eqi-p300-validation/Functions/eeg_quality_index.py:83: RuntimeWarning: divide by zero encountered in divide\n",
      "  z_scores = np.floor(np.abs((eqi_test-mean_eqi_clean)/std_eqi_clean)) # Calculate z-scores\n",
      "/home/araz/Documents/GitHub/art-eqi-p300-validation/Functions/eeg_quality_index.py:83: RuntimeWarning: invalid value encountered in divide\n",
      "  z_scores = np.floor(np.abs((eqi_test-mean_eqi_clean)/std_eqi_clean)) # Calculate z-scores\n",
      "/home/araz/Documents/GitHub/art-eqi-p300-validation/Functions/eeg_quality_index.py:83: RuntimeWarning: divide by zero encountered in divide\n",
      "  z_scores = np.floor(np.abs((eqi_test-mean_eqi_clean)/std_eqi_clean)) # Calculate z-scores\n",
      "/home/araz/Documents/GitHub/art-eqi-p300-validation/Functions/eeg_quality_index.py:83: RuntimeWarning: invalid value encountered in divide\n",
      "  z_scores = np.floor(np.abs((eqi_test-mean_eqi_clean)/std_eqi_clean)) # Calculate z-scores\n"
     ]
    },
    {
     "name": "stdout",
     "output_type": "stream",
     "text": [
      "Warning!\n",
      "One or more Z-scores have NaN values\n",
      "Review eqi_mean carefully\n",
      "Warning!\n",
      "One or more Z-scores have NaN values\n",
      "Review eqi_mean carefully\n"
     ]
    },
    {
     "name": "stderr",
     "output_type": "stream",
     "text": [
      "/home/araz/Documents/GitHub/art-eqi-p300-validation/Functions/eeg_quality_index.py:83: RuntimeWarning: divide by zero encountered in divide\n",
      "  z_scores = np.floor(np.abs((eqi_test-mean_eqi_clean)/std_eqi_clean)) # Calculate z-scores\n",
      "/home/araz/Documents/GitHub/art-eqi-p300-validation/Functions/eeg_quality_index.py:83: RuntimeWarning: invalid value encountered in divide\n",
      "  z_scores = np.floor(np.abs((eqi_test-mean_eqi_clean)/std_eqi_clean)) # Calculate z-scores\n",
      "/home/araz/Documents/GitHub/art-eqi-p300-validation/Functions/eeg_quality_index.py:83: RuntimeWarning: divide by zero encountered in divide\n",
      "  z_scores = np.floor(np.abs((eqi_test-mean_eqi_clean)/std_eqi_clean)) # Calculate z-scores\n",
      "/home/araz/Documents/GitHub/art-eqi-p300-validation/Functions/eeg_quality_index.py:83: RuntimeWarning: invalid value encountered in divide\n",
      "  z_scores = np.floor(np.abs((eqi_test-mean_eqi_clean)/std_eqi_clean)) # Calculate z-scores\n"
     ]
    },
    {
     "name": "stdout",
     "output_type": "stream",
     "text": [
      "Warning!\n",
      "One or more Z-scores have NaN values\n",
      "Review eqi_mean carefully\n",
      "Warning!\n",
      "One or more Z-scores have NaN values\n",
      "Review eqi_mean carefully\n"
     ]
    },
    {
     "name": "stderr",
     "output_type": "stream",
     "text": [
      "/home/araz/Documents/GitHub/art-eqi-p300-validation/Functions/eeg_quality_index.py:83: RuntimeWarning: divide by zero encountered in divide\n",
      "  z_scores = np.floor(np.abs((eqi_test-mean_eqi_clean)/std_eqi_clean)) # Calculate z-scores\n",
      "/home/araz/Documents/GitHub/art-eqi-p300-validation/Functions/eeg_quality_index.py:83: RuntimeWarning: invalid value encountered in divide\n",
      "  z_scores = np.floor(np.abs((eqi_test-mean_eqi_clean)/std_eqi_clean)) # Calculate z-scores\n",
      "/home/araz/Documents/GitHub/art-eqi-p300-validation/Functions/eeg_quality_index.py:83: RuntimeWarning: divide by zero encountered in divide\n",
      "  z_scores = np.floor(np.abs((eqi_test-mean_eqi_clean)/std_eqi_clean)) # Calculate z-scores\n",
      "/home/araz/Documents/GitHub/art-eqi-p300-validation/Functions/eeg_quality_index.py:83: RuntimeWarning: invalid value encountered in divide\n",
      "  z_scores = np.floor(np.abs((eqi_test-mean_eqi_clean)/std_eqi_clean)) # Calculate z-scores\n"
     ]
    },
    {
     "name": "stdout",
     "output_type": "stream",
     "text": [
      "Warning!\n",
      "One or more Z-scores have NaN values\n",
      "Review eqi_mean carefully\n",
      "Warning!\n",
      "One or more Z-scores have NaN values\n",
      "Review eqi_mean carefully\n"
     ]
    },
    {
     "name": "stderr",
     "output_type": "stream",
     "text": [
      "/home/araz/Documents/GitHub/art-eqi-p300-validation/Functions/eeg_quality_index.py:83: RuntimeWarning: divide by zero encountered in divide\n",
      "  z_scores = np.floor(np.abs((eqi_test-mean_eqi_clean)/std_eqi_clean)) # Calculate z-scores\n",
      "/home/araz/Documents/GitHub/art-eqi-p300-validation/Functions/eeg_quality_index.py:83: RuntimeWarning: invalid value encountered in divide\n",
      "  z_scores = np.floor(np.abs((eqi_test-mean_eqi_clean)/std_eqi_clean)) # Calculate z-scores\n",
      "/home/araz/Documents/GitHub/art-eqi-p300-validation/Functions/eeg_quality_index.py:83: RuntimeWarning: divide by zero encountered in divide\n",
      "  z_scores = np.floor(np.abs((eqi_test-mean_eqi_clean)/std_eqi_clean)) # Calculate z-scores\n",
      "/home/araz/Documents/GitHub/art-eqi-p300-validation/Functions/eeg_quality_index.py:83: RuntimeWarning: invalid value encountered in divide\n",
      "  z_scores = np.floor(np.abs((eqi_test-mean_eqi_clean)/std_eqi_clean)) # Calculate z-scores\n"
     ]
    },
    {
     "name": "stdout",
     "output_type": "stream",
     "text": [
      "Warning!\n",
      "One or more Z-scores have NaN values\n",
      "Review eqi_mean carefully\n",
      "Warning!\n",
      "One or more Z-scores have NaN values\n",
      "Review eqi_mean carefully\n"
     ]
    },
    {
     "name": "stderr",
     "output_type": "stream",
     "text": [
      "/home/araz/Documents/GitHub/art-eqi-p300-validation/Functions/eeg_quality_index.py:83: RuntimeWarning: divide by zero encountered in divide\n",
      "  z_scores = np.floor(np.abs((eqi_test-mean_eqi_clean)/std_eqi_clean)) # Calculate z-scores\n",
      "/home/araz/Documents/GitHub/art-eqi-p300-validation/Functions/eeg_quality_index.py:83: RuntimeWarning: invalid value encountered in divide\n",
      "  z_scores = np.floor(np.abs((eqi_test-mean_eqi_clean)/std_eqi_clean)) # Calculate z-scores\n",
      "/home/araz/Documents/GitHub/art-eqi-p300-validation/Functions/eeg_quality_index.py:83: RuntimeWarning: divide by zero encountered in divide\n",
      "  z_scores = np.floor(np.abs((eqi_test-mean_eqi_clean)/std_eqi_clean)) # Calculate z-scores\n",
      "/home/araz/Documents/GitHub/art-eqi-p300-validation/Functions/eeg_quality_index.py:83: RuntimeWarning: invalid value encountered in divide\n",
      "  z_scores = np.floor(np.abs((eqi_test-mean_eqi_clean)/std_eqi_clean)) # Calculate z-scores\n"
     ]
    },
    {
     "name": "stdout",
     "output_type": "stream",
     "text": [
      "Warning!\n",
      "One or more Z-scores have NaN values\n",
      "Review eqi_mean carefully\n",
      "Warning!\n",
      "One or more Z-scores have NaN values\n",
      "Review eqi_mean carefully\n"
     ]
    },
    {
     "name": "stderr",
     "output_type": "stream",
     "text": [
      "/home/araz/Documents/GitHub/art-eqi-p300-validation/Functions/eeg_quality_index.py:83: RuntimeWarning: divide by zero encountered in divide\n",
      "  z_scores = np.floor(np.abs((eqi_test-mean_eqi_clean)/std_eqi_clean)) # Calculate z-scores\n",
      "/home/araz/Documents/GitHub/art-eqi-p300-validation/Functions/eeg_quality_index.py:83: RuntimeWarning: invalid value encountered in divide\n",
      "  z_scores = np.floor(np.abs((eqi_test-mean_eqi_clean)/std_eqi_clean)) # Calculate z-scores\n",
      "/home/araz/Documents/GitHub/art-eqi-p300-validation/Functions/eeg_quality_index.py:83: RuntimeWarning: divide by zero encountered in divide\n",
      "  z_scores = np.floor(np.abs((eqi_test-mean_eqi_clean)/std_eqi_clean)) # Calculate z-scores\n",
      "/home/araz/Documents/GitHub/art-eqi-p300-validation/Functions/eeg_quality_index.py:83: RuntimeWarning: invalid value encountered in divide\n",
      "  z_scores = np.floor(np.abs((eqi_test-mean_eqi_clean)/std_eqi_clean)) # Calculate z-scores\n"
     ]
    },
    {
     "name": "stdout",
     "output_type": "stream",
     "text": [
      "Warning!\n",
      "One or more Z-scores have NaN values\n",
      "Review eqi_mean carefully\n",
      "Warning!\n",
      "One or more Z-scores have NaN values\n",
      "Review eqi_mean carefully\n"
     ]
    },
    {
     "name": "stderr",
     "output_type": "stream",
     "text": [
      "/home/araz/Documents/GitHub/art-eqi-p300-validation/Functions/eeg_quality_index.py:83: RuntimeWarning: divide by zero encountered in divide\n",
      "  z_scores = np.floor(np.abs((eqi_test-mean_eqi_clean)/std_eqi_clean)) # Calculate z-scores\n",
      "/home/araz/Documents/GitHub/art-eqi-p300-validation/Functions/eeg_quality_index.py:83: RuntimeWarning: invalid value encountered in divide\n",
      "  z_scores = np.floor(np.abs((eqi_test-mean_eqi_clean)/std_eqi_clean)) # Calculate z-scores\n",
      "/home/araz/Documents/GitHub/art-eqi-p300-validation/Functions/eeg_quality_index.py:83: RuntimeWarning: divide by zero encountered in divide\n",
      "  z_scores = np.floor(np.abs((eqi_test-mean_eqi_clean)/std_eqi_clean)) # Calculate z-scores\n",
      "/home/araz/Documents/GitHub/art-eqi-p300-validation/Functions/eeg_quality_index.py:83: RuntimeWarning: invalid value encountered in divide\n",
      "  z_scores = np.floor(np.abs((eqi_test-mean_eqi_clean)/std_eqi_clean)) # Calculate z-scores\n"
     ]
    },
    {
     "name": "stdout",
     "output_type": "stream",
     "text": [
      "Warning!\n",
      "One or more Z-scores have NaN values\n",
      "Review eqi_mean carefully\n",
      "Warning!\n",
      "One or more Z-scores have NaN values\n",
      "Review eqi_mean carefully\n"
     ]
    },
    {
     "name": "stderr",
     "output_type": "stream",
     "text": [
      "/home/araz/Documents/GitHub/art-eqi-p300-validation/Functions/eeg_quality_index.py:83: RuntimeWarning: divide by zero encountered in divide\n",
      "  z_scores = np.floor(np.abs((eqi_test-mean_eqi_clean)/std_eqi_clean)) # Calculate z-scores\n",
      "/home/araz/Documents/GitHub/art-eqi-p300-validation/Functions/eeg_quality_index.py:83: RuntimeWarning: invalid value encountered in divide\n",
      "  z_scores = np.floor(np.abs((eqi_test-mean_eqi_clean)/std_eqi_clean)) # Calculate z-scores\n",
      "/home/araz/Documents/GitHub/art-eqi-p300-validation/Functions/eeg_quality_index.py:83: RuntimeWarning: divide by zero encountered in divide\n",
      "  z_scores = np.floor(np.abs((eqi_test-mean_eqi_clean)/std_eqi_clean)) # Calculate z-scores\n",
      "/home/araz/Documents/GitHub/art-eqi-p300-validation/Functions/eeg_quality_index.py:83: RuntimeWarning: invalid value encountered in divide\n",
      "  z_scores = np.floor(np.abs((eqi_test-mean_eqi_clean)/std_eqi_clean)) # Calculate z-scores\n"
     ]
    },
    {
     "name": "stdout",
     "output_type": "stream",
     "text": [
      "Warning!\n",
      "One or more Z-scores have NaN values\n",
      "Review eqi_mean carefully\n",
      "Warning!\n",
      "One or more Z-scores have NaN values\n",
      "Review eqi_mean carefully\n"
     ]
    },
    {
     "name": "stderr",
     "output_type": "stream",
     "text": [
      "/home/araz/Documents/GitHub/art-eqi-p300-validation/Functions/eeg_quality_index.py:83: RuntimeWarning: divide by zero encountered in divide\n",
      "  z_scores = np.floor(np.abs((eqi_test-mean_eqi_clean)/std_eqi_clean)) # Calculate z-scores\n",
      "/home/araz/Documents/GitHub/art-eqi-p300-validation/Functions/eeg_quality_index.py:83: RuntimeWarning: invalid value encountered in divide\n",
      "  z_scores = np.floor(np.abs((eqi_test-mean_eqi_clean)/std_eqi_clean)) # Calculate z-scores\n",
      "/home/araz/Documents/GitHub/art-eqi-p300-validation/Functions/eeg_quality_index.py:83: RuntimeWarning: divide by zero encountered in divide\n",
      "  z_scores = np.floor(np.abs((eqi_test-mean_eqi_clean)/std_eqi_clean)) # Calculate z-scores\n",
      "/home/araz/Documents/GitHub/art-eqi-p300-validation/Functions/eeg_quality_index.py:83: RuntimeWarning: invalid value encountered in divide\n",
      "  z_scores = np.floor(np.abs((eqi_test-mean_eqi_clean)/std_eqi_clean)) # Calculate z-scores\n"
     ]
    },
    {
     "name": "stdout",
     "output_type": "stream",
     "text": [
      "Warning!\n",
      "One or more Z-scores have NaN values\n",
      "Review eqi_mean carefully\n",
      "Warning!\n",
      "One or more Z-scores have NaN values\n",
      "Review eqi_mean carefully\n"
     ]
    },
    {
     "name": "stderr",
     "output_type": "stream",
     "text": [
      "/home/araz/Documents/GitHub/art-eqi-p300-validation/Functions/eeg_quality_index.py:83: RuntimeWarning: divide by zero encountered in divide\n",
      "  z_scores = np.floor(np.abs((eqi_test-mean_eqi_clean)/std_eqi_clean)) # Calculate z-scores\n",
      "/home/araz/Documents/GitHub/art-eqi-p300-validation/Functions/eeg_quality_index.py:83: RuntimeWarning: invalid value encountered in divide\n",
      "  z_scores = np.floor(np.abs((eqi_test-mean_eqi_clean)/std_eqi_clean)) # Calculate z-scores\n",
      "/home/araz/Documents/GitHub/art-eqi-p300-validation/Functions/eeg_quality_index.py:83: RuntimeWarning: divide by zero encountered in divide\n",
      "  z_scores = np.floor(np.abs((eqi_test-mean_eqi_clean)/std_eqi_clean)) # Calculate z-scores\n",
      "/home/araz/Documents/GitHub/art-eqi-p300-validation/Functions/eeg_quality_index.py:83: RuntimeWarning: invalid value encountered in divide\n",
      "  z_scores = np.floor(np.abs((eqi_test-mean_eqi_clean)/std_eqi_clean)) # Calculate z-scores\n",
      "/home/araz/Documents/GitHub/art-eqi-p300-validation/Functions/eeg_quality_index.py:83: RuntimeWarning: divide by zero encountered in divide\n",
      "  z_scores = np.floor(np.abs((eqi_test-mean_eqi_clean)/std_eqi_clean)) # Calculate z-scores\n",
      "/home/araz/Documents/GitHub/art-eqi-p300-validation/Functions/eeg_quality_index.py:83: RuntimeWarning: invalid value encountered in divide\n",
      "  z_scores = np.floor(np.abs((eqi_test-mean_eqi_clean)/std_eqi_clean)) # Calculate z-scores\n"
     ]
    },
    {
     "name": "stdout",
     "output_type": "stream",
     "text": [
      "Warning!\n",
      "One or more Z-scores have NaN values\n",
      "Review eqi_mean carefully\n",
      "Warning!\n",
      "One or more Z-scores have NaN values\n",
      "Review eqi_mean carefully\n",
      "Warning!\n",
      "One or more Z-scores have NaN values\n",
      "Review eqi_mean carefully\n"
     ]
    },
    {
     "name": "stderr",
     "output_type": "stream",
     "text": [
      "/home/araz/Documents/GitHub/art-eqi-p300-validation/Functions/eeg_quality_index.py:83: RuntimeWarning: divide by zero encountered in divide\n",
      "  z_scores = np.floor(np.abs((eqi_test-mean_eqi_clean)/std_eqi_clean)) # Calculate z-scores\n",
      "/home/araz/Documents/GitHub/art-eqi-p300-validation/Functions/eeg_quality_index.py:83: RuntimeWarning: invalid value encountered in divide\n",
      "  z_scores = np.floor(np.abs((eqi_test-mean_eqi_clean)/std_eqi_clean)) # Calculate z-scores\n"
     ]
    },
    {
     "name": "stdout",
     "output_type": "stream",
     "text": [
      "Warning!\n",
      "One or more Z-scores have NaN values\n",
      "Review eqi_mean carefully\n"
     ]
    },
    {
     "name": "stderr",
     "output_type": "stream",
     "text": [
      "/home/araz/Documents/GitHub/art-eqi-p300-validation/Functions/eeg_quality_index.py:83: RuntimeWarning: divide by zero encountered in divide\n",
      "  z_scores = np.floor(np.abs((eqi_test-mean_eqi_clean)/std_eqi_clean)) # Calculate z-scores\n",
      "/home/araz/Documents/GitHub/art-eqi-p300-validation/Functions/eeg_quality_index.py:83: RuntimeWarning: invalid value encountered in divide\n",
      "  z_scores = np.floor(np.abs((eqi_test-mean_eqi_clean)/std_eqi_clean)) # Calculate z-scores\n",
      "/home/araz/Documents/GitHub/art-eqi-p300-validation/Functions/eeg_quality_index.py:83: RuntimeWarning: divide by zero encountered in divide\n",
      "  z_scores = np.floor(np.abs((eqi_test-mean_eqi_clean)/std_eqi_clean)) # Calculate z-scores\n",
      "/home/araz/Documents/GitHub/art-eqi-p300-validation/Functions/eeg_quality_index.py:83: RuntimeWarning: invalid value encountered in divide\n",
      "  z_scores = np.floor(np.abs((eqi_test-mean_eqi_clean)/std_eqi_clean)) # Calculate z-scores\n"
     ]
    },
    {
     "name": "stdout",
     "output_type": "stream",
     "text": [
      "Warning!\n",
      "One or more Z-scores have NaN values\n",
      "Review eqi_mean carefully\n",
      "Warning!\n",
      "One or more Z-scores have NaN values\n",
      "Review eqi_mean carefully\n"
     ]
    },
    {
     "name": "stderr",
     "output_type": "stream",
     "text": [
      "/home/araz/Documents/GitHub/art-eqi-p300-validation/Functions/eeg_quality_index.py:83: RuntimeWarning: divide by zero encountered in divide\n",
      "  z_scores = np.floor(np.abs((eqi_test-mean_eqi_clean)/std_eqi_clean)) # Calculate z-scores\n",
      "/home/araz/Documents/GitHub/art-eqi-p300-validation/Functions/eeg_quality_index.py:83: RuntimeWarning: invalid value encountered in divide\n",
      "  z_scores = np.floor(np.abs((eqi_test-mean_eqi_clean)/std_eqi_clean)) # Calculate z-scores\n"
     ]
    },
    {
     "name": "stdout",
     "output_type": "stream",
     "text": [
      "Warning!\n",
      "One or more Z-scores have NaN values\n",
      "Review eqi_mean carefully\n"
     ]
    },
    {
     "name": "stderr",
     "output_type": "stream",
     "text": [
      "/home/araz/Documents/GitHub/art-eqi-p300-validation/Functions/eeg_quality_index.py:83: RuntimeWarning: divide by zero encountered in divide\n",
      "  z_scores = np.floor(np.abs((eqi_test-mean_eqi_clean)/std_eqi_clean)) # Calculate z-scores\n",
      "/home/araz/Documents/GitHub/art-eqi-p300-validation/Functions/eeg_quality_index.py:83: RuntimeWarning: invalid value encountered in divide\n",
      "  z_scores = np.floor(np.abs((eqi_test-mean_eqi_clean)/std_eqi_clean)) # Calculate z-scores\n",
      "/home/araz/Documents/GitHub/art-eqi-p300-validation/Functions/eeg_quality_index.py:83: RuntimeWarning: divide by zero encountered in divide\n",
      "  z_scores = np.floor(np.abs((eqi_test-mean_eqi_clean)/std_eqi_clean)) # Calculate z-scores\n",
      "/home/araz/Documents/GitHub/art-eqi-p300-validation/Functions/eeg_quality_index.py:83: RuntimeWarning: invalid value encountered in divide\n",
      "  z_scores = np.floor(np.abs((eqi_test-mean_eqi_clean)/std_eqi_clean)) # Calculate z-scores\n"
     ]
    },
    {
     "name": "stdout",
     "output_type": "stream",
     "text": [
      "Warning!\n",
      "One or more Z-scores have NaN values\n",
      "Review eqi_mean carefully\n",
      "Warning!\n",
      "One or more Z-scores have NaN values\n",
      "Review eqi_mean carefully\n"
     ]
    },
    {
     "name": "stderr",
     "output_type": "stream",
     "text": [
      "/home/araz/Documents/GitHub/art-eqi-p300-validation/Functions/eeg_quality_index.py:83: RuntimeWarning: divide by zero encountered in divide\n",
      "  z_scores = np.floor(np.abs((eqi_test-mean_eqi_clean)/std_eqi_clean)) # Calculate z-scores\n",
      "/home/araz/Documents/GitHub/art-eqi-p300-validation/Functions/eeg_quality_index.py:83: RuntimeWarning: invalid value encountered in divide\n",
      "  z_scores = np.floor(np.abs((eqi_test-mean_eqi_clean)/std_eqi_clean)) # Calculate z-scores\n",
      "/home/araz/Documents/GitHub/art-eqi-p300-validation/Functions/eeg_quality_index.py:83: RuntimeWarning: divide by zero encountered in divide\n",
      "  z_scores = np.floor(np.abs((eqi_test-mean_eqi_clean)/std_eqi_clean)) # Calculate z-scores\n",
      "/home/araz/Documents/GitHub/art-eqi-p300-validation/Functions/eeg_quality_index.py:83: RuntimeWarning: invalid value encountered in divide\n",
      "  z_scores = np.floor(np.abs((eqi_test-mean_eqi_clean)/std_eqi_clean)) # Calculate z-scores\n"
     ]
    },
    {
     "name": "stdout",
     "output_type": "stream",
     "text": [
      "Warning!\n",
      "One or more Z-scores have NaN values\n",
      "Review eqi_mean carefully\n",
      "Warning!\n",
      "One or more Z-scores have NaN values\n",
      "Review eqi_mean carefully\n"
     ]
    },
    {
     "name": "stderr",
     "output_type": "stream",
     "text": [
      "/home/araz/Documents/GitHub/art-eqi-p300-validation/Functions/eeg_quality_index.py:83: RuntimeWarning: divide by zero encountered in divide\n",
      "  z_scores = np.floor(np.abs((eqi_test-mean_eqi_clean)/std_eqi_clean)) # Calculate z-scores\n",
      "/home/araz/Documents/GitHub/art-eqi-p300-validation/Functions/eeg_quality_index.py:83: RuntimeWarning: invalid value encountered in divide\n",
      "  z_scores = np.floor(np.abs((eqi_test-mean_eqi_clean)/std_eqi_clean)) # Calculate z-scores\n"
     ]
    },
    {
     "name": "stdout",
     "output_type": "stream",
     "text": [
      "Warning!\n",
      "One or more Z-scores have NaN values\n",
      "Review eqi_mean carefully\n"
     ]
    },
    {
     "name": "stderr",
     "output_type": "stream",
     "text": [
      "/home/araz/Documents/GitHub/art-eqi-p300-validation/Functions/eeg_quality_index.py:83: RuntimeWarning: divide by zero encountered in divide\n",
      "  z_scores = np.floor(np.abs((eqi_test-mean_eqi_clean)/std_eqi_clean)) # Calculate z-scores\n",
      "/home/araz/Documents/GitHub/art-eqi-p300-validation/Functions/eeg_quality_index.py:83: RuntimeWarning: invalid value encountered in divide\n",
      "  z_scores = np.floor(np.abs((eqi_test-mean_eqi_clean)/std_eqi_clean)) # Calculate z-scores\n"
     ]
    },
    {
     "name": "stdout",
     "output_type": "stream",
     "text": [
      "Warning!\n",
      "One or more Z-scores have NaN values\n",
      "Review eqi_mean carefully\n"
     ]
    },
    {
     "name": "stderr",
     "output_type": "stream",
     "text": [
      "/home/araz/Documents/GitHub/art-eqi-p300-validation/Functions/eeg_quality_index.py:83: RuntimeWarning: divide by zero encountered in divide\n",
      "  z_scores = np.floor(np.abs((eqi_test-mean_eqi_clean)/std_eqi_clean)) # Calculate z-scores\n",
      "/home/araz/Documents/GitHub/art-eqi-p300-validation/Functions/eeg_quality_index.py:83: RuntimeWarning: invalid value encountered in divide\n",
      "  z_scores = np.floor(np.abs((eqi_test-mean_eqi_clean)/std_eqi_clean)) # Calculate z-scores\n",
      "/home/araz/Documents/GitHub/art-eqi-p300-validation/Functions/eeg_quality_index.py:83: RuntimeWarning: divide by zero encountered in divide\n",
      "  z_scores = np.floor(np.abs((eqi_test-mean_eqi_clean)/std_eqi_clean)) # Calculate z-scores\n",
      "/home/araz/Documents/GitHub/art-eqi-p300-validation/Functions/eeg_quality_index.py:83: RuntimeWarning: invalid value encountered in divide\n",
      "  z_scores = np.floor(np.abs((eqi_test-mean_eqi_clean)/std_eqi_clean)) # Calculate z-scores\n"
     ]
    },
    {
     "name": "stdout",
     "output_type": "stream",
     "text": [
      "Warning!\n",
      "One or more Z-scores have NaN values\n",
      "Review eqi_mean carefully\n",
      "Warning!\n",
      "One or more Z-scores have NaN values\n",
      "Review eqi_mean carefully\n"
     ]
    },
    {
     "name": "stderr",
     "output_type": "stream",
     "text": [
      "/home/araz/Documents/GitHub/art-eqi-p300-validation/Functions/eeg_quality_index.py:83: RuntimeWarning: divide by zero encountered in divide\n",
      "  z_scores = np.floor(np.abs((eqi_test-mean_eqi_clean)/std_eqi_clean)) # Calculate z-scores\n",
      "/home/araz/Documents/GitHub/art-eqi-p300-validation/Functions/eeg_quality_index.py:83: RuntimeWarning: invalid value encountered in divide\n",
      "  z_scores = np.floor(np.abs((eqi_test-mean_eqi_clean)/std_eqi_clean)) # Calculate z-scores\n",
      "/home/araz/Documents/GitHub/art-eqi-p300-validation/Functions/eeg_quality_index.py:83: RuntimeWarning: divide by zero encountered in divide\n",
      "  z_scores = np.floor(np.abs((eqi_test-mean_eqi_clean)/std_eqi_clean)) # Calculate z-scores\n",
      "/home/araz/Documents/GitHub/art-eqi-p300-validation/Functions/eeg_quality_index.py:83: RuntimeWarning: invalid value encountered in divide\n",
      "  z_scores = np.floor(np.abs((eqi_test-mean_eqi_clean)/std_eqi_clean)) # Calculate z-scores\n"
     ]
    },
    {
     "name": "stdout",
     "output_type": "stream",
     "text": [
      "Warning!\n",
      "One or more Z-scores have NaN values\n",
      "Review eqi_mean carefully\n",
      "Warning!\n",
      "One or more Z-scores have NaN values\n",
      "Review eqi_mean carefully\n"
     ]
    },
    {
     "name": "stderr",
     "output_type": "stream",
     "text": [
      "/home/araz/Documents/GitHub/art-eqi-p300-validation/Functions/eeg_quality_index.py:83: RuntimeWarning: divide by zero encountered in divide\n",
      "  z_scores = np.floor(np.abs((eqi_test-mean_eqi_clean)/std_eqi_clean)) # Calculate z-scores\n",
      "/home/araz/Documents/GitHub/art-eqi-p300-validation/Functions/eeg_quality_index.py:83: RuntimeWarning: invalid value encountered in divide\n",
      "  z_scores = np.floor(np.abs((eqi_test-mean_eqi_clean)/std_eqi_clean)) # Calculate z-scores\n",
      "/home/araz/Documents/GitHub/art-eqi-p300-validation/Functions/eeg_quality_index.py:83: RuntimeWarning: divide by zero encountered in divide\n",
      "  z_scores = np.floor(np.abs((eqi_test-mean_eqi_clean)/std_eqi_clean)) # Calculate z-scores\n",
      "/home/araz/Documents/GitHub/art-eqi-p300-validation/Functions/eeg_quality_index.py:83: RuntimeWarning: invalid value encountered in divide\n",
      "  z_scores = np.floor(np.abs((eqi_test-mean_eqi_clean)/std_eqi_clean)) # Calculate z-scores\n"
     ]
    },
    {
     "name": "stdout",
     "output_type": "stream",
     "text": [
      "Warning!\n",
      "One or more Z-scores have NaN values\n",
      "Review eqi_mean carefully\n",
      "Warning!\n",
      "One or more Z-scores have NaN values\n",
      "Review eqi_mean carefully\n"
     ]
    },
    {
     "name": "stderr",
     "output_type": "stream",
     "text": [
      "/home/araz/Documents/GitHub/art-eqi-p300-validation/Functions/eeg_quality_index.py:83: RuntimeWarning: divide by zero encountered in divide\n",
      "  z_scores = np.floor(np.abs((eqi_test-mean_eqi_clean)/std_eqi_clean)) # Calculate z-scores\n",
      "/home/araz/Documents/GitHub/art-eqi-p300-validation/Functions/eeg_quality_index.py:83: RuntimeWarning: invalid value encountered in divide\n",
      "  z_scores = np.floor(np.abs((eqi_test-mean_eqi_clean)/std_eqi_clean)) # Calculate z-scores\n",
      "/home/araz/Documents/GitHub/art-eqi-p300-validation/Functions/eeg_quality_index.py:83: RuntimeWarning: divide by zero encountered in divide\n",
      "  z_scores = np.floor(np.abs((eqi_test-mean_eqi_clean)/std_eqi_clean)) # Calculate z-scores\n",
      "/home/araz/Documents/GitHub/art-eqi-p300-validation/Functions/eeg_quality_index.py:83: RuntimeWarning: invalid value encountered in divide\n",
      "  z_scores = np.floor(np.abs((eqi_test-mean_eqi_clean)/std_eqi_clean)) # Calculate z-scores\n",
      "/home/araz/Documents/GitHub/art-eqi-p300-validation/Functions/eeg_quality_index.py:83: RuntimeWarning: divide by zero encountered in divide\n",
      "  z_scores = np.floor(np.abs((eqi_test-mean_eqi_clean)/std_eqi_clean)) # Calculate z-scores\n",
      "/home/araz/Documents/GitHub/art-eqi-p300-validation/Functions/eeg_quality_index.py:83: RuntimeWarning: invalid value encountered in divide\n",
      "  z_scores = np.floor(np.abs((eqi_test-mean_eqi_clean)/std_eqi_clean)) # Calculate z-scores\n"
     ]
    },
    {
     "name": "stdout",
     "output_type": "stream",
     "text": [
      "Warning!\n",
      "One or more Z-scores have NaN values\n",
      "Review eqi_mean carefully\n",
      "Warning!\n",
      "One or more Z-scores have NaN values\n",
      "Review eqi_mean carefully\n",
      "Warning!\n",
      "One or more Z-scores have NaN values\n",
      "Review eqi_mean carefully\n"
     ]
    },
    {
     "name": "stderr",
     "output_type": "stream",
     "text": [
      "/home/araz/Documents/GitHub/art-eqi-p300-validation/Functions/eeg_quality_index.py:83: RuntimeWarning: divide by zero encountered in divide\n",
      "  z_scores = np.floor(np.abs((eqi_test-mean_eqi_clean)/std_eqi_clean)) # Calculate z-scores\n",
      "/home/araz/Documents/GitHub/art-eqi-p300-validation/Functions/eeg_quality_index.py:83: RuntimeWarning: invalid value encountered in divide\n",
      "  z_scores = np.floor(np.abs((eqi_test-mean_eqi_clean)/std_eqi_clean)) # Calculate z-scores\n",
      "/home/araz/Documents/GitHub/art-eqi-p300-validation/Functions/eeg_quality_index.py:83: RuntimeWarning: divide by zero encountered in divide\n",
      "  z_scores = np.floor(np.abs((eqi_test-mean_eqi_clean)/std_eqi_clean)) # Calculate z-scores\n",
      "/home/araz/Documents/GitHub/art-eqi-p300-validation/Functions/eeg_quality_index.py:83: RuntimeWarning: invalid value encountered in divide\n",
      "  z_scores = np.floor(np.abs((eqi_test-mean_eqi_clean)/std_eqi_clean)) # Calculate z-scores\n"
     ]
    },
    {
     "name": "stdout",
     "output_type": "stream",
     "text": [
      "Warning!\n",
      "One or more Z-scores have NaN values\n",
      "Review eqi_mean carefully\n",
      "Warning!\n",
      "One or more Z-scores have NaN values\n",
      "Review eqi_mean carefully\n"
     ]
    },
    {
     "name": "stderr",
     "output_type": "stream",
     "text": [
      "/home/araz/Documents/GitHub/art-eqi-p300-validation/Functions/eeg_quality_index.py:83: RuntimeWarning: divide by zero encountered in divide\n",
      "  z_scores = np.floor(np.abs((eqi_test-mean_eqi_clean)/std_eqi_clean)) # Calculate z-scores\n",
      "/home/araz/Documents/GitHub/art-eqi-p300-validation/Functions/eeg_quality_index.py:83: RuntimeWarning: invalid value encountered in divide\n",
      "  z_scores = np.floor(np.abs((eqi_test-mean_eqi_clean)/std_eqi_clean)) # Calculate z-scores\n",
      "/home/araz/Documents/GitHub/art-eqi-p300-validation/Functions/eeg_quality_index.py:83: RuntimeWarning: divide by zero encountered in divide\n",
      "  z_scores = np.floor(np.abs((eqi_test-mean_eqi_clean)/std_eqi_clean)) # Calculate z-scores\n",
      "/home/araz/Documents/GitHub/art-eqi-p300-validation/Functions/eeg_quality_index.py:83: RuntimeWarning: invalid value encountered in divide\n",
      "  z_scores = np.floor(np.abs((eqi_test-mean_eqi_clean)/std_eqi_clean)) # Calculate z-scores\n"
     ]
    },
    {
     "name": "stdout",
     "output_type": "stream",
     "text": [
      "Warning!\n",
      "One or more Z-scores have NaN values\n",
      "Review eqi_mean carefully\n",
      "Warning!\n",
      "One or more Z-scores have NaN values\n",
      "Review eqi_mean carefully\n"
     ]
    },
    {
     "name": "stderr",
     "output_type": "stream",
     "text": [
      "/home/araz/Documents/GitHub/art-eqi-p300-validation/Functions/eeg_quality_index.py:83: RuntimeWarning: divide by zero encountered in divide\n",
      "  z_scores = np.floor(np.abs((eqi_test-mean_eqi_clean)/std_eqi_clean)) # Calculate z-scores\n",
      "/home/araz/Documents/GitHub/art-eqi-p300-validation/Functions/eeg_quality_index.py:83: RuntimeWarning: invalid value encountered in divide\n",
      "  z_scores = np.floor(np.abs((eqi_test-mean_eqi_clean)/std_eqi_clean)) # Calculate z-scores\n"
     ]
    },
    {
     "name": "stdout",
     "output_type": "stream",
     "text": [
      "Warning!\n",
      "One or more Z-scores have NaN values\n",
      "Review eqi_mean carefully\n"
     ]
    },
    {
     "name": "stderr",
     "output_type": "stream",
     "text": [
      "/home/araz/Documents/GitHub/art-eqi-p300-validation/Functions/eeg_quality_index.py:83: RuntimeWarning: divide by zero encountered in divide\n",
      "  z_scores = np.floor(np.abs((eqi_test-mean_eqi_clean)/std_eqi_clean)) # Calculate z-scores\n",
      "/home/araz/Documents/GitHub/art-eqi-p300-validation/Functions/eeg_quality_index.py:83: RuntimeWarning: invalid value encountered in divide\n",
      "  z_scores = np.floor(np.abs((eqi_test-mean_eqi_clean)/std_eqi_clean)) # Calculate z-scores\n",
      "/home/araz/Documents/GitHub/art-eqi-p300-validation/Functions/eeg_quality_index.py:83: RuntimeWarning: divide by zero encountered in divide\n",
      "  z_scores = np.floor(np.abs((eqi_test-mean_eqi_clean)/std_eqi_clean)) # Calculate z-scores\n",
      "/home/araz/Documents/GitHub/art-eqi-p300-validation/Functions/eeg_quality_index.py:83: RuntimeWarning: invalid value encountered in divide\n",
      "  z_scores = np.floor(np.abs((eqi_test-mean_eqi_clean)/std_eqi_clean)) # Calculate z-scores\n"
     ]
    },
    {
     "name": "stdout",
     "output_type": "stream",
     "text": [
      "Warning!\n",
      "One or more Z-scores have NaN values\n",
      "Review eqi_mean carefully\n",
      "Warning!\n",
      "One or more Z-scores have NaN values\n",
      "Review eqi_mean carefully\n"
     ]
    },
    {
     "name": "stderr",
     "output_type": "stream",
     "text": [
      "/home/araz/Documents/GitHub/art-eqi-p300-validation/Functions/eeg_quality_index.py:83: RuntimeWarning: divide by zero encountered in divide\n",
      "  z_scores = np.floor(np.abs((eqi_test-mean_eqi_clean)/std_eqi_clean)) # Calculate z-scores\n",
      "/home/araz/Documents/GitHub/art-eqi-p300-validation/Functions/eeg_quality_index.py:83: RuntimeWarning: invalid value encountered in divide\n",
      "  z_scores = np.floor(np.abs((eqi_test-mean_eqi_clean)/std_eqi_clean)) # Calculate z-scores\n",
      "/home/araz/Documents/GitHub/art-eqi-p300-validation/Functions/eeg_quality_index.py:83: RuntimeWarning: divide by zero encountered in divide\n",
      "  z_scores = np.floor(np.abs((eqi_test-mean_eqi_clean)/std_eqi_clean)) # Calculate z-scores\n",
      "/home/araz/Documents/GitHub/art-eqi-p300-validation/Functions/eeg_quality_index.py:83: RuntimeWarning: invalid value encountered in divide\n",
      "  z_scores = np.floor(np.abs((eqi_test-mean_eqi_clean)/std_eqi_clean)) # Calculate z-scores\n"
     ]
    },
    {
     "name": "stdout",
     "output_type": "stream",
     "text": [
      "Warning!\n",
      "One or more Z-scores have NaN values\n",
      "Review eqi_mean carefully\n",
      "Warning!\n",
      "One or more Z-scores have NaN values\n",
      "Review eqi_mean carefully\n"
     ]
    },
    {
     "name": "stderr",
     "output_type": "stream",
     "text": [
      "/home/araz/Documents/GitHub/art-eqi-p300-validation/Functions/eeg_quality_index.py:83: RuntimeWarning: divide by zero encountered in divide\n",
      "  z_scores = np.floor(np.abs((eqi_test-mean_eqi_clean)/std_eqi_clean)) # Calculate z-scores\n",
      "/home/araz/Documents/GitHub/art-eqi-p300-validation/Functions/eeg_quality_index.py:83: RuntimeWarning: invalid value encountered in divide\n",
      "  z_scores = np.floor(np.abs((eqi_test-mean_eqi_clean)/std_eqi_clean)) # Calculate z-scores\n",
      "/home/araz/Documents/GitHub/art-eqi-p300-validation/Functions/eeg_quality_index.py:83: RuntimeWarning: divide by zero encountered in divide\n",
      "  z_scores = np.floor(np.abs((eqi_test-mean_eqi_clean)/std_eqi_clean)) # Calculate z-scores\n",
      "/home/araz/Documents/GitHub/art-eqi-p300-validation/Functions/eeg_quality_index.py:83: RuntimeWarning: invalid value encountered in divide\n",
      "  z_scores = np.floor(np.abs((eqi_test-mean_eqi_clean)/std_eqi_clean)) # Calculate z-scores\n"
     ]
    },
    {
     "name": "stdout",
     "output_type": "stream",
     "text": [
      "Warning!\n",
      "One or more Z-scores have NaN values\n",
      "Review eqi_mean carefully\n",
      "Warning!\n",
      "One or more Z-scores have NaN values\n",
      "Review eqi_mean carefully\n"
     ]
    },
    {
     "name": "stderr",
     "output_type": "stream",
     "text": [
      "/home/araz/Documents/GitHub/art-eqi-p300-validation/Functions/eeg_quality_index.py:83: RuntimeWarning: divide by zero encountered in divide\n",
      "  z_scores = np.floor(np.abs((eqi_test-mean_eqi_clean)/std_eqi_clean)) # Calculate z-scores\n",
      "/home/araz/Documents/GitHub/art-eqi-p300-validation/Functions/eeg_quality_index.py:83: RuntimeWarning: invalid value encountered in divide\n",
      "  z_scores = np.floor(np.abs((eqi_test-mean_eqi_clean)/std_eqi_clean)) # Calculate z-scores\n",
      "/home/araz/Documents/GitHub/art-eqi-p300-validation/Functions/eeg_quality_index.py:83: RuntimeWarning: divide by zero encountered in divide\n",
      "  z_scores = np.floor(np.abs((eqi_test-mean_eqi_clean)/std_eqi_clean)) # Calculate z-scores\n",
      "/home/araz/Documents/GitHub/art-eqi-p300-validation/Functions/eeg_quality_index.py:83: RuntimeWarning: invalid value encountered in divide\n",
      "  z_scores = np.floor(np.abs((eqi_test-mean_eqi_clean)/std_eqi_clean)) # Calculate z-scores\n",
      "/home/araz/Documents/GitHub/art-eqi-p300-validation/Functions/eeg_quality_index.py:83: RuntimeWarning: divide by zero encountered in divide\n",
      "  z_scores = np.floor(np.abs((eqi_test-mean_eqi_clean)/std_eqi_clean)) # Calculate z-scores\n",
      "/home/araz/Documents/GitHub/art-eqi-p300-validation/Functions/eeg_quality_index.py:83: RuntimeWarning: invalid value encountered in divide\n",
      "  z_scores = np.floor(np.abs((eqi_test-mean_eqi_clean)/std_eqi_clean)) # Calculate z-scores\n"
     ]
    },
    {
     "name": "stdout",
     "output_type": "stream",
     "text": [
      "Warning!\n",
      "One or more Z-scores have NaN values\n",
      "Review eqi_mean carefully\n",
      "Warning!\n",
      "One or more Z-scores have NaN values\n",
      "Review eqi_mean carefully\n",
      "Warning!\n",
      "One or more Z-scores have NaN values\n",
      "Review eqi_mean carefully\n"
     ]
    },
    {
     "name": "stderr",
     "output_type": "stream",
     "text": [
      "/home/araz/Documents/GitHub/art-eqi-p300-validation/Functions/eeg_quality_index.py:83: RuntimeWarning: divide by zero encountered in divide\n",
      "  z_scores = np.floor(np.abs((eqi_test-mean_eqi_clean)/std_eqi_clean)) # Calculate z-scores\n",
      "/home/araz/Documents/GitHub/art-eqi-p300-validation/Functions/eeg_quality_index.py:83: RuntimeWarning: invalid value encountered in divide\n",
      "  z_scores = np.floor(np.abs((eqi_test-mean_eqi_clean)/std_eqi_clean)) # Calculate z-scores\n",
      "/home/araz/Documents/GitHub/art-eqi-p300-validation/Functions/eeg_quality_index.py:83: RuntimeWarning: divide by zero encountered in divide\n",
      "  z_scores = np.floor(np.abs((eqi_test-mean_eqi_clean)/std_eqi_clean)) # Calculate z-scores\n",
      "/home/araz/Documents/GitHub/art-eqi-p300-validation/Functions/eeg_quality_index.py:83: RuntimeWarning: invalid value encountered in divide\n",
      "  z_scores = np.floor(np.abs((eqi_test-mean_eqi_clean)/std_eqi_clean)) # Calculate z-scores\n",
      "/home/araz/Documents/GitHub/art-eqi-p300-validation/Functions/eeg_quality_index.py:83: RuntimeWarning: divide by zero encountered in divide\n",
      "  z_scores = np.floor(np.abs((eqi_test-mean_eqi_clean)/std_eqi_clean)) # Calculate z-scores\n",
      "/home/araz/Documents/GitHub/art-eqi-p300-validation/Functions/eeg_quality_index.py:83: RuntimeWarning: invalid value encountered in divide\n",
      "  z_scores = np.floor(np.abs((eqi_test-mean_eqi_clean)/std_eqi_clean)) # Calculate z-scores\n"
     ]
    },
    {
     "name": "stdout",
     "output_type": "stream",
     "text": [
      "Warning!\n",
      "One or more Z-scores have NaN values\n",
      "Review eqi_mean carefully\n",
      "Warning!\n",
      "One or more Z-scores have NaN values\n",
      "Review eqi_mean carefully\n",
      "Warning!\n",
      "One or more Z-scores have NaN values\n",
      "Review eqi_mean carefully\n"
     ]
    },
    {
     "name": "stderr",
     "output_type": "stream",
     "text": [
      "/home/araz/Documents/GitHub/art-eqi-p300-validation/Functions/eeg_quality_index.py:83: RuntimeWarning: divide by zero encountered in divide\n",
      "  z_scores = np.floor(np.abs((eqi_test-mean_eqi_clean)/std_eqi_clean)) # Calculate z-scores\n",
      "/home/araz/Documents/GitHub/art-eqi-p300-validation/Functions/eeg_quality_index.py:83: RuntimeWarning: invalid value encountered in divide\n",
      "  z_scores = np.floor(np.abs((eqi_test-mean_eqi_clean)/std_eqi_clean)) # Calculate z-scores\n",
      "/home/araz/Documents/GitHub/art-eqi-p300-validation/Functions/eeg_quality_index.py:83: RuntimeWarning: divide by zero encountered in divide\n",
      "  z_scores = np.floor(np.abs((eqi_test-mean_eqi_clean)/std_eqi_clean)) # Calculate z-scores\n",
      "/home/araz/Documents/GitHub/art-eqi-p300-validation/Functions/eeg_quality_index.py:83: RuntimeWarning: invalid value encountered in divide\n",
      "  z_scores = np.floor(np.abs((eqi_test-mean_eqi_clean)/std_eqi_clean)) # Calculate z-scores\n"
     ]
    },
    {
     "name": "stdout",
     "output_type": "stream",
     "text": [
      "Warning!\n",
      "One or more Z-scores have NaN values\n",
      "Review eqi_mean carefully\n",
      "Warning!\n",
      "One or more Z-scores have NaN values\n",
      "Review eqi_mean carefully\n"
     ]
    },
    {
     "name": "stderr",
     "output_type": "stream",
     "text": [
      "/home/araz/Documents/GitHub/art-eqi-p300-validation/Functions/eeg_quality_index.py:83: RuntimeWarning: divide by zero encountered in divide\n",
      "  z_scores = np.floor(np.abs((eqi_test-mean_eqi_clean)/std_eqi_clean)) # Calculate z-scores\n",
      "/home/araz/Documents/GitHub/art-eqi-p300-validation/Functions/eeg_quality_index.py:83: RuntimeWarning: invalid value encountered in divide\n",
      "  z_scores = np.floor(np.abs((eqi_test-mean_eqi_clean)/std_eqi_clean)) # Calculate z-scores\n",
      "/home/araz/Documents/GitHub/art-eqi-p300-validation/Functions/eeg_quality_index.py:83: RuntimeWarning: divide by zero encountered in divide\n",
      "  z_scores = np.floor(np.abs((eqi_test-mean_eqi_clean)/std_eqi_clean)) # Calculate z-scores\n",
      "/home/araz/Documents/GitHub/art-eqi-p300-validation/Functions/eeg_quality_index.py:83: RuntimeWarning: invalid value encountered in divide\n",
      "  z_scores = np.floor(np.abs((eqi_test-mean_eqi_clean)/std_eqi_clean)) # Calculate z-scores\n"
     ]
    },
    {
     "name": "stdout",
     "output_type": "stream",
     "text": [
      "Warning!\n",
      "One or more Z-scores have NaN values\n",
      "Review eqi_mean carefully\n",
      "Warning!\n",
      "One or more Z-scores have NaN values\n",
      "Review eqi_mean carefully\n"
     ]
    },
    {
     "name": "stderr",
     "output_type": "stream",
     "text": [
      "/home/araz/Documents/GitHub/art-eqi-p300-validation/Functions/eeg_quality_index.py:83: RuntimeWarning: divide by zero encountered in divide\n",
      "  z_scores = np.floor(np.abs((eqi_test-mean_eqi_clean)/std_eqi_clean)) # Calculate z-scores\n",
      "/home/araz/Documents/GitHub/art-eqi-p300-validation/Functions/eeg_quality_index.py:83: RuntimeWarning: invalid value encountered in divide\n",
      "  z_scores = np.floor(np.abs((eqi_test-mean_eqi_clean)/std_eqi_clean)) # Calculate z-scores\n",
      "/home/araz/Documents/GitHub/art-eqi-p300-validation/Functions/eeg_quality_index.py:83: RuntimeWarning: divide by zero encountered in divide\n",
      "  z_scores = np.floor(np.abs((eqi_test-mean_eqi_clean)/std_eqi_clean)) # Calculate z-scores\n",
      "/home/araz/Documents/GitHub/art-eqi-p300-validation/Functions/eeg_quality_index.py:83: RuntimeWarning: invalid value encountered in divide\n",
      "  z_scores = np.floor(np.abs((eqi_test-mean_eqi_clean)/std_eqi_clean)) # Calculate z-scores\n"
     ]
    },
    {
     "name": "stdout",
     "output_type": "stream",
     "text": [
      "Warning!\n",
      "One or more Z-scores have NaN values\n",
      "Review eqi_mean carefully\n",
      "Warning!\n",
      "One or more Z-scores have NaN values\n",
      "Review eqi_mean carefully\n"
     ]
    },
    {
     "name": "stderr",
     "output_type": "stream",
     "text": [
      "/home/araz/Documents/GitHub/art-eqi-p300-validation/Functions/eeg_quality_index.py:83: RuntimeWarning: divide by zero encountered in divide\n",
      "  z_scores = np.floor(np.abs((eqi_test-mean_eqi_clean)/std_eqi_clean)) # Calculate z-scores\n",
      "/home/araz/Documents/GitHub/art-eqi-p300-validation/Functions/eeg_quality_index.py:83: RuntimeWarning: invalid value encountered in divide\n",
      "  z_scores = np.floor(np.abs((eqi_test-mean_eqi_clean)/std_eqi_clean)) # Calculate z-scores\n",
      "/home/araz/Documents/GitHub/art-eqi-p300-validation/Functions/eeg_quality_index.py:83: RuntimeWarning: divide by zero encountered in divide\n",
      "  z_scores = np.floor(np.abs((eqi_test-mean_eqi_clean)/std_eqi_clean)) # Calculate z-scores\n",
      "/home/araz/Documents/GitHub/art-eqi-p300-validation/Functions/eeg_quality_index.py:83: RuntimeWarning: invalid value encountered in divide\n",
      "  z_scores = np.floor(np.abs((eqi_test-mean_eqi_clean)/std_eqi_clean)) # Calculate z-scores\n",
      "/home/araz/Documents/GitHub/art-eqi-p300-validation/Functions/eeg_quality_index.py:83: RuntimeWarning: divide by zero encountered in divide\n",
      "  z_scores = np.floor(np.abs((eqi_test-mean_eqi_clean)/std_eqi_clean)) # Calculate z-scores\n",
      "/home/araz/Documents/GitHub/art-eqi-p300-validation/Functions/eeg_quality_index.py:83: RuntimeWarning: invalid value encountered in divide\n",
      "  z_scores = np.floor(np.abs((eqi_test-mean_eqi_clean)/std_eqi_clean)) # Calculate z-scores\n"
     ]
    },
    {
     "name": "stdout",
     "output_type": "stream",
     "text": [
      "Warning!\n",
      "One or more Z-scores have NaN values\n",
      "Review eqi_mean carefully\n",
      "Warning!\n",
      "One or more Z-scores have NaN values\n",
      "Review eqi_mean carefully\n",
      "Warning!\n",
      "One or more Z-scores have NaN values\n",
      "Review eqi_mean carefully\n"
     ]
    },
    {
     "name": "stderr",
     "output_type": "stream",
     "text": [
      "/home/araz/Documents/GitHub/art-eqi-p300-validation/Functions/eeg_quality_index.py:83: RuntimeWarning: divide by zero encountered in divide\n",
      "  z_scores = np.floor(np.abs((eqi_test-mean_eqi_clean)/std_eqi_clean)) # Calculate z-scores\n",
      "/home/araz/Documents/GitHub/art-eqi-p300-validation/Functions/eeg_quality_index.py:83: RuntimeWarning: invalid value encountered in divide\n",
      "  z_scores = np.floor(np.abs((eqi_test-mean_eqi_clean)/std_eqi_clean)) # Calculate z-scores\n",
      "/home/araz/Documents/GitHub/art-eqi-p300-validation/Functions/eeg_quality_index.py:83: RuntimeWarning: divide by zero encountered in divide\n",
      "  z_scores = np.floor(np.abs((eqi_test-mean_eqi_clean)/std_eqi_clean)) # Calculate z-scores\n",
      "/home/araz/Documents/GitHub/art-eqi-p300-validation/Functions/eeg_quality_index.py:83: RuntimeWarning: invalid value encountered in divide\n",
      "  z_scores = np.floor(np.abs((eqi_test-mean_eqi_clean)/std_eqi_clean)) # Calculate z-scores\n",
      "/home/araz/Documents/GitHub/art-eqi-p300-validation/Functions/eeg_quality_index.py:83: RuntimeWarning: divide by zero encountered in divide\n",
      "  z_scores = np.floor(np.abs((eqi_test-mean_eqi_clean)/std_eqi_clean)) # Calculate z-scores\n",
      "/home/araz/Documents/GitHub/art-eqi-p300-validation/Functions/eeg_quality_index.py:83: RuntimeWarning: invalid value encountered in divide\n",
      "  z_scores = np.floor(np.abs((eqi_test-mean_eqi_clean)/std_eqi_clean)) # Calculate z-scores\n"
     ]
    },
    {
     "name": "stdout",
     "output_type": "stream",
     "text": [
      "Warning!\n",
      "One or more Z-scores have NaN values\n",
      "Review eqi_mean carefully\n",
      "Warning!\n",
      "One or more Z-scores have NaN values\n",
      "Review eqi_mean carefully\n",
      "Warning!\n",
      "One or more Z-scores have NaN values\n",
      "Review eqi_mean carefully\n"
     ]
    },
    {
     "name": "stderr",
     "output_type": "stream",
     "text": [
      "/home/araz/Documents/GitHub/art-eqi-p300-validation/Functions/eeg_quality_index.py:83: RuntimeWarning: divide by zero encountered in divide\n",
      "  z_scores = np.floor(np.abs((eqi_test-mean_eqi_clean)/std_eqi_clean)) # Calculate z-scores\n",
      "/home/araz/Documents/GitHub/art-eqi-p300-validation/Functions/eeg_quality_index.py:83: RuntimeWarning: invalid value encountered in divide\n",
      "  z_scores = np.floor(np.abs((eqi_test-mean_eqi_clean)/std_eqi_clean)) # Calculate z-scores\n",
      "/home/araz/Documents/GitHub/art-eqi-p300-validation/Functions/eeg_quality_index.py:83: RuntimeWarning: divide by zero encountered in divide\n",
      "  z_scores = np.floor(np.abs((eqi_test-mean_eqi_clean)/std_eqi_clean)) # Calculate z-scores\n",
      "/home/araz/Documents/GitHub/art-eqi-p300-validation/Functions/eeg_quality_index.py:83: RuntimeWarning: invalid value encountered in divide\n",
      "  z_scores = np.floor(np.abs((eqi_test-mean_eqi_clean)/std_eqi_clean)) # Calculate z-scores\n"
     ]
    },
    {
     "name": "stdout",
     "output_type": "stream",
     "text": [
      "Warning!\n",
      "One or more Z-scores have NaN values\n",
      "Review eqi_mean carefully\n",
      "Warning!\n",
      "One or more Z-scores have NaN values\n",
      "Review eqi_mean carefully\n"
     ]
    },
    {
     "name": "stderr",
     "output_type": "stream",
     "text": [
      "/home/araz/Documents/GitHub/art-eqi-p300-validation/Functions/eeg_quality_index.py:83: RuntimeWarning: divide by zero encountered in divide\n",
      "  z_scores = np.floor(np.abs((eqi_test-mean_eqi_clean)/std_eqi_clean)) # Calculate z-scores\n",
      "/home/araz/Documents/GitHub/art-eqi-p300-validation/Functions/eeg_quality_index.py:83: RuntimeWarning: invalid value encountered in divide\n",
      "  z_scores = np.floor(np.abs((eqi_test-mean_eqi_clean)/std_eqi_clean)) # Calculate z-scores\n",
      "/home/araz/Documents/GitHub/art-eqi-p300-validation/Functions/eeg_quality_index.py:83: RuntimeWarning: divide by zero encountered in divide\n",
      "  z_scores = np.floor(np.abs((eqi_test-mean_eqi_clean)/std_eqi_clean)) # Calculate z-scores\n",
      "/home/araz/Documents/GitHub/art-eqi-p300-validation/Functions/eeg_quality_index.py:83: RuntimeWarning: invalid value encountered in divide\n",
      "  z_scores = np.floor(np.abs((eqi_test-mean_eqi_clean)/std_eqi_clean)) # Calculate z-scores\n"
     ]
    },
    {
     "name": "stdout",
     "output_type": "stream",
     "text": [
      "Warning!\n",
      "One or more Z-scores have NaN values\n",
      "Review eqi_mean carefully\n",
      "Warning!\n",
      "One or more Z-scores have NaN values\n",
      "Review eqi_mean carefully\n"
     ]
    },
    {
     "name": "stderr",
     "output_type": "stream",
     "text": [
      "/home/araz/Documents/GitHub/art-eqi-p300-validation/Functions/eeg_quality_index.py:83: RuntimeWarning: divide by zero encountered in divide\n",
      "  z_scores = np.floor(np.abs((eqi_test-mean_eqi_clean)/std_eqi_clean)) # Calculate z-scores\n",
      "/home/araz/Documents/GitHub/art-eqi-p300-validation/Functions/eeg_quality_index.py:83: RuntimeWarning: divide by zero encountered in divide\n",
      "  z_scores = np.floor(np.abs((eqi_test-mean_eqi_clean)/std_eqi_clean)) # Calculate z-scores\n",
      "/home/araz/Documents/GitHub/art-eqi-p300-validation/Functions/eeg_quality_index.py:83: RuntimeWarning: invalid value encountered in divide\n",
      "  z_scores = np.floor(np.abs((eqi_test-mean_eqi_clean)/std_eqi_clean)) # Calculate z-scores\n"
     ]
    },
    {
     "name": "stdout",
     "output_type": "stream",
     "text": [
      "Warning!\n",
      "One or more Z-scores have NaN values\n",
      "Review eqi_mean carefully\n"
     ]
    },
    {
     "name": "stderr",
     "output_type": "stream",
     "text": [
      "/home/araz/Documents/GitHub/art-eqi-p300-validation/Functions/eeg_quality_index.py:83: RuntimeWarning: divide by zero encountered in divide\n",
      "  z_scores = np.floor(np.abs((eqi_test-mean_eqi_clean)/std_eqi_clean)) # Calculate z-scores\n",
      "/home/araz/Documents/GitHub/art-eqi-p300-validation/Functions/eeg_quality_index.py:83: RuntimeWarning: invalid value encountered in divide\n",
      "  z_scores = np.floor(np.abs((eqi_test-mean_eqi_clean)/std_eqi_clean)) # Calculate z-scores\n",
      "/home/araz/Documents/GitHub/art-eqi-p300-validation/Functions/eeg_quality_index.py:83: RuntimeWarning: divide by zero encountered in divide\n",
      "  z_scores = np.floor(np.abs((eqi_test-mean_eqi_clean)/std_eqi_clean)) # Calculate z-scores\n",
      "/home/araz/Documents/GitHub/art-eqi-p300-validation/Functions/eeg_quality_index.py:83: RuntimeWarning: invalid value encountered in divide\n",
      "  z_scores = np.floor(np.abs((eqi_test-mean_eqi_clean)/std_eqi_clean)) # Calculate z-scores\n",
      "/home/araz/Documents/GitHub/art-eqi-p300-validation/Functions/eeg_quality_index.py:83: RuntimeWarning: divide by zero encountered in divide\n",
      "  z_scores = np.floor(np.abs((eqi_test-mean_eqi_clean)/std_eqi_clean)) # Calculate z-scores\n",
      "/home/araz/Documents/GitHub/art-eqi-p300-validation/Functions/eeg_quality_index.py:83: RuntimeWarning: invalid value encountered in divide\n",
      "  z_scores = np.floor(np.abs((eqi_test-mean_eqi_clean)/std_eqi_clean)) # Calculate z-scores\n"
     ]
    },
    {
     "name": "stdout",
     "output_type": "stream",
     "text": [
      "Warning!\n",
      "One or more Z-scores have NaN values\n",
      "Review eqi_mean carefully\n",
      "Warning!\n",
      "One or more Z-scores have NaN values\n",
      "Review eqi_mean carefully\n",
      "Warning!\n",
      "One or more Z-scores have NaN values\n",
      "Review eqi_mean carefully\n"
     ]
    },
    {
     "name": "stderr",
     "output_type": "stream",
     "text": [
      "/home/araz/Documents/GitHub/art-eqi-p300-validation/Functions/eeg_quality_index.py:83: RuntimeWarning: divide by zero encountered in divide\n",
      "  z_scores = np.floor(np.abs((eqi_test-mean_eqi_clean)/std_eqi_clean)) # Calculate z-scores\n",
      "/home/araz/Documents/GitHub/art-eqi-p300-validation/Functions/eeg_quality_index.py:83: RuntimeWarning: invalid value encountered in divide\n",
      "  z_scores = np.floor(np.abs((eqi_test-mean_eqi_clean)/std_eqi_clean)) # Calculate z-scores\n",
      "/home/araz/Documents/GitHub/art-eqi-p300-validation/Functions/eeg_quality_index.py:83: RuntimeWarning: divide by zero encountered in divide\n",
      "  z_scores = np.floor(np.abs((eqi_test-mean_eqi_clean)/std_eqi_clean)) # Calculate z-scores\n",
      "/home/araz/Documents/GitHub/art-eqi-p300-validation/Functions/eeg_quality_index.py:83: RuntimeWarning: invalid value encountered in divide\n",
      "  z_scores = np.floor(np.abs((eqi_test-mean_eqi_clean)/std_eqi_clean)) # Calculate z-scores\n"
     ]
    },
    {
     "name": "stdout",
     "output_type": "stream",
     "text": [
      "Warning!\n",
      "One or more Z-scores have NaN values\n",
      "Review eqi_mean carefully\n",
      "Warning!\n",
      "One or more Z-scores have NaN values\n",
      "Review eqi_mean carefully\n"
     ]
    },
    {
     "name": "stderr",
     "output_type": "stream",
     "text": [
      "/home/araz/Documents/GitHub/art-eqi-p300-validation/Functions/eeg_quality_index.py:83: RuntimeWarning: divide by zero encountered in divide\n",
      "  z_scores = np.floor(np.abs((eqi_test-mean_eqi_clean)/std_eqi_clean)) # Calculate z-scores\n",
      "/home/araz/Documents/GitHub/art-eqi-p300-validation/Functions/eeg_quality_index.py:83: RuntimeWarning: invalid value encountered in divide\n",
      "  z_scores = np.floor(np.abs((eqi_test-mean_eqi_clean)/std_eqi_clean)) # Calculate z-scores\n",
      "/home/araz/Documents/GitHub/art-eqi-p300-validation/Functions/eeg_quality_index.py:83: RuntimeWarning: divide by zero encountered in divide\n",
      "  z_scores = np.floor(np.abs((eqi_test-mean_eqi_clean)/std_eqi_clean)) # Calculate z-scores\n",
      "/home/araz/Documents/GitHub/art-eqi-p300-validation/Functions/eeg_quality_index.py:83: RuntimeWarning: invalid value encountered in divide\n",
      "  z_scores = np.floor(np.abs((eqi_test-mean_eqi_clean)/std_eqi_clean)) # Calculate z-scores\n"
     ]
    },
    {
     "name": "stdout",
     "output_type": "stream",
     "text": [
      "Warning!\n",
      "One or more Z-scores have NaN values\n",
      "Review eqi_mean carefully\n",
      "Warning!\n",
      "One or more Z-scores have NaN values\n",
      "Review eqi_mean carefully\n"
     ]
    },
    {
     "name": "stderr",
     "output_type": "stream",
     "text": [
      "/home/araz/Documents/GitHub/art-eqi-p300-validation/Functions/eeg_quality_index.py:83: RuntimeWarning: divide by zero encountered in divide\n",
      "  z_scores = np.floor(np.abs((eqi_test-mean_eqi_clean)/std_eqi_clean)) # Calculate z-scores\n",
      "/home/araz/Documents/GitHub/art-eqi-p300-validation/Functions/eeg_quality_index.py:83: RuntimeWarning: invalid value encountered in divide\n",
      "  z_scores = np.floor(np.abs((eqi_test-mean_eqi_clean)/std_eqi_clean)) # Calculate z-scores\n",
      "/home/araz/Documents/GitHub/art-eqi-p300-validation/Functions/eeg_quality_index.py:83: RuntimeWarning: divide by zero encountered in divide\n",
      "  z_scores = np.floor(np.abs((eqi_test-mean_eqi_clean)/std_eqi_clean)) # Calculate z-scores\n",
      "/home/araz/Documents/GitHub/art-eqi-p300-validation/Functions/eeg_quality_index.py:83: RuntimeWarning: invalid value encountered in divide\n",
      "  z_scores = np.floor(np.abs((eqi_test-mean_eqi_clean)/std_eqi_clean)) # Calculate z-scores\n"
     ]
    },
    {
     "name": "stdout",
     "output_type": "stream",
     "text": [
      "Warning!\n",
      "One or more Z-scores have NaN values\n",
      "Review eqi_mean carefully\n",
      "Warning!\n",
      "One or more Z-scores have NaN values\n",
      "Review eqi_mean carefully\n"
     ]
    },
    {
     "name": "stderr",
     "output_type": "stream",
     "text": [
      "/home/araz/Documents/GitHub/art-eqi-p300-validation/Functions/eeg_quality_index.py:83: RuntimeWarning: divide by zero encountered in divide\n",
      "  z_scores = np.floor(np.abs((eqi_test-mean_eqi_clean)/std_eqi_clean)) # Calculate z-scores\n",
      "/home/araz/Documents/GitHub/art-eqi-p300-validation/Functions/eeg_quality_index.py:83: RuntimeWarning: invalid value encountered in divide\n",
      "  z_scores = np.floor(np.abs((eqi_test-mean_eqi_clean)/std_eqi_clean)) # Calculate z-scores\n"
     ]
    },
    {
     "name": "stdout",
     "output_type": "stream",
     "text": [
      "Warning!\n",
      "One or more Z-scores have NaN values\n",
      "Review eqi_mean carefully\n"
     ]
    },
    {
     "name": "stderr",
     "output_type": "stream",
     "text": [
      "/home/araz/Documents/GitHub/art-eqi-p300-validation/Functions/eeg_quality_index.py:83: RuntimeWarning: divide by zero encountered in divide\n",
      "  z_scores = np.floor(np.abs((eqi_test-mean_eqi_clean)/std_eqi_clean)) # Calculate z-scores\n",
      "/home/araz/Documents/GitHub/art-eqi-p300-validation/Functions/eeg_quality_index.py:83: RuntimeWarning: invalid value encountered in divide\n",
      "  z_scores = np.floor(np.abs((eqi_test-mean_eqi_clean)/std_eqi_clean)) # Calculate z-scores\n",
      "/home/araz/Documents/GitHub/art-eqi-p300-validation/Functions/eeg_quality_index.py:83: RuntimeWarning: divide by zero encountered in divide\n",
      "  z_scores = np.floor(np.abs((eqi_test-mean_eqi_clean)/std_eqi_clean)) # Calculate z-scores\n",
      "/home/araz/Documents/GitHub/art-eqi-p300-validation/Functions/eeg_quality_index.py:83: RuntimeWarning: invalid value encountered in divide\n",
      "  z_scores = np.floor(np.abs((eqi_test-mean_eqi_clean)/std_eqi_clean)) # Calculate z-scores\n"
     ]
    },
    {
     "name": "stdout",
     "output_type": "stream",
     "text": [
      "Warning!\n",
      "One or more Z-scores have NaN values\n",
      "Review eqi_mean carefully\n",
      "Warning!\n",
      "One or more Z-scores have NaN values\n",
      "Review eqi_mean carefully\n"
     ]
    },
    {
     "name": "stderr",
     "output_type": "stream",
     "text": [
      "/home/araz/Documents/GitHub/art-eqi-p300-validation/Functions/eeg_quality_index.py:83: RuntimeWarning: divide by zero encountered in divide\n",
      "  z_scores = np.floor(np.abs((eqi_test-mean_eqi_clean)/std_eqi_clean)) # Calculate z-scores\n",
      "/home/araz/Documents/GitHub/art-eqi-p300-validation/Functions/eeg_quality_index.py:83: RuntimeWarning: invalid value encountered in divide\n",
      "  z_scores = np.floor(np.abs((eqi_test-mean_eqi_clean)/std_eqi_clean)) # Calculate z-scores\n",
      "/home/araz/Documents/GitHub/art-eqi-p300-validation/Functions/eeg_quality_index.py:83: RuntimeWarning: divide by zero encountered in divide\n",
      "  z_scores = np.floor(np.abs((eqi_test-mean_eqi_clean)/std_eqi_clean)) # Calculate z-scores\n",
      "/home/araz/Documents/GitHub/art-eqi-p300-validation/Functions/eeg_quality_index.py:83: RuntimeWarning: invalid value encountered in divide\n",
      "  z_scores = np.floor(np.abs((eqi_test-mean_eqi_clean)/std_eqi_clean)) # Calculate z-scores\n"
     ]
    },
    {
     "name": "stdout",
     "output_type": "stream",
     "text": [
      "Warning!\n",
      "One or more Z-scores have NaN values\n",
      "Review eqi_mean carefully\n",
      "Warning!\n",
      "One or more Z-scores have NaN values\n",
      "Review eqi_mean carefully\n"
     ]
    },
    {
     "name": "stderr",
     "output_type": "stream",
     "text": [
      "/home/araz/Documents/GitHub/art-eqi-p300-validation/Functions/eeg_quality_index.py:83: RuntimeWarning: divide by zero encountered in divide\n",
      "  z_scores = np.floor(np.abs((eqi_test-mean_eqi_clean)/std_eqi_clean)) # Calculate z-scores\n",
      "/home/araz/Documents/GitHub/art-eqi-p300-validation/Functions/eeg_quality_index.py:83: RuntimeWarning: invalid value encountered in divide\n",
      "  z_scores = np.floor(np.abs((eqi_test-mean_eqi_clean)/std_eqi_clean)) # Calculate z-scores\n",
      "/home/araz/Documents/GitHub/art-eqi-p300-validation/Functions/eeg_quality_index.py:83: RuntimeWarning: divide by zero encountered in divide\n",
      "  z_scores = np.floor(np.abs((eqi_test-mean_eqi_clean)/std_eqi_clean)) # Calculate z-scores\n",
      "/home/araz/Documents/GitHub/art-eqi-p300-validation/Functions/eeg_quality_index.py:83: RuntimeWarning: invalid value encountered in divide\n",
      "  z_scores = np.floor(np.abs((eqi_test-mean_eqi_clean)/std_eqi_clean)) # Calculate z-scores\n"
     ]
    },
    {
     "name": "stdout",
     "output_type": "stream",
     "text": [
      "Warning!\n",
      "One or more Z-scores have NaN values\n",
      "Review eqi_mean carefully\n",
      "Warning!\n",
      "One or more Z-scores have NaN values\n",
      "Review eqi_mean carefully\n"
     ]
    },
    {
     "name": "stderr",
     "output_type": "stream",
     "text": [
      "/home/araz/Documents/GitHub/art-eqi-p300-validation/Functions/eeg_quality_index.py:83: RuntimeWarning: divide by zero encountered in divide\n",
      "  z_scores = np.floor(np.abs((eqi_test-mean_eqi_clean)/std_eqi_clean)) # Calculate z-scores\n",
      "/home/araz/Documents/GitHub/art-eqi-p300-validation/Functions/eeg_quality_index.py:83: RuntimeWarning: invalid value encountered in divide\n",
      "  z_scores = np.floor(np.abs((eqi_test-mean_eqi_clean)/std_eqi_clean)) # Calculate z-scores\n",
      "/home/araz/Documents/GitHub/art-eqi-p300-validation/Functions/eeg_quality_index.py:83: RuntimeWarning: divide by zero encountered in divide\n",
      "  z_scores = np.floor(np.abs((eqi_test-mean_eqi_clean)/std_eqi_clean)) # Calculate z-scores\n",
      "/home/araz/Documents/GitHub/art-eqi-p300-validation/Functions/eeg_quality_index.py:83: RuntimeWarning: invalid value encountered in divide\n",
      "  z_scores = np.floor(np.abs((eqi_test-mean_eqi_clean)/std_eqi_clean)) # Calculate z-scores\n"
     ]
    },
    {
     "name": "stdout",
     "output_type": "stream",
     "text": [
      "Warning!\n",
      "One or more Z-scores have NaN values\n",
      "Review eqi_mean carefully\n",
      "Warning!\n",
      "One or more Z-scores have NaN values\n",
      "Review eqi_mean carefully\n"
     ]
    },
    {
     "name": "stderr",
     "output_type": "stream",
     "text": [
      "/home/araz/Documents/GitHub/art-eqi-p300-validation/Functions/eeg_quality_index.py:83: RuntimeWarning: divide by zero encountered in divide\n",
      "  z_scores = np.floor(np.abs((eqi_test-mean_eqi_clean)/std_eqi_clean)) # Calculate z-scores\n",
      "/home/araz/Documents/GitHub/art-eqi-p300-validation/Functions/eeg_quality_index.py:83: RuntimeWarning: invalid value encountered in divide\n",
      "  z_scores = np.floor(np.abs((eqi_test-mean_eqi_clean)/std_eqi_clean)) # Calculate z-scores\n",
      "/home/araz/Documents/GitHub/art-eqi-p300-validation/Functions/eeg_quality_index.py:83: RuntimeWarning: divide by zero encountered in divide\n",
      "  z_scores = np.floor(np.abs((eqi_test-mean_eqi_clean)/std_eqi_clean)) # Calculate z-scores\n",
      "/home/araz/Documents/GitHub/art-eqi-p300-validation/Functions/eeg_quality_index.py:83: RuntimeWarning: invalid value encountered in divide\n",
      "  z_scores = np.floor(np.abs((eqi_test-mean_eqi_clean)/std_eqi_clean)) # Calculate z-scores\n"
     ]
    },
    {
     "name": "stdout",
     "output_type": "stream",
     "text": [
      "Warning!\n",
      "One or more Z-scores have NaN values\n",
      "Review eqi_mean carefully\n",
      "Warning!\n",
      "One or more Z-scores have NaN values\n",
      "Review eqi_mean carefully\n"
     ]
    },
    {
     "name": "stderr",
     "output_type": "stream",
     "text": [
      "/home/araz/Documents/GitHub/art-eqi-p300-validation/Functions/eeg_quality_index.py:83: RuntimeWarning: divide by zero encountered in divide\n",
      "  z_scores = np.floor(np.abs((eqi_test-mean_eqi_clean)/std_eqi_clean)) # Calculate z-scores\n",
      "/home/araz/Documents/GitHub/art-eqi-p300-validation/Functions/eeg_quality_index.py:83: RuntimeWarning: invalid value encountered in divide\n",
      "  z_scores = np.floor(np.abs((eqi_test-mean_eqi_clean)/std_eqi_clean)) # Calculate z-scores\n",
      "/home/araz/Documents/GitHub/art-eqi-p300-validation/Functions/eeg_quality_index.py:83: RuntimeWarning: divide by zero encountered in divide\n",
      "  z_scores = np.floor(np.abs((eqi_test-mean_eqi_clean)/std_eqi_clean)) # Calculate z-scores\n",
      "/home/araz/Documents/GitHub/art-eqi-p300-validation/Functions/eeg_quality_index.py:83: RuntimeWarning: invalid value encountered in divide\n",
      "  z_scores = np.floor(np.abs((eqi_test-mean_eqi_clean)/std_eqi_clean)) # Calculate z-scores\n"
     ]
    },
    {
     "name": "stdout",
     "output_type": "stream",
     "text": [
      "Warning!\n",
      "One or more Z-scores have NaN values\n",
      "Review eqi_mean carefully\n",
      "Warning!\n",
      "One or more Z-scores have NaN values\n",
      "Review eqi_mean carefully\n"
     ]
    },
    {
     "name": "stderr",
     "output_type": "stream",
     "text": [
      "/home/araz/Documents/GitHub/art-eqi-p300-validation/Functions/eeg_quality_index.py:83: RuntimeWarning: divide by zero encountered in divide\n",
      "  z_scores = np.floor(np.abs((eqi_test-mean_eqi_clean)/std_eqi_clean)) # Calculate z-scores\n",
      "/home/araz/Documents/GitHub/art-eqi-p300-validation/Functions/eeg_quality_index.py:83: RuntimeWarning: invalid value encountered in divide\n",
      "  z_scores = np.floor(np.abs((eqi_test-mean_eqi_clean)/std_eqi_clean)) # Calculate z-scores\n",
      "/home/araz/Documents/GitHub/art-eqi-p300-validation/Functions/eeg_quality_index.py:83: RuntimeWarning: divide by zero encountered in divide\n",
      "  z_scores = np.floor(np.abs((eqi_test-mean_eqi_clean)/std_eqi_clean)) # Calculate z-scores\n",
      "/home/araz/Documents/GitHub/art-eqi-p300-validation/Functions/eeg_quality_index.py:83: RuntimeWarning: invalid value encountered in divide\n",
      "  z_scores = np.floor(np.abs((eqi_test-mean_eqi_clean)/std_eqi_clean)) # Calculate z-scores\n"
     ]
    },
    {
     "name": "stdout",
     "output_type": "stream",
     "text": [
      "Warning!\n",
      "One or more Z-scores have NaN values\n",
      "Review eqi_mean carefully\n",
      "Warning!\n",
      "One or more Z-scores have NaN values\n",
      "Review eqi_mean carefully\n"
     ]
    },
    {
     "name": "stderr",
     "output_type": "stream",
     "text": [
      "/home/araz/Documents/GitHub/art-eqi-p300-validation/Functions/eeg_quality_index.py:83: RuntimeWarning: divide by zero encountered in divide\n",
      "  z_scores = np.floor(np.abs((eqi_test-mean_eqi_clean)/std_eqi_clean)) # Calculate z-scores\n",
      "/home/araz/Documents/GitHub/art-eqi-p300-validation/Functions/eeg_quality_index.py:83: RuntimeWarning: invalid value encountered in divide\n",
      "  z_scores = np.floor(np.abs((eqi_test-mean_eqi_clean)/std_eqi_clean)) # Calculate z-scores\n",
      "/home/araz/Documents/GitHub/art-eqi-p300-validation/Functions/eeg_quality_index.py:83: RuntimeWarning: divide by zero encountered in divide\n",
      "  z_scores = np.floor(np.abs((eqi_test-mean_eqi_clean)/std_eqi_clean)) # Calculate z-scores\n",
      "/home/araz/Documents/GitHub/art-eqi-p300-validation/Functions/eeg_quality_index.py:83: RuntimeWarning: invalid value encountered in divide\n",
      "  z_scores = np.floor(np.abs((eqi_test-mean_eqi_clean)/std_eqi_clean)) # Calculate z-scores\n"
     ]
    },
    {
     "name": "stdout",
     "output_type": "stream",
     "text": [
      "Warning!\n",
      "One or more Z-scores have NaN values\n",
      "Review eqi_mean carefully\n",
      "Warning!\n",
      "One or more Z-scores have NaN values\n",
      "Review eqi_mean carefully\n"
     ]
    },
    {
     "name": "stderr",
     "output_type": "stream",
     "text": [
      "/home/araz/Documents/GitHub/art-eqi-p300-validation/Functions/eeg_quality_index.py:83: RuntimeWarning: divide by zero encountered in divide\n",
      "  z_scores = np.floor(np.abs((eqi_test-mean_eqi_clean)/std_eqi_clean)) # Calculate z-scores\n",
      "/home/araz/Documents/GitHub/art-eqi-p300-validation/Functions/eeg_quality_index.py:83: RuntimeWarning: invalid value encountered in divide\n",
      "  z_scores = np.floor(np.abs((eqi_test-mean_eqi_clean)/std_eqi_clean)) # Calculate z-scores\n",
      "/home/araz/Documents/GitHub/art-eqi-p300-validation/Functions/eeg_quality_index.py:83: RuntimeWarning: divide by zero encountered in divide\n",
      "  z_scores = np.floor(np.abs((eqi_test-mean_eqi_clean)/std_eqi_clean)) # Calculate z-scores\n",
      "/home/araz/Documents/GitHub/art-eqi-p300-validation/Functions/eeg_quality_index.py:83: RuntimeWarning: invalid value encountered in divide\n",
      "  z_scores = np.floor(np.abs((eqi_test-mean_eqi_clean)/std_eqi_clean)) # Calculate z-scores\n"
     ]
    },
    {
     "name": "stdout",
     "output_type": "stream",
     "text": [
      "Warning!\n",
      "One or more Z-scores have NaN values\n",
      "Review eqi_mean carefully\n",
      "Warning!\n",
      "One or more Z-scores have NaN values\n",
      "Review eqi_mean carefully\n"
     ]
    },
    {
     "name": "stderr",
     "output_type": "stream",
     "text": [
      "/home/araz/Documents/GitHub/art-eqi-p300-validation/Functions/eeg_quality_index.py:83: RuntimeWarning: divide by zero encountered in divide\n",
      "  z_scores = np.floor(np.abs((eqi_test-mean_eqi_clean)/std_eqi_clean)) # Calculate z-scores\n",
      "/home/araz/Documents/GitHub/art-eqi-p300-validation/Functions/eeg_quality_index.py:83: RuntimeWarning: invalid value encountered in divide\n",
      "  z_scores = np.floor(np.abs((eqi_test-mean_eqi_clean)/std_eqi_clean)) # Calculate z-scores\n",
      "/home/araz/Documents/GitHub/art-eqi-p300-validation/Functions/eeg_quality_index.py:83: RuntimeWarning: divide by zero encountered in divide\n",
      "  z_scores = np.floor(np.abs((eqi_test-mean_eqi_clean)/std_eqi_clean)) # Calculate z-scores\n",
      "/home/araz/Documents/GitHub/art-eqi-p300-validation/Functions/eeg_quality_index.py:83: RuntimeWarning: invalid value encountered in divide\n",
      "  z_scores = np.floor(np.abs((eqi_test-mean_eqi_clean)/std_eqi_clean)) # Calculate z-scores\n"
     ]
    },
    {
     "name": "stdout",
     "output_type": "stream",
     "text": [
      "Warning!\n",
      "One or more Z-scores have NaN values\n",
      "Review eqi_mean carefully\n",
      "Warning!\n",
      "One or more Z-scores have NaN values\n",
      "Review eqi_mean carefully\n"
     ]
    },
    {
     "name": "stderr",
     "output_type": "stream",
     "text": [
      "/home/araz/Documents/GitHub/art-eqi-p300-validation/Functions/eeg_quality_index.py:83: RuntimeWarning: divide by zero encountered in divide\n",
      "  z_scores = np.floor(np.abs((eqi_test-mean_eqi_clean)/std_eqi_clean)) # Calculate z-scores\n",
      "/home/araz/Documents/GitHub/art-eqi-p300-validation/Functions/eeg_quality_index.py:83: RuntimeWarning: invalid value encountered in divide\n",
      "  z_scores = np.floor(np.abs((eqi_test-mean_eqi_clean)/std_eqi_clean)) # Calculate z-scores\n",
      "/home/araz/Documents/GitHub/art-eqi-p300-validation/Functions/eeg_quality_index.py:83: RuntimeWarning: divide by zero encountered in divide\n",
      "  z_scores = np.floor(np.abs((eqi_test-mean_eqi_clean)/std_eqi_clean)) # Calculate z-scores\n",
      "/home/araz/Documents/GitHub/art-eqi-p300-validation/Functions/eeg_quality_index.py:83: RuntimeWarning: invalid value encountered in divide\n",
      "  z_scores = np.floor(np.abs((eqi_test-mean_eqi_clean)/std_eqi_clean)) # Calculate z-scores\n"
     ]
    },
    {
     "name": "stdout",
     "output_type": "stream",
     "text": [
      "Warning!\n",
      "One or more Z-scores have NaN values\n",
      "Review eqi_mean carefully\n",
      "Warning!\n",
      "One or more Z-scores have NaN values\n",
      "Review eqi_mean carefully\n"
     ]
    },
    {
     "name": "stderr",
     "output_type": "stream",
     "text": [
      "/home/araz/Documents/GitHub/art-eqi-p300-validation/Functions/eeg_quality_index.py:83: RuntimeWarning: divide by zero encountered in divide\n",
      "  z_scores = np.floor(np.abs((eqi_test-mean_eqi_clean)/std_eqi_clean)) # Calculate z-scores\n",
      "/home/araz/Documents/GitHub/art-eqi-p300-validation/Functions/eeg_quality_index.py:83: RuntimeWarning: invalid value encountered in divide\n",
      "  z_scores = np.floor(np.abs((eqi_test-mean_eqi_clean)/std_eqi_clean)) # Calculate z-scores\n"
     ]
    },
    {
     "name": "stdout",
     "output_type": "stream",
     "text": [
      "Warning!\n",
      "One or more Z-scores have NaN values\n",
      "Review eqi_mean carefully\n"
     ]
    },
    {
     "name": "stderr",
     "output_type": "stream",
     "text": [
      "/home/araz/Documents/GitHub/art-eqi-p300-validation/Functions/eeg_quality_index.py:83: RuntimeWarning: divide by zero encountered in divide\n",
      "  z_scores = np.floor(np.abs((eqi_test-mean_eqi_clean)/std_eqi_clean)) # Calculate z-scores\n",
      "/home/araz/Documents/GitHub/art-eqi-p300-validation/Functions/eeg_quality_index.py:83: RuntimeWarning: invalid value encountered in divide\n",
      "  z_scores = np.floor(np.abs((eqi_test-mean_eqi_clean)/std_eqi_clean)) # Calculate z-scores\n",
      "/home/araz/Documents/GitHub/art-eqi-p300-validation/Functions/eeg_quality_index.py:83: RuntimeWarning: divide by zero encountered in divide\n",
      "  z_scores = np.floor(np.abs((eqi_test-mean_eqi_clean)/std_eqi_clean)) # Calculate z-scores\n",
      "/home/araz/Documents/GitHub/art-eqi-p300-validation/Functions/eeg_quality_index.py:83: RuntimeWarning: invalid value encountered in divide\n",
      "  z_scores = np.floor(np.abs((eqi_test-mean_eqi_clean)/std_eqi_clean)) # Calculate z-scores\n"
     ]
    },
    {
     "name": "stdout",
     "output_type": "stream",
     "text": [
      "Warning!\n",
      "One or more Z-scores have NaN values\n",
      "Review eqi_mean carefully\n",
      "Warning!\n",
      "One or more Z-scores have NaN values\n",
      "Review eqi_mean carefully\n"
     ]
    },
    {
     "name": "stderr",
     "output_type": "stream",
     "text": [
      "/home/araz/Documents/GitHub/art-eqi-p300-validation/Functions/eeg_quality_index.py:83: RuntimeWarning: divide by zero encountered in divide\n",
      "  z_scores = np.floor(np.abs((eqi_test-mean_eqi_clean)/std_eqi_clean)) # Calculate z-scores\n",
      "/home/araz/Documents/GitHub/art-eqi-p300-validation/Functions/eeg_quality_index.py:83: RuntimeWarning: invalid value encountered in divide\n",
      "  z_scores = np.floor(np.abs((eqi_test-mean_eqi_clean)/std_eqi_clean)) # Calculate z-scores\n",
      "/home/araz/Documents/GitHub/art-eqi-p300-validation/Functions/eeg_quality_index.py:83: RuntimeWarning: divide by zero encountered in divide\n",
      "  z_scores = np.floor(np.abs((eqi_test-mean_eqi_clean)/std_eqi_clean)) # Calculate z-scores\n",
      "/home/araz/Documents/GitHub/art-eqi-p300-validation/Functions/eeg_quality_index.py:83: RuntimeWarning: invalid value encountered in divide\n",
      "  z_scores = np.floor(np.abs((eqi_test-mean_eqi_clean)/std_eqi_clean)) # Calculate z-scores\n"
     ]
    },
    {
     "name": "stdout",
     "output_type": "stream",
     "text": [
      "Warning!\n",
      "One or more Z-scores have NaN values\n",
      "Review eqi_mean carefully\n",
      "Warning!\n",
      "One or more Z-scores have NaN values\n",
      "Review eqi_mean carefully\n"
     ]
    },
    {
     "name": "stderr",
     "output_type": "stream",
     "text": [
      "/home/araz/Documents/GitHub/art-eqi-p300-validation/Functions/eeg_quality_index.py:83: RuntimeWarning: divide by zero encountered in divide\n",
      "  z_scores = np.floor(np.abs((eqi_test-mean_eqi_clean)/std_eqi_clean)) # Calculate z-scores\n",
      "/home/araz/Documents/GitHub/art-eqi-p300-validation/Functions/eeg_quality_index.py:83: RuntimeWarning: invalid value encountered in divide\n",
      "  z_scores = np.floor(np.abs((eqi_test-mean_eqi_clean)/std_eqi_clean)) # Calculate z-scores\n",
      "/home/araz/Documents/GitHub/art-eqi-p300-validation/Functions/eeg_quality_index.py:83: RuntimeWarning: divide by zero encountered in divide\n",
      "  z_scores = np.floor(np.abs((eqi_test-mean_eqi_clean)/std_eqi_clean)) # Calculate z-scores\n",
      "/home/araz/Documents/GitHub/art-eqi-p300-validation/Functions/eeg_quality_index.py:83: RuntimeWarning: invalid value encountered in divide\n",
      "  z_scores = np.floor(np.abs((eqi_test-mean_eqi_clean)/std_eqi_clean)) # Calculate z-scores\n"
     ]
    },
    {
     "name": "stdout",
     "output_type": "stream",
     "text": [
      "Warning!\n",
      "One or more Z-scores have NaN values\n",
      "Review eqi_mean carefully\n",
      "Warning!\n",
      "One or more Z-scores have NaN values\n",
      "Review eqi_mean carefully\n"
     ]
    },
    {
     "name": "stderr",
     "output_type": "stream",
     "text": [
      "/home/araz/Documents/GitHub/art-eqi-p300-validation/Functions/eeg_quality_index.py:83: RuntimeWarning: divide by zero encountered in divide\n",
      "  z_scores = np.floor(np.abs((eqi_test-mean_eqi_clean)/std_eqi_clean)) # Calculate z-scores\n",
      "/home/araz/Documents/GitHub/art-eqi-p300-validation/Functions/eeg_quality_index.py:83: RuntimeWarning: invalid value encountered in divide\n",
      "  z_scores = np.floor(np.abs((eqi_test-mean_eqi_clean)/std_eqi_clean)) # Calculate z-scores\n",
      "/home/araz/Documents/GitHub/art-eqi-p300-validation/Functions/eeg_quality_index.py:83: RuntimeWarning: divide by zero encountered in divide\n",
      "  z_scores = np.floor(np.abs((eqi_test-mean_eqi_clean)/std_eqi_clean)) # Calculate z-scores\n",
      "/home/araz/Documents/GitHub/art-eqi-p300-validation/Functions/eeg_quality_index.py:83: RuntimeWarning: invalid value encountered in divide\n",
      "  z_scores = np.floor(np.abs((eqi_test-mean_eqi_clean)/std_eqi_clean)) # Calculate z-scores\n"
     ]
    },
    {
     "name": "stdout",
     "output_type": "stream",
     "text": [
      "Warning!\n",
      "One or more Z-scores have NaN values\n",
      "Review eqi_mean carefully\n",
      "Warning!\n",
      "One or more Z-scores have NaN values\n",
      "Review eqi_mean carefully\n"
     ]
    },
    {
     "name": "stderr",
     "output_type": "stream",
     "text": [
      "/home/araz/Documents/GitHub/art-eqi-p300-validation/Functions/eeg_quality_index.py:83: RuntimeWarning: divide by zero encountered in divide\n",
      "  z_scores = np.floor(np.abs((eqi_test-mean_eqi_clean)/std_eqi_clean)) # Calculate z-scores\n",
      "/home/araz/Documents/GitHub/art-eqi-p300-validation/Functions/eeg_quality_index.py:83: RuntimeWarning: invalid value encountered in divide\n",
      "  z_scores = np.floor(np.abs((eqi_test-mean_eqi_clean)/std_eqi_clean)) # Calculate z-scores\n",
      "/home/araz/Documents/GitHub/art-eqi-p300-validation/Functions/eeg_quality_index.py:83: RuntimeWarning: divide by zero encountered in divide\n",
      "  z_scores = np.floor(np.abs((eqi_test-mean_eqi_clean)/std_eqi_clean)) # Calculate z-scores\n",
      "/home/araz/Documents/GitHub/art-eqi-p300-validation/Functions/eeg_quality_index.py:83: RuntimeWarning: invalid value encountered in divide\n",
      "  z_scores = np.floor(np.abs((eqi_test-mean_eqi_clean)/std_eqi_clean)) # Calculate z-scores\n"
     ]
    },
    {
     "name": "stdout",
     "output_type": "stream",
     "text": [
      "Warning!\n",
      "One or more Z-scores have NaN values\n",
      "Review eqi_mean carefully\n",
      "Warning!\n",
      "One or more Z-scores have NaN values\n",
      "Review eqi_mean carefully\n"
     ]
    },
    {
     "name": "stderr",
     "output_type": "stream",
     "text": [
      "/home/araz/Documents/GitHub/art-eqi-p300-validation/Functions/eeg_quality_index.py:83: RuntimeWarning: divide by zero encountered in divide\n",
      "  z_scores = np.floor(np.abs((eqi_test-mean_eqi_clean)/std_eqi_clean)) # Calculate z-scores\n",
      "/home/araz/Documents/GitHub/art-eqi-p300-validation/Functions/eeg_quality_index.py:83: RuntimeWarning: invalid value encountered in divide\n",
      "  z_scores = np.floor(np.abs((eqi_test-mean_eqi_clean)/std_eqi_clean)) # Calculate z-scores\n",
      "/home/araz/Documents/GitHub/art-eqi-p300-validation/Functions/eeg_quality_index.py:83: RuntimeWarning: divide by zero encountered in divide\n",
      "  z_scores = np.floor(np.abs((eqi_test-mean_eqi_clean)/std_eqi_clean)) # Calculate z-scores\n",
      "/home/araz/Documents/GitHub/art-eqi-p300-validation/Functions/eeg_quality_index.py:83: RuntimeWarning: invalid value encountered in divide\n",
      "  z_scores = np.floor(np.abs((eqi_test-mean_eqi_clean)/std_eqi_clean)) # Calculate z-scores\n"
     ]
    },
    {
     "name": "stdout",
     "output_type": "stream",
     "text": [
      "Warning!\n",
      "One or more Z-scores have NaN values\n",
      "Review eqi_mean carefully\n",
      "Warning!\n",
      "One or more Z-scores have NaN values\n",
      "Review eqi_mean carefully\n"
     ]
    },
    {
     "name": "stderr",
     "output_type": "stream",
     "text": [
      "/home/araz/Documents/GitHub/art-eqi-p300-validation/Functions/eeg_quality_index.py:83: RuntimeWarning: divide by zero encountered in divide\n",
      "  z_scores = np.floor(np.abs((eqi_test-mean_eqi_clean)/std_eqi_clean)) # Calculate z-scores\n",
      "/home/araz/Documents/GitHub/art-eqi-p300-validation/Functions/eeg_quality_index.py:83: RuntimeWarning: invalid value encountered in divide\n",
      "  z_scores = np.floor(np.abs((eqi_test-mean_eqi_clean)/std_eqi_clean)) # Calculate z-scores\n",
      "/home/araz/Documents/GitHub/art-eqi-p300-validation/Functions/eeg_quality_index.py:83: RuntimeWarning: divide by zero encountered in divide\n",
      "  z_scores = np.floor(np.abs((eqi_test-mean_eqi_clean)/std_eqi_clean)) # Calculate z-scores\n",
      "/home/araz/Documents/GitHub/art-eqi-p300-validation/Functions/eeg_quality_index.py:83: RuntimeWarning: invalid value encountered in divide\n",
      "  z_scores = np.floor(np.abs((eqi_test-mean_eqi_clean)/std_eqi_clean)) # Calculate z-scores\n"
     ]
    },
    {
     "name": "stdout",
     "output_type": "stream",
     "text": [
      "Warning!\n",
      "One or more Z-scores have NaN values\n",
      "Review eqi_mean carefully\n",
      "Warning!\n",
      "One or more Z-scores have NaN values\n",
      "Review eqi_mean carefully\n"
     ]
    },
    {
     "name": "stderr",
     "output_type": "stream",
     "text": [
      "/home/araz/Documents/GitHub/art-eqi-p300-validation/Functions/eeg_quality_index.py:83: RuntimeWarning: divide by zero encountered in divide\n",
      "  z_scores = np.floor(np.abs((eqi_test-mean_eqi_clean)/std_eqi_clean)) # Calculate z-scores\n",
      "/home/araz/Documents/GitHub/art-eqi-p300-validation/Functions/eeg_quality_index.py:83: RuntimeWarning: invalid value encountered in divide\n",
      "  z_scores = np.floor(np.abs((eqi_test-mean_eqi_clean)/std_eqi_clean)) # Calculate z-scores\n",
      "/home/araz/Documents/GitHub/art-eqi-p300-validation/Functions/eeg_quality_index.py:83: RuntimeWarning: divide by zero encountered in divide\n",
      "  z_scores = np.floor(np.abs((eqi_test-mean_eqi_clean)/std_eqi_clean)) # Calculate z-scores\n",
      "/home/araz/Documents/GitHub/art-eqi-p300-validation/Functions/eeg_quality_index.py:83: RuntimeWarning: invalid value encountered in divide\n",
      "  z_scores = np.floor(np.abs((eqi_test-mean_eqi_clean)/std_eqi_clean)) # Calculate z-scores\n"
     ]
    },
    {
     "name": "stdout",
     "output_type": "stream",
     "text": [
      "Warning!\n",
      "One or more Z-scores have NaN values\n",
      "Review eqi_mean carefully\n",
      "Warning!\n",
      "One or more Z-scores have NaN values\n",
      "Review eqi_mean carefully\n"
     ]
    },
    {
     "name": "stderr",
     "output_type": "stream",
     "text": [
      "/home/araz/Documents/GitHub/art-eqi-p300-validation/Functions/eeg_quality_index.py:83: RuntimeWarning: divide by zero encountered in divide\n",
      "  z_scores = np.floor(np.abs((eqi_test-mean_eqi_clean)/std_eqi_clean)) # Calculate z-scores\n",
      "/home/araz/Documents/GitHub/art-eqi-p300-validation/Functions/eeg_quality_index.py:83: RuntimeWarning: invalid value encountered in divide\n",
      "  z_scores = np.floor(np.abs((eqi_test-mean_eqi_clean)/std_eqi_clean)) # Calculate z-scores\n"
     ]
    },
    {
     "name": "stdout",
     "output_type": "stream",
     "text": [
      "Warning!\n",
      "One or more Z-scores have NaN values\n",
      "Review eqi_mean carefully\n"
     ]
    },
    {
     "name": "stderr",
     "output_type": "stream",
     "text": [
      "/home/araz/Documents/GitHub/art-eqi-p300-validation/Functions/eeg_quality_index.py:83: RuntimeWarning: divide by zero encountered in divide\n",
      "  z_scores = np.floor(np.abs((eqi_test-mean_eqi_clean)/std_eqi_clean)) # Calculate z-scores\n",
      "/home/araz/Documents/GitHub/art-eqi-p300-validation/Functions/eeg_quality_index.py:83: RuntimeWarning: invalid value encountered in divide\n",
      "  z_scores = np.floor(np.abs((eqi_test-mean_eqi_clean)/std_eqi_clean)) # Calculate z-scores\n",
      "/home/araz/Documents/GitHub/art-eqi-p300-validation/Functions/eeg_quality_index.py:83: RuntimeWarning: divide by zero encountered in divide\n",
      "  z_scores = np.floor(np.abs((eqi_test-mean_eqi_clean)/std_eqi_clean)) # Calculate z-scores\n",
      "/home/araz/Documents/GitHub/art-eqi-p300-validation/Functions/eeg_quality_index.py:83: RuntimeWarning: invalid value encountered in divide\n",
      "  z_scores = np.floor(np.abs((eqi_test-mean_eqi_clean)/std_eqi_clean)) # Calculate z-scores\n"
     ]
    },
    {
     "name": "stdout",
     "output_type": "stream",
     "text": [
      "Warning!\n",
      "One or more Z-scores have NaN values\n",
      "Review eqi_mean carefully\n",
      "Warning!\n",
      "One or more Z-scores have NaN values\n",
      "Review eqi_mean carefully\n"
     ]
    },
    {
     "name": "stderr",
     "output_type": "stream",
     "text": [
      "/home/araz/Documents/GitHub/art-eqi-p300-validation/Functions/eeg_quality_index.py:83: RuntimeWarning: divide by zero encountered in divide\n",
      "  z_scores = np.floor(np.abs((eqi_test-mean_eqi_clean)/std_eqi_clean)) # Calculate z-scores\n",
      "/home/araz/Documents/GitHub/art-eqi-p300-validation/Functions/eeg_quality_index.py:83: RuntimeWarning: invalid value encountered in divide\n",
      "  z_scores = np.floor(np.abs((eqi_test-mean_eqi_clean)/std_eqi_clean)) # Calculate z-scores\n",
      "/home/araz/Documents/GitHub/art-eqi-p300-validation/Functions/eeg_quality_index.py:83: RuntimeWarning: divide by zero encountered in divide\n",
      "  z_scores = np.floor(np.abs((eqi_test-mean_eqi_clean)/std_eqi_clean)) # Calculate z-scores\n",
      "/home/araz/Documents/GitHub/art-eqi-p300-validation/Functions/eeg_quality_index.py:83: RuntimeWarning: invalid value encountered in divide\n",
      "  z_scores = np.floor(np.abs((eqi_test-mean_eqi_clean)/std_eqi_clean)) # Calculate z-scores\n"
     ]
    },
    {
     "name": "stdout",
     "output_type": "stream",
     "text": [
      "Warning!\n",
      "One or more Z-scores have NaN values\n",
      "Review eqi_mean carefully\n",
      "Warning!\n",
      "One or more Z-scores have NaN values\n",
      "Review eqi_mean carefully\n"
     ]
    },
    {
     "name": "stderr",
     "output_type": "stream",
     "text": [
      "/home/araz/Documents/GitHub/art-eqi-p300-validation/Functions/eeg_quality_index.py:83: RuntimeWarning: divide by zero encountered in divide\n",
      "  z_scores = np.floor(np.abs((eqi_test-mean_eqi_clean)/std_eqi_clean)) # Calculate z-scores\n",
      "/home/araz/Documents/GitHub/art-eqi-p300-validation/Functions/eeg_quality_index.py:83: RuntimeWarning: invalid value encountered in divide\n",
      "  z_scores = np.floor(np.abs((eqi_test-mean_eqi_clean)/std_eqi_clean)) # Calculate z-scores\n",
      "/home/araz/Documents/GitHub/art-eqi-p300-validation/Functions/eeg_quality_index.py:83: RuntimeWarning: divide by zero encountered in divide\n",
      "  z_scores = np.floor(np.abs((eqi_test-mean_eqi_clean)/std_eqi_clean)) # Calculate z-scores\n",
      "/home/araz/Documents/GitHub/art-eqi-p300-validation/Functions/eeg_quality_index.py:83: RuntimeWarning: invalid value encountered in divide\n",
      "  z_scores = np.floor(np.abs((eqi_test-mean_eqi_clean)/std_eqi_clean)) # Calculate z-scores\n"
     ]
    },
    {
     "name": "stdout",
     "output_type": "stream",
     "text": [
      "Warning!\n",
      "One or more Z-scores have NaN values\n",
      "Review eqi_mean carefully\n",
      "Warning!\n",
      "One or more Z-scores have NaN values\n",
      "Review eqi_mean carefully\n"
     ]
    },
    {
     "name": "stderr",
     "output_type": "stream",
     "text": [
      "/home/araz/Documents/GitHub/art-eqi-p300-validation/Functions/eeg_quality_index.py:83: RuntimeWarning: divide by zero encountered in divide\n",
      "  z_scores = np.floor(np.abs((eqi_test-mean_eqi_clean)/std_eqi_clean)) # Calculate z-scores\n",
      "/home/araz/Documents/GitHub/art-eqi-p300-validation/Functions/eeg_quality_index.py:83: RuntimeWarning: invalid value encountered in divide\n",
      "  z_scores = np.floor(np.abs((eqi_test-mean_eqi_clean)/std_eqi_clean)) # Calculate z-scores\n"
     ]
    },
    {
     "name": "stdout",
     "output_type": "stream",
     "text": [
      "Warning!\n",
      "One or more Z-scores have NaN values\n",
      "Review eqi_mean carefully\n"
     ]
    },
    {
     "name": "stderr",
     "output_type": "stream",
     "text": [
      "/home/araz/Documents/GitHub/art-eqi-p300-validation/Functions/eeg_quality_index.py:83: RuntimeWarning: divide by zero encountered in divide\n",
      "  z_scores = np.floor(np.abs((eqi_test-mean_eqi_clean)/std_eqi_clean)) # Calculate z-scores\n",
      "/home/araz/Documents/GitHub/art-eqi-p300-validation/Functions/eeg_quality_index.py:83: RuntimeWarning: invalid value encountered in divide\n",
      "  z_scores = np.floor(np.abs((eqi_test-mean_eqi_clean)/std_eqi_clean)) # Calculate z-scores\n"
     ]
    },
    {
     "name": "stdout",
     "output_type": "stream",
     "text": [
      "Warning!\n",
      "One or more Z-scores have NaN values\n",
      "Review eqi_mean carefully\n"
     ]
    },
    {
     "name": "stderr",
     "output_type": "stream",
     "text": [
      "/home/araz/Documents/GitHub/art-eqi-p300-validation/Functions/eeg_quality_index.py:83: RuntimeWarning: divide by zero encountered in divide\n",
      "  z_scores = np.floor(np.abs((eqi_test-mean_eqi_clean)/std_eqi_clean)) # Calculate z-scores\n",
      "/home/araz/Documents/GitHub/art-eqi-p300-validation/Functions/eeg_quality_index.py:83: RuntimeWarning: invalid value encountered in divide\n",
      "  z_scores = np.floor(np.abs((eqi_test-mean_eqi_clean)/std_eqi_clean)) # Calculate z-scores\n",
      "/home/araz/Documents/GitHub/art-eqi-p300-validation/Functions/eeg_quality_index.py:83: RuntimeWarning: divide by zero encountered in divide\n",
      "  z_scores = np.floor(np.abs((eqi_test-mean_eqi_clean)/std_eqi_clean)) # Calculate z-scores\n",
      "/home/araz/Documents/GitHub/art-eqi-p300-validation/Functions/eeg_quality_index.py:83: RuntimeWarning: invalid value encountered in divide\n",
      "  z_scores = np.floor(np.abs((eqi_test-mean_eqi_clean)/std_eqi_clean)) # Calculate z-scores\n"
     ]
    },
    {
     "name": "stdout",
     "output_type": "stream",
     "text": [
      "Warning!\n",
      "One or more Z-scores have NaN values\n",
      "Review eqi_mean carefully\n",
      "Warning!\n",
      "One or more Z-scores have NaN values\n",
      "Review eqi_mean carefully\n"
     ]
    },
    {
     "name": "stderr",
     "output_type": "stream",
     "text": [
      "/home/araz/Documents/GitHub/art-eqi-p300-validation/Functions/eeg_quality_index.py:83: RuntimeWarning: divide by zero encountered in divide\n",
      "  z_scores = np.floor(np.abs((eqi_test-mean_eqi_clean)/std_eqi_clean)) # Calculate z-scores\n",
      "/home/araz/Documents/GitHub/art-eqi-p300-validation/Functions/eeg_quality_index.py:83: RuntimeWarning: invalid value encountered in divide\n",
      "  z_scores = np.floor(np.abs((eqi_test-mean_eqi_clean)/std_eqi_clean)) # Calculate z-scores\n"
     ]
    },
    {
     "name": "stdout",
     "output_type": "stream",
     "text": [
      "Warning!\n",
      "One or more Z-scores have NaN values\n",
      "Review eqi_mean carefully\n"
     ]
    },
    {
     "name": "stderr",
     "output_type": "stream",
     "text": [
      "/home/araz/Documents/GitHub/art-eqi-p300-validation/Functions/eeg_quality_index.py:83: RuntimeWarning: divide by zero encountered in divide\n",
      "  z_scores = np.floor(np.abs((eqi_test-mean_eqi_clean)/std_eqi_clean)) # Calculate z-scores\n",
      "/home/araz/Documents/GitHub/art-eqi-p300-validation/Functions/eeg_quality_index.py:83: RuntimeWarning: invalid value encountered in divide\n",
      "  z_scores = np.floor(np.abs((eqi_test-mean_eqi_clean)/std_eqi_clean)) # Calculate z-scores\n",
      "/home/araz/Documents/GitHub/art-eqi-p300-validation/Functions/eeg_quality_index.py:83: RuntimeWarning: divide by zero encountered in divide\n",
      "  z_scores = np.floor(np.abs((eqi_test-mean_eqi_clean)/std_eqi_clean)) # Calculate z-scores\n",
      "/home/araz/Documents/GitHub/art-eqi-p300-validation/Functions/eeg_quality_index.py:83: RuntimeWarning: invalid value encountered in divide\n",
      "  z_scores = np.floor(np.abs((eqi_test-mean_eqi_clean)/std_eqi_clean)) # Calculate z-scores\n"
     ]
    },
    {
     "name": "stdout",
     "output_type": "stream",
     "text": [
      "Warning!\n",
      "One or more Z-scores have NaN values\n",
      "Review eqi_mean carefully\n",
      "Warning!\n",
      "One or more Z-scores have NaN values\n",
      "Review eqi_mean carefully\n"
     ]
    },
    {
     "name": "stderr",
     "output_type": "stream",
     "text": [
      "/home/araz/Documents/GitHub/art-eqi-p300-validation/Functions/eeg_quality_index.py:83: RuntimeWarning: divide by zero encountered in divide\n",
      "  z_scores = np.floor(np.abs((eqi_test-mean_eqi_clean)/std_eqi_clean)) # Calculate z-scores\n",
      "/home/araz/Documents/GitHub/art-eqi-p300-validation/Functions/eeg_quality_index.py:83: RuntimeWarning: invalid value encountered in divide\n",
      "  z_scores = np.floor(np.abs((eqi_test-mean_eqi_clean)/std_eqi_clean)) # Calculate z-scores\n",
      "/home/araz/Documents/GitHub/art-eqi-p300-validation/Functions/eeg_quality_index.py:83: RuntimeWarning: divide by zero encountered in divide\n",
      "  z_scores = np.floor(np.abs((eqi_test-mean_eqi_clean)/std_eqi_clean)) # Calculate z-scores\n",
      "/home/araz/Documents/GitHub/art-eqi-p300-validation/Functions/eeg_quality_index.py:83: RuntimeWarning: invalid value encountered in divide\n",
      "  z_scores = np.floor(np.abs((eqi_test-mean_eqi_clean)/std_eqi_clean)) # Calculate z-scores\n"
     ]
    },
    {
     "name": "stdout",
     "output_type": "stream",
     "text": [
      "Warning!\n",
      "One or more Z-scores have NaN values\n",
      "Review eqi_mean carefully\n",
      "Warning!\n",
      "One or more Z-scores have NaN values\n",
      "Review eqi_mean carefully\n"
     ]
    },
    {
     "name": "stderr",
     "output_type": "stream",
     "text": [
      "/home/araz/Documents/GitHub/art-eqi-p300-validation/Functions/eeg_quality_index.py:83: RuntimeWarning: divide by zero encountered in divide\n",
      "  z_scores = np.floor(np.abs((eqi_test-mean_eqi_clean)/std_eqi_clean)) # Calculate z-scores\n",
      "/home/araz/Documents/GitHub/art-eqi-p300-validation/Functions/eeg_quality_index.py:83: RuntimeWarning: invalid value encountered in divide\n",
      "  z_scores = np.floor(np.abs((eqi_test-mean_eqi_clean)/std_eqi_clean)) # Calculate z-scores\n",
      "/home/araz/Documents/GitHub/art-eqi-p300-validation/Functions/eeg_quality_index.py:83: RuntimeWarning: divide by zero encountered in divide\n",
      "  z_scores = np.floor(np.abs((eqi_test-mean_eqi_clean)/std_eqi_clean)) # Calculate z-scores\n",
      "/home/araz/Documents/GitHub/art-eqi-p300-validation/Functions/eeg_quality_index.py:83: RuntimeWarning: invalid value encountered in divide\n",
      "  z_scores = np.floor(np.abs((eqi_test-mean_eqi_clean)/std_eqi_clean)) # Calculate z-scores\n"
     ]
    },
    {
     "name": "stdout",
     "output_type": "stream",
     "text": [
      "Warning!\n",
      "One or more Z-scores have NaN values\n",
      "Review eqi_mean carefully\n",
      "Warning!\n",
      "One or more Z-scores have NaN values\n",
      "Review eqi_mean carefully\n"
     ]
    },
    {
     "name": "stderr",
     "output_type": "stream",
     "text": [
      "/home/araz/Documents/GitHub/art-eqi-p300-validation/Functions/eeg_quality_index.py:83: RuntimeWarning: divide by zero encountered in divide\n",
      "  z_scores = np.floor(np.abs((eqi_test-mean_eqi_clean)/std_eqi_clean)) # Calculate z-scores\n",
      "/home/araz/Documents/GitHub/art-eqi-p300-validation/Functions/eeg_quality_index.py:83: RuntimeWarning: invalid value encountered in divide\n",
      "  z_scores = np.floor(np.abs((eqi_test-mean_eqi_clean)/std_eqi_clean)) # Calculate z-scores\n",
      "/home/araz/Documents/GitHub/art-eqi-p300-validation/Functions/eeg_quality_index.py:83: RuntimeWarning: divide by zero encountered in divide\n",
      "  z_scores = np.floor(np.abs((eqi_test-mean_eqi_clean)/std_eqi_clean)) # Calculate z-scores\n",
      "/home/araz/Documents/GitHub/art-eqi-p300-validation/Functions/eeg_quality_index.py:83: RuntimeWarning: invalid value encountered in divide\n",
      "  z_scores = np.floor(np.abs((eqi_test-mean_eqi_clean)/std_eqi_clean)) # Calculate z-scores\n"
     ]
    },
    {
     "name": "stdout",
     "output_type": "stream",
     "text": [
      "Warning!\n",
      "One or more Z-scores have NaN values\n",
      "Review eqi_mean carefully\n",
      "Warning!\n",
      "One or more Z-scores have NaN values\n",
      "Review eqi_mean carefully\n"
     ]
    },
    {
     "name": "stderr",
     "output_type": "stream",
     "text": [
      "/home/araz/Documents/GitHub/art-eqi-p300-validation/Functions/eeg_quality_index.py:83: RuntimeWarning: divide by zero encountered in divide\n",
      "  z_scores = np.floor(np.abs((eqi_test-mean_eqi_clean)/std_eqi_clean)) # Calculate z-scores\n",
      "/home/araz/Documents/GitHub/art-eqi-p300-validation/Functions/eeg_quality_index.py:83: RuntimeWarning: invalid value encountered in divide\n",
      "  z_scores = np.floor(np.abs((eqi_test-mean_eqi_clean)/std_eqi_clean)) # Calculate z-scores\n",
      "/home/araz/Documents/GitHub/art-eqi-p300-validation/Functions/eeg_quality_index.py:83: RuntimeWarning: divide by zero encountered in divide\n",
      "  z_scores = np.floor(np.abs((eqi_test-mean_eqi_clean)/std_eqi_clean)) # Calculate z-scores\n",
      "/home/araz/Documents/GitHub/art-eqi-p300-validation/Functions/eeg_quality_index.py:83: RuntimeWarning: invalid value encountered in divide\n",
      "  z_scores = np.floor(np.abs((eqi_test-mean_eqi_clean)/std_eqi_clean)) # Calculate z-scores\n"
     ]
    },
    {
     "name": "stdout",
     "output_type": "stream",
     "text": [
      "Warning!\n",
      "One or more Z-scores have NaN values\n",
      "Review eqi_mean carefully\n",
      "Warning!\n",
      "One or more Z-scores have NaN values\n",
      "Review eqi_mean carefully\n"
     ]
    },
    {
     "name": "stderr",
     "output_type": "stream",
     "text": [
      "/home/araz/Documents/GitHub/art-eqi-p300-validation/Functions/eeg_quality_index.py:83: RuntimeWarning: divide by zero encountered in divide\n",
      "  z_scores = np.floor(np.abs((eqi_test-mean_eqi_clean)/std_eqi_clean)) # Calculate z-scores\n",
      "/home/araz/Documents/GitHub/art-eqi-p300-validation/Functions/eeg_quality_index.py:83: RuntimeWarning: invalid value encountered in divide\n",
      "  z_scores = np.floor(np.abs((eqi_test-mean_eqi_clean)/std_eqi_clean)) # Calculate z-scores\n",
      "/home/araz/Documents/GitHub/art-eqi-p300-validation/Functions/eeg_quality_index.py:83: RuntimeWarning: divide by zero encountered in divide\n",
      "  z_scores = np.floor(np.abs((eqi_test-mean_eqi_clean)/std_eqi_clean)) # Calculate z-scores\n",
      "/home/araz/Documents/GitHub/art-eqi-p300-validation/Functions/eeg_quality_index.py:83: RuntimeWarning: invalid value encountered in divide\n",
      "  z_scores = np.floor(np.abs((eqi_test-mean_eqi_clean)/std_eqi_clean)) # Calculate z-scores\n"
     ]
    },
    {
     "name": "stdout",
     "output_type": "stream",
     "text": [
      "Warning!\n",
      "One or more Z-scores have NaN values\n",
      "Review eqi_mean carefully\n",
      "Warning!\n",
      "One or more Z-scores have NaN values\n",
      "Review eqi_mean carefully\n"
     ]
    },
    {
     "name": "stderr",
     "output_type": "stream",
     "text": [
      "/home/araz/Documents/GitHub/art-eqi-p300-validation/Functions/eeg_quality_index.py:83: RuntimeWarning: divide by zero encountered in divide\n",
      "  z_scores = np.floor(np.abs((eqi_test-mean_eqi_clean)/std_eqi_clean)) # Calculate z-scores\n",
      "/home/araz/Documents/GitHub/art-eqi-p300-validation/Functions/eeg_quality_index.py:83: RuntimeWarning: invalid value encountered in divide\n",
      "  z_scores = np.floor(np.abs((eqi_test-mean_eqi_clean)/std_eqi_clean)) # Calculate z-scores\n",
      "/home/araz/Documents/GitHub/art-eqi-p300-validation/Functions/eeg_quality_index.py:83: RuntimeWarning: divide by zero encountered in divide\n",
      "  z_scores = np.floor(np.abs((eqi_test-mean_eqi_clean)/std_eqi_clean)) # Calculate z-scores\n",
      "/home/araz/Documents/GitHub/art-eqi-p300-validation/Functions/eeg_quality_index.py:83: RuntimeWarning: invalid value encountered in divide\n",
      "  z_scores = np.floor(np.abs((eqi_test-mean_eqi_clean)/std_eqi_clean)) # Calculate z-scores\n"
     ]
    },
    {
     "name": "stdout",
     "output_type": "stream",
     "text": [
      "Warning!\n",
      "One or more Z-scores have NaN values\n",
      "Review eqi_mean carefully\n",
      "Warning!\n",
      "One or more Z-scores have NaN values\n",
      "Review eqi_mean carefully\n"
     ]
    },
    {
     "name": "stderr",
     "output_type": "stream",
     "text": [
      "/home/araz/Documents/GitHub/art-eqi-p300-validation/Functions/eeg_quality_index.py:83: RuntimeWarning: divide by zero encountered in divide\n",
      "  z_scores = np.floor(np.abs((eqi_test-mean_eqi_clean)/std_eqi_clean)) # Calculate z-scores\n",
      "/home/araz/Documents/GitHub/art-eqi-p300-validation/Functions/eeg_quality_index.py:83: RuntimeWarning: invalid value encountered in divide\n",
      "  z_scores = np.floor(np.abs((eqi_test-mean_eqi_clean)/std_eqi_clean)) # Calculate z-scores\n",
      "/home/araz/Documents/GitHub/art-eqi-p300-validation/Functions/eeg_quality_index.py:83: RuntimeWarning: divide by zero encountered in divide\n",
      "  z_scores = np.floor(np.abs((eqi_test-mean_eqi_clean)/std_eqi_clean)) # Calculate z-scores\n",
      "/home/araz/Documents/GitHub/art-eqi-p300-validation/Functions/eeg_quality_index.py:83: RuntimeWarning: invalid value encountered in divide\n",
      "  z_scores = np.floor(np.abs((eqi_test-mean_eqi_clean)/std_eqi_clean)) # Calculate z-scores\n"
     ]
    },
    {
     "name": "stdout",
     "output_type": "stream",
     "text": [
      "Warning!\n",
      "One or more Z-scores have NaN values\n",
      "Review eqi_mean carefully\n",
      "Warning!\n",
      "One or more Z-scores have NaN values\n",
      "Review eqi_mean carefully\n"
     ]
    },
    {
     "name": "stderr",
     "output_type": "stream",
     "text": [
      "/home/araz/Documents/GitHub/art-eqi-p300-validation/Functions/eeg_quality_index.py:83: RuntimeWarning: divide by zero encountered in divide\n",
      "  z_scores = np.floor(np.abs((eqi_test-mean_eqi_clean)/std_eqi_clean)) # Calculate z-scores\n",
      "/home/araz/Documents/GitHub/art-eqi-p300-validation/Functions/eeg_quality_index.py:83: RuntimeWarning: invalid value encountered in divide\n",
      "  z_scores = np.floor(np.abs((eqi_test-mean_eqi_clean)/std_eqi_clean)) # Calculate z-scores\n"
     ]
    },
    {
     "name": "stdout",
     "output_type": "stream",
     "text": [
      "Warning!\n",
      "One or more Z-scores have NaN values\n",
      "Review eqi_mean carefully\n"
     ]
    },
    {
     "name": "stderr",
     "output_type": "stream",
     "text": [
      "/home/araz/Documents/GitHub/art-eqi-p300-validation/Functions/eeg_quality_index.py:83: RuntimeWarning: divide by zero encountered in divide\n",
      "  z_scores = np.floor(np.abs((eqi_test-mean_eqi_clean)/std_eqi_clean)) # Calculate z-scores\n",
      "/home/araz/Documents/GitHub/art-eqi-p300-validation/Functions/eeg_quality_index.py:83: RuntimeWarning: invalid value encountered in divide\n",
      "  z_scores = np.floor(np.abs((eqi_test-mean_eqi_clean)/std_eqi_clean)) # Calculate z-scores\n"
     ]
    },
    {
     "name": "stdout",
     "output_type": "stream",
     "text": [
      "Warning!\n",
      "One or more Z-scores have NaN values\n",
      "Review eqi_mean carefully\n"
     ]
    },
    {
     "name": "stderr",
     "output_type": "stream",
     "text": [
      "/home/araz/Documents/GitHub/art-eqi-p300-validation/Functions/eeg_quality_index.py:83: RuntimeWarning: divide by zero encountered in divide\n",
      "  z_scores = np.floor(np.abs((eqi_test-mean_eqi_clean)/std_eqi_clean)) # Calculate z-scores\n",
      "/home/araz/Documents/GitHub/art-eqi-p300-validation/Functions/eeg_quality_index.py:83: RuntimeWarning: invalid value encountered in divide\n",
      "  z_scores = np.floor(np.abs((eqi_test-mean_eqi_clean)/std_eqi_clean)) # Calculate z-scores\n"
     ]
    },
    {
     "name": "stdout",
     "output_type": "stream",
     "text": [
      "Warning!\n",
      "One or more Z-scores have NaN values\n",
      "Review eqi_mean carefully\n"
     ]
    },
    {
     "name": "stderr",
     "output_type": "stream",
     "text": [
      "/home/araz/Documents/GitHub/art-eqi-p300-validation/Functions/eeg_quality_index.py:83: RuntimeWarning: divide by zero encountered in divide\n",
      "  z_scores = np.floor(np.abs((eqi_test-mean_eqi_clean)/std_eqi_clean)) # Calculate z-scores\n",
      "/home/araz/Documents/GitHub/art-eqi-p300-validation/Functions/eeg_quality_index.py:83: RuntimeWarning: invalid value encountered in divide\n",
      "  z_scores = np.floor(np.abs((eqi_test-mean_eqi_clean)/std_eqi_clean)) # Calculate z-scores\n",
      "/home/araz/Documents/GitHub/art-eqi-p300-validation/Functions/eeg_quality_index.py:83: RuntimeWarning: divide by zero encountered in divide\n",
      "  z_scores = np.floor(np.abs((eqi_test-mean_eqi_clean)/std_eqi_clean)) # Calculate z-scores\n",
      "/home/araz/Documents/GitHub/art-eqi-p300-validation/Functions/eeg_quality_index.py:83: RuntimeWarning: invalid value encountered in divide\n",
      "  z_scores = np.floor(np.abs((eqi_test-mean_eqi_clean)/std_eqi_clean)) # Calculate z-scores\n"
     ]
    },
    {
     "name": "stdout",
     "output_type": "stream",
     "text": [
      "Warning!\n",
      "One or more Z-scores have NaN values\n",
      "Review eqi_mean carefully\n",
      "Warning!\n",
      "One or more Z-scores have NaN values\n",
      "Review eqi_mean carefully\n"
     ]
    },
    {
     "name": "stderr",
     "output_type": "stream",
     "text": [
      "/home/araz/Documents/GitHub/art-eqi-p300-validation/Functions/eeg_quality_index.py:83: RuntimeWarning: divide by zero encountered in divide\n",
      "  z_scores = np.floor(np.abs((eqi_test-mean_eqi_clean)/std_eqi_clean)) # Calculate z-scores\n",
      "/home/araz/Documents/GitHub/art-eqi-p300-validation/Functions/eeg_quality_index.py:83: RuntimeWarning: invalid value encountered in divide\n",
      "  z_scores = np.floor(np.abs((eqi_test-mean_eqi_clean)/std_eqi_clean)) # Calculate z-scores\n"
     ]
    },
    {
     "name": "stdout",
     "output_type": "stream",
     "text": [
      "Warning!\n",
      "One or more Z-scores have NaN values\n",
      "Review eqi_mean carefully\n"
     ]
    },
    {
     "name": "stderr",
     "output_type": "stream",
     "text": [
      "/home/araz/Documents/GitHub/art-eqi-p300-validation/Functions/eeg_quality_index.py:83: RuntimeWarning: divide by zero encountered in divide\n",
      "  z_scores = np.floor(np.abs((eqi_test-mean_eqi_clean)/std_eqi_clean)) # Calculate z-scores\n",
      "/home/araz/Documents/GitHub/art-eqi-p300-validation/Functions/eeg_quality_index.py:83: RuntimeWarning: invalid value encountered in divide\n",
      "  z_scores = np.floor(np.abs((eqi_test-mean_eqi_clean)/std_eqi_clean)) # Calculate z-scores\n",
      "/home/araz/Documents/GitHub/art-eqi-p300-validation/Functions/eeg_quality_index.py:83: RuntimeWarning: divide by zero encountered in divide\n",
      "  z_scores = np.floor(np.abs((eqi_test-mean_eqi_clean)/std_eqi_clean)) # Calculate z-scores\n",
      "/home/araz/Documents/GitHub/art-eqi-p300-validation/Functions/eeg_quality_index.py:83: RuntimeWarning: invalid value encountered in divide\n",
      "  z_scores = np.floor(np.abs((eqi_test-mean_eqi_clean)/std_eqi_clean)) # Calculate z-scores\n"
     ]
    },
    {
     "name": "stdout",
     "output_type": "stream",
     "text": [
      "Warning!\n",
      "One or more Z-scores have NaN values\n",
      "Review eqi_mean carefully\n",
      "Warning!\n",
      "One or more Z-scores have NaN values\n",
      "Review eqi_mean carefully\n"
     ]
    },
    {
     "name": "stderr",
     "output_type": "stream",
     "text": [
      "/home/araz/Documents/GitHub/art-eqi-p300-validation/Functions/eeg_quality_index.py:83: RuntimeWarning: divide by zero encountered in divide\n",
      "  z_scores = np.floor(np.abs((eqi_test-mean_eqi_clean)/std_eqi_clean)) # Calculate z-scores\n",
      "/home/araz/Documents/GitHub/art-eqi-p300-validation/Functions/eeg_quality_index.py:83: RuntimeWarning: invalid value encountered in divide\n",
      "  z_scores = np.floor(np.abs((eqi_test-mean_eqi_clean)/std_eqi_clean)) # Calculate z-scores\n"
     ]
    },
    {
     "name": "stdout",
     "output_type": "stream",
     "text": [
      "Warning!\n",
      "One or more Z-scores have NaN values\n",
      "Review eqi_mean carefully\n"
     ]
    },
    {
     "name": "stderr",
     "output_type": "stream",
     "text": [
      "/home/araz/Documents/GitHub/art-eqi-p300-validation/Functions/eeg_quality_index.py:83: RuntimeWarning: divide by zero encountered in divide\n",
      "  z_scores = np.floor(np.abs((eqi_test-mean_eqi_clean)/std_eqi_clean)) # Calculate z-scores\n",
      "/home/araz/Documents/GitHub/art-eqi-p300-validation/Functions/eeg_quality_index.py:83: RuntimeWarning: invalid value encountered in divide\n",
      "  z_scores = np.floor(np.abs((eqi_test-mean_eqi_clean)/std_eqi_clean)) # Calculate z-scores\n"
     ]
    },
    {
     "name": "stdout",
     "output_type": "stream",
     "text": [
      "Warning!\n",
      "One or more Z-scores have NaN values\n",
      "Review eqi_mean carefully\n"
     ]
    },
    {
     "name": "stderr",
     "output_type": "stream",
     "text": [
      "/home/araz/Documents/GitHub/art-eqi-p300-validation/Functions/eeg_quality_index.py:83: RuntimeWarning: divide by zero encountered in divide\n",
      "  z_scores = np.floor(np.abs((eqi_test-mean_eqi_clean)/std_eqi_clean)) # Calculate z-scores\n",
      "/home/araz/Documents/GitHub/art-eqi-p300-validation/Functions/eeg_quality_index.py:83: RuntimeWarning: invalid value encountered in divide\n",
      "  z_scores = np.floor(np.abs((eqi_test-mean_eqi_clean)/std_eqi_clean)) # Calculate z-scores\n"
     ]
    },
    {
     "name": "stdout",
     "output_type": "stream",
     "text": [
      "Warning!\n",
      "One or more Z-scores have NaN values\n",
      "Review eqi_mean carefully\n"
     ]
    },
    {
     "name": "stderr",
     "output_type": "stream",
     "text": [
      "/home/araz/Documents/GitHub/art-eqi-p300-validation/Functions/eeg_quality_index.py:83: RuntimeWarning: divide by zero encountered in divide\n",
      "  z_scores = np.floor(np.abs((eqi_test-mean_eqi_clean)/std_eqi_clean)) # Calculate z-scores\n",
      "/home/araz/Documents/GitHub/art-eqi-p300-validation/Functions/eeg_quality_index.py:83: RuntimeWarning: invalid value encountered in divide\n",
      "  z_scores = np.floor(np.abs((eqi_test-mean_eqi_clean)/std_eqi_clean)) # Calculate z-scores\n",
      "/home/araz/Documents/GitHub/art-eqi-p300-validation/Functions/eeg_quality_index.py:83: RuntimeWarning: divide by zero encountered in divide\n",
      "  z_scores = np.floor(np.abs((eqi_test-mean_eqi_clean)/std_eqi_clean)) # Calculate z-scores\n",
      "/home/araz/Documents/GitHub/art-eqi-p300-validation/Functions/eeg_quality_index.py:83: RuntimeWarning: invalid value encountered in divide\n",
      "  z_scores = np.floor(np.abs((eqi_test-mean_eqi_clean)/std_eqi_clean)) # Calculate z-scores\n"
     ]
    },
    {
     "name": "stdout",
     "output_type": "stream",
     "text": [
      "Warning!\n",
      "One or more Z-scores have NaN values\n",
      "Review eqi_mean carefully\n",
      "Warning!\n",
      "One or more Z-scores have NaN values\n",
      "Review eqi_mean carefully\n"
     ]
    },
    {
     "name": "stderr",
     "output_type": "stream",
     "text": [
      "/home/araz/Documents/GitHub/art-eqi-p300-validation/Functions/eeg_quality_index.py:83: RuntimeWarning: divide by zero encountered in divide\n",
      "  z_scores = np.floor(np.abs((eqi_test-mean_eqi_clean)/std_eqi_clean)) # Calculate z-scores\n",
      "/home/araz/Documents/GitHub/art-eqi-p300-validation/Functions/eeg_quality_index.py:83: RuntimeWarning: invalid value encountered in divide\n",
      "  z_scores = np.floor(np.abs((eqi_test-mean_eqi_clean)/std_eqi_clean)) # Calculate z-scores\n"
     ]
    },
    {
     "name": "stdout",
     "output_type": "stream",
     "text": [
      "Warning!\n",
      "One or more Z-scores have NaN values\n",
      "Review eqi_mean carefully\n"
     ]
    },
    {
     "name": "stderr",
     "output_type": "stream",
     "text": [
      "/home/araz/Documents/GitHub/art-eqi-p300-validation/Functions/eeg_quality_index.py:83: RuntimeWarning: divide by zero encountered in divide\n",
      "  z_scores = np.floor(np.abs((eqi_test-mean_eqi_clean)/std_eqi_clean)) # Calculate z-scores\n",
      "/home/araz/Documents/GitHub/art-eqi-p300-validation/Functions/eeg_quality_index.py:83: RuntimeWarning: invalid value encountered in divide\n",
      "  z_scores = np.floor(np.abs((eqi_test-mean_eqi_clean)/std_eqi_clean)) # Calculate z-scores\n",
      "/home/araz/Documents/GitHub/art-eqi-p300-validation/Functions/eeg_quality_index.py:83: RuntimeWarning: divide by zero encountered in divide\n",
      "  z_scores = np.floor(np.abs((eqi_test-mean_eqi_clean)/std_eqi_clean)) # Calculate z-scores\n",
      "/home/araz/Documents/GitHub/art-eqi-p300-validation/Functions/eeg_quality_index.py:83: RuntimeWarning: invalid value encountered in divide\n",
      "  z_scores = np.floor(np.abs((eqi_test-mean_eqi_clean)/std_eqi_clean)) # Calculate z-scores\n"
     ]
    },
    {
     "name": "stdout",
     "output_type": "stream",
     "text": [
      "Warning!\n",
      "One or more Z-scores have NaN values\n",
      "Review eqi_mean carefully\n",
      "Warning!\n",
      "One or more Z-scores have NaN values\n",
      "Review eqi_mean carefully\n"
     ]
    },
    {
     "name": "stderr",
     "output_type": "stream",
     "text": [
      "/home/araz/Documents/GitHub/art-eqi-p300-validation/Functions/eeg_quality_index.py:83: RuntimeWarning: divide by zero encountered in divide\n",
      "  z_scores = np.floor(np.abs((eqi_test-mean_eqi_clean)/std_eqi_clean)) # Calculate z-scores\n",
      "/home/araz/Documents/GitHub/art-eqi-p300-validation/Functions/eeg_quality_index.py:83: RuntimeWarning: invalid value encountered in divide\n",
      "  z_scores = np.floor(np.abs((eqi_test-mean_eqi_clean)/std_eqi_clean)) # Calculate z-scores\n"
     ]
    },
    {
     "name": "stdout",
     "output_type": "stream",
     "text": [
      "Warning!\n",
      "One or more Z-scores have NaN values\n",
      "Review eqi_mean carefully\n"
     ]
    },
    {
     "name": "stderr",
     "output_type": "stream",
     "text": [
      "/home/araz/Documents/GitHub/art-eqi-p300-validation/Functions/eeg_quality_index.py:83: RuntimeWarning: divide by zero encountered in divide\n",
      "  z_scores = np.floor(np.abs((eqi_test-mean_eqi_clean)/std_eqi_clean)) # Calculate z-scores\n",
      "/home/araz/Documents/GitHub/art-eqi-p300-validation/Functions/eeg_quality_index.py:83: RuntimeWarning: invalid value encountered in divide\n",
      "  z_scores = np.floor(np.abs((eqi_test-mean_eqi_clean)/std_eqi_clean)) # Calculate z-scores\n"
     ]
    },
    {
     "name": "stdout",
     "output_type": "stream",
     "text": [
      "Warning!\n",
      "One or more Z-scores have NaN values\n",
      "Review eqi_mean carefully\n"
     ]
    },
    {
     "name": "stderr",
     "output_type": "stream",
     "text": [
      "/home/araz/Documents/GitHub/art-eqi-p300-validation/Functions/eeg_quality_index.py:83: RuntimeWarning: divide by zero encountered in divide\n",
      "  z_scores = np.floor(np.abs((eqi_test-mean_eqi_clean)/std_eqi_clean)) # Calculate z-scores\n",
      "/home/araz/Documents/GitHub/art-eqi-p300-validation/Functions/eeg_quality_index.py:83: RuntimeWarning: invalid value encountered in divide\n",
      "  z_scores = np.floor(np.abs((eqi_test-mean_eqi_clean)/std_eqi_clean)) # Calculate z-scores\n",
      "/home/araz/Documents/GitHub/art-eqi-p300-validation/Functions/eeg_quality_index.py:83: RuntimeWarning: divide by zero encountered in divide\n",
      "  z_scores = np.floor(np.abs((eqi_test-mean_eqi_clean)/std_eqi_clean)) # Calculate z-scores\n",
      "/home/araz/Documents/GitHub/art-eqi-p300-validation/Functions/eeg_quality_index.py:83: RuntimeWarning: invalid value encountered in divide\n",
      "  z_scores = np.floor(np.abs((eqi_test-mean_eqi_clean)/std_eqi_clean)) # Calculate z-scores\n"
     ]
    },
    {
     "name": "stdout",
     "output_type": "stream",
     "text": [
      "Warning!\n",
      "One or more Z-scores have NaN values\n",
      "Review eqi_mean carefully\n",
      "Warning!\n",
      "One or more Z-scores have NaN values\n",
      "Review eqi_mean carefully\n"
     ]
    },
    {
     "name": "stderr",
     "output_type": "stream",
     "text": [
      "/home/araz/Documents/GitHub/art-eqi-p300-validation/Functions/eeg_quality_index.py:83: RuntimeWarning: divide by zero encountered in divide\n",
      "  z_scores = np.floor(np.abs((eqi_test-mean_eqi_clean)/std_eqi_clean)) # Calculate z-scores\n",
      "/home/araz/Documents/GitHub/art-eqi-p300-validation/Functions/eeg_quality_index.py:83: RuntimeWarning: invalid value encountered in divide\n",
      "  z_scores = np.floor(np.abs((eqi_test-mean_eqi_clean)/std_eqi_clean)) # Calculate z-scores\n",
      "/home/araz/Documents/GitHub/art-eqi-p300-validation/Functions/eeg_quality_index.py:83: RuntimeWarning: divide by zero encountered in divide\n",
      "  z_scores = np.floor(np.abs((eqi_test-mean_eqi_clean)/std_eqi_clean)) # Calculate z-scores\n",
      "/home/araz/Documents/GitHub/art-eqi-p300-validation/Functions/eeg_quality_index.py:83: RuntimeWarning: invalid value encountered in divide\n",
      "  z_scores = np.floor(np.abs((eqi_test-mean_eqi_clean)/std_eqi_clean)) # Calculate z-scores\n"
     ]
    },
    {
     "name": "stdout",
     "output_type": "stream",
     "text": [
      "Warning!\n",
      "One or more Z-scores have NaN values\n",
      "Review eqi_mean carefully\n",
      "Warning!\n",
      "One or more Z-scores have NaN values\n",
      "Review eqi_mean carefully\n"
     ]
    },
    {
     "name": "stderr",
     "output_type": "stream",
     "text": [
      "/home/araz/Documents/GitHub/art-eqi-p300-validation/Functions/eeg_quality_index.py:83: RuntimeWarning: divide by zero encountered in divide\n",
      "  z_scores = np.floor(np.abs((eqi_test-mean_eqi_clean)/std_eqi_clean)) # Calculate z-scores\n",
      "/home/araz/Documents/GitHub/art-eqi-p300-validation/Functions/eeg_quality_index.py:83: RuntimeWarning: invalid value encountered in divide\n",
      "  z_scores = np.floor(np.abs((eqi_test-mean_eqi_clean)/std_eqi_clean)) # Calculate z-scores\n",
      "/home/araz/Documents/GitHub/art-eqi-p300-validation/Functions/eeg_quality_index.py:83: RuntimeWarning: divide by zero encountered in divide\n",
      "  z_scores = np.floor(np.abs((eqi_test-mean_eqi_clean)/std_eqi_clean)) # Calculate z-scores\n",
      "/home/araz/Documents/GitHub/art-eqi-p300-validation/Functions/eeg_quality_index.py:83: RuntimeWarning: invalid value encountered in divide\n",
      "  z_scores = np.floor(np.abs((eqi_test-mean_eqi_clean)/std_eqi_clean)) # Calculate z-scores\n"
     ]
    },
    {
     "name": "stdout",
     "output_type": "stream",
     "text": [
      "Warning!\n",
      "One or more Z-scores have NaN values\n",
      "Review eqi_mean carefully\n",
      "Warning!\n",
      "One or more Z-scores have NaN values\n",
      "Review eqi_mean carefully\n"
     ]
    },
    {
     "name": "stderr",
     "output_type": "stream",
     "text": [
      "/home/araz/Documents/GitHub/art-eqi-p300-validation/Functions/eeg_quality_index.py:83: RuntimeWarning: divide by zero encountered in divide\n",
      "  z_scores = np.floor(np.abs((eqi_test-mean_eqi_clean)/std_eqi_clean)) # Calculate z-scores\n",
      "/home/araz/Documents/GitHub/art-eqi-p300-validation/Functions/eeg_quality_index.py:83: RuntimeWarning: invalid value encountered in divide\n",
      "  z_scores = np.floor(np.abs((eqi_test-mean_eqi_clean)/std_eqi_clean)) # Calculate z-scores\n",
      "/home/araz/Documents/GitHub/art-eqi-p300-validation/Functions/eeg_quality_index.py:83: RuntimeWarning: divide by zero encountered in divide\n",
      "  z_scores = np.floor(np.abs((eqi_test-mean_eqi_clean)/std_eqi_clean)) # Calculate z-scores\n",
      "/home/araz/Documents/GitHub/art-eqi-p300-validation/Functions/eeg_quality_index.py:83: RuntimeWarning: invalid value encountered in divide\n",
      "  z_scores = np.floor(np.abs((eqi_test-mean_eqi_clean)/std_eqi_clean)) # Calculate z-scores\n"
     ]
    },
    {
     "name": "stdout",
     "output_type": "stream",
     "text": [
      "Warning!\n",
      "One or more Z-scores have NaN values\n",
      "Review eqi_mean carefully\n",
      "Warning!\n",
      "One or more Z-scores have NaN values\n",
      "Review eqi_mean carefully\n"
     ]
    },
    {
     "name": "stderr",
     "output_type": "stream",
     "text": [
      "/home/araz/Documents/GitHub/art-eqi-p300-validation/Functions/eeg_quality_index.py:83: RuntimeWarning: divide by zero encountered in divide\n",
      "  z_scores = np.floor(np.abs((eqi_test-mean_eqi_clean)/std_eqi_clean)) # Calculate z-scores\n",
      "/home/araz/Documents/GitHub/art-eqi-p300-validation/Functions/eeg_quality_index.py:83: RuntimeWarning: invalid value encountered in divide\n",
      "  z_scores = np.floor(np.abs((eqi_test-mean_eqi_clean)/std_eqi_clean)) # Calculate z-scores\n",
      "/home/araz/Documents/GitHub/art-eqi-p300-validation/Functions/eeg_quality_index.py:83: RuntimeWarning: divide by zero encountered in divide\n",
      "  z_scores = np.floor(np.abs((eqi_test-mean_eqi_clean)/std_eqi_clean)) # Calculate z-scores\n",
      "/home/araz/Documents/GitHub/art-eqi-p300-validation/Functions/eeg_quality_index.py:83: RuntimeWarning: invalid value encountered in divide\n",
      "  z_scores = np.floor(np.abs((eqi_test-mean_eqi_clean)/std_eqi_clean)) # Calculate z-scores\n"
     ]
    },
    {
     "name": "stdout",
     "output_type": "stream",
     "text": [
      "Warning!\n",
      "One or more Z-scores have NaN values\n",
      "Review eqi_mean carefully\n",
      "Warning!\n",
      "One or more Z-scores have NaN values\n",
      "Review eqi_mean carefully\n"
     ]
    },
    {
     "name": "stderr",
     "output_type": "stream",
     "text": [
      "/home/araz/Documents/GitHub/art-eqi-p300-validation/Functions/eeg_quality_index.py:83: RuntimeWarning: divide by zero encountered in divide\n",
      "  z_scores = np.floor(np.abs((eqi_test-mean_eqi_clean)/std_eqi_clean)) # Calculate z-scores\n",
      "/home/araz/Documents/GitHub/art-eqi-p300-validation/Functions/eeg_quality_index.py:83: RuntimeWarning: invalid value encountered in divide\n",
      "  z_scores = np.floor(np.abs((eqi_test-mean_eqi_clean)/std_eqi_clean)) # Calculate z-scores\n",
      "/home/araz/Documents/GitHub/art-eqi-p300-validation/Functions/eeg_quality_index.py:83: RuntimeWarning: divide by zero encountered in divide\n",
      "  z_scores = np.floor(np.abs((eqi_test-mean_eqi_clean)/std_eqi_clean)) # Calculate z-scores\n",
      "/home/araz/Documents/GitHub/art-eqi-p300-validation/Functions/eeg_quality_index.py:83: RuntimeWarning: invalid value encountered in divide\n",
      "  z_scores = np.floor(np.abs((eqi_test-mean_eqi_clean)/std_eqi_clean)) # Calculate z-scores\n"
     ]
    },
    {
     "name": "stdout",
     "output_type": "stream",
     "text": [
      "Warning!\n",
      "One or more Z-scores have NaN values\n",
      "Review eqi_mean carefully\n",
      "Warning!\n",
      "One or more Z-scores have NaN values\n",
      "Review eqi_mean carefully\n"
     ]
    },
    {
     "name": "stderr",
     "output_type": "stream",
     "text": [
      "/home/araz/Documents/GitHub/art-eqi-p300-validation/Functions/eeg_quality_index.py:83: RuntimeWarning: divide by zero encountered in divide\n",
      "  z_scores = np.floor(np.abs((eqi_test-mean_eqi_clean)/std_eqi_clean)) # Calculate z-scores\n",
      "/home/araz/Documents/GitHub/art-eqi-p300-validation/Functions/eeg_quality_index.py:83: RuntimeWarning: invalid value encountered in divide\n",
      "  z_scores = np.floor(np.abs((eqi_test-mean_eqi_clean)/std_eqi_clean)) # Calculate z-scores\n",
      "/home/araz/Documents/GitHub/art-eqi-p300-validation/Functions/eeg_quality_index.py:83: RuntimeWarning: divide by zero encountered in divide\n",
      "  z_scores = np.floor(np.abs((eqi_test-mean_eqi_clean)/std_eqi_clean)) # Calculate z-scores\n",
      "/home/araz/Documents/GitHub/art-eqi-p300-validation/Functions/eeg_quality_index.py:83: RuntimeWarning: invalid value encountered in divide\n",
      "  z_scores = np.floor(np.abs((eqi_test-mean_eqi_clean)/std_eqi_clean)) # Calculate z-scores\n"
     ]
    },
    {
     "name": "stdout",
     "output_type": "stream",
     "text": [
      "Warning!\n",
      "One or more Z-scores have NaN values\n",
      "Review eqi_mean carefully\n",
      "Warning!\n",
      "One or more Z-scores have NaN values\n",
      "Review eqi_mean carefully\n"
     ]
    },
    {
     "name": "stderr",
     "output_type": "stream",
     "text": [
      "/home/araz/Documents/GitHub/art-eqi-p300-validation/Functions/eeg_quality_index.py:83: RuntimeWarning: divide by zero encountered in divide\n",
      "  z_scores = np.floor(np.abs((eqi_test-mean_eqi_clean)/std_eqi_clean)) # Calculate z-scores\n",
      "/home/araz/Documents/GitHub/art-eqi-p300-validation/Functions/eeg_quality_index.py:83: RuntimeWarning: invalid value encountered in divide\n",
      "  z_scores = np.floor(np.abs((eqi_test-mean_eqi_clean)/std_eqi_clean)) # Calculate z-scores\n",
      "/home/araz/Documents/GitHub/art-eqi-p300-validation/Functions/eeg_quality_index.py:83: RuntimeWarning: divide by zero encountered in divide\n",
      "  z_scores = np.floor(np.abs((eqi_test-mean_eqi_clean)/std_eqi_clean)) # Calculate z-scores\n",
      "/home/araz/Documents/GitHub/art-eqi-p300-validation/Functions/eeg_quality_index.py:83: RuntimeWarning: invalid value encountered in divide\n",
      "  z_scores = np.floor(np.abs((eqi_test-mean_eqi_clean)/std_eqi_clean)) # Calculate z-scores\n"
     ]
    },
    {
     "name": "stdout",
     "output_type": "stream",
     "text": [
      "Warning!\n",
      "One or more Z-scores have NaN values\n",
      "Review eqi_mean carefully\n",
      "Warning!\n",
      "One or more Z-scores have NaN values\n",
      "Review eqi_mean carefully\n"
     ]
    },
    {
     "name": "stderr",
     "output_type": "stream",
     "text": [
      "/home/araz/Documents/GitHub/art-eqi-p300-validation/Functions/eeg_quality_index.py:83: RuntimeWarning: divide by zero encountered in divide\n",
      "  z_scores = np.floor(np.abs((eqi_test-mean_eqi_clean)/std_eqi_clean)) # Calculate z-scores\n",
      "/home/araz/Documents/GitHub/art-eqi-p300-validation/Functions/eeg_quality_index.py:83: RuntimeWarning: invalid value encountered in divide\n",
      "  z_scores = np.floor(np.abs((eqi_test-mean_eqi_clean)/std_eqi_clean)) # Calculate z-scores\n",
      "/home/araz/Documents/GitHub/art-eqi-p300-validation/Functions/eeg_quality_index.py:83: RuntimeWarning: divide by zero encountered in divide\n",
      "  z_scores = np.floor(np.abs((eqi_test-mean_eqi_clean)/std_eqi_clean)) # Calculate z-scores\n",
      "/home/araz/Documents/GitHub/art-eqi-p300-validation/Functions/eeg_quality_index.py:83: RuntimeWarning: invalid value encountered in divide\n",
      "  z_scores = np.floor(np.abs((eqi_test-mean_eqi_clean)/std_eqi_clean)) # Calculate z-scores\n"
     ]
    },
    {
     "name": "stdout",
     "output_type": "stream",
     "text": [
      "Warning!\n",
      "One or more Z-scores have NaN values\n",
      "Review eqi_mean carefully\n",
      "Warning!\n",
      "One or more Z-scores have NaN values\n",
      "Review eqi_mean carefully\n"
     ]
    },
    {
     "name": "stderr",
     "output_type": "stream",
     "text": [
      "/home/araz/Documents/GitHub/art-eqi-p300-validation/Functions/eeg_quality_index.py:83: RuntimeWarning: divide by zero encountered in divide\n",
      "  z_scores = np.floor(np.abs((eqi_test-mean_eqi_clean)/std_eqi_clean)) # Calculate z-scores\n",
      "/home/araz/Documents/GitHub/art-eqi-p300-validation/Functions/eeg_quality_index.py:83: RuntimeWarning: invalid value encountered in divide\n",
      "  z_scores = np.floor(np.abs((eqi_test-mean_eqi_clean)/std_eqi_clean)) # Calculate z-scores\n",
      "/home/araz/Documents/GitHub/art-eqi-p300-validation/Functions/eeg_quality_index.py:83: RuntimeWarning: divide by zero encountered in divide\n",
      "  z_scores = np.floor(np.abs((eqi_test-mean_eqi_clean)/std_eqi_clean)) # Calculate z-scores\n",
      "/home/araz/Documents/GitHub/art-eqi-p300-validation/Functions/eeg_quality_index.py:83: RuntimeWarning: invalid value encountered in divide\n",
      "  z_scores = np.floor(np.abs((eqi_test-mean_eqi_clean)/std_eqi_clean)) # Calculate z-scores\n"
     ]
    },
    {
     "name": "stdout",
     "output_type": "stream",
     "text": [
      "Warning!\n",
      "One or more Z-scores have NaN values\n",
      "Review eqi_mean carefully\n",
      "Warning!\n",
      "One or more Z-scores have NaN values\n",
      "Review eqi_mean carefully\n"
     ]
    },
    {
     "name": "stderr",
     "output_type": "stream",
     "text": [
      "/home/araz/Documents/GitHub/art-eqi-p300-validation/Functions/eeg_quality_index.py:83: RuntimeWarning: divide by zero encountered in divide\n",
      "  z_scores = np.floor(np.abs((eqi_test-mean_eqi_clean)/std_eqi_clean)) # Calculate z-scores\n",
      "/home/araz/Documents/GitHub/art-eqi-p300-validation/Functions/eeg_quality_index.py:83: RuntimeWarning: invalid value encountered in divide\n",
      "  z_scores = np.floor(np.abs((eqi_test-mean_eqi_clean)/std_eqi_clean)) # Calculate z-scores\n",
      "/home/araz/Documents/GitHub/art-eqi-p300-validation/Functions/eeg_quality_index.py:83: RuntimeWarning: divide by zero encountered in divide\n",
      "  z_scores = np.floor(np.abs((eqi_test-mean_eqi_clean)/std_eqi_clean)) # Calculate z-scores\n",
      "/home/araz/Documents/GitHub/art-eqi-p300-validation/Functions/eeg_quality_index.py:83: RuntimeWarning: invalid value encountered in divide\n",
      "  z_scores = np.floor(np.abs((eqi_test-mean_eqi_clean)/std_eqi_clean)) # Calculate z-scores\n"
     ]
    },
    {
     "name": "stdout",
     "output_type": "stream",
     "text": [
      "Warning!\n",
      "One or more Z-scores have NaN values\n",
      "Review eqi_mean carefully\n",
      "Warning!\n",
      "One or more Z-scores have NaN values\n",
      "Review eqi_mean carefully\n"
     ]
    },
    {
     "name": "stderr",
     "output_type": "stream",
     "text": [
      "/home/araz/Documents/GitHub/art-eqi-p300-validation/Functions/eeg_quality_index.py:83: RuntimeWarning: divide by zero encountered in divide\n",
      "  z_scores = np.floor(np.abs((eqi_test-mean_eqi_clean)/std_eqi_clean)) # Calculate z-scores\n",
      "/home/araz/Documents/GitHub/art-eqi-p300-validation/Functions/eeg_quality_index.py:83: RuntimeWarning: invalid value encountered in divide\n",
      "  z_scores = np.floor(np.abs((eqi_test-mean_eqi_clean)/std_eqi_clean)) # Calculate z-scores\n"
     ]
    },
    {
     "name": "stdout",
     "output_type": "stream",
     "text": [
      "Warning!\n",
      "One or more Z-scores have NaN values\n",
      "Review eqi_mean carefully\n"
     ]
    },
    {
     "name": "stderr",
     "output_type": "stream",
     "text": [
      "/home/araz/Documents/GitHub/art-eqi-p300-validation/Functions/eeg_quality_index.py:83: RuntimeWarning: divide by zero encountered in divide\n",
      "  z_scores = np.floor(np.abs((eqi_test-mean_eqi_clean)/std_eqi_clean)) # Calculate z-scores\n",
      "/home/araz/Documents/GitHub/art-eqi-p300-validation/Functions/eeg_quality_index.py:83: RuntimeWarning: invalid value encountered in divide\n",
      "  z_scores = np.floor(np.abs((eqi_test-mean_eqi_clean)/std_eqi_clean)) # Calculate z-scores\n"
     ]
    },
    {
     "name": "stdout",
     "output_type": "stream",
     "text": [
      "Warning!\n",
      "One or more Z-scores have NaN values\n",
      "Review eqi_mean carefully\n"
     ]
    },
    {
     "name": "stderr",
     "output_type": "stream",
     "text": [
      "/home/araz/Documents/GitHub/art-eqi-p300-validation/Functions/eeg_quality_index.py:83: RuntimeWarning: divide by zero encountered in divide\n",
      "  z_scores = np.floor(np.abs((eqi_test-mean_eqi_clean)/std_eqi_clean)) # Calculate z-scores\n",
      "/home/araz/Documents/GitHub/art-eqi-p300-validation/Functions/eeg_quality_index.py:83: RuntimeWarning: invalid value encountered in divide\n",
      "  z_scores = np.floor(np.abs((eqi_test-mean_eqi_clean)/std_eqi_clean)) # Calculate z-scores\n"
     ]
    },
    {
     "name": "stdout",
     "output_type": "stream",
     "text": [
      "Warning!\n",
      "One or more Z-scores have NaN values\n",
      "Review eqi_mean carefully\n"
     ]
    },
    {
     "name": "stderr",
     "output_type": "stream",
     "text": [
      "/home/araz/Documents/GitHub/art-eqi-p300-validation/Functions/eeg_quality_index.py:83: RuntimeWarning: divide by zero encountered in divide\n",
      "  z_scores = np.floor(np.abs((eqi_test-mean_eqi_clean)/std_eqi_clean)) # Calculate z-scores\n",
      "/home/araz/Documents/GitHub/art-eqi-p300-validation/Functions/eeg_quality_index.py:83: RuntimeWarning: invalid value encountered in divide\n",
      "  z_scores = np.floor(np.abs((eqi_test-mean_eqi_clean)/std_eqi_clean)) # Calculate z-scores\n",
      "/home/araz/Documents/GitHub/art-eqi-p300-validation/Functions/eeg_quality_index.py:83: RuntimeWarning: divide by zero encountered in divide\n",
      "  z_scores = np.floor(np.abs((eqi_test-mean_eqi_clean)/std_eqi_clean)) # Calculate z-scores\n",
      "/home/araz/Documents/GitHub/art-eqi-p300-validation/Functions/eeg_quality_index.py:83: RuntimeWarning: invalid value encountered in divide\n",
      "  z_scores = np.floor(np.abs((eqi_test-mean_eqi_clean)/std_eqi_clean)) # Calculate z-scores\n"
     ]
    },
    {
     "name": "stdout",
     "output_type": "stream",
     "text": [
      "Warning!\n",
      "One or more Z-scores have NaN values\n",
      "Review eqi_mean carefully\n",
      "Warning!\n",
      "One or more Z-scores have NaN values\n",
      "Review eqi_mean carefully\n"
     ]
    },
    {
     "name": "stderr",
     "output_type": "stream",
     "text": [
      "/home/araz/Documents/GitHub/art-eqi-p300-validation/Functions/eeg_quality_index.py:83: RuntimeWarning: divide by zero encountered in divide\n",
      "  z_scores = np.floor(np.abs((eqi_test-mean_eqi_clean)/std_eqi_clean)) # Calculate z-scores\n",
      "/home/araz/Documents/GitHub/art-eqi-p300-validation/Functions/eeg_quality_index.py:83: RuntimeWarning: invalid value encountered in divide\n",
      "  z_scores = np.floor(np.abs((eqi_test-mean_eqi_clean)/std_eqi_clean)) # Calculate z-scores\n"
     ]
    },
    {
     "name": "stdout",
     "output_type": "stream",
     "text": [
      "Warning!\n",
      "One or more Z-scores have NaN values\n",
      "Review eqi_mean carefully\n"
     ]
    },
    {
     "name": "stderr",
     "output_type": "stream",
     "text": [
      "/home/araz/Documents/GitHub/art-eqi-p300-validation/Functions/eeg_quality_index.py:83: RuntimeWarning: divide by zero encountered in divide\n",
      "  z_scores = np.floor(np.abs((eqi_test-mean_eqi_clean)/std_eqi_clean)) # Calculate z-scores\n",
      "/home/araz/Documents/GitHub/art-eqi-p300-validation/Functions/eeg_quality_index.py:83: RuntimeWarning: invalid value encountered in divide\n",
      "  z_scores = np.floor(np.abs((eqi_test-mean_eqi_clean)/std_eqi_clean)) # Calculate z-scores\n",
      "/home/araz/Documents/GitHub/art-eqi-p300-validation/Functions/eeg_quality_index.py:83: RuntimeWarning: divide by zero encountered in divide\n",
      "  z_scores = np.floor(np.abs((eqi_test-mean_eqi_clean)/std_eqi_clean)) # Calculate z-scores\n",
      "/home/araz/Documents/GitHub/art-eqi-p300-validation/Functions/eeg_quality_index.py:83: RuntimeWarning: invalid value encountered in divide\n",
      "  z_scores = np.floor(np.abs((eqi_test-mean_eqi_clean)/std_eqi_clean)) # Calculate z-scores\n"
     ]
    },
    {
     "name": "stdout",
     "output_type": "stream",
     "text": [
      "Warning!\n",
      "One or more Z-scores have NaN values\n",
      "Review eqi_mean carefully\n",
      "Warning!\n",
      "One or more Z-scores have NaN values\n",
      "Review eqi_mean carefully\n"
     ]
    },
    {
     "name": "stderr",
     "output_type": "stream",
     "text": [
      "/home/araz/Documents/GitHub/art-eqi-p300-validation/Functions/eeg_quality_index.py:83: RuntimeWarning: divide by zero encountered in divide\n",
      "  z_scores = np.floor(np.abs((eqi_test-mean_eqi_clean)/std_eqi_clean)) # Calculate z-scores\n",
      "/home/araz/Documents/GitHub/art-eqi-p300-validation/Functions/eeg_quality_index.py:83: RuntimeWarning: invalid value encountered in divide\n",
      "  z_scores = np.floor(np.abs((eqi_test-mean_eqi_clean)/std_eqi_clean)) # Calculate z-scores\n"
     ]
    },
    {
     "name": "stdout",
     "output_type": "stream",
     "text": [
      "Warning!\n",
      "One or more Z-scores have NaN values\n",
      "Review eqi_mean carefully\n"
     ]
    },
    {
     "name": "stderr",
     "output_type": "stream",
     "text": [
      "/home/araz/Documents/GitHub/art-eqi-p300-validation/Functions/eeg_quality_index.py:83: RuntimeWarning: divide by zero encountered in divide\n",
      "  z_scores = np.floor(np.abs((eqi_test-mean_eqi_clean)/std_eqi_clean)) # Calculate z-scores\n",
      "/home/araz/Documents/GitHub/art-eqi-p300-validation/Functions/eeg_quality_index.py:83: RuntimeWarning: invalid value encountered in divide\n",
      "  z_scores = np.floor(np.abs((eqi_test-mean_eqi_clean)/std_eqi_clean)) # Calculate z-scores\n"
     ]
    },
    {
     "name": "stdout",
     "output_type": "stream",
     "text": [
      "Warning!\n",
      "One or more Z-scores have NaN values\n",
      "Review eqi_mean carefully\n"
     ]
    },
    {
     "name": "stderr",
     "output_type": "stream",
     "text": [
      "/home/araz/Documents/GitHub/art-eqi-p300-validation/Functions/eeg_quality_index.py:83: RuntimeWarning: divide by zero encountered in divide\n",
      "  z_scores = np.floor(np.abs((eqi_test-mean_eqi_clean)/std_eqi_clean)) # Calculate z-scores\n",
      "/home/araz/Documents/GitHub/art-eqi-p300-validation/Functions/eeg_quality_index.py:83: RuntimeWarning: invalid value encountered in divide\n",
      "  z_scores = np.floor(np.abs((eqi_test-mean_eqi_clean)/std_eqi_clean)) # Calculate z-scores\n"
     ]
    },
    {
     "name": "stdout",
     "output_type": "stream",
     "text": [
      "Warning!\n",
      "One or more Z-scores have NaN values\n",
      "Review eqi_mean carefully\n"
     ]
    },
    {
     "name": "stderr",
     "output_type": "stream",
     "text": [
      "/home/araz/Documents/GitHub/art-eqi-p300-validation/Functions/eeg_quality_index.py:83: RuntimeWarning: divide by zero encountered in divide\n",
      "  z_scores = np.floor(np.abs((eqi_test-mean_eqi_clean)/std_eqi_clean)) # Calculate z-scores\n",
      "/home/araz/Documents/GitHub/art-eqi-p300-validation/Functions/eeg_quality_index.py:83: RuntimeWarning: invalid value encountered in divide\n",
      "  z_scores = np.floor(np.abs((eqi_test-mean_eqi_clean)/std_eqi_clean)) # Calculate z-scores\n"
     ]
    },
    {
     "name": "stdout",
     "output_type": "stream",
     "text": [
      "Warning!\n",
      "One or more Z-scores have NaN values\n",
      "Review eqi_mean carefully\n"
     ]
    },
    {
     "name": "stderr",
     "output_type": "stream",
     "text": [
      "/home/araz/Documents/GitHub/art-eqi-p300-validation/Functions/eeg_quality_index.py:83: RuntimeWarning: divide by zero encountered in divide\n",
      "  z_scores = np.floor(np.abs((eqi_test-mean_eqi_clean)/std_eqi_clean)) # Calculate z-scores\n",
      "/home/araz/Documents/GitHub/art-eqi-p300-validation/Functions/eeg_quality_index.py:83: RuntimeWarning: invalid value encountered in divide\n",
      "  z_scores = np.floor(np.abs((eqi_test-mean_eqi_clean)/std_eqi_clean)) # Calculate z-scores\n",
      "/home/araz/Documents/GitHub/art-eqi-p300-validation/Functions/eeg_quality_index.py:83: RuntimeWarning: divide by zero encountered in divide\n",
      "  z_scores = np.floor(np.abs((eqi_test-mean_eqi_clean)/std_eqi_clean)) # Calculate z-scores\n",
      "/home/araz/Documents/GitHub/art-eqi-p300-validation/Functions/eeg_quality_index.py:83: RuntimeWarning: invalid value encountered in divide\n",
      "  z_scores = np.floor(np.abs((eqi_test-mean_eqi_clean)/std_eqi_clean)) # Calculate z-scores\n",
      "/home/araz/Documents/GitHub/art-eqi-p300-validation/Functions/eeg_quality_index.py:83: RuntimeWarning: divide by zero encountered in divide\n",
      "  z_scores = np.floor(np.abs((eqi_test-mean_eqi_clean)/std_eqi_clean)) # Calculate z-scores\n",
      "/home/araz/Documents/GitHub/art-eqi-p300-validation/Functions/eeg_quality_index.py:83: RuntimeWarning: invalid value encountered in divide\n",
      "  z_scores = np.floor(np.abs((eqi_test-mean_eqi_clean)/std_eqi_clean)) # Calculate z-scores\n"
     ]
    },
    {
     "name": "stdout",
     "output_type": "stream",
     "text": [
      "Warning!\n",
      "One or more Z-scores have NaN values\n",
      "Review eqi_mean carefully\n",
      "Warning!\n",
      "One or more Z-scores have NaN values\n",
      "Review eqi_mean carefully\n",
      "Warning!\n",
      "One or more Z-scores have NaN values\n",
      "Review eqi_mean carefully\n"
     ]
    },
    {
     "name": "stderr",
     "output_type": "stream",
     "text": [
      "/home/araz/Documents/GitHub/art-eqi-p300-validation/Functions/eeg_quality_index.py:83: RuntimeWarning: divide by zero encountered in divide\n",
      "  z_scores = np.floor(np.abs((eqi_test-mean_eqi_clean)/std_eqi_clean)) # Calculate z-scores\n",
      "/home/araz/Documents/GitHub/art-eqi-p300-validation/Functions/eeg_quality_index.py:83: RuntimeWarning: invalid value encountered in divide\n",
      "  z_scores = np.floor(np.abs((eqi_test-mean_eqi_clean)/std_eqi_clean)) # Calculate z-scores\n",
      "/home/araz/Documents/GitHub/art-eqi-p300-validation/Functions/eeg_quality_index.py:83: RuntimeWarning: divide by zero encountered in divide\n",
      "  z_scores = np.floor(np.abs((eqi_test-mean_eqi_clean)/std_eqi_clean)) # Calculate z-scores\n",
      "/home/araz/Documents/GitHub/art-eqi-p300-validation/Functions/eeg_quality_index.py:83: RuntimeWarning: invalid value encountered in divide\n",
      "  z_scores = np.floor(np.abs((eqi_test-mean_eqi_clean)/std_eqi_clean)) # Calculate z-scores\n"
     ]
    },
    {
     "name": "stdout",
     "output_type": "stream",
     "text": [
      "Warning!\n",
      "One or more Z-scores have NaN values\n",
      "Review eqi_mean carefully\n",
      "Warning!\n",
      "One or more Z-scores have NaN values\n",
      "Review eqi_mean carefully\n"
     ]
    },
    {
     "name": "stderr",
     "output_type": "stream",
     "text": [
      "/home/araz/Documents/GitHub/art-eqi-p300-validation/Functions/eeg_quality_index.py:83: RuntimeWarning: divide by zero encountered in divide\n",
      "  z_scores = np.floor(np.abs((eqi_test-mean_eqi_clean)/std_eqi_clean)) # Calculate z-scores\n",
      "/home/araz/Documents/GitHub/art-eqi-p300-validation/Functions/eeg_quality_index.py:83: RuntimeWarning: invalid value encountered in divide\n",
      "  z_scores = np.floor(np.abs((eqi_test-mean_eqi_clean)/std_eqi_clean)) # Calculate z-scores\n"
     ]
    },
    {
     "name": "stdout",
     "output_type": "stream",
     "text": [
      "Warning!\n",
      "One or more Z-scores have NaN values\n",
      "Review eqi_mean carefully\n"
     ]
    },
    {
     "name": "stderr",
     "output_type": "stream",
     "text": [
      "/home/araz/Documents/GitHub/art-eqi-p300-validation/Functions/eeg_quality_index.py:83: RuntimeWarning: divide by zero encountered in divide\n",
      "  z_scores = np.floor(np.abs((eqi_test-mean_eqi_clean)/std_eqi_clean)) # Calculate z-scores\n",
      "/home/araz/Documents/GitHub/art-eqi-p300-validation/Functions/eeg_quality_index.py:83: RuntimeWarning: invalid value encountered in divide\n",
      "  z_scores = np.floor(np.abs((eqi_test-mean_eqi_clean)/std_eqi_clean)) # Calculate z-scores\n"
     ]
    },
    {
     "name": "stdout",
     "output_type": "stream",
     "text": [
      "Warning!\n",
      "One or more Z-scores have NaN values\n",
      "Review eqi_mean carefully\n"
     ]
    },
    {
     "name": "stderr",
     "output_type": "stream",
     "text": [
      "/home/araz/Documents/GitHub/art-eqi-p300-validation/Functions/eeg_quality_index.py:83: RuntimeWarning: divide by zero encountered in divide\n",
      "  z_scores = np.floor(np.abs((eqi_test-mean_eqi_clean)/std_eqi_clean)) # Calculate z-scores\n",
      "/home/araz/Documents/GitHub/art-eqi-p300-validation/Functions/eeg_quality_index.py:83: RuntimeWarning: invalid value encountered in divide\n",
      "  z_scores = np.floor(np.abs((eqi_test-mean_eqi_clean)/std_eqi_clean)) # Calculate z-scores\n",
      "/home/araz/Documents/GitHub/art-eqi-p300-validation/Functions/eeg_quality_index.py:83: RuntimeWarning: divide by zero encountered in divide\n",
      "  z_scores = np.floor(np.abs((eqi_test-mean_eqi_clean)/std_eqi_clean)) # Calculate z-scores\n",
      "/home/araz/Documents/GitHub/art-eqi-p300-validation/Functions/eeg_quality_index.py:83: RuntimeWarning: invalid value encountered in divide\n",
      "  z_scores = np.floor(np.abs((eqi_test-mean_eqi_clean)/std_eqi_clean)) # Calculate z-scores\n"
     ]
    },
    {
     "name": "stdout",
     "output_type": "stream",
     "text": [
      "Warning!\n",
      "One or more Z-scores have NaN values\n",
      "Review eqi_mean carefully\n",
      "Warning!\n",
      "One or more Z-scores have NaN values\n",
      "Review eqi_mean carefully\n"
     ]
    },
    {
     "name": "stderr",
     "output_type": "stream",
     "text": [
      "/home/araz/Documents/GitHub/art-eqi-p300-validation/Functions/eeg_quality_index.py:83: RuntimeWarning: divide by zero encountered in divide\n",
      "  z_scores = np.floor(np.abs((eqi_test-mean_eqi_clean)/std_eqi_clean)) # Calculate z-scores\n",
      "/home/araz/Documents/GitHub/art-eqi-p300-validation/Functions/eeg_quality_index.py:83: RuntimeWarning: invalid value encountered in divide\n",
      "  z_scores = np.floor(np.abs((eqi_test-mean_eqi_clean)/std_eqi_clean)) # Calculate z-scores\n"
     ]
    },
    {
     "name": "stdout",
     "output_type": "stream",
     "text": [
      "Warning!\n",
      "One or more Z-scores have NaN values\n",
      "Review eqi_mean carefully\n"
     ]
    },
    {
     "name": "stderr",
     "output_type": "stream",
     "text": [
      "/home/araz/Documents/GitHub/art-eqi-p300-validation/Functions/eeg_quality_index.py:83: RuntimeWarning: divide by zero encountered in divide\n",
      "  z_scores = np.floor(np.abs((eqi_test-mean_eqi_clean)/std_eqi_clean)) # Calculate z-scores\n",
      "/home/araz/Documents/GitHub/art-eqi-p300-validation/Functions/eeg_quality_index.py:83: RuntimeWarning: invalid value encountered in divide\n",
      "  z_scores = np.floor(np.abs((eqi_test-mean_eqi_clean)/std_eqi_clean)) # Calculate z-scores\n"
     ]
    },
    {
     "name": "stdout",
     "output_type": "stream",
     "text": [
      "Warning!\n",
      "One or more Z-scores have NaN values\n",
      "Review eqi_mean carefully\n"
     ]
    },
    {
     "name": "stderr",
     "output_type": "stream",
     "text": [
      "/home/araz/Documents/GitHub/art-eqi-p300-validation/Functions/eeg_quality_index.py:83: RuntimeWarning: divide by zero encountered in divide\n",
      "  z_scores = np.floor(np.abs((eqi_test-mean_eqi_clean)/std_eqi_clean)) # Calculate z-scores\n",
      "/home/araz/Documents/GitHub/art-eqi-p300-validation/Functions/eeg_quality_index.py:83: RuntimeWarning: invalid value encountered in divide\n",
      "  z_scores = np.floor(np.abs((eqi_test-mean_eqi_clean)/std_eqi_clean)) # Calculate z-scores\n",
      "/home/araz/Documents/GitHub/art-eqi-p300-validation/Functions/eeg_quality_index.py:83: RuntimeWarning: divide by zero encountered in divide\n",
      "  z_scores = np.floor(np.abs((eqi_test-mean_eqi_clean)/std_eqi_clean)) # Calculate z-scores\n",
      "/home/araz/Documents/GitHub/art-eqi-p300-validation/Functions/eeg_quality_index.py:83: RuntimeWarning: invalid value encountered in divide\n",
      "  z_scores = np.floor(np.abs((eqi_test-mean_eqi_clean)/std_eqi_clean)) # Calculate z-scores\n"
     ]
    },
    {
     "name": "stdout",
     "output_type": "stream",
     "text": [
      "Warning!\n",
      "One or more Z-scores have NaN values\n",
      "Review eqi_mean carefully\n",
      "Warning!\n",
      "One or more Z-scores have NaN values\n",
      "Review eqi_mean carefully\n"
     ]
    },
    {
     "name": "stderr",
     "output_type": "stream",
     "text": [
      "/home/araz/Documents/GitHub/art-eqi-p300-validation/Functions/eeg_quality_index.py:83: RuntimeWarning: divide by zero encountered in divide\n",
      "  z_scores = np.floor(np.abs((eqi_test-mean_eqi_clean)/std_eqi_clean)) # Calculate z-scores\n",
      "/home/araz/Documents/GitHub/art-eqi-p300-validation/Functions/eeg_quality_index.py:83: RuntimeWarning: invalid value encountered in divide\n",
      "  z_scores = np.floor(np.abs((eqi_test-mean_eqi_clean)/std_eqi_clean)) # Calculate z-scores\n",
      "/home/araz/Documents/GitHub/art-eqi-p300-validation/Functions/eeg_quality_index.py:83: RuntimeWarning: divide by zero encountered in divide\n",
      "  z_scores = np.floor(np.abs((eqi_test-mean_eqi_clean)/std_eqi_clean)) # Calculate z-scores\n",
      "/home/araz/Documents/GitHub/art-eqi-p300-validation/Functions/eeg_quality_index.py:83: RuntimeWarning: invalid value encountered in divide\n",
      "  z_scores = np.floor(np.abs((eqi_test-mean_eqi_clean)/std_eqi_clean)) # Calculate z-scores\n"
     ]
    },
    {
     "name": "stdout",
     "output_type": "stream",
     "text": [
      "Warning!\n",
      "One or more Z-scores have NaN values\n",
      "Review eqi_mean carefully\n",
      "Warning!\n",
      "One or more Z-scores have NaN values\n",
      "Review eqi_mean carefully\n"
     ]
    },
    {
     "name": "stderr",
     "output_type": "stream",
     "text": [
      "/home/araz/Documents/GitHub/art-eqi-p300-validation/Functions/eeg_quality_index.py:83: RuntimeWarning: divide by zero encountered in divide\n",
      "  z_scores = np.floor(np.abs((eqi_test-mean_eqi_clean)/std_eqi_clean)) # Calculate z-scores\n",
      "/home/araz/Documents/GitHub/art-eqi-p300-validation/Functions/eeg_quality_index.py:83: RuntimeWarning: invalid value encountered in divide\n",
      "  z_scores = np.floor(np.abs((eqi_test-mean_eqi_clean)/std_eqi_clean)) # Calculate z-scores\n",
      "/home/araz/Documents/GitHub/art-eqi-p300-validation/Functions/eeg_quality_index.py:83: RuntimeWarning: divide by zero encountered in divide\n",
      "  z_scores = np.floor(np.abs((eqi_test-mean_eqi_clean)/std_eqi_clean)) # Calculate z-scores\n",
      "/home/araz/Documents/GitHub/art-eqi-p300-validation/Functions/eeg_quality_index.py:83: RuntimeWarning: invalid value encountered in divide\n",
      "  z_scores = np.floor(np.abs((eqi_test-mean_eqi_clean)/std_eqi_clean)) # Calculate z-scores\n"
     ]
    },
    {
     "name": "stdout",
     "output_type": "stream",
     "text": [
      "Warning!\n",
      "One or more Z-scores have NaN values\n",
      "Review eqi_mean carefully\n",
      "Warning!\n",
      "One or more Z-scores have NaN values\n",
      "Review eqi_mean carefully\n"
     ]
    },
    {
     "name": "stderr",
     "output_type": "stream",
     "text": [
      "/home/araz/Documents/GitHub/art-eqi-p300-validation/Functions/eeg_quality_index.py:83: RuntimeWarning: divide by zero encountered in divide\n",
      "  z_scores = np.floor(np.abs((eqi_test-mean_eqi_clean)/std_eqi_clean)) # Calculate z-scores\n",
      "/home/araz/Documents/GitHub/art-eqi-p300-validation/Functions/eeg_quality_index.py:83: RuntimeWarning: invalid value encountered in divide\n",
      "  z_scores = np.floor(np.abs((eqi_test-mean_eqi_clean)/std_eqi_clean)) # Calculate z-scores\n",
      "/home/araz/Documents/GitHub/art-eqi-p300-validation/Functions/eeg_quality_index.py:83: RuntimeWarning: divide by zero encountered in divide\n",
      "  z_scores = np.floor(np.abs((eqi_test-mean_eqi_clean)/std_eqi_clean)) # Calculate z-scores\n",
      "/home/araz/Documents/GitHub/art-eqi-p300-validation/Functions/eeg_quality_index.py:83: RuntimeWarning: invalid value encountered in divide\n",
      "  z_scores = np.floor(np.abs((eqi_test-mean_eqi_clean)/std_eqi_clean)) # Calculate z-scores\n"
     ]
    },
    {
     "name": "stdout",
     "output_type": "stream",
     "text": [
      "Warning!\n",
      "One or more Z-scores have NaN values\n",
      "Review eqi_mean carefully\n",
      "Warning!\n",
      "One or more Z-scores have NaN values\n",
      "Review eqi_mean carefully\n"
     ]
    },
    {
     "name": "stderr",
     "output_type": "stream",
     "text": [
      "/home/araz/Documents/GitHub/art-eqi-p300-validation/Functions/eeg_quality_index.py:83: RuntimeWarning: divide by zero encountered in divide\n",
      "  z_scores = np.floor(np.abs((eqi_test-mean_eqi_clean)/std_eqi_clean)) # Calculate z-scores\n",
      "/home/araz/Documents/GitHub/art-eqi-p300-validation/Functions/eeg_quality_index.py:83: RuntimeWarning: invalid value encountered in divide\n",
      "  z_scores = np.floor(np.abs((eqi_test-mean_eqi_clean)/std_eqi_clean)) # Calculate z-scores\n"
     ]
    },
    {
     "name": "stdout",
     "output_type": "stream",
     "text": [
      "Warning!\n",
      "One or more Z-scores have NaN values\n",
      "Review eqi_mean carefully\n"
     ]
    },
    {
     "name": "stderr",
     "output_type": "stream",
     "text": [
      "/home/araz/Documents/GitHub/art-eqi-p300-validation/Functions/eeg_quality_index.py:83: RuntimeWarning: divide by zero encountered in divide\n",
      "  z_scores = np.floor(np.abs((eqi_test-mean_eqi_clean)/std_eqi_clean)) # Calculate z-scores\n",
      "/home/araz/Documents/GitHub/art-eqi-p300-validation/Functions/eeg_quality_index.py:83: RuntimeWarning: invalid value encountered in divide\n",
      "  z_scores = np.floor(np.abs((eqi_test-mean_eqi_clean)/std_eqi_clean)) # Calculate z-scores\n",
      "/home/araz/Documents/GitHub/art-eqi-p300-validation/Functions/eeg_quality_index.py:83: RuntimeWarning: divide by zero encountered in divide\n",
      "  z_scores = np.floor(np.abs((eqi_test-mean_eqi_clean)/std_eqi_clean)) # Calculate z-scores\n",
      "/home/araz/Documents/GitHub/art-eqi-p300-validation/Functions/eeg_quality_index.py:83: RuntimeWarning: invalid value encountered in divide\n",
      "  z_scores = np.floor(np.abs((eqi_test-mean_eqi_clean)/std_eqi_clean)) # Calculate z-scores\n"
     ]
    },
    {
     "name": "stdout",
     "output_type": "stream",
     "text": [
      "Warning!\n",
      "One or more Z-scores have NaN values\n",
      "Review eqi_mean carefully\n",
      "Warning!\n",
      "One or more Z-scores have NaN values\n",
      "Review eqi_mean carefully\n"
     ]
    },
    {
     "name": "stderr",
     "output_type": "stream",
     "text": [
      "/home/araz/Documents/GitHub/art-eqi-p300-validation/Functions/eeg_quality_index.py:83: RuntimeWarning: divide by zero encountered in divide\n",
      "  z_scores = np.floor(np.abs((eqi_test-mean_eqi_clean)/std_eqi_clean)) # Calculate z-scores\n",
      "/home/araz/Documents/GitHub/art-eqi-p300-validation/Functions/eeg_quality_index.py:83: RuntimeWarning: invalid value encountered in divide\n",
      "  z_scores = np.floor(np.abs((eqi_test-mean_eqi_clean)/std_eqi_clean)) # Calculate z-scores\n",
      "/home/araz/Documents/GitHub/art-eqi-p300-validation/Functions/eeg_quality_index.py:83: RuntimeWarning: divide by zero encountered in divide\n",
      "  z_scores = np.floor(np.abs((eqi_test-mean_eqi_clean)/std_eqi_clean)) # Calculate z-scores\n",
      "/home/araz/Documents/GitHub/art-eqi-p300-validation/Functions/eeg_quality_index.py:83: RuntimeWarning: invalid value encountered in divide\n",
      "  z_scores = np.floor(np.abs((eqi_test-mean_eqi_clean)/std_eqi_clean)) # Calculate z-scores\n"
     ]
    },
    {
     "name": "stdout",
     "output_type": "stream",
     "text": [
      "Warning!\n",
      "One or more Z-scores have NaN values\n",
      "Review eqi_mean carefully\n",
      "Warning!\n",
      "One or more Z-scores have NaN values\n",
      "Review eqi_mean carefully\n"
     ]
    },
    {
     "name": "stderr",
     "output_type": "stream",
     "text": [
      "/home/araz/Documents/GitHub/art-eqi-p300-validation/Functions/eeg_quality_index.py:83: RuntimeWarning: divide by zero encountered in divide\n",
      "  z_scores = np.floor(np.abs((eqi_test-mean_eqi_clean)/std_eqi_clean)) # Calculate z-scores\n",
      "/home/araz/Documents/GitHub/art-eqi-p300-validation/Functions/eeg_quality_index.py:83: RuntimeWarning: invalid value encountered in divide\n",
      "  z_scores = np.floor(np.abs((eqi_test-mean_eqi_clean)/std_eqi_clean)) # Calculate z-scores\n"
     ]
    },
    {
     "name": "stdout",
     "output_type": "stream",
     "text": [
      "Warning!\n",
      "One or more Z-scores have NaN values\n",
      "Review eqi_mean carefully\n"
     ]
    },
    {
     "name": "stderr",
     "output_type": "stream",
     "text": [
      "/home/araz/Documents/GitHub/art-eqi-p300-validation/Functions/eeg_quality_index.py:83: RuntimeWarning: divide by zero encountered in divide\n",
      "  z_scores = np.floor(np.abs((eqi_test-mean_eqi_clean)/std_eqi_clean)) # Calculate z-scores\n",
      "/home/araz/Documents/GitHub/art-eqi-p300-validation/Functions/eeg_quality_index.py:83: RuntimeWarning: invalid value encountered in divide\n",
      "  z_scores = np.floor(np.abs((eqi_test-mean_eqi_clean)/std_eqi_clean)) # Calculate z-scores\n"
     ]
    },
    {
     "name": "stdout",
     "output_type": "stream",
     "text": [
      "Warning!\n",
      "One or more Z-scores have NaN values\n",
      "Review eqi_mean carefully\n"
     ]
    },
    {
     "name": "stderr",
     "output_type": "stream",
     "text": [
      "/home/araz/Documents/GitHub/art-eqi-p300-validation/Functions/eeg_quality_index.py:83: RuntimeWarning: divide by zero encountered in divide\n",
      "  z_scores = np.floor(np.abs((eqi_test-mean_eqi_clean)/std_eqi_clean)) # Calculate z-scores\n",
      "/home/araz/Documents/GitHub/art-eqi-p300-validation/Functions/eeg_quality_index.py:83: RuntimeWarning: invalid value encountered in divide\n",
      "  z_scores = np.floor(np.abs((eqi_test-mean_eqi_clean)/std_eqi_clean)) # Calculate z-scores\n",
      "/home/araz/Documents/GitHub/art-eqi-p300-validation/Functions/eeg_quality_index.py:83: RuntimeWarning: divide by zero encountered in divide\n",
      "  z_scores = np.floor(np.abs((eqi_test-mean_eqi_clean)/std_eqi_clean)) # Calculate z-scores\n",
      "/home/araz/Documents/GitHub/art-eqi-p300-validation/Functions/eeg_quality_index.py:83: RuntimeWarning: invalid value encountered in divide\n",
      "  z_scores = np.floor(np.abs((eqi_test-mean_eqi_clean)/std_eqi_clean)) # Calculate z-scores\n"
     ]
    },
    {
     "name": "stdout",
     "output_type": "stream",
     "text": [
      "Warning!\n",
      "One or more Z-scores have NaN values\n",
      "Review eqi_mean carefully\n",
      "Warning!\n",
      "One or more Z-scores have NaN values\n",
      "Review eqi_mean carefully\n"
     ]
    },
    {
     "name": "stderr",
     "output_type": "stream",
     "text": [
      "/home/araz/Documents/GitHub/art-eqi-p300-validation/Functions/eeg_quality_index.py:83: RuntimeWarning: divide by zero encountered in divide\n",
      "  z_scores = np.floor(np.abs((eqi_test-mean_eqi_clean)/std_eqi_clean)) # Calculate z-scores\n",
      "/home/araz/Documents/GitHub/art-eqi-p300-validation/Functions/eeg_quality_index.py:83: RuntimeWarning: invalid value encountered in divide\n",
      "  z_scores = np.floor(np.abs((eqi_test-mean_eqi_clean)/std_eqi_clean)) # Calculate z-scores\n"
     ]
    },
    {
     "name": "stdout",
     "output_type": "stream",
     "text": [
      "Warning!\n",
      "One or more Z-scores have NaN values\n",
      "Review eqi_mean carefully\n"
     ]
    },
    {
     "name": "stderr",
     "output_type": "stream",
     "text": [
      "/home/araz/Documents/GitHub/art-eqi-p300-validation/Functions/eeg_quality_index.py:83: RuntimeWarning: divide by zero encountered in divide\n",
      "  z_scores = np.floor(np.abs((eqi_test-mean_eqi_clean)/std_eqi_clean)) # Calculate z-scores\n",
      "/home/araz/Documents/GitHub/art-eqi-p300-validation/Functions/eeg_quality_index.py:83: RuntimeWarning: invalid value encountered in divide\n",
      "  z_scores = np.floor(np.abs((eqi_test-mean_eqi_clean)/std_eqi_clean)) # Calculate z-scores\n",
      "/home/araz/Documents/GitHub/art-eqi-p300-validation/Functions/eeg_quality_index.py:83: RuntimeWarning: divide by zero encountered in divide\n",
      "  z_scores = np.floor(np.abs((eqi_test-mean_eqi_clean)/std_eqi_clean)) # Calculate z-scores\n",
      "/home/araz/Documents/GitHub/art-eqi-p300-validation/Functions/eeg_quality_index.py:83: RuntimeWarning: invalid value encountered in divide\n",
      "  z_scores = np.floor(np.abs((eqi_test-mean_eqi_clean)/std_eqi_clean)) # Calculate z-scores\n"
     ]
    },
    {
     "name": "stdout",
     "output_type": "stream",
     "text": [
      "Warning!\n",
      "One or more Z-scores have NaN values\n",
      "Review eqi_mean carefully\n",
      "Warning!\n",
      "One or more Z-scores have NaN values\n",
      "Review eqi_mean carefully\n"
     ]
    },
    {
     "name": "stderr",
     "output_type": "stream",
     "text": [
      "/home/araz/Documents/GitHub/art-eqi-p300-validation/Functions/eeg_quality_index.py:83: RuntimeWarning: divide by zero encountered in divide\n",
      "  z_scores = np.floor(np.abs((eqi_test-mean_eqi_clean)/std_eqi_clean)) # Calculate z-scores\n",
      "/home/araz/Documents/GitHub/art-eqi-p300-validation/Functions/eeg_quality_index.py:83: RuntimeWarning: invalid value encountered in divide\n",
      "  z_scores = np.floor(np.abs((eqi_test-mean_eqi_clean)/std_eqi_clean)) # Calculate z-scores\n",
      "/home/araz/Documents/GitHub/art-eqi-p300-validation/Functions/eeg_quality_index.py:83: RuntimeWarning: divide by zero encountered in divide\n",
      "  z_scores = np.floor(np.abs((eqi_test-mean_eqi_clean)/std_eqi_clean)) # Calculate z-scores\n",
      "/home/araz/Documents/GitHub/art-eqi-p300-validation/Functions/eeg_quality_index.py:83: RuntimeWarning: invalid value encountered in divide\n",
      "  z_scores = np.floor(np.abs((eqi_test-mean_eqi_clean)/std_eqi_clean)) # Calculate z-scores\n"
     ]
    },
    {
     "name": "stdout",
     "output_type": "stream",
     "text": [
      "Warning!\n",
      "One or more Z-scores have NaN values\n",
      "Review eqi_mean carefully\n",
      "Warning!\n",
      "One or more Z-scores have NaN values\n",
      "Review eqi_mean carefully\n"
     ]
    },
    {
     "name": "stderr",
     "output_type": "stream",
     "text": [
      "/home/araz/Documents/GitHub/art-eqi-p300-validation/Functions/eeg_quality_index.py:83: RuntimeWarning: divide by zero encountered in divide\n",
      "  z_scores = np.floor(np.abs((eqi_test-mean_eqi_clean)/std_eqi_clean)) # Calculate z-scores\n",
      "/home/araz/Documents/GitHub/art-eqi-p300-validation/Functions/eeg_quality_index.py:83: RuntimeWarning: invalid value encountered in divide\n",
      "  z_scores = np.floor(np.abs((eqi_test-mean_eqi_clean)/std_eqi_clean)) # Calculate z-scores\n"
     ]
    },
    {
     "name": "stdout",
     "output_type": "stream",
     "text": [
      "Warning!\n",
      "One or more Z-scores have NaN values\n",
      "Review eqi_mean carefully\n"
     ]
    },
    {
     "name": "stderr",
     "output_type": "stream",
     "text": [
      "/home/araz/Documents/GitHub/art-eqi-p300-validation/Functions/eeg_quality_index.py:83: RuntimeWarning: divide by zero encountered in divide\n",
      "  z_scores = np.floor(np.abs((eqi_test-mean_eqi_clean)/std_eqi_clean)) # Calculate z-scores\n",
      "/home/araz/Documents/GitHub/art-eqi-p300-validation/Functions/eeg_quality_index.py:83: RuntimeWarning: invalid value encountered in divide\n",
      "  z_scores = np.floor(np.abs((eqi_test-mean_eqi_clean)/std_eqi_clean)) # Calculate z-scores\n"
     ]
    },
    {
     "name": "stdout",
     "output_type": "stream",
     "text": [
      "Warning!\n",
      "One or more Z-scores have NaN values\n",
      "Review eqi_mean carefully\n"
     ]
    },
    {
     "name": "stderr",
     "output_type": "stream",
     "text": [
      "/home/araz/Documents/GitHub/art-eqi-p300-validation/Functions/eeg_quality_index.py:83: RuntimeWarning: divide by zero encountered in divide\n",
      "  z_scores = np.floor(np.abs((eqi_test-mean_eqi_clean)/std_eqi_clean)) # Calculate z-scores\n",
      "/home/araz/Documents/GitHub/art-eqi-p300-validation/Functions/eeg_quality_index.py:83: RuntimeWarning: invalid value encountered in divide\n",
      "  z_scores = np.floor(np.abs((eqi_test-mean_eqi_clean)/std_eqi_clean)) # Calculate z-scores\n",
      "/home/araz/Documents/GitHub/art-eqi-p300-validation/Functions/eeg_quality_index.py:83: RuntimeWarning: divide by zero encountered in divide\n",
      "  z_scores = np.floor(np.abs((eqi_test-mean_eqi_clean)/std_eqi_clean)) # Calculate z-scores\n",
      "/home/araz/Documents/GitHub/art-eqi-p300-validation/Functions/eeg_quality_index.py:83: RuntimeWarning: invalid value encountered in divide\n",
      "  z_scores = np.floor(np.abs((eqi_test-mean_eqi_clean)/std_eqi_clean)) # Calculate z-scores\n"
     ]
    },
    {
     "name": "stdout",
     "output_type": "stream",
     "text": [
      "Warning!\n",
      "One or more Z-scores have NaN values\n",
      "Review eqi_mean carefully\n",
      "Warning!\n",
      "One or more Z-scores have NaN values\n",
      "Review eqi_mean carefully\n"
     ]
    },
    {
     "name": "stderr",
     "output_type": "stream",
     "text": [
      "/home/araz/Documents/GitHub/art-eqi-p300-validation/Functions/eeg_quality_index.py:83: RuntimeWarning: divide by zero encountered in divide\n",
      "  z_scores = np.floor(np.abs((eqi_test-mean_eqi_clean)/std_eqi_clean)) # Calculate z-scores\n",
      "/home/araz/Documents/GitHub/art-eqi-p300-validation/Functions/eeg_quality_index.py:83: RuntimeWarning: invalid value encountered in divide\n",
      "  z_scores = np.floor(np.abs((eqi_test-mean_eqi_clean)/std_eqi_clean)) # Calculate z-scores\n"
     ]
    },
    {
     "name": "stdout",
     "output_type": "stream",
     "text": [
      "Warning!\n",
      "One or more Z-scores have NaN values\n",
      "Review eqi_mean carefully\n"
     ]
    },
    {
     "name": "stderr",
     "output_type": "stream",
     "text": [
      "/home/araz/Documents/GitHub/art-eqi-p300-validation/Functions/eeg_quality_index.py:83: RuntimeWarning: divide by zero encountered in divide\n",
      "  z_scores = np.floor(np.abs((eqi_test-mean_eqi_clean)/std_eqi_clean)) # Calculate z-scores\n",
      "/home/araz/Documents/GitHub/art-eqi-p300-validation/Functions/eeg_quality_index.py:83: RuntimeWarning: invalid value encountered in divide\n",
      "  z_scores = np.floor(np.abs((eqi_test-mean_eqi_clean)/std_eqi_clean)) # Calculate z-scores\n",
      "/home/araz/Documents/GitHub/art-eqi-p300-validation/Functions/eeg_quality_index.py:83: RuntimeWarning: divide by zero encountered in divide\n",
      "  z_scores = np.floor(np.abs((eqi_test-mean_eqi_clean)/std_eqi_clean)) # Calculate z-scores\n",
      "/home/araz/Documents/GitHub/art-eqi-p300-validation/Functions/eeg_quality_index.py:83: RuntimeWarning: invalid value encountered in divide\n",
      "  z_scores = np.floor(np.abs((eqi_test-mean_eqi_clean)/std_eqi_clean)) # Calculate z-scores\n"
     ]
    },
    {
     "name": "stdout",
     "output_type": "stream",
     "text": [
      "Warning!\n",
      "One or more Z-scores have NaN values\n",
      "Review eqi_mean carefully\n",
      "Warning!\n",
      "One or more Z-scores have NaN values\n",
      "Review eqi_mean carefully\n"
     ]
    },
    {
     "name": "stderr",
     "output_type": "stream",
     "text": [
      "/home/araz/Documents/GitHub/art-eqi-p300-validation/Functions/eeg_quality_index.py:83: RuntimeWarning: divide by zero encountered in divide\n",
      "  z_scores = np.floor(np.abs((eqi_test-mean_eqi_clean)/std_eqi_clean)) # Calculate z-scores\n",
      "/home/araz/Documents/GitHub/art-eqi-p300-validation/Functions/eeg_quality_index.py:83: RuntimeWarning: invalid value encountered in divide\n",
      "  z_scores = np.floor(np.abs((eqi_test-mean_eqi_clean)/std_eqi_clean)) # Calculate z-scores\n"
     ]
    },
    {
     "name": "stdout",
     "output_type": "stream",
     "text": [
      "Warning!\n",
      "One or more Z-scores have NaN values\n",
      "Review eqi_mean carefully\n"
     ]
    },
    {
     "name": "stderr",
     "output_type": "stream",
     "text": [
      "/home/araz/Documents/GitHub/art-eqi-p300-validation/Functions/eeg_quality_index.py:83: RuntimeWarning: divide by zero encountered in divide\n",
      "  z_scores = np.floor(np.abs((eqi_test-mean_eqi_clean)/std_eqi_clean)) # Calculate z-scores\n",
      "/home/araz/Documents/GitHub/art-eqi-p300-validation/Functions/eeg_quality_index.py:83: RuntimeWarning: invalid value encountered in divide\n",
      "  z_scores = np.floor(np.abs((eqi_test-mean_eqi_clean)/std_eqi_clean)) # Calculate z-scores\n"
     ]
    },
    {
     "name": "stdout",
     "output_type": "stream",
     "text": [
      "Warning!\n",
      "One or more Z-scores have NaN values\n",
      "Review eqi_mean carefully\n"
     ]
    },
    {
     "name": "stderr",
     "output_type": "stream",
     "text": [
      "/home/araz/Documents/GitHub/art-eqi-p300-validation/Functions/eeg_quality_index.py:83: RuntimeWarning: divide by zero encountered in divide\n",
      "  z_scores = np.floor(np.abs((eqi_test-mean_eqi_clean)/std_eqi_clean)) # Calculate z-scores\n",
      "/home/araz/Documents/GitHub/art-eqi-p300-validation/Functions/eeg_quality_index.py:83: RuntimeWarning: invalid value encountered in divide\n",
      "  z_scores = np.floor(np.abs((eqi_test-mean_eqi_clean)/std_eqi_clean)) # Calculate z-scores\n"
     ]
    },
    {
     "name": "stdout",
     "output_type": "stream",
     "text": [
      "Warning!\n",
      "One or more Z-scores have NaN values\n",
      "Review eqi_mean carefully\n"
     ]
    },
    {
     "name": "stderr",
     "output_type": "stream",
     "text": [
      "/home/araz/Documents/GitHub/art-eqi-p300-validation/Functions/eeg_quality_index.py:83: RuntimeWarning: divide by zero encountered in divide\n",
      "  z_scores = np.floor(np.abs((eqi_test-mean_eqi_clean)/std_eqi_clean)) # Calculate z-scores\n",
      "/home/araz/Documents/GitHub/art-eqi-p300-validation/Functions/eeg_quality_index.py:83: RuntimeWarning: invalid value encountered in divide\n",
      "  z_scores = np.floor(np.abs((eqi_test-mean_eqi_clean)/std_eqi_clean)) # Calculate z-scores\n"
     ]
    },
    {
     "name": "stdout",
     "output_type": "stream",
     "text": [
      "Warning!\n",
      "One or more Z-scores have NaN values\n",
      "Review eqi_mean carefully\n"
     ]
    },
    {
     "name": "stderr",
     "output_type": "stream",
     "text": [
      "/home/araz/Documents/GitHub/art-eqi-p300-validation/Functions/eeg_quality_index.py:83: RuntimeWarning: divide by zero encountered in divide\n",
      "  z_scores = np.floor(np.abs((eqi_test-mean_eqi_clean)/std_eqi_clean)) # Calculate z-scores\n",
      "/home/araz/Documents/GitHub/art-eqi-p300-validation/Functions/eeg_quality_index.py:83: RuntimeWarning: invalid value encountered in divide\n",
      "  z_scores = np.floor(np.abs((eqi_test-mean_eqi_clean)/std_eqi_clean)) # Calculate z-scores\n"
     ]
    },
    {
     "name": "stdout",
     "output_type": "stream",
     "text": [
      "Warning!\n",
      "One or more Z-scores have NaN values\n",
      "Review eqi_mean carefully\n"
     ]
    },
    {
     "name": "stderr",
     "output_type": "stream",
     "text": [
      "/home/araz/Documents/GitHub/art-eqi-p300-validation/Functions/eeg_quality_index.py:83: RuntimeWarning: divide by zero encountered in divide\n",
      "  z_scores = np.floor(np.abs((eqi_test-mean_eqi_clean)/std_eqi_clean)) # Calculate z-scores\n",
      "/home/araz/Documents/GitHub/art-eqi-p300-validation/Functions/eeg_quality_index.py:83: RuntimeWarning: invalid value encountered in divide\n",
      "  z_scores = np.floor(np.abs((eqi_test-mean_eqi_clean)/std_eqi_clean)) # Calculate z-scores\n",
      "/home/araz/Documents/GitHub/art-eqi-p300-validation/Functions/eeg_quality_index.py:83: RuntimeWarning: divide by zero encountered in divide\n",
      "  z_scores = np.floor(np.abs((eqi_test-mean_eqi_clean)/std_eqi_clean)) # Calculate z-scores\n",
      "/home/araz/Documents/GitHub/art-eqi-p300-validation/Functions/eeg_quality_index.py:83: RuntimeWarning: invalid value encountered in divide\n",
      "  z_scores = np.floor(np.abs((eqi_test-mean_eqi_clean)/std_eqi_clean)) # Calculate z-scores\n"
     ]
    },
    {
     "name": "stdout",
     "output_type": "stream",
     "text": [
      "Warning!\n",
      "One or more Z-scores have NaN values\n",
      "Review eqi_mean carefully\n",
      "Warning!\n",
      "One or more Z-scores have NaN values\n",
      "Review eqi_mean carefully\n"
     ]
    },
    {
     "name": "stderr",
     "output_type": "stream",
     "text": [
      "/home/araz/Documents/GitHub/art-eqi-p300-validation/Functions/eeg_quality_index.py:83: RuntimeWarning: divide by zero encountered in divide\n",
      "  z_scores = np.floor(np.abs((eqi_test-mean_eqi_clean)/std_eqi_clean)) # Calculate z-scores\n",
      "/home/araz/Documents/GitHub/art-eqi-p300-validation/Functions/eeg_quality_index.py:83: RuntimeWarning: invalid value encountered in divide\n",
      "  z_scores = np.floor(np.abs((eqi_test-mean_eqi_clean)/std_eqi_clean)) # Calculate z-scores\n"
     ]
    },
    {
     "name": "stdout",
     "output_type": "stream",
     "text": [
      "Warning!\n",
      "One or more Z-scores have NaN values\n",
      "Review eqi_mean carefully\n"
     ]
    },
    {
     "name": "stderr",
     "output_type": "stream",
     "text": [
      "/home/araz/Documents/GitHub/art-eqi-p300-validation/Functions/eeg_quality_index.py:83: RuntimeWarning: divide by zero encountered in divide\n",
      "  z_scores = np.floor(np.abs((eqi_test-mean_eqi_clean)/std_eqi_clean)) # Calculate z-scores\n",
      "/home/araz/Documents/GitHub/art-eqi-p300-validation/Functions/eeg_quality_index.py:83: RuntimeWarning: invalid value encountered in divide\n",
      "  z_scores = np.floor(np.abs((eqi_test-mean_eqi_clean)/std_eqi_clean)) # Calculate z-scores\n"
     ]
    },
    {
     "name": "stdout",
     "output_type": "stream",
     "text": [
      "Warning!\n",
      "One or more Z-scores have NaN values\n",
      "Review eqi_mean carefully\n"
     ]
    },
    {
     "name": "stderr",
     "output_type": "stream",
     "text": [
      "/home/araz/Documents/GitHub/art-eqi-p300-validation/Functions/eeg_quality_index.py:83: RuntimeWarning: divide by zero encountered in divide\n",
      "  z_scores = np.floor(np.abs((eqi_test-mean_eqi_clean)/std_eqi_clean)) # Calculate z-scores\n",
      "/home/araz/Documents/GitHub/art-eqi-p300-validation/Functions/eeg_quality_index.py:83: RuntimeWarning: invalid value encountered in divide\n",
      "  z_scores = np.floor(np.abs((eqi_test-mean_eqi_clean)/std_eqi_clean)) # Calculate z-scores\n"
     ]
    },
    {
     "name": "stdout",
     "output_type": "stream",
     "text": [
      "Warning!\n",
      "One or more Z-scores have NaN values\n",
      "Review eqi_mean carefully\n"
     ]
    },
    {
     "name": "stderr",
     "output_type": "stream",
     "text": [
      "/home/araz/Documents/GitHub/art-eqi-p300-validation/Functions/eeg_quality_index.py:83: RuntimeWarning: divide by zero encountered in divide\n",
      "  z_scores = np.floor(np.abs((eqi_test-mean_eqi_clean)/std_eqi_clean)) # Calculate z-scores\n",
      "/home/araz/Documents/GitHub/art-eqi-p300-validation/Functions/eeg_quality_index.py:83: RuntimeWarning: invalid value encountered in divide\n",
      "  z_scores = np.floor(np.abs((eqi_test-mean_eqi_clean)/std_eqi_clean)) # Calculate z-scores\n"
     ]
    },
    {
     "name": "stdout",
     "output_type": "stream",
     "text": [
      "Warning!\n",
      "One or more Z-scores have NaN values\n",
      "Review eqi_mean carefully\n"
     ]
    },
    {
     "name": "stderr",
     "output_type": "stream",
     "text": [
      "/home/araz/Documents/GitHub/art-eqi-p300-validation/Functions/eeg_quality_index.py:83: RuntimeWarning: divide by zero encountered in divide\n",
      "  z_scores = np.floor(np.abs((eqi_test-mean_eqi_clean)/std_eqi_clean)) # Calculate z-scores\n",
      "/home/araz/Documents/GitHub/art-eqi-p300-validation/Functions/eeg_quality_index.py:83: RuntimeWarning: invalid value encountered in divide\n",
      "  z_scores = np.floor(np.abs((eqi_test-mean_eqi_clean)/std_eqi_clean)) # Calculate z-scores\n",
      "/home/araz/Documents/GitHub/art-eqi-p300-validation/Functions/eeg_quality_index.py:83: RuntimeWarning: divide by zero encountered in divide\n",
      "  z_scores = np.floor(np.abs((eqi_test-mean_eqi_clean)/std_eqi_clean)) # Calculate z-scores\n",
      "/home/araz/Documents/GitHub/art-eqi-p300-validation/Functions/eeg_quality_index.py:83: RuntimeWarning: invalid value encountered in divide\n",
      "  z_scores = np.floor(np.abs((eqi_test-mean_eqi_clean)/std_eqi_clean)) # Calculate z-scores\n"
     ]
    },
    {
     "name": "stdout",
     "output_type": "stream",
     "text": [
      "Warning!\n",
      "One or more Z-scores have NaN values\n",
      "Review eqi_mean carefully\n",
      "Warning!\n",
      "One or more Z-scores have NaN values\n",
      "Review eqi_mean carefully\n"
     ]
    },
    {
     "name": "stderr",
     "output_type": "stream",
     "text": [
      "/home/araz/Documents/GitHub/art-eqi-p300-validation/Functions/eeg_quality_index.py:83: RuntimeWarning: divide by zero encountered in divide\n",
      "  z_scores = np.floor(np.abs((eqi_test-mean_eqi_clean)/std_eqi_clean)) # Calculate z-scores\n",
      "/home/araz/Documents/GitHub/art-eqi-p300-validation/Functions/eeg_quality_index.py:83: RuntimeWarning: invalid value encountered in divide\n",
      "  z_scores = np.floor(np.abs((eqi_test-mean_eqi_clean)/std_eqi_clean)) # Calculate z-scores\n"
     ]
    },
    {
     "name": "stdout",
     "output_type": "stream",
     "text": [
      "Warning!\n",
      "One or more Z-scores have NaN values\n",
      "Review eqi_mean carefully\n"
     ]
    },
    {
     "name": "stderr",
     "output_type": "stream",
     "text": [
      "/home/araz/Documents/GitHub/art-eqi-p300-validation/Functions/eeg_quality_index.py:83: RuntimeWarning: divide by zero encountered in divide\n",
      "  z_scores = np.floor(np.abs((eqi_test-mean_eqi_clean)/std_eqi_clean)) # Calculate z-scores\n",
      "/home/araz/Documents/GitHub/art-eqi-p300-validation/Functions/eeg_quality_index.py:83: RuntimeWarning: invalid value encountered in divide\n",
      "  z_scores = np.floor(np.abs((eqi_test-mean_eqi_clean)/std_eqi_clean)) # Calculate z-scores\n"
     ]
    },
    {
     "name": "stdout",
     "output_type": "stream",
     "text": [
      "Warning!\n",
      "One or more Z-scores have NaN values\n",
      "Review eqi_mean carefully\n"
     ]
    },
    {
     "name": "stderr",
     "output_type": "stream",
     "text": [
      "/home/araz/Documents/GitHub/art-eqi-p300-validation/Functions/eeg_quality_index.py:83: RuntimeWarning: divide by zero encountered in divide\n",
      "  z_scores = np.floor(np.abs((eqi_test-mean_eqi_clean)/std_eqi_clean)) # Calculate z-scores\n",
      "/home/araz/Documents/GitHub/art-eqi-p300-validation/Functions/eeg_quality_index.py:83: RuntimeWarning: invalid value encountered in divide\n",
      "  z_scores = np.floor(np.abs((eqi_test-mean_eqi_clean)/std_eqi_clean)) # Calculate z-scores\n"
     ]
    },
    {
     "name": "stdout",
     "output_type": "stream",
     "text": [
      "Warning!\n",
      "One or more Z-scores have NaN values\n",
      "Review eqi_mean carefully\n"
     ]
    },
    {
     "name": "stderr",
     "output_type": "stream",
     "text": [
      "/home/araz/Documents/GitHub/art-eqi-p300-validation/Functions/eeg_quality_index.py:83: RuntimeWarning: divide by zero encountered in divide\n",
      "  z_scores = np.floor(np.abs((eqi_test-mean_eqi_clean)/std_eqi_clean)) # Calculate z-scores\n",
      "/home/araz/Documents/GitHub/art-eqi-p300-validation/Functions/eeg_quality_index.py:83: RuntimeWarning: invalid value encountered in divide\n",
      "  z_scores = np.floor(np.abs((eqi_test-mean_eqi_clean)/std_eqi_clean)) # Calculate z-scores\n",
      "/home/araz/Documents/GitHub/art-eqi-p300-validation/Functions/eeg_quality_index.py:83: RuntimeWarning: divide by zero encountered in divide\n",
      "  z_scores = np.floor(np.abs((eqi_test-mean_eqi_clean)/std_eqi_clean)) # Calculate z-scores\n",
      "/home/araz/Documents/GitHub/art-eqi-p300-validation/Functions/eeg_quality_index.py:83: RuntimeWarning: invalid value encountered in divide\n",
      "  z_scores = np.floor(np.abs((eqi_test-mean_eqi_clean)/std_eqi_clean)) # Calculate z-scores\n"
     ]
    },
    {
     "name": "stdout",
     "output_type": "stream",
     "text": [
      "Warning!\n",
      "One or more Z-scores have NaN values\n",
      "Review eqi_mean carefully\n",
      "Warning!\n",
      "One or more Z-scores have NaN values\n",
      "Review eqi_mean carefully\n"
     ]
    },
    {
     "name": "stderr",
     "output_type": "stream",
     "text": [
      "/home/araz/Documents/GitHub/art-eqi-p300-validation/Functions/eeg_quality_index.py:83: RuntimeWarning: divide by zero encountered in divide\n",
      "  z_scores = np.floor(np.abs((eqi_test-mean_eqi_clean)/std_eqi_clean)) # Calculate z-scores\n",
      "/home/araz/Documents/GitHub/art-eqi-p300-validation/Functions/eeg_quality_index.py:83: RuntimeWarning: invalid value encountered in divide\n",
      "  z_scores = np.floor(np.abs((eqi_test-mean_eqi_clean)/std_eqi_clean)) # Calculate z-scores\n",
      "/home/araz/Documents/GitHub/art-eqi-p300-validation/Functions/eeg_quality_index.py:83: RuntimeWarning: divide by zero encountered in divide\n",
      "  z_scores = np.floor(np.abs((eqi_test-mean_eqi_clean)/std_eqi_clean)) # Calculate z-scores\n",
      "/home/araz/Documents/GitHub/art-eqi-p300-validation/Functions/eeg_quality_index.py:83: RuntimeWarning: invalid value encountered in divide\n",
      "  z_scores = np.floor(np.abs((eqi_test-mean_eqi_clean)/std_eqi_clean)) # Calculate z-scores\n"
     ]
    },
    {
     "name": "stdout",
     "output_type": "stream",
     "text": [
      "Warning!\n",
      "One or more Z-scores have NaN values\n",
      "Review eqi_mean carefully\n",
      "Warning!\n",
      "One or more Z-scores have NaN values\n",
      "Review eqi_mean carefully\n"
     ]
    },
    {
     "name": "stderr",
     "output_type": "stream",
     "text": [
      "/home/araz/Documents/GitHub/art-eqi-p300-validation/Functions/eeg_quality_index.py:83: RuntimeWarning: divide by zero encountered in divide\n",
      "  z_scores = np.floor(np.abs((eqi_test-mean_eqi_clean)/std_eqi_clean)) # Calculate z-scores\n",
      "/home/araz/Documents/GitHub/art-eqi-p300-validation/Functions/eeg_quality_index.py:83: RuntimeWarning: invalid value encountered in divide\n",
      "  z_scores = np.floor(np.abs((eqi_test-mean_eqi_clean)/std_eqi_clean)) # Calculate z-scores\n",
      "/home/araz/Documents/GitHub/art-eqi-p300-validation/Functions/eeg_quality_index.py:83: RuntimeWarning: divide by zero encountered in divide\n",
      "  z_scores = np.floor(np.abs((eqi_test-mean_eqi_clean)/std_eqi_clean)) # Calculate z-scores\n",
      "/home/araz/Documents/GitHub/art-eqi-p300-validation/Functions/eeg_quality_index.py:83: RuntimeWarning: invalid value encountered in divide\n",
      "  z_scores = np.floor(np.abs((eqi_test-mean_eqi_clean)/std_eqi_clean)) # Calculate z-scores\n"
     ]
    },
    {
     "name": "stdout",
     "output_type": "stream",
     "text": [
      "Warning!\n",
      "One or more Z-scores have NaN values\n",
      "Review eqi_mean carefully\n",
      "Warning!\n",
      "One or more Z-scores have NaN values\n",
      "Review eqi_mean carefully\n"
     ]
    },
    {
     "name": "stderr",
     "output_type": "stream",
     "text": [
      "/home/araz/Documents/GitHub/art-eqi-p300-validation/Functions/eeg_quality_index.py:83: RuntimeWarning: divide by zero encountered in divide\n",
      "  z_scores = np.floor(np.abs((eqi_test-mean_eqi_clean)/std_eqi_clean)) # Calculate z-scores\n",
      "/home/araz/Documents/GitHub/art-eqi-p300-validation/Functions/eeg_quality_index.py:83: RuntimeWarning: invalid value encountered in divide\n",
      "  z_scores = np.floor(np.abs((eqi_test-mean_eqi_clean)/std_eqi_clean)) # Calculate z-scores\n",
      "/home/araz/Documents/GitHub/art-eqi-p300-validation/Functions/eeg_quality_index.py:83: RuntimeWarning: divide by zero encountered in divide\n",
      "  z_scores = np.floor(np.abs((eqi_test-mean_eqi_clean)/std_eqi_clean)) # Calculate z-scores\n",
      "/home/araz/Documents/GitHub/art-eqi-p300-validation/Functions/eeg_quality_index.py:83: RuntimeWarning: invalid value encountered in divide\n",
      "  z_scores = np.floor(np.abs((eqi_test-mean_eqi_clean)/std_eqi_clean)) # Calculate z-scores\n"
     ]
    },
    {
     "name": "stdout",
     "output_type": "stream",
     "text": [
      "Warning!\n",
      "One or more Z-scores have NaN values\n",
      "Review eqi_mean carefully\n",
      "Warning!\n",
      "One or more Z-scores have NaN values\n",
      "Review eqi_mean carefully\n"
     ]
    },
    {
     "name": "stderr",
     "output_type": "stream",
     "text": [
      "/home/araz/Documents/GitHub/art-eqi-p300-validation/Functions/eeg_quality_index.py:83: RuntimeWarning: divide by zero encountered in divide\n",
      "  z_scores = np.floor(np.abs((eqi_test-mean_eqi_clean)/std_eqi_clean)) # Calculate z-scores\n",
      "/home/araz/Documents/GitHub/art-eqi-p300-validation/Functions/eeg_quality_index.py:83: RuntimeWarning: invalid value encountered in divide\n",
      "  z_scores = np.floor(np.abs((eqi_test-mean_eqi_clean)/std_eqi_clean)) # Calculate z-scores\n"
     ]
    },
    {
     "name": "stdout",
     "output_type": "stream",
     "text": [
      "Warning!\n",
      "One or more Z-scores have NaN values\n",
      "Review eqi_mean carefully\n"
     ]
    },
    {
     "name": "stderr",
     "output_type": "stream",
     "text": [
      "/home/araz/Documents/GitHub/art-eqi-p300-validation/Functions/eeg_quality_index.py:83: RuntimeWarning: divide by zero encountered in divide\n",
      "  z_scores = np.floor(np.abs((eqi_test-mean_eqi_clean)/std_eqi_clean)) # Calculate z-scores\n",
      "/home/araz/Documents/GitHub/art-eqi-p300-validation/Functions/eeg_quality_index.py:83: RuntimeWarning: invalid value encountered in divide\n",
      "  z_scores = np.floor(np.abs((eqi_test-mean_eqi_clean)/std_eqi_clean)) # Calculate z-scores\n",
      "/home/araz/Documents/GitHub/art-eqi-p300-validation/Functions/eeg_quality_index.py:83: RuntimeWarning: divide by zero encountered in divide\n",
      "  z_scores = np.floor(np.abs((eqi_test-mean_eqi_clean)/std_eqi_clean)) # Calculate z-scores\n",
      "/home/araz/Documents/GitHub/art-eqi-p300-validation/Functions/eeg_quality_index.py:83: RuntimeWarning: invalid value encountered in divide\n",
      "  z_scores = np.floor(np.abs((eqi_test-mean_eqi_clean)/std_eqi_clean)) # Calculate z-scores\n"
     ]
    },
    {
     "name": "stdout",
     "output_type": "stream",
     "text": [
      "Warning!\n",
      "One or more Z-scores have NaN values\n",
      "Review eqi_mean carefully\n",
      "Warning!\n",
      "One or more Z-scores have NaN values\n",
      "Review eqi_mean carefully\n"
     ]
    },
    {
     "name": "stderr",
     "output_type": "stream",
     "text": [
      "/home/araz/Documents/GitHub/art-eqi-p300-validation/Functions/eeg_quality_index.py:83: RuntimeWarning: divide by zero encountered in divide\n",
      "  z_scores = np.floor(np.abs((eqi_test-mean_eqi_clean)/std_eqi_clean)) # Calculate z-scores\n",
      "/home/araz/Documents/GitHub/art-eqi-p300-validation/Functions/eeg_quality_index.py:83: RuntimeWarning: invalid value encountered in divide\n",
      "  z_scores = np.floor(np.abs((eqi_test-mean_eqi_clean)/std_eqi_clean)) # Calculate z-scores\n"
     ]
    },
    {
     "name": "stdout",
     "output_type": "stream",
     "text": [
      "Warning!\n",
      "One or more Z-scores have NaN values\n",
      "Review eqi_mean carefully\n"
     ]
    },
    {
     "name": "stderr",
     "output_type": "stream",
     "text": [
      "/home/araz/Documents/GitHub/art-eqi-p300-validation/Functions/eeg_quality_index.py:83: RuntimeWarning: divide by zero encountered in divide\n",
      "  z_scores = np.floor(np.abs((eqi_test-mean_eqi_clean)/std_eqi_clean)) # Calculate z-scores\n",
      "/home/araz/Documents/GitHub/art-eqi-p300-validation/Functions/eeg_quality_index.py:83: RuntimeWarning: invalid value encountered in divide\n",
      "  z_scores = np.floor(np.abs((eqi_test-mean_eqi_clean)/std_eqi_clean)) # Calculate z-scores\n",
      "/home/araz/Documents/GitHub/art-eqi-p300-validation/Functions/eeg_quality_index.py:83: RuntimeWarning: divide by zero encountered in divide\n",
      "  z_scores = np.floor(np.abs((eqi_test-mean_eqi_clean)/std_eqi_clean)) # Calculate z-scores\n",
      "/home/araz/Documents/GitHub/art-eqi-p300-validation/Functions/eeg_quality_index.py:83: RuntimeWarning: invalid value encountered in divide\n",
      "  z_scores = np.floor(np.abs((eqi_test-mean_eqi_clean)/std_eqi_clean)) # Calculate z-scores\n"
     ]
    },
    {
     "name": "stdout",
     "output_type": "stream",
     "text": [
      "Warning!\n",
      "One or more Z-scores have NaN values\n",
      "Review eqi_mean carefully\n",
      "Warning!\n",
      "One or more Z-scores have NaN values\n",
      "Review eqi_mean carefully\n"
     ]
    },
    {
     "name": "stderr",
     "output_type": "stream",
     "text": [
      "/home/araz/Documents/GitHub/art-eqi-p300-validation/Functions/eeg_quality_index.py:83: RuntimeWarning: divide by zero encountered in divide\n",
      "  z_scores = np.floor(np.abs((eqi_test-mean_eqi_clean)/std_eqi_clean)) # Calculate z-scores\n",
      "/home/araz/Documents/GitHub/art-eqi-p300-validation/Functions/eeg_quality_index.py:83: RuntimeWarning: invalid value encountered in divide\n",
      "  z_scores = np.floor(np.abs((eqi_test-mean_eqi_clean)/std_eqi_clean)) # Calculate z-scores\n",
      "/home/araz/Documents/GitHub/art-eqi-p300-validation/Functions/eeg_quality_index.py:83: RuntimeWarning: divide by zero encountered in divide\n",
      "  z_scores = np.floor(np.abs((eqi_test-mean_eqi_clean)/std_eqi_clean)) # Calculate z-scores\n",
      "/home/araz/Documents/GitHub/art-eqi-p300-validation/Functions/eeg_quality_index.py:83: RuntimeWarning: invalid value encountered in divide\n",
      "  z_scores = np.floor(np.abs((eqi_test-mean_eqi_clean)/std_eqi_clean)) # Calculate z-scores\n"
     ]
    },
    {
     "name": "stdout",
     "output_type": "stream",
     "text": [
      "Warning!\n",
      "One or more Z-scores have NaN values\n",
      "Review eqi_mean carefully\n",
      "Warning!\n",
      "One or more Z-scores have NaN values\n",
      "Review eqi_mean carefully\n"
     ]
    },
    {
     "name": "stderr",
     "output_type": "stream",
     "text": [
      "/home/araz/Documents/GitHub/art-eqi-p300-validation/Functions/eeg_quality_index.py:83: RuntimeWarning: divide by zero encountered in divide\n",
      "  z_scores = np.floor(np.abs((eqi_test-mean_eqi_clean)/std_eqi_clean)) # Calculate z-scores\n",
      "/home/araz/Documents/GitHub/art-eqi-p300-validation/Functions/eeg_quality_index.py:83: RuntimeWarning: invalid value encountered in divide\n",
      "  z_scores = np.floor(np.abs((eqi_test-mean_eqi_clean)/std_eqi_clean)) # Calculate z-scores\n",
      "/home/araz/Documents/GitHub/art-eqi-p300-validation/Functions/eeg_quality_index.py:83: RuntimeWarning: divide by zero encountered in divide\n",
      "  z_scores = np.floor(np.abs((eqi_test-mean_eqi_clean)/std_eqi_clean)) # Calculate z-scores\n",
      "/home/araz/Documents/GitHub/art-eqi-p300-validation/Functions/eeg_quality_index.py:83: RuntimeWarning: invalid value encountered in divide\n",
      "  z_scores = np.floor(np.abs((eqi_test-mean_eqi_clean)/std_eqi_clean)) # Calculate z-scores\n"
     ]
    },
    {
     "name": "stdout",
     "output_type": "stream",
     "text": [
      "Warning!\n",
      "One or more Z-scores have NaN values\n",
      "Review eqi_mean carefully\n",
      "Warning!\n",
      "One or more Z-scores have NaN values\n",
      "Review eqi_mean carefully\n"
     ]
    },
    {
     "name": "stderr",
     "output_type": "stream",
     "text": [
      "/home/araz/Documents/GitHub/art-eqi-p300-validation/Functions/eeg_quality_index.py:83: RuntimeWarning: divide by zero encountered in divide\n",
      "  z_scores = np.floor(np.abs((eqi_test-mean_eqi_clean)/std_eqi_clean)) # Calculate z-scores\n",
      "/home/araz/Documents/GitHub/art-eqi-p300-validation/Functions/eeg_quality_index.py:83: RuntimeWarning: invalid value encountered in divide\n",
      "  z_scores = np.floor(np.abs((eqi_test-mean_eqi_clean)/std_eqi_clean)) # Calculate z-scores\n"
     ]
    },
    {
     "name": "stdout",
     "output_type": "stream",
     "text": [
      "Warning!\n",
      "One or more Z-scores have NaN values\n",
      "Review eqi_mean carefully\n"
     ]
    },
    {
     "name": "stderr",
     "output_type": "stream",
     "text": [
      "/home/araz/Documents/GitHub/art-eqi-p300-validation/Functions/eeg_quality_index.py:83: RuntimeWarning: divide by zero encountered in divide\n",
      "  z_scores = np.floor(np.abs((eqi_test-mean_eqi_clean)/std_eqi_clean)) # Calculate z-scores\n",
      "/home/araz/Documents/GitHub/art-eqi-p300-validation/Functions/eeg_quality_index.py:83: RuntimeWarning: invalid value encountered in divide\n",
      "  z_scores = np.floor(np.abs((eqi_test-mean_eqi_clean)/std_eqi_clean)) # Calculate z-scores\n"
     ]
    },
    {
     "name": "stdout",
     "output_type": "stream",
     "text": [
      "Warning!\n",
      "One or more Z-scores have NaN values\n",
      "Review eqi_mean carefully\n"
     ]
    },
    {
     "name": "stderr",
     "output_type": "stream",
     "text": [
      "/home/araz/Documents/GitHub/art-eqi-p300-validation/Functions/eeg_quality_index.py:83: RuntimeWarning: divide by zero encountered in divide\n",
      "  z_scores = np.floor(np.abs((eqi_test-mean_eqi_clean)/std_eqi_clean)) # Calculate z-scores\n",
      "/home/araz/Documents/GitHub/art-eqi-p300-validation/Functions/eeg_quality_index.py:83: RuntimeWarning: invalid value encountered in divide\n",
      "  z_scores = np.floor(np.abs((eqi_test-mean_eqi_clean)/std_eqi_clean)) # Calculate z-scores\n"
     ]
    },
    {
     "name": "stdout",
     "output_type": "stream",
     "text": [
      "Warning!\n",
      "One or more Z-scores have NaN values\n",
      "Review eqi_mean carefully\n"
     ]
    },
    {
     "name": "stderr",
     "output_type": "stream",
     "text": [
      "/home/araz/Documents/GitHub/art-eqi-p300-validation/Functions/eeg_quality_index.py:83: RuntimeWarning: divide by zero encountered in divide\n",
      "  z_scores = np.floor(np.abs((eqi_test-mean_eqi_clean)/std_eqi_clean)) # Calculate z-scores\n",
      "/home/araz/Documents/GitHub/art-eqi-p300-validation/Functions/eeg_quality_index.py:83: RuntimeWarning: invalid value encountered in divide\n",
      "  z_scores = np.floor(np.abs((eqi_test-mean_eqi_clean)/std_eqi_clean)) # Calculate z-scores\n"
     ]
    },
    {
     "name": "stdout",
     "output_type": "stream",
     "text": [
      "Warning!\n",
      "One or more Z-scores have NaN values\n",
      "Review eqi_mean carefully\n"
     ]
    },
    {
     "name": "stderr",
     "output_type": "stream",
     "text": [
      "/home/araz/Documents/GitHub/art-eqi-p300-validation/Functions/eeg_quality_index.py:83: RuntimeWarning: divide by zero encountered in divide\n",
      "  z_scores = np.floor(np.abs((eqi_test-mean_eqi_clean)/std_eqi_clean)) # Calculate z-scores\n",
      "/home/araz/Documents/GitHub/art-eqi-p300-validation/Functions/eeg_quality_index.py:83: RuntimeWarning: invalid value encountered in divide\n",
      "  z_scores = np.floor(np.abs((eqi_test-mean_eqi_clean)/std_eqi_clean)) # Calculate z-scores\n"
     ]
    },
    {
     "name": "stdout",
     "output_type": "stream",
     "text": [
      "Warning!\n",
      "One or more Z-scores have NaN values\n",
      "Review eqi_mean carefully\n"
     ]
    },
    {
     "name": "stderr",
     "output_type": "stream",
     "text": [
      "/home/araz/Documents/GitHub/art-eqi-p300-validation/Functions/eeg_quality_index.py:83: RuntimeWarning: divide by zero encountered in divide\n",
      "  z_scores = np.floor(np.abs((eqi_test-mean_eqi_clean)/std_eqi_clean)) # Calculate z-scores\n",
      "/home/araz/Documents/GitHub/art-eqi-p300-validation/Functions/eeg_quality_index.py:83: RuntimeWarning: invalid value encountered in divide\n",
      "  z_scores = np.floor(np.abs((eqi_test-mean_eqi_clean)/std_eqi_clean)) # Calculate z-scores\n",
      "/home/araz/Documents/GitHub/art-eqi-p300-validation/Functions/eeg_quality_index.py:83: RuntimeWarning: divide by zero encountered in divide\n",
      "  z_scores = np.floor(np.abs((eqi_test-mean_eqi_clean)/std_eqi_clean)) # Calculate z-scores\n",
      "/home/araz/Documents/GitHub/art-eqi-p300-validation/Functions/eeg_quality_index.py:83: RuntimeWarning: invalid value encountered in divide\n",
      "  z_scores = np.floor(np.abs((eqi_test-mean_eqi_clean)/std_eqi_clean)) # Calculate z-scores\n"
     ]
    },
    {
     "name": "stdout",
     "output_type": "stream",
     "text": [
      "Warning!\n",
      "One or more Z-scores have NaN values\n",
      "Review eqi_mean carefully\n",
      "Warning!\n",
      "One or more Z-scores have NaN values\n",
      "Review eqi_mean carefully\n"
     ]
    },
    {
     "name": "stderr",
     "output_type": "stream",
     "text": [
      "/home/araz/Documents/GitHub/art-eqi-p300-validation/Functions/eeg_quality_index.py:83: RuntimeWarning: divide by zero encountered in divide\n",
      "  z_scores = np.floor(np.abs((eqi_test-mean_eqi_clean)/std_eqi_clean)) # Calculate z-scores\n",
      "/home/araz/Documents/GitHub/art-eqi-p300-validation/Functions/eeg_quality_index.py:83: RuntimeWarning: invalid value encountered in divide\n",
      "  z_scores = np.floor(np.abs((eqi_test-mean_eqi_clean)/std_eqi_clean)) # Calculate z-scores\n",
      "/home/araz/Documents/GitHub/art-eqi-p300-validation/Functions/eeg_quality_index.py:83: RuntimeWarning: divide by zero encountered in divide\n",
      "  z_scores = np.floor(np.abs((eqi_test-mean_eqi_clean)/std_eqi_clean)) # Calculate z-scores\n",
      "/home/araz/Documents/GitHub/art-eqi-p300-validation/Functions/eeg_quality_index.py:83: RuntimeWarning: invalid value encountered in divide\n",
      "  z_scores = np.floor(np.abs((eqi_test-mean_eqi_clean)/std_eqi_clean)) # Calculate z-scores\n"
     ]
    },
    {
     "name": "stdout",
     "output_type": "stream",
     "text": [
      "Warning!\n",
      "One or more Z-scores have NaN values\n",
      "Review eqi_mean carefully\n",
      "Warning!\n",
      "One or more Z-scores have NaN values\n",
      "Review eqi_mean carefully\n"
     ]
    },
    {
     "name": "stderr",
     "output_type": "stream",
     "text": [
      "/home/araz/Documents/GitHub/art-eqi-p300-validation/Functions/eeg_quality_index.py:83: RuntimeWarning: divide by zero encountered in divide\n",
      "  z_scores = np.floor(np.abs((eqi_test-mean_eqi_clean)/std_eqi_clean)) # Calculate z-scores\n",
      "/home/araz/Documents/GitHub/art-eqi-p300-validation/Functions/eeg_quality_index.py:83: RuntimeWarning: invalid value encountered in divide\n",
      "  z_scores = np.floor(np.abs((eqi_test-mean_eqi_clean)/std_eqi_clean)) # Calculate z-scores\n",
      "/home/araz/Documents/GitHub/art-eqi-p300-validation/Functions/eeg_quality_index.py:83: RuntimeWarning: divide by zero encountered in divide\n",
      "  z_scores = np.floor(np.abs((eqi_test-mean_eqi_clean)/std_eqi_clean)) # Calculate z-scores\n",
      "/home/araz/Documents/GitHub/art-eqi-p300-validation/Functions/eeg_quality_index.py:83: RuntimeWarning: invalid value encountered in divide\n",
      "  z_scores = np.floor(np.abs((eqi_test-mean_eqi_clean)/std_eqi_clean)) # Calculate z-scores\n"
     ]
    },
    {
     "name": "stdout",
     "output_type": "stream",
     "text": [
      "Warning!\n",
      "One or more Z-scores have NaN values\n",
      "Review eqi_mean carefully\n",
      "Warning!\n",
      "One or more Z-scores have NaN values\n",
      "Review eqi_mean carefully\n"
     ]
    },
    {
     "name": "stderr",
     "output_type": "stream",
     "text": [
      "/home/araz/Documents/GitHub/art-eqi-p300-validation/Functions/eeg_quality_index.py:83: RuntimeWarning: divide by zero encountered in divide\n",
      "  z_scores = np.floor(np.abs((eqi_test-mean_eqi_clean)/std_eqi_clean)) # Calculate z-scores\n",
      "/home/araz/Documents/GitHub/art-eqi-p300-validation/Functions/eeg_quality_index.py:83: RuntimeWarning: invalid value encountered in divide\n",
      "  z_scores = np.floor(np.abs((eqi_test-mean_eqi_clean)/std_eqi_clean)) # Calculate z-scores\n",
      "/home/araz/Documents/GitHub/art-eqi-p300-validation/Functions/eeg_quality_index.py:83: RuntimeWarning: divide by zero encountered in divide\n",
      "  z_scores = np.floor(np.abs((eqi_test-mean_eqi_clean)/std_eqi_clean)) # Calculate z-scores\n",
      "/home/araz/Documents/GitHub/art-eqi-p300-validation/Functions/eeg_quality_index.py:83: RuntimeWarning: invalid value encountered in divide\n",
      "  z_scores = np.floor(np.abs((eqi_test-mean_eqi_clean)/std_eqi_clean)) # Calculate z-scores\n"
     ]
    },
    {
     "name": "stdout",
     "output_type": "stream",
     "text": [
      "Warning!\n",
      "One or more Z-scores have NaN values\n",
      "Review eqi_mean carefully\n",
      "Warning!\n",
      "One or more Z-scores have NaN values\n",
      "Review eqi_mean carefully\n"
     ]
    },
    {
     "name": "stderr",
     "output_type": "stream",
     "text": [
      "/home/araz/Documents/GitHub/art-eqi-p300-validation/Functions/eeg_quality_index.py:83: RuntimeWarning: divide by zero encountered in divide\n",
      "  z_scores = np.floor(np.abs((eqi_test-mean_eqi_clean)/std_eqi_clean)) # Calculate z-scores\n",
      "/home/araz/Documents/GitHub/art-eqi-p300-validation/Functions/eeg_quality_index.py:83: RuntimeWarning: invalid value encountered in divide\n",
      "  z_scores = np.floor(np.abs((eqi_test-mean_eqi_clean)/std_eqi_clean)) # Calculate z-scores\n",
      "/home/araz/Documents/GitHub/art-eqi-p300-validation/Functions/eeg_quality_index.py:83: RuntimeWarning: divide by zero encountered in divide\n",
      "  z_scores = np.floor(np.abs((eqi_test-mean_eqi_clean)/std_eqi_clean)) # Calculate z-scores\n",
      "/home/araz/Documents/GitHub/art-eqi-p300-validation/Functions/eeg_quality_index.py:83: RuntimeWarning: invalid value encountered in divide\n",
      "  z_scores = np.floor(np.abs((eqi_test-mean_eqi_clean)/std_eqi_clean)) # Calculate z-scores\n"
     ]
    },
    {
     "name": "stdout",
     "output_type": "stream",
     "text": [
      "Warning!\n",
      "One or more Z-scores have NaN values\n",
      "Review eqi_mean carefully\n",
      "Warning!\n",
      "One or more Z-scores have NaN values\n",
      "Review eqi_mean carefully\n"
     ]
    },
    {
     "name": "stderr",
     "output_type": "stream",
     "text": [
      "/home/araz/Documents/GitHub/art-eqi-p300-validation/Functions/eeg_quality_index.py:83: RuntimeWarning: divide by zero encountered in divide\n",
      "  z_scores = np.floor(np.abs((eqi_test-mean_eqi_clean)/std_eqi_clean)) # Calculate z-scores\n",
      "/home/araz/Documents/GitHub/art-eqi-p300-validation/Functions/eeg_quality_index.py:83: RuntimeWarning: invalid value encountered in divide\n",
      "  z_scores = np.floor(np.abs((eqi_test-mean_eqi_clean)/std_eqi_clean)) # Calculate z-scores\n",
      "/home/araz/Documents/GitHub/art-eqi-p300-validation/Functions/eeg_quality_index.py:83: RuntimeWarning: divide by zero encountered in divide\n",
      "  z_scores = np.floor(np.abs((eqi_test-mean_eqi_clean)/std_eqi_clean)) # Calculate z-scores\n",
      "/home/araz/Documents/GitHub/art-eqi-p300-validation/Functions/eeg_quality_index.py:83: RuntimeWarning: invalid value encountered in divide\n",
      "  z_scores = np.floor(np.abs((eqi_test-mean_eqi_clean)/std_eqi_clean)) # Calculate z-scores\n"
     ]
    },
    {
     "name": "stdout",
     "output_type": "stream",
     "text": [
      "Warning!\n",
      "One or more Z-scores have NaN values\n",
      "Review eqi_mean carefully\n",
      "Warning!\n",
      "One or more Z-scores have NaN values\n",
      "Review eqi_mean carefully\n"
     ]
    },
    {
     "name": "stderr",
     "output_type": "stream",
     "text": [
      "/home/araz/Documents/GitHub/art-eqi-p300-validation/Functions/eeg_quality_index.py:83: RuntimeWarning: divide by zero encountered in divide\n",
      "  z_scores = np.floor(np.abs((eqi_test-mean_eqi_clean)/std_eqi_clean)) # Calculate z-scores\n",
      "/home/araz/Documents/GitHub/art-eqi-p300-validation/Functions/eeg_quality_index.py:83: RuntimeWarning: invalid value encountered in divide\n",
      "  z_scores = np.floor(np.abs((eqi_test-mean_eqi_clean)/std_eqi_clean)) # Calculate z-scores\n"
     ]
    },
    {
     "name": "stdout",
     "output_type": "stream",
     "text": [
      "Warning!\n",
      "One or more Z-scores have NaN values\n",
      "Review eqi_mean carefully\n"
     ]
    },
    {
     "name": "stderr",
     "output_type": "stream",
     "text": [
      "/home/araz/Documents/GitHub/art-eqi-p300-validation/Functions/eeg_quality_index.py:83: RuntimeWarning: divide by zero encountered in divide\n",
      "  z_scores = np.floor(np.abs((eqi_test-mean_eqi_clean)/std_eqi_clean)) # Calculate z-scores\n",
      "/home/araz/Documents/GitHub/art-eqi-p300-validation/Functions/eeg_quality_index.py:83: RuntimeWarning: invalid value encountered in divide\n",
      "  z_scores = np.floor(np.abs((eqi_test-mean_eqi_clean)/std_eqi_clean)) # Calculate z-scores\n",
      "/home/araz/Documents/GitHub/art-eqi-p300-validation/Functions/eeg_quality_index.py:83: RuntimeWarning: divide by zero encountered in divide\n",
      "  z_scores = np.floor(np.abs((eqi_test-mean_eqi_clean)/std_eqi_clean)) # Calculate z-scores\n",
      "/home/araz/Documents/GitHub/art-eqi-p300-validation/Functions/eeg_quality_index.py:83: RuntimeWarning: invalid value encountered in divide\n",
      "  z_scores = np.floor(np.abs((eqi_test-mean_eqi_clean)/std_eqi_clean)) # Calculate z-scores\n"
     ]
    },
    {
     "name": "stdout",
     "output_type": "stream",
     "text": [
      "Warning!\n",
      "One or more Z-scores have NaN values\n",
      "Review eqi_mean carefully\n",
      "Warning!\n",
      "One or more Z-scores have NaN values\n",
      "Review eqi_mean carefully\n"
     ]
    },
    {
     "name": "stderr",
     "output_type": "stream",
     "text": [
      "/home/araz/Documents/GitHub/art-eqi-p300-validation/Functions/eeg_quality_index.py:83: RuntimeWarning: divide by zero encountered in divide\n",
      "  z_scores = np.floor(np.abs((eqi_test-mean_eqi_clean)/std_eqi_clean)) # Calculate z-scores\n",
      "/home/araz/Documents/GitHub/art-eqi-p300-validation/Functions/eeg_quality_index.py:83: RuntimeWarning: invalid value encountered in divide\n",
      "  z_scores = np.floor(np.abs((eqi_test-mean_eqi_clean)/std_eqi_clean)) # Calculate z-scores\n",
      "/home/araz/Documents/GitHub/art-eqi-p300-validation/Functions/eeg_quality_index.py:83: RuntimeWarning: divide by zero encountered in divide\n",
      "  z_scores = np.floor(np.abs((eqi_test-mean_eqi_clean)/std_eqi_clean)) # Calculate z-scores\n",
      "/home/araz/Documents/GitHub/art-eqi-p300-validation/Functions/eeg_quality_index.py:83: RuntimeWarning: invalid value encountered in divide\n",
      "  z_scores = np.floor(np.abs((eqi_test-mean_eqi_clean)/std_eqi_clean)) # Calculate z-scores\n"
     ]
    },
    {
     "name": "stdout",
     "output_type": "stream",
     "text": [
      "Warning!\n",
      "One or more Z-scores have NaN values\n",
      "Review eqi_mean carefully\n",
      "Warning!\n",
      "One or more Z-scores have NaN values\n",
      "Review eqi_mean carefully\n"
     ]
    },
    {
     "name": "stderr",
     "output_type": "stream",
     "text": [
      "/home/araz/Documents/GitHub/art-eqi-p300-validation/Functions/eeg_quality_index.py:83: RuntimeWarning: divide by zero encountered in divide\n",
      "  z_scores = np.floor(np.abs((eqi_test-mean_eqi_clean)/std_eqi_clean)) # Calculate z-scores\n",
      "/home/araz/Documents/GitHub/art-eqi-p300-validation/Functions/eeg_quality_index.py:83: RuntimeWarning: invalid value encountered in divide\n",
      "  z_scores = np.floor(np.abs((eqi_test-mean_eqi_clean)/std_eqi_clean)) # Calculate z-scores\n"
     ]
    },
    {
     "name": "stdout",
     "output_type": "stream",
     "text": [
      "Warning!\n",
      "One or more Z-scores have NaN values\n",
      "Review eqi_mean carefully\n"
     ]
    },
    {
     "name": "stderr",
     "output_type": "stream",
     "text": [
      "/home/araz/Documents/GitHub/art-eqi-p300-validation/Functions/eeg_quality_index.py:83: RuntimeWarning: divide by zero encountered in divide\n",
      "  z_scores = np.floor(np.abs((eqi_test-mean_eqi_clean)/std_eqi_clean)) # Calculate z-scores\n",
      "/home/araz/Documents/GitHub/art-eqi-p300-validation/Functions/eeg_quality_index.py:83: RuntimeWarning: invalid value encountered in divide\n",
      "  z_scores = np.floor(np.abs((eqi_test-mean_eqi_clean)/std_eqi_clean)) # Calculate z-scores\n"
     ]
    },
    {
     "name": "stdout",
     "output_type": "stream",
     "text": [
      "Warning!\n",
      "One or more Z-scores have NaN values\n",
      "Review eqi_mean carefully\n"
     ]
    },
    {
     "name": "stderr",
     "output_type": "stream",
     "text": [
      "/home/araz/Documents/GitHub/art-eqi-p300-validation/Functions/eeg_quality_index.py:83: RuntimeWarning: divide by zero encountered in divide\n",
      "  z_scores = np.floor(np.abs((eqi_test-mean_eqi_clean)/std_eqi_clean)) # Calculate z-scores\n",
      "/home/araz/Documents/GitHub/art-eqi-p300-validation/Functions/eeg_quality_index.py:83: RuntimeWarning: invalid value encountered in divide\n",
      "  z_scores = np.floor(np.abs((eqi_test-mean_eqi_clean)/std_eqi_clean)) # Calculate z-scores\n"
     ]
    },
    {
     "name": "stdout",
     "output_type": "stream",
     "text": [
      "Warning!\n",
      "One or more Z-scores have NaN values\n",
      "Review eqi_mean carefully\n"
     ]
    },
    {
     "name": "stderr",
     "output_type": "stream",
     "text": [
      "/home/araz/Documents/GitHub/art-eqi-p300-validation/Functions/eeg_quality_index.py:83: RuntimeWarning: divide by zero encountered in divide\n",
      "  z_scores = np.floor(np.abs((eqi_test-mean_eqi_clean)/std_eqi_clean)) # Calculate z-scores\n",
      "/home/araz/Documents/GitHub/art-eqi-p300-validation/Functions/eeg_quality_index.py:83: RuntimeWarning: invalid value encountered in divide\n",
      "  z_scores = np.floor(np.abs((eqi_test-mean_eqi_clean)/std_eqi_clean)) # Calculate z-scores\n"
     ]
    },
    {
     "name": "stdout",
     "output_type": "stream",
     "text": [
      "Warning!\n",
      "One or more Z-scores have NaN values\n",
      "Review eqi_mean carefully\n"
     ]
    },
    {
     "name": "stderr",
     "output_type": "stream",
     "text": [
      "/home/araz/Documents/GitHub/art-eqi-p300-validation/Functions/eeg_quality_index.py:83: RuntimeWarning: divide by zero encountered in divide\n",
      "  z_scores = np.floor(np.abs((eqi_test-mean_eqi_clean)/std_eqi_clean)) # Calculate z-scores\n",
      "/home/araz/Documents/GitHub/art-eqi-p300-validation/Functions/eeg_quality_index.py:83: RuntimeWarning: invalid value encountered in divide\n",
      "  z_scores = np.floor(np.abs((eqi_test-mean_eqi_clean)/std_eqi_clean)) # Calculate z-scores\n"
     ]
    },
    {
     "name": "stdout",
     "output_type": "stream",
     "text": [
      "Warning!\n",
      "One or more Z-scores have NaN values\n",
      "Review eqi_mean carefully\n"
     ]
    },
    {
     "name": "stderr",
     "output_type": "stream",
     "text": [
      "/home/araz/Documents/GitHub/art-eqi-p300-validation/Functions/eeg_quality_index.py:83: RuntimeWarning: divide by zero encountered in divide\n",
      "  z_scores = np.floor(np.abs((eqi_test-mean_eqi_clean)/std_eqi_clean)) # Calculate z-scores\n",
      "/home/araz/Documents/GitHub/art-eqi-p300-validation/Functions/eeg_quality_index.py:83: RuntimeWarning: invalid value encountered in divide\n",
      "  z_scores = np.floor(np.abs((eqi_test-mean_eqi_clean)/std_eqi_clean)) # Calculate z-scores\n"
     ]
    },
    {
     "name": "stdout",
     "output_type": "stream",
     "text": [
      "Warning!\n",
      "One or more Z-scores have NaN values\n",
      "Review eqi_mean carefully\n"
     ]
    },
    {
     "name": "stderr",
     "output_type": "stream",
     "text": [
      "/home/araz/Documents/GitHub/art-eqi-p300-validation/Functions/eeg_quality_index.py:83: RuntimeWarning: divide by zero encountered in divide\n",
      "  z_scores = np.floor(np.abs((eqi_test-mean_eqi_clean)/std_eqi_clean)) # Calculate z-scores\n",
      "/home/araz/Documents/GitHub/art-eqi-p300-validation/Functions/eeg_quality_index.py:83: RuntimeWarning: invalid value encountered in divide\n",
      "  z_scores = np.floor(np.abs((eqi_test-mean_eqi_clean)/std_eqi_clean)) # Calculate z-scores\n"
     ]
    },
    {
     "name": "stdout",
     "output_type": "stream",
     "text": [
      "Warning!\n",
      "One or more Z-scores have NaN values\n",
      "Review eqi_mean carefully\n"
     ]
    },
    {
     "name": "stderr",
     "output_type": "stream",
     "text": [
      "/home/araz/Documents/GitHub/art-eqi-p300-validation/Functions/eeg_quality_index.py:83: RuntimeWarning: divide by zero encountered in divide\n",
      "  z_scores = np.floor(np.abs((eqi_test-mean_eqi_clean)/std_eqi_clean)) # Calculate z-scores\n",
      "/home/araz/Documents/GitHub/art-eqi-p300-validation/Functions/eeg_quality_index.py:83: RuntimeWarning: invalid value encountered in divide\n",
      "  z_scores = np.floor(np.abs((eqi_test-mean_eqi_clean)/std_eqi_clean)) # Calculate z-scores\n"
     ]
    },
    {
     "name": "stdout",
     "output_type": "stream",
     "text": [
      "Warning!\n",
      "One or more Z-scores have NaN values\n",
      "Review eqi_mean carefully\n"
     ]
    },
    {
     "name": "stderr",
     "output_type": "stream",
     "text": [
      "/home/araz/Documents/GitHub/art-eqi-p300-validation/Functions/eeg_quality_index.py:83: RuntimeWarning: divide by zero encountered in divide\n",
      "  z_scores = np.floor(np.abs((eqi_test-mean_eqi_clean)/std_eqi_clean)) # Calculate z-scores\n",
      "/home/araz/Documents/GitHub/art-eqi-p300-validation/Functions/eeg_quality_index.py:83: RuntimeWarning: invalid value encountered in divide\n",
      "  z_scores = np.floor(np.abs((eqi_test-mean_eqi_clean)/std_eqi_clean)) # Calculate z-scores\n",
      "/home/araz/Documents/GitHub/art-eqi-p300-validation/Functions/eeg_quality_index.py:83: RuntimeWarning: divide by zero encountered in divide\n",
      "  z_scores = np.floor(np.abs((eqi_test-mean_eqi_clean)/std_eqi_clean)) # Calculate z-scores\n",
      "/home/araz/Documents/GitHub/art-eqi-p300-validation/Functions/eeg_quality_index.py:83: RuntimeWarning: invalid value encountered in divide\n",
      "  z_scores = np.floor(np.abs((eqi_test-mean_eqi_clean)/std_eqi_clean)) # Calculate z-scores\n"
     ]
    },
    {
     "name": "stdout",
     "output_type": "stream",
     "text": [
      "Warning!\n",
      "One or more Z-scores have NaN values\n",
      "Review eqi_mean carefully\n",
      "Warning!\n",
      "One or more Z-scores have NaN values\n",
      "Review eqi_mean carefully\n"
     ]
    },
    {
     "name": "stderr",
     "output_type": "stream",
     "text": [
      "/home/araz/Documents/GitHub/art-eqi-p300-validation/Functions/eeg_quality_index.py:83: RuntimeWarning: divide by zero encountered in divide\n",
      "  z_scores = np.floor(np.abs((eqi_test-mean_eqi_clean)/std_eqi_clean)) # Calculate z-scores\n",
      "/home/araz/Documents/GitHub/art-eqi-p300-validation/Functions/eeg_quality_index.py:83: RuntimeWarning: invalid value encountered in divide\n",
      "  z_scores = np.floor(np.abs((eqi_test-mean_eqi_clean)/std_eqi_clean)) # Calculate z-scores\n"
     ]
    },
    {
     "name": "stdout",
     "output_type": "stream",
     "text": [
      "Warning!\n",
      "One or more Z-scores have NaN values\n",
      "Review eqi_mean carefully\n"
     ]
    },
    {
     "name": "stderr",
     "output_type": "stream",
     "text": [
      "/home/araz/Documents/GitHub/art-eqi-p300-validation/Functions/eeg_quality_index.py:83: RuntimeWarning: divide by zero encountered in divide\n",
      "  z_scores = np.floor(np.abs((eqi_test-mean_eqi_clean)/std_eqi_clean)) # Calculate z-scores\n",
      "/home/araz/Documents/GitHub/art-eqi-p300-validation/Functions/eeg_quality_index.py:83: RuntimeWarning: invalid value encountered in divide\n",
      "  z_scores = np.floor(np.abs((eqi_test-mean_eqi_clean)/std_eqi_clean)) # Calculate z-scores\n",
      "/home/araz/Documents/GitHub/art-eqi-p300-validation/Functions/eeg_quality_index.py:83: RuntimeWarning: divide by zero encountered in divide\n",
      "  z_scores = np.floor(np.abs((eqi_test-mean_eqi_clean)/std_eqi_clean)) # Calculate z-scores\n",
      "/home/araz/Documents/GitHub/art-eqi-p300-validation/Functions/eeg_quality_index.py:83: RuntimeWarning: invalid value encountered in divide\n",
      "  z_scores = np.floor(np.abs((eqi_test-mean_eqi_clean)/std_eqi_clean)) # Calculate z-scores\n"
     ]
    },
    {
     "name": "stdout",
     "output_type": "stream",
     "text": [
      "Warning!\n",
      "One or more Z-scores have NaN values\n",
      "Review eqi_mean carefully\n",
      "Warning!\n",
      "One or more Z-scores have NaN values\n",
      "Review eqi_mean carefully\n"
     ]
    },
    {
     "name": "stderr",
     "output_type": "stream",
     "text": [
      "/home/araz/Documents/GitHub/art-eqi-p300-validation/Functions/eeg_quality_index.py:83: RuntimeWarning: divide by zero encountered in divide\n",
      "  z_scores = np.floor(np.abs((eqi_test-mean_eqi_clean)/std_eqi_clean)) # Calculate z-scores\n",
      "/home/araz/Documents/GitHub/art-eqi-p300-validation/Functions/eeg_quality_index.py:83: RuntimeWarning: invalid value encountered in divide\n",
      "  z_scores = np.floor(np.abs((eqi_test-mean_eqi_clean)/std_eqi_clean)) # Calculate z-scores\n",
      "/home/araz/Documents/GitHub/art-eqi-p300-validation/Functions/eeg_quality_index.py:83: RuntimeWarning: divide by zero encountered in divide\n",
      "  z_scores = np.floor(np.abs((eqi_test-mean_eqi_clean)/std_eqi_clean)) # Calculate z-scores\n",
      "/home/araz/Documents/GitHub/art-eqi-p300-validation/Functions/eeg_quality_index.py:83: RuntimeWarning: invalid value encountered in divide\n",
      "  z_scores = np.floor(np.abs((eqi_test-mean_eqi_clean)/std_eqi_clean)) # Calculate z-scores\n"
     ]
    },
    {
     "name": "stdout",
     "output_type": "stream",
     "text": [
      "Warning!\n",
      "One or more Z-scores have NaN values\n",
      "Review eqi_mean carefully\n",
      "Warning!\n",
      "One or more Z-scores have NaN values\n",
      "Review eqi_mean carefully\n"
     ]
    },
    {
     "name": "stderr",
     "output_type": "stream",
     "text": [
      "/home/araz/Documents/GitHub/art-eqi-p300-validation/Functions/eeg_quality_index.py:83: RuntimeWarning: divide by zero encountered in divide\n",
      "  z_scores = np.floor(np.abs((eqi_test-mean_eqi_clean)/std_eqi_clean)) # Calculate z-scores\n",
      "/home/araz/Documents/GitHub/art-eqi-p300-validation/Functions/eeg_quality_index.py:83: RuntimeWarning: invalid value encountered in divide\n",
      "  z_scores = np.floor(np.abs((eqi_test-mean_eqi_clean)/std_eqi_clean)) # Calculate z-scores\n"
     ]
    },
    {
     "name": "stdout",
     "output_type": "stream",
     "text": [
      "Warning!\n",
      "One or more Z-scores have NaN values\n",
      "Review eqi_mean carefully\n"
     ]
    },
    {
     "name": "stderr",
     "output_type": "stream",
     "text": [
      "/home/araz/Documents/GitHub/art-eqi-p300-validation/Functions/eeg_quality_index.py:83: RuntimeWarning: divide by zero encountered in divide\n",
      "  z_scores = np.floor(np.abs((eqi_test-mean_eqi_clean)/std_eqi_clean)) # Calculate z-scores\n",
      "/home/araz/Documents/GitHub/art-eqi-p300-validation/Functions/eeg_quality_index.py:83: RuntimeWarning: invalid value encountered in divide\n",
      "  z_scores = np.floor(np.abs((eqi_test-mean_eqi_clean)/std_eqi_clean)) # Calculate z-scores\n"
     ]
    },
    {
     "name": "stdout",
     "output_type": "stream",
     "text": [
      "Warning!\n",
      "One or more Z-scores have NaN values\n",
      "Review eqi_mean carefully\n"
     ]
    },
    {
     "name": "stderr",
     "output_type": "stream",
     "text": [
      "/home/araz/Documents/GitHub/art-eqi-p300-validation/Functions/eeg_quality_index.py:83: RuntimeWarning: divide by zero encountered in divide\n",
      "  z_scores = np.floor(np.abs((eqi_test-mean_eqi_clean)/std_eqi_clean)) # Calculate z-scores\n",
      "/home/araz/Documents/GitHub/art-eqi-p300-validation/Functions/eeg_quality_index.py:83: RuntimeWarning: invalid value encountered in divide\n",
      "  z_scores = np.floor(np.abs((eqi_test-mean_eqi_clean)/std_eqi_clean)) # Calculate z-scores\n",
      "/home/araz/Documents/GitHub/art-eqi-p300-validation/Functions/eeg_quality_index.py:83: RuntimeWarning: divide by zero encountered in divide\n",
      "  z_scores = np.floor(np.abs((eqi_test-mean_eqi_clean)/std_eqi_clean)) # Calculate z-scores\n",
      "/home/araz/Documents/GitHub/art-eqi-p300-validation/Functions/eeg_quality_index.py:83: RuntimeWarning: invalid value encountered in divide\n",
      "  z_scores = np.floor(np.abs((eqi_test-mean_eqi_clean)/std_eqi_clean)) # Calculate z-scores\n"
     ]
    },
    {
     "name": "stdout",
     "output_type": "stream",
     "text": [
      "Warning!\n",
      "One or more Z-scores have NaN values\n",
      "Review eqi_mean carefully\n",
      "Warning!\n",
      "One or more Z-scores have NaN values\n",
      "Review eqi_mean carefully\n"
     ]
    },
    {
     "name": "stderr",
     "output_type": "stream",
     "text": [
      "/home/araz/Documents/GitHub/art-eqi-p300-validation/Functions/eeg_quality_index.py:83: RuntimeWarning: divide by zero encountered in divide\n",
      "  z_scores = np.floor(np.abs((eqi_test-mean_eqi_clean)/std_eqi_clean)) # Calculate z-scores\n",
      "/home/araz/Documents/GitHub/art-eqi-p300-validation/Functions/eeg_quality_index.py:83: RuntimeWarning: invalid value encountered in divide\n",
      "  z_scores = np.floor(np.abs((eqi_test-mean_eqi_clean)/std_eqi_clean)) # Calculate z-scores\n"
     ]
    },
    {
     "name": "stdout",
     "output_type": "stream",
     "text": [
      "Warning!\n",
      "One or more Z-scores have NaN values\n",
      "Review eqi_mean carefully\n"
     ]
    },
    {
     "name": "stderr",
     "output_type": "stream",
     "text": [
      "/home/araz/Documents/GitHub/art-eqi-p300-validation/Functions/eeg_quality_index.py:83: RuntimeWarning: divide by zero encountered in divide\n",
      "  z_scores = np.floor(np.abs((eqi_test-mean_eqi_clean)/std_eqi_clean)) # Calculate z-scores\n",
      "/home/araz/Documents/GitHub/art-eqi-p300-validation/Functions/eeg_quality_index.py:83: RuntimeWarning: invalid value encountered in divide\n",
      "  z_scores = np.floor(np.abs((eqi_test-mean_eqi_clean)/std_eqi_clean)) # Calculate z-scores\n",
      "/home/araz/Documents/GitHub/art-eqi-p300-validation/Functions/eeg_quality_index.py:83: RuntimeWarning: divide by zero encountered in divide\n",
      "  z_scores = np.floor(np.abs((eqi_test-mean_eqi_clean)/std_eqi_clean)) # Calculate z-scores\n",
      "/home/araz/Documents/GitHub/art-eqi-p300-validation/Functions/eeg_quality_index.py:83: RuntimeWarning: invalid value encountered in divide\n",
      "  z_scores = np.floor(np.abs((eqi_test-mean_eqi_clean)/std_eqi_clean)) # Calculate z-scores\n"
     ]
    },
    {
     "name": "stdout",
     "output_type": "stream",
     "text": [
      "Warning!\n",
      "One or more Z-scores have NaN values\n",
      "Review eqi_mean carefully\n",
      "Warning!\n",
      "One or more Z-scores have NaN values\n",
      "Review eqi_mean carefully\n"
     ]
    },
    {
     "name": "stderr",
     "output_type": "stream",
     "text": [
      "/home/araz/Documents/GitHub/art-eqi-p300-validation/Functions/eeg_quality_index.py:83: RuntimeWarning: divide by zero encountered in divide\n",
      "  z_scores = np.floor(np.abs((eqi_test-mean_eqi_clean)/std_eqi_clean)) # Calculate z-scores\n",
      "/home/araz/Documents/GitHub/art-eqi-p300-validation/Functions/eeg_quality_index.py:83: RuntimeWarning: invalid value encountered in divide\n",
      "  z_scores = np.floor(np.abs((eqi_test-mean_eqi_clean)/std_eqi_clean)) # Calculate z-scores\n",
      "/home/araz/Documents/GitHub/art-eqi-p300-validation/Functions/eeg_quality_index.py:83: RuntimeWarning: divide by zero encountered in divide\n",
      "  z_scores = np.floor(np.abs((eqi_test-mean_eqi_clean)/std_eqi_clean)) # Calculate z-scores\n",
      "/home/araz/Documents/GitHub/art-eqi-p300-validation/Functions/eeg_quality_index.py:83: RuntimeWarning: invalid value encountered in divide\n",
      "  z_scores = np.floor(np.abs((eqi_test-mean_eqi_clean)/std_eqi_clean)) # Calculate z-scores\n"
     ]
    },
    {
     "name": "stdout",
     "output_type": "stream",
     "text": [
      "Warning!\n",
      "One or more Z-scores have NaN values\n",
      "Review eqi_mean carefully\n",
      "Warning!\n",
      "One or more Z-scores have NaN values\n",
      "Review eqi_mean carefully\n"
     ]
    },
    {
     "name": "stderr",
     "output_type": "stream",
     "text": [
      "/home/araz/Documents/GitHub/art-eqi-p300-validation/Functions/eeg_quality_index.py:83: RuntimeWarning: divide by zero encountered in divide\n",
      "  z_scores = np.floor(np.abs((eqi_test-mean_eqi_clean)/std_eqi_clean)) # Calculate z-scores\n",
      "/home/araz/Documents/GitHub/art-eqi-p300-validation/Functions/eeg_quality_index.py:83: RuntimeWarning: invalid value encountered in divide\n",
      "  z_scores = np.floor(np.abs((eqi_test-mean_eqi_clean)/std_eqi_clean)) # Calculate z-scores\n"
     ]
    },
    {
     "name": "stdout",
     "output_type": "stream",
     "text": [
      "Warning!\n",
      "One or more Z-scores have NaN values\n",
      "Review eqi_mean carefully\n"
     ]
    },
    {
     "name": "stderr",
     "output_type": "stream",
     "text": [
      "/home/araz/Documents/GitHub/art-eqi-p300-validation/Functions/eeg_quality_index.py:83: RuntimeWarning: divide by zero encountered in divide\n",
      "  z_scores = np.floor(np.abs((eqi_test-mean_eqi_clean)/std_eqi_clean)) # Calculate z-scores\n",
      "/home/araz/Documents/GitHub/art-eqi-p300-validation/Functions/eeg_quality_index.py:83: RuntimeWarning: invalid value encountered in divide\n",
      "  z_scores = np.floor(np.abs((eqi_test-mean_eqi_clean)/std_eqi_clean)) # Calculate z-scores\n"
     ]
    },
    {
     "name": "stdout",
     "output_type": "stream",
     "text": [
      "Warning!\n",
      "One or more Z-scores have NaN values\n",
      "Review eqi_mean carefully\n"
     ]
    },
    {
     "name": "stderr",
     "output_type": "stream",
     "text": [
      "/home/araz/Documents/GitHub/art-eqi-p300-validation/Functions/eeg_quality_index.py:83: RuntimeWarning: divide by zero encountered in divide\n",
      "  z_scores = np.floor(np.abs((eqi_test-mean_eqi_clean)/std_eqi_clean)) # Calculate z-scores\n",
      "/home/araz/Documents/GitHub/art-eqi-p300-validation/Functions/eeg_quality_index.py:83: RuntimeWarning: invalid value encountered in divide\n",
      "  z_scores = np.floor(np.abs((eqi_test-mean_eqi_clean)/std_eqi_clean)) # Calculate z-scores\n"
     ]
    },
    {
     "name": "stdout",
     "output_type": "stream",
     "text": [
      "Warning!\n",
      "One or more Z-scores have NaN values\n",
      "Review eqi_mean carefully\n"
     ]
    },
    {
     "name": "stderr",
     "output_type": "stream",
     "text": [
      "/home/araz/Documents/GitHub/art-eqi-p300-validation/Functions/eeg_quality_index.py:83: RuntimeWarning: divide by zero encountered in divide\n",
      "  z_scores = np.floor(np.abs((eqi_test-mean_eqi_clean)/std_eqi_clean)) # Calculate z-scores\n",
      "/home/araz/Documents/GitHub/art-eqi-p300-validation/Functions/eeg_quality_index.py:83: RuntimeWarning: invalid value encountered in divide\n",
      "  z_scores = np.floor(np.abs((eqi_test-mean_eqi_clean)/std_eqi_clean)) # Calculate z-scores\n"
     ]
    },
    {
     "name": "stdout",
     "output_type": "stream",
     "text": [
      "Warning!\n",
      "One or more Z-scores have NaN values\n",
      "Review eqi_mean carefully\n"
     ]
    },
    {
     "name": "stderr",
     "output_type": "stream",
     "text": [
      "/home/araz/Documents/GitHub/art-eqi-p300-validation/Functions/eeg_quality_index.py:83: RuntimeWarning: divide by zero encountered in divide\n",
      "  z_scores = np.floor(np.abs((eqi_test-mean_eqi_clean)/std_eqi_clean)) # Calculate z-scores\n",
      "/home/araz/Documents/GitHub/art-eqi-p300-validation/Functions/eeg_quality_index.py:83: RuntimeWarning: invalid value encountered in divide\n",
      "  z_scores = np.floor(np.abs((eqi_test-mean_eqi_clean)/std_eqi_clean)) # Calculate z-scores\n",
      "/home/araz/Documents/GitHub/art-eqi-p300-validation/Functions/eeg_quality_index.py:83: RuntimeWarning: divide by zero encountered in divide\n",
      "  z_scores = np.floor(np.abs((eqi_test-mean_eqi_clean)/std_eqi_clean)) # Calculate z-scores\n",
      "/home/araz/Documents/GitHub/art-eqi-p300-validation/Functions/eeg_quality_index.py:83: RuntimeWarning: invalid value encountered in divide\n",
      "  z_scores = np.floor(np.abs((eqi_test-mean_eqi_clean)/std_eqi_clean)) # Calculate z-scores\n"
     ]
    },
    {
     "name": "stdout",
     "output_type": "stream",
     "text": [
      "Warning!\n",
      "One or more Z-scores have NaN values\n",
      "Review eqi_mean carefully\n",
      "Warning!\n",
      "One or more Z-scores have NaN values\n",
      "Review eqi_mean carefully\n"
     ]
    },
    {
     "name": "stderr",
     "output_type": "stream",
     "text": [
      "/home/araz/Documents/GitHub/art-eqi-p300-validation/Functions/eeg_quality_index.py:83: RuntimeWarning: divide by zero encountered in divide\n",
      "  z_scores = np.floor(np.abs((eqi_test-mean_eqi_clean)/std_eqi_clean)) # Calculate z-scores\n",
      "/home/araz/Documents/GitHub/art-eqi-p300-validation/Functions/eeg_quality_index.py:83: RuntimeWarning: invalid value encountered in divide\n",
      "  z_scores = np.floor(np.abs((eqi_test-mean_eqi_clean)/std_eqi_clean)) # Calculate z-scores\n"
     ]
    },
    {
     "name": "stdout",
     "output_type": "stream",
     "text": [
      "Warning!\n",
      "One or more Z-scores have NaN values\n",
      "Review eqi_mean carefully\n"
     ]
    },
    {
     "name": "stderr",
     "output_type": "stream",
     "text": [
      "/home/araz/Documents/GitHub/art-eqi-p300-validation/Functions/eeg_quality_index.py:83: RuntimeWarning: divide by zero encountered in divide\n",
      "  z_scores = np.floor(np.abs((eqi_test-mean_eqi_clean)/std_eqi_clean)) # Calculate z-scores\n",
      "/home/araz/Documents/GitHub/art-eqi-p300-validation/Functions/eeg_quality_index.py:83: RuntimeWarning: invalid value encountered in divide\n",
      "  z_scores = np.floor(np.abs((eqi_test-mean_eqi_clean)/std_eqi_clean)) # Calculate z-scores\n",
      "/home/araz/Documents/GitHub/art-eqi-p300-validation/Functions/eeg_quality_index.py:83: RuntimeWarning: divide by zero encountered in divide\n",
      "  z_scores = np.floor(np.abs((eqi_test-mean_eqi_clean)/std_eqi_clean)) # Calculate z-scores\n",
      "/home/araz/Documents/GitHub/art-eqi-p300-validation/Functions/eeg_quality_index.py:83: RuntimeWarning: invalid value encountered in divide\n",
      "  z_scores = np.floor(np.abs((eqi_test-mean_eqi_clean)/std_eqi_clean)) # Calculate z-scores\n"
     ]
    },
    {
     "name": "stdout",
     "output_type": "stream",
     "text": [
      "Warning!\n",
      "One or more Z-scores have NaN values\n",
      "Review eqi_mean carefully\n",
      "Warning!\n",
      "One or more Z-scores have NaN values\n",
      "Review eqi_mean carefully\n"
     ]
    },
    {
     "name": "stderr",
     "output_type": "stream",
     "text": [
      "/home/araz/Documents/GitHub/art-eqi-p300-validation/Functions/eeg_quality_index.py:83: RuntimeWarning: divide by zero encountered in divide\n",
      "  z_scores = np.floor(np.abs((eqi_test-mean_eqi_clean)/std_eqi_clean)) # Calculate z-scores\n",
      "/home/araz/Documents/GitHub/art-eqi-p300-validation/Functions/eeg_quality_index.py:83: RuntimeWarning: invalid value encountered in divide\n",
      "  z_scores = np.floor(np.abs((eqi_test-mean_eqi_clean)/std_eqi_clean)) # Calculate z-scores\n",
      "/home/araz/Documents/GitHub/art-eqi-p300-validation/Functions/eeg_quality_index.py:83: RuntimeWarning: divide by zero encountered in divide\n",
      "  z_scores = np.floor(np.abs((eqi_test-mean_eqi_clean)/std_eqi_clean)) # Calculate z-scores\n",
      "/home/araz/Documents/GitHub/art-eqi-p300-validation/Functions/eeg_quality_index.py:83: RuntimeWarning: invalid value encountered in divide\n",
      "  z_scores = np.floor(np.abs((eqi_test-mean_eqi_clean)/std_eqi_clean)) # Calculate z-scores\n"
     ]
    },
    {
     "name": "stdout",
     "output_type": "stream",
     "text": [
      "Warning!\n",
      "One or more Z-scores have NaN values\n",
      "Review eqi_mean carefully\n",
      "Warning!\n",
      "One or more Z-scores have NaN values\n",
      "Review eqi_mean carefully\n"
     ]
    },
    {
     "name": "stderr",
     "output_type": "stream",
     "text": [
      "/home/araz/Documents/GitHub/art-eqi-p300-validation/Functions/eeg_quality_index.py:83: RuntimeWarning: divide by zero encountered in divide\n",
      "  z_scores = np.floor(np.abs((eqi_test-mean_eqi_clean)/std_eqi_clean)) # Calculate z-scores\n",
      "/home/araz/Documents/GitHub/art-eqi-p300-validation/Functions/eeg_quality_index.py:83: RuntimeWarning: invalid value encountered in divide\n",
      "  z_scores = np.floor(np.abs((eqi_test-mean_eqi_clean)/std_eqi_clean)) # Calculate z-scores\n"
     ]
    },
    {
     "name": "stdout",
     "output_type": "stream",
     "text": [
      "Warning!\n",
      "One or more Z-scores have NaN values\n",
      "Review eqi_mean carefully\n"
     ]
    },
    {
     "name": "stderr",
     "output_type": "stream",
     "text": [
      "/home/araz/Documents/GitHub/art-eqi-p300-validation/Functions/eeg_quality_index.py:83: RuntimeWarning: divide by zero encountered in divide\n",
      "  z_scores = np.floor(np.abs((eqi_test-mean_eqi_clean)/std_eqi_clean)) # Calculate z-scores\n",
      "/home/araz/Documents/GitHub/art-eqi-p300-validation/Functions/eeg_quality_index.py:83: RuntimeWarning: invalid value encountered in divide\n",
      "  z_scores = np.floor(np.abs((eqi_test-mean_eqi_clean)/std_eqi_clean)) # Calculate z-scores\n"
     ]
    },
    {
     "name": "stdout",
     "output_type": "stream",
     "text": [
      "Warning!\n",
      "One or more Z-scores have NaN values\n",
      "Review eqi_mean carefully\n"
     ]
    },
    {
     "name": "stderr",
     "output_type": "stream",
     "text": [
      "/home/araz/Documents/GitHub/art-eqi-p300-validation/Functions/eeg_quality_index.py:83: RuntimeWarning: divide by zero encountered in divide\n",
      "  z_scores = np.floor(np.abs((eqi_test-mean_eqi_clean)/std_eqi_clean)) # Calculate z-scores\n",
      "/home/araz/Documents/GitHub/art-eqi-p300-validation/Functions/eeg_quality_index.py:83: RuntimeWarning: invalid value encountered in divide\n",
      "  z_scores = np.floor(np.abs((eqi_test-mean_eqi_clean)/std_eqi_clean)) # Calculate z-scores\n",
      "/home/araz/Documents/GitHub/art-eqi-p300-validation/Functions/eeg_quality_index.py:83: RuntimeWarning: divide by zero encountered in divide\n",
      "  z_scores = np.floor(np.abs((eqi_test-mean_eqi_clean)/std_eqi_clean)) # Calculate z-scores\n",
      "/home/araz/Documents/GitHub/art-eqi-p300-validation/Functions/eeg_quality_index.py:83: RuntimeWarning: invalid value encountered in divide\n",
      "  z_scores = np.floor(np.abs((eqi_test-mean_eqi_clean)/std_eqi_clean)) # Calculate z-scores\n",
      "/home/araz/Documents/GitHub/art-eqi-p300-validation/Functions/eeg_quality_index.py:83: RuntimeWarning: divide by zero encountered in divide\n",
      "  z_scores = np.floor(np.abs((eqi_test-mean_eqi_clean)/std_eqi_clean)) # Calculate z-scores\n",
      "/home/araz/Documents/GitHub/art-eqi-p300-validation/Functions/eeg_quality_index.py:83: RuntimeWarning: invalid value encountered in divide\n",
      "  z_scores = np.floor(np.abs((eqi_test-mean_eqi_clean)/std_eqi_clean)) # Calculate z-scores\n"
     ]
    },
    {
     "name": "stdout",
     "output_type": "stream",
     "text": [
      "Warning!\n",
      "One or more Z-scores have NaN values\n",
      "Review eqi_mean carefully\n",
      "Warning!\n",
      "One or more Z-scores have NaN values\n",
      "Review eqi_mean carefully\n",
      "Warning!\n",
      "One or more Z-scores have NaN values\n",
      "Review eqi_mean carefully\n"
     ]
    },
    {
     "name": "stderr",
     "output_type": "stream",
     "text": [
      "/home/araz/Documents/GitHub/art-eqi-p300-validation/Functions/eeg_quality_index.py:83: RuntimeWarning: divide by zero encountered in divide\n",
      "  z_scores = np.floor(np.abs((eqi_test-mean_eqi_clean)/std_eqi_clean)) # Calculate z-scores\n",
      "/home/araz/Documents/GitHub/art-eqi-p300-validation/Functions/eeg_quality_index.py:83: RuntimeWarning: invalid value encountered in divide\n",
      "  z_scores = np.floor(np.abs((eqi_test-mean_eqi_clean)/std_eqi_clean)) # Calculate z-scores\n",
      "/home/araz/Documents/GitHub/art-eqi-p300-validation/Functions/eeg_quality_index.py:83: RuntimeWarning: divide by zero encountered in divide\n",
      "  z_scores = np.floor(np.abs((eqi_test-mean_eqi_clean)/std_eqi_clean)) # Calculate z-scores\n",
      "/home/araz/Documents/GitHub/art-eqi-p300-validation/Functions/eeg_quality_index.py:83: RuntimeWarning: invalid value encountered in divide\n",
      "  z_scores = np.floor(np.abs((eqi_test-mean_eqi_clean)/std_eqi_clean)) # Calculate z-scores\n"
     ]
    },
    {
     "name": "stdout",
     "output_type": "stream",
     "text": [
      "Warning!\n",
      "One or more Z-scores have NaN values\n",
      "Review eqi_mean carefully\n",
      "Warning!\n",
      "One or more Z-scores have NaN values\n",
      "Review eqi_mean carefully\n"
     ]
    },
    {
     "name": "stderr",
     "output_type": "stream",
     "text": [
      "/home/araz/Documents/GitHub/art-eqi-p300-validation/Functions/eeg_quality_index.py:83: RuntimeWarning: divide by zero encountered in divide\n",
      "  z_scores = np.floor(np.abs((eqi_test-mean_eqi_clean)/std_eqi_clean)) # Calculate z-scores\n",
      "/home/araz/Documents/GitHub/art-eqi-p300-validation/Functions/eeg_quality_index.py:83: RuntimeWarning: invalid value encountered in divide\n",
      "  z_scores = np.floor(np.abs((eqi_test-mean_eqi_clean)/std_eqi_clean)) # Calculate z-scores\n",
      "/home/araz/Documents/GitHub/art-eqi-p300-validation/Functions/eeg_quality_index.py:83: RuntimeWarning: divide by zero encountered in divide\n",
      "  z_scores = np.floor(np.abs((eqi_test-mean_eqi_clean)/std_eqi_clean)) # Calculate z-scores\n",
      "/home/araz/Documents/GitHub/art-eqi-p300-validation/Functions/eeg_quality_index.py:83: RuntimeWarning: invalid value encountered in divide\n",
      "  z_scores = np.floor(np.abs((eqi_test-mean_eqi_clean)/std_eqi_clean)) # Calculate z-scores\n"
     ]
    },
    {
     "name": "stdout",
     "output_type": "stream",
     "text": [
      "Warning!\n",
      "One or more Z-scores have NaN values\n",
      "Review eqi_mean carefully\n",
      "Warning!\n",
      "One or more Z-scores have NaN values\n",
      "Review eqi_mean carefully\n"
     ]
    },
    {
     "name": "stderr",
     "output_type": "stream",
     "text": [
      "/home/araz/Documents/GitHub/art-eqi-p300-validation/Functions/eeg_quality_index.py:83: RuntimeWarning: divide by zero encountered in divide\n",
      "  z_scores = np.floor(np.abs((eqi_test-mean_eqi_clean)/std_eqi_clean)) # Calculate z-scores\n",
      "/home/araz/Documents/GitHub/art-eqi-p300-validation/Functions/eeg_quality_index.py:83: RuntimeWarning: invalid value encountered in divide\n",
      "  z_scores = np.floor(np.abs((eqi_test-mean_eqi_clean)/std_eqi_clean)) # Calculate z-scores\n",
      "/home/araz/Documents/GitHub/art-eqi-p300-validation/Functions/eeg_quality_index.py:83: RuntimeWarning: divide by zero encountered in divide\n",
      "  z_scores = np.floor(np.abs((eqi_test-mean_eqi_clean)/std_eqi_clean)) # Calculate z-scores\n",
      "/home/araz/Documents/GitHub/art-eqi-p300-validation/Functions/eeg_quality_index.py:83: RuntimeWarning: invalid value encountered in divide\n",
      "  z_scores = np.floor(np.abs((eqi_test-mean_eqi_clean)/std_eqi_clean)) # Calculate z-scores\n"
     ]
    },
    {
     "name": "stdout",
     "output_type": "stream",
     "text": [
      "Warning!\n",
      "One or more Z-scores have NaN values\n",
      "Review eqi_mean carefully\n",
      "Warning!\n",
      "One or more Z-scores have NaN values\n",
      "Review eqi_mean carefully\n"
     ]
    },
    {
     "name": "stderr",
     "output_type": "stream",
     "text": [
      "/home/araz/Documents/GitHub/art-eqi-p300-validation/Functions/eeg_quality_index.py:83: RuntimeWarning: divide by zero encountered in divide\n",
      "  z_scores = np.floor(np.abs((eqi_test-mean_eqi_clean)/std_eqi_clean)) # Calculate z-scores\n",
      "/home/araz/Documents/GitHub/art-eqi-p300-validation/Functions/eeg_quality_index.py:83: RuntimeWarning: invalid value encountered in divide\n",
      "  z_scores = np.floor(np.abs((eqi_test-mean_eqi_clean)/std_eqi_clean)) # Calculate z-scores\n",
      "/home/araz/Documents/GitHub/art-eqi-p300-validation/Functions/eeg_quality_index.py:83: RuntimeWarning: divide by zero encountered in divide\n",
      "  z_scores = np.floor(np.abs((eqi_test-mean_eqi_clean)/std_eqi_clean)) # Calculate z-scores\n",
      "/home/araz/Documents/GitHub/art-eqi-p300-validation/Functions/eeg_quality_index.py:83: RuntimeWarning: invalid value encountered in divide\n",
      "  z_scores = np.floor(np.abs((eqi_test-mean_eqi_clean)/std_eqi_clean)) # Calculate z-scores\n"
     ]
    },
    {
     "name": "stdout",
     "output_type": "stream",
     "text": [
      "Warning!\n",
      "One or more Z-scores have NaN values\n",
      "Review eqi_mean carefully\n",
      "Warning!\n",
      "One or more Z-scores have NaN values\n",
      "Review eqi_mean carefully\n"
     ]
    },
    {
     "name": "stderr",
     "output_type": "stream",
     "text": [
      "/home/araz/Documents/GitHub/art-eqi-p300-validation/Functions/eeg_quality_index.py:83: RuntimeWarning: divide by zero encountered in divide\n",
      "  z_scores = np.floor(np.abs((eqi_test-mean_eqi_clean)/std_eqi_clean)) # Calculate z-scores\n",
      "/home/araz/Documents/GitHub/art-eqi-p300-validation/Functions/eeg_quality_index.py:83: RuntimeWarning: invalid value encountered in divide\n",
      "  z_scores = np.floor(np.abs((eqi_test-mean_eqi_clean)/std_eqi_clean)) # Calculate z-scores\n",
      "/home/araz/Documents/GitHub/art-eqi-p300-validation/Functions/eeg_quality_index.py:83: RuntimeWarning: divide by zero encountered in divide\n",
      "  z_scores = np.floor(np.abs((eqi_test-mean_eqi_clean)/std_eqi_clean)) # Calculate z-scores\n",
      "/home/araz/Documents/GitHub/art-eqi-p300-validation/Functions/eeg_quality_index.py:83: RuntimeWarning: invalid value encountered in divide\n",
      "  z_scores = np.floor(np.abs((eqi_test-mean_eqi_clean)/std_eqi_clean)) # Calculate z-scores\n"
     ]
    },
    {
     "name": "stdout",
     "output_type": "stream",
     "text": [
      "Warning!\n",
      "One or more Z-scores have NaN values\n",
      "Review eqi_mean carefully\n",
      "Warning!\n",
      "One or more Z-scores have NaN values\n",
      "Review eqi_mean carefully\n"
     ]
    },
    {
     "name": "stderr",
     "output_type": "stream",
     "text": [
      "/home/araz/Documents/GitHub/art-eqi-p300-validation/Functions/eeg_quality_index.py:83: RuntimeWarning: divide by zero encountered in divide\n",
      "  z_scores = np.floor(np.abs((eqi_test-mean_eqi_clean)/std_eqi_clean)) # Calculate z-scores\n",
      "/home/araz/Documents/GitHub/art-eqi-p300-validation/Functions/eeg_quality_index.py:83: RuntimeWarning: invalid value encountered in divide\n",
      "  z_scores = np.floor(np.abs((eqi_test-mean_eqi_clean)/std_eqi_clean)) # Calculate z-scores\n",
      "/home/araz/Documents/GitHub/art-eqi-p300-validation/Functions/eeg_quality_index.py:83: RuntimeWarning: divide by zero encountered in divide\n",
      "  z_scores = np.floor(np.abs((eqi_test-mean_eqi_clean)/std_eqi_clean)) # Calculate z-scores\n",
      "/home/araz/Documents/GitHub/art-eqi-p300-validation/Functions/eeg_quality_index.py:83: RuntimeWarning: invalid value encountered in divide\n",
      "  z_scores = np.floor(np.abs((eqi_test-mean_eqi_clean)/std_eqi_clean)) # Calculate z-scores\n"
     ]
    },
    {
     "name": "stdout",
     "output_type": "stream",
     "text": [
      "Warning!\n",
      "One or more Z-scores have NaN values\n",
      "Review eqi_mean carefully\n",
      "Warning!\n",
      "One or more Z-scores have NaN values\n",
      "Review eqi_mean carefully\n"
     ]
    },
    {
     "name": "stderr",
     "output_type": "stream",
     "text": [
      "/home/araz/Documents/GitHub/art-eqi-p300-validation/Functions/eeg_quality_index.py:83: RuntimeWarning: divide by zero encountered in divide\n",
      "  z_scores = np.floor(np.abs((eqi_test-mean_eqi_clean)/std_eqi_clean)) # Calculate z-scores\n",
      "/home/araz/Documents/GitHub/art-eqi-p300-validation/Functions/eeg_quality_index.py:83: RuntimeWarning: invalid value encountered in divide\n",
      "  z_scores = np.floor(np.abs((eqi_test-mean_eqi_clean)/std_eqi_clean)) # Calculate z-scores\n",
      "/home/araz/Documents/GitHub/art-eqi-p300-validation/Functions/eeg_quality_index.py:83: RuntimeWarning: divide by zero encountered in divide\n",
      "  z_scores = np.floor(np.abs((eqi_test-mean_eqi_clean)/std_eqi_clean)) # Calculate z-scores\n",
      "/home/araz/Documents/GitHub/art-eqi-p300-validation/Functions/eeg_quality_index.py:83: RuntimeWarning: invalid value encountered in divide\n",
      "  z_scores = np.floor(np.abs((eqi_test-mean_eqi_clean)/std_eqi_clean)) # Calculate z-scores\n"
     ]
    },
    {
     "name": "stdout",
     "output_type": "stream",
     "text": [
      "Warning!\n",
      "One or more Z-scores have NaN values\n",
      "Review eqi_mean carefully\n",
      "Warning!\n",
      "One or more Z-scores have NaN values\n",
      "Review eqi_mean carefully\n"
     ]
    },
    {
     "name": "stderr",
     "output_type": "stream",
     "text": [
      "/home/araz/Documents/GitHub/art-eqi-p300-validation/Functions/eeg_quality_index.py:83: RuntimeWarning: divide by zero encountered in divide\n",
      "  z_scores = np.floor(np.abs((eqi_test-mean_eqi_clean)/std_eqi_clean)) # Calculate z-scores\n",
      "/home/araz/Documents/GitHub/art-eqi-p300-validation/Functions/eeg_quality_index.py:83: RuntimeWarning: invalid value encountered in divide\n",
      "  z_scores = np.floor(np.abs((eqi_test-mean_eqi_clean)/std_eqi_clean)) # Calculate z-scores\n",
      "/home/araz/Documents/GitHub/art-eqi-p300-validation/Functions/eeg_quality_index.py:83: RuntimeWarning: divide by zero encountered in divide\n",
      "  z_scores = np.floor(np.abs((eqi_test-mean_eqi_clean)/std_eqi_clean)) # Calculate z-scores\n",
      "/home/araz/Documents/GitHub/art-eqi-p300-validation/Functions/eeg_quality_index.py:83: RuntimeWarning: invalid value encountered in divide\n",
      "  z_scores = np.floor(np.abs((eqi_test-mean_eqi_clean)/std_eqi_clean)) # Calculate z-scores\n"
     ]
    },
    {
     "name": "stdout",
     "output_type": "stream",
     "text": [
      "Warning!\n",
      "One or more Z-scores have NaN values\n",
      "Review eqi_mean carefully\n",
      "Warning!\n",
      "One or more Z-scores have NaN values\n",
      "Review eqi_mean carefully\n"
     ]
    },
    {
     "name": "stderr",
     "output_type": "stream",
     "text": [
      "/home/araz/Documents/GitHub/art-eqi-p300-validation/Functions/eeg_quality_index.py:83: RuntimeWarning: divide by zero encountered in divide\n",
      "  z_scores = np.floor(np.abs((eqi_test-mean_eqi_clean)/std_eqi_clean)) # Calculate z-scores\n",
      "/home/araz/Documents/GitHub/art-eqi-p300-validation/Functions/eeg_quality_index.py:83: RuntimeWarning: invalid value encountered in divide\n",
      "  z_scores = np.floor(np.abs((eqi_test-mean_eqi_clean)/std_eqi_clean)) # Calculate z-scores\n",
      "/home/araz/Documents/GitHub/art-eqi-p300-validation/Functions/eeg_quality_index.py:83: RuntimeWarning: divide by zero encountered in divide\n",
      "  z_scores = np.floor(np.abs((eqi_test-mean_eqi_clean)/std_eqi_clean)) # Calculate z-scores\n",
      "/home/araz/Documents/GitHub/art-eqi-p300-validation/Functions/eeg_quality_index.py:83: RuntimeWarning: invalid value encountered in divide\n",
      "  z_scores = np.floor(np.abs((eqi_test-mean_eqi_clean)/std_eqi_clean)) # Calculate z-scores\n"
     ]
    },
    {
     "name": "stdout",
     "output_type": "stream",
     "text": [
      "Warning!\n",
      "One or more Z-scores have NaN values\n",
      "Review eqi_mean carefully\n",
      "Warning!\n",
      "One or more Z-scores have NaN values\n",
      "Review eqi_mean carefully\n"
     ]
    },
    {
     "name": "stderr",
     "output_type": "stream",
     "text": [
      "/home/araz/Documents/GitHub/art-eqi-p300-validation/Functions/eeg_quality_index.py:83: RuntimeWarning: divide by zero encountered in divide\n",
      "  z_scores = np.floor(np.abs((eqi_test-mean_eqi_clean)/std_eqi_clean)) # Calculate z-scores\n",
      "/home/araz/Documents/GitHub/art-eqi-p300-validation/Functions/eeg_quality_index.py:83: RuntimeWarning: invalid value encountered in divide\n",
      "  z_scores = np.floor(np.abs((eqi_test-mean_eqi_clean)/std_eqi_clean)) # Calculate z-scores\n",
      "/home/araz/Documents/GitHub/art-eqi-p300-validation/Functions/eeg_quality_index.py:83: RuntimeWarning: divide by zero encountered in divide\n",
      "  z_scores = np.floor(np.abs((eqi_test-mean_eqi_clean)/std_eqi_clean)) # Calculate z-scores\n",
      "/home/araz/Documents/GitHub/art-eqi-p300-validation/Functions/eeg_quality_index.py:83: RuntimeWarning: invalid value encountered in divide\n",
      "  z_scores = np.floor(np.abs((eqi_test-mean_eqi_clean)/std_eqi_clean)) # Calculate z-scores\n"
     ]
    },
    {
     "name": "stdout",
     "output_type": "stream",
     "text": [
      "Warning!\n",
      "One or more Z-scores have NaN values\n",
      "Review eqi_mean carefully\n",
      "Warning!\n",
      "One or more Z-scores have NaN values\n",
      "Review eqi_mean carefully\n"
     ]
    },
    {
     "name": "stderr",
     "output_type": "stream",
     "text": [
      "/home/araz/Documents/GitHub/art-eqi-p300-validation/Functions/eeg_quality_index.py:83: RuntimeWarning: divide by zero encountered in divide\n",
      "  z_scores = np.floor(np.abs((eqi_test-mean_eqi_clean)/std_eqi_clean)) # Calculate z-scores\n",
      "/home/araz/Documents/GitHub/art-eqi-p300-validation/Functions/eeg_quality_index.py:83: RuntimeWarning: invalid value encountered in divide\n",
      "  z_scores = np.floor(np.abs((eqi_test-mean_eqi_clean)/std_eqi_clean)) # Calculate z-scores\n",
      "/home/araz/Documents/GitHub/art-eqi-p300-validation/Functions/eeg_quality_index.py:83: RuntimeWarning: divide by zero encountered in divide\n",
      "  z_scores = np.floor(np.abs((eqi_test-mean_eqi_clean)/std_eqi_clean)) # Calculate z-scores\n",
      "/home/araz/Documents/GitHub/art-eqi-p300-validation/Functions/eeg_quality_index.py:83: RuntimeWarning: invalid value encountered in divide\n",
      "  z_scores = np.floor(np.abs((eqi_test-mean_eqi_clean)/std_eqi_clean)) # Calculate z-scores\n"
     ]
    },
    {
     "name": "stdout",
     "output_type": "stream",
     "text": [
      "Warning!\n",
      "One or more Z-scores have NaN values\n",
      "Review eqi_mean carefully\n",
      "Warning!\n",
      "One or more Z-scores have NaN values\n",
      "Review eqi_mean carefully\n"
     ]
    },
    {
     "name": "stderr",
     "output_type": "stream",
     "text": [
      "/home/araz/Documents/GitHub/art-eqi-p300-validation/Functions/eeg_quality_index.py:83: RuntimeWarning: divide by zero encountered in divide\n",
      "  z_scores = np.floor(np.abs((eqi_test-mean_eqi_clean)/std_eqi_clean)) # Calculate z-scores\n",
      "/home/araz/Documents/GitHub/art-eqi-p300-validation/Functions/eeg_quality_index.py:83: RuntimeWarning: invalid value encountered in divide\n",
      "  z_scores = np.floor(np.abs((eqi_test-mean_eqi_clean)/std_eqi_clean)) # Calculate z-scores\n",
      "/home/araz/Documents/GitHub/art-eqi-p300-validation/Functions/eeg_quality_index.py:83: RuntimeWarning: divide by zero encountered in divide\n",
      "  z_scores = np.floor(np.abs((eqi_test-mean_eqi_clean)/std_eqi_clean)) # Calculate z-scores\n",
      "/home/araz/Documents/GitHub/art-eqi-p300-validation/Functions/eeg_quality_index.py:83: RuntimeWarning: invalid value encountered in divide\n",
      "  z_scores = np.floor(np.abs((eqi_test-mean_eqi_clean)/std_eqi_clean)) # Calculate z-scores\n"
     ]
    },
    {
     "name": "stdout",
     "output_type": "stream",
     "text": [
      "Warning!\n",
      "One or more Z-scores have NaN values\n",
      "Review eqi_mean carefully\n",
      "Warning!\n",
      "One or more Z-scores have NaN values\n",
      "Review eqi_mean carefully\n"
     ]
    },
    {
     "name": "stderr",
     "output_type": "stream",
     "text": [
      "/home/araz/Documents/GitHub/art-eqi-p300-validation/Functions/eeg_quality_index.py:83: RuntimeWarning: divide by zero encountered in divide\n",
      "  z_scores = np.floor(np.abs((eqi_test-mean_eqi_clean)/std_eqi_clean)) # Calculate z-scores\n",
      "/home/araz/Documents/GitHub/art-eqi-p300-validation/Functions/eeg_quality_index.py:83: RuntimeWarning: invalid value encountered in divide\n",
      "  z_scores = np.floor(np.abs((eqi_test-mean_eqi_clean)/std_eqi_clean)) # Calculate z-scores\n",
      "/home/araz/Documents/GitHub/art-eqi-p300-validation/Functions/eeg_quality_index.py:83: RuntimeWarning: divide by zero encountered in divide\n",
      "  z_scores = np.floor(np.abs((eqi_test-mean_eqi_clean)/std_eqi_clean)) # Calculate z-scores\n",
      "/home/araz/Documents/GitHub/art-eqi-p300-validation/Functions/eeg_quality_index.py:83: RuntimeWarning: invalid value encountered in divide\n",
      "  z_scores = np.floor(np.abs((eqi_test-mean_eqi_clean)/std_eqi_clean)) # Calculate z-scores\n"
     ]
    },
    {
     "name": "stdout",
     "output_type": "stream",
     "text": [
      "Warning!\n",
      "One or more Z-scores have NaN values\n",
      "Review eqi_mean carefully\n",
      "Warning!\n",
      "One or more Z-scores have NaN values\n",
      "Review eqi_mean carefully\n"
     ]
    },
    {
     "name": "stderr",
     "output_type": "stream",
     "text": [
      "/home/araz/Documents/GitHub/art-eqi-p300-validation/Functions/eeg_quality_index.py:83: RuntimeWarning: divide by zero encountered in divide\n",
      "  z_scores = np.floor(np.abs((eqi_test-mean_eqi_clean)/std_eqi_clean)) # Calculate z-scores\n",
      "/home/araz/Documents/GitHub/art-eqi-p300-validation/Functions/eeg_quality_index.py:83: RuntimeWarning: invalid value encountered in divide\n",
      "  z_scores = np.floor(np.abs((eqi_test-mean_eqi_clean)/std_eqi_clean)) # Calculate z-scores\n",
      "/home/araz/Documents/GitHub/art-eqi-p300-validation/Functions/eeg_quality_index.py:83: RuntimeWarning: divide by zero encountered in divide\n",
      "  z_scores = np.floor(np.abs((eqi_test-mean_eqi_clean)/std_eqi_clean)) # Calculate z-scores\n",
      "/home/araz/Documents/GitHub/art-eqi-p300-validation/Functions/eeg_quality_index.py:83: RuntimeWarning: invalid value encountered in divide\n",
      "  z_scores = np.floor(np.abs((eqi_test-mean_eqi_clean)/std_eqi_clean)) # Calculate z-scores\n"
     ]
    },
    {
     "name": "stdout",
     "output_type": "stream",
     "text": [
      "Warning!\n",
      "One or more Z-scores have NaN values\n",
      "Review eqi_mean carefully\n",
      "Warning!\n",
      "One or more Z-scores have NaN values\n",
      "Review eqi_mean carefully\n"
     ]
    },
    {
     "name": "stderr",
     "output_type": "stream",
     "text": [
      "/home/araz/Documents/GitHub/art-eqi-p300-validation/Functions/eeg_quality_index.py:83: RuntimeWarning: divide by zero encountered in divide\n",
      "  z_scores = np.floor(np.abs((eqi_test-mean_eqi_clean)/std_eqi_clean)) # Calculate z-scores\n",
      "/home/araz/Documents/GitHub/art-eqi-p300-validation/Functions/eeg_quality_index.py:83: RuntimeWarning: invalid value encountered in divide\n",
      "  z_scores = np.floor(np.abs((eqi_test-mean_eqi_clean)/std_eqi_clean)) # Calculate z-scores\n"
     ]
    },
    {
     "name": "stdout",
     "output_type": "stream",
     "text": [
      "Warning!\n",
      "One or more Z-scores have NaN values\n",
      "Review eqi_mean carefully\n"
     ]
    },
    {
     "ename": "KeyboardInterrupt",
     "evalue": "",
     "output_type": "error",
     "traceback": [
      "\u001b[0;31m---------------------------------------------------------------------------\u001b[0m",
      "\u001b[0;31mKeyboardInterrupt\u001b[0m                         Traceback (most recent call last)",
      "Cell \u001b[0;32mIn[139], line 19\u001b[0m\n\u001b[1;32m     10\u001b[0m optimization_results \u001b[38;5;241m=\u001b[39m []\n\u001b[1;32m     12\u001b[0m args \u001b[38;5;241m=\u001b[39m (\n\u001b[1;32m     13\u001b[0m     clean_avg[subset_chans,:],\n\u001b[1;32m     14\u001b[0m     artifacts_data[a,:,:], \n\u001b[1;32m     15\u001b[0m     temple\u001b[38;5;241m.\u001b[39msrate,\n\u001b[1;32m     16\u001b[0m     window_length\n\u001b[1;32m     17\u001b[0m     )\n\u001b[0;32m---> 19\u001b[0m res_diff \u001b[38;5;241m=\u001b[39m optimize\u001b[38;5;241m.\u001b[39mdifferential_evolution(\n\u001b[1;32m     20\u001b[0m     optimization\u001b[38;5;241m.\u001b[39mmaximize_eqi,\n\u001b[1;32m     21\u001b[0m     bounds \u001b[38;5;241m=\u001b[39m bounds,\n\u001b[1;32m     22\u001b[0m     args \u001b[38;5;241m=\u001b[39m args,\n\u001b[1;32m     23\u001b[0m     polish \u001b[38;5;241m=\u001b[39m \u001b[38;5;28;01mTrue\u001b[39;00m,\n\u001b[1;32m     24\u001b[0m     callback \u001b[38;5;241m=\u001b[39m \u001b[38;5;28;01mlambda\u001b[39;00m intermediate_result, \u001b[38;5;241m*\u001b[39m\u001b[38;5;241m*\u001b[39mkwargs: optimization_results\u001b[38;5;241m.\u001b[39mappend(intermediate_result),\n\u001b[1;32m     25\u001b[0m )\n",
      "File \u001b[0;32m~/anaconda3/envs/art-eqi/lib/python3.11/site-packages/scipy/optimize/_differentialevolution.py:402\u001b[0m, in \u001b[0;36mdifferential_evolution\u001b[0;34m(func, bounds, args, strategy, maxiter, popsize, tol, mutation, recombination, seed, callback, disp, polish, init, atol, updating, workers, constraints, x0, integrality, vectorized)\u001b[0m\n\u001b[1;32m    385\u001b[0m \u001b[38;5;66;03m# using a context manager means that any created Pool objects are\u001b[39;00m\n\u001b[1;32m    386\u001b[0m \u001b[38;5;66;03m# cleared up.\u001b[39;00m\n\u001b[1;32m    387\u001b[0m \u001b[38;5;28;01mwith\u001b[39;00m DifferentialEvolutionSolver(func, bounds, args\u001b[38;5;241m=\u001b[39margs,\n\u001b[1;32m    388\u001b[0m                                  strategy\u001b[38;5;241m=\u001b[39mstrategy,\n\u001b[1;32m    389\u001b[0m                                  maxiter\u001b[38;5;241m=\u001b[39mmaxiter,\n\u001b[0;32m   (...)\u001b[0m\n\u001b[1;32m    400\u001b[0m                                  integrality\u001b[38;5;241m=\u001b[39mintegrality,\n\u001b[1;32m    401\u001b[0m                                  vectorized\u001b[38;5;241m=\u001b[39mvectorized) \u001b[38;5;28;01mas\u001b[39;00m solver:\n\u001b[0;32m--> 402\u001b[0m     ret \u001b[38;5;241m=\u001b[39m solver\u001b[38;5;241m.\u001b[39msolve()\n\u001b[1;32m    404\u001b[0m \u001b[38;5;28;01mreturn\u001b[39;00m ret\n",
      "File \u001b[0;32m~/anaconda3/envs/art-eqi/lib/python3.11/site-packages/scipy/optimize/_differentialevolution.py:1022\u001b[0m, in \u001b[0;36mDifferentialEvolutionSolver.solve\u001b[0;34m(self)\u001b[0m\n\u001b[1;32m   1019\u001b[0m \u001b[38;5;28;01mfor\u001b[39;00m nit \u001b[38;5;129;01min\u001b[39;00m \u001b[38;5;28mrange\u001b[39m(\u001b[38;5;241m1\u001b[39m, \u001b[38;5;28mself\u001b[39m\u001b[38;5;241m.\u001b[39mmaxiter \u001b[38;5;241m+\u001b[39m \u001b[38;5;241m1\u001b[39m):\n\u001b[1;32m   1020\u001b[0m     \u001b[38;5;66;03m# evolve the population by a generation\u001b[39;00m\n\u001b[1;32m   1021\u001b[0m     \u001b[38;5;28;01mtry\u001b[39;00m:\n\u001b[0;32m-> 1022\u001b[0m         \u001b[38;5;28mnext\u001b[39m(\u001b[38;5;28mself\u001b[39m)\n\u001b[1;32m   1023\u001b[0m     \u001b[38;5;28;01mexcept\u001b[39;00m \u001b[38;5;167;01mStopIteration\u001b[39;00m:\n\u001b[1;32m   1024\u001b[0m         warning_flag \u001b[38;5;241m=\u001b[39m \u001b[38;5;28;01mTrue\u001b[39;00m\n",
      "File \u001b[0;32m~/anaconda3/envs/art-eqi/lib/python3.11/site-packages/scipy/optimize/_differentialevolution.py:1409\u001b[0m, in \u001b[0;36mDifferentialEvolutionSolver.__next__\u001b[0;34m(self)\u001b[0m\n\u001b[1;32m   1407\u001b[0m     feasible \u001b[38;5;241m=\u001b[39m \u001b[38;5;28;01mTrue\u001b[39;00m\n\u001b[1;32m   1408\u001b[0m     cv \u001b[38;5;241m=\u001b[39m np\u001b[38;5;241m.\u001b[39matleast_2d([\u001b[38;5;241m0.\u001b[39m])\n\u001b[0;32m-> 1409\u001b[0m     energy \u001b[38;5;241m=\u001b[39m \u001b[38;5;28mself\u001b[39m\u001b[38;5;241m.\u001b[39mfunc(parameters)\n\u001b[1;32m   1410\u001b[0m     \u001b[38;5;28mself\u001b[39m\u001b[38;5;241m.\u001b[39m_nfev \u001b[38;5;241m+\u001b[39m\u001b[38;5;241m=\u001b[39m \u001b[38;5;241m1\u001b[39m\n\u001b[1;32m   1412\u001b[0m \u001b[38;5;66;03m# compare trial and population member\u001b[39;00m\n",
      "File \u001b[0;32m~/anaconda3/envs/art-eqi/lib/python3.11/site-packages/scipy/_lib/_util.py:360\u001b[0m, in \u001b[0;36m_FunctionWrapper.__call__\u001b[0;34m(self, x)\u001b[0m\n\u001b[1;32m    359\u001b[0m \u001b[38;5;28;01mdef\u001b[39;00m \u001b[38;5;21m__call__\u001b[39m(\u001b[38;5;28mself\u001b[39m, x):\n\u001b[0;32m--> 360\u001b[0m     \u001b[38;5;28;01mreturn\u001b[39;00m \u001b[38;5;28mself\u001b[39m\u001b[38;5;241m.\u001b[39mf(x, \u001b[38;5;241m*\u001b[39m\u001b[38;5;28mself\u001b[39m\u001b[38;5;241m.\u001b[39margs)\n",
      "File \u001b[0;32m~/Documents/GitHub/art-eqi-p300-validation/Functions/optimization.py:29\u001b[0m, in \u001b[0;36mmaximize_eqi\u001b[0;34m(x, *args)\u001b[0m\n\u001b[1;32m     21\u001b[0m art \u001b[38;5;241m=\u001b[39m ART(\n\u001b[1;32m     22\u001b[0m     window_length \u001b[38;5;241m=\u001b[39m window_length,\n\u001b[1;32m     23\u001b[0m     n_clusters \u001b[38;5;241m=\u001b[39m n_clusters,\n\u001b[1;32m     24\u001b[0m     fd_threshold \u001b[38;5;241m=\u001b[39m fd_threshold,\n\u001b[1;32m     25\u001b[0m     ssa_threshold \u001b[38;5;241m=\u001b[39m ssa_threshold \n\u001b[1;32m     26\u001b[0m )\n\u001b[1;32m     28\u001b[0m \u001b[38;5;66;03m# Apply artifact removal\u001b[39;00m\n\u001b[0;32m---> 29\u001b[0m test_data \u001b[38;5;241m=\u001b[39m art\u001b[38;5;241m.\u001b[39mremove_artifacts(\n\u001b[1;32m     30\u001b[0m     eeg_data \u001b[38;5;241m=\u001b[39m artifact_data,\n\u001b[1;32m     31\u001b[0m     srate \u001b[38;5;241m=\u001b[39m srate\n\u001b[1;32m     32\u001b[0m )\n\u001b[1;32m     34\u001b[0m eqi_total \u001b[38;5;241m=\u001b[39m eqi\u001b[38;5;241m.\u001b[39mscoring(\n\u001b[1;32m     35\u001b[0m     clean_eeg \u001b[38;5;241m=\u001b[39m clean_data,\n\u001b[1;32m     36\u001b[0m     test_eeg \u001b[38;5;241m=\u001b[39m test_data,\n\u001b[0;32m   (...)\u001b[0m\n\u001b[1;32m     40\u001b[0m     slide \u001b[38;5;241m=\u001b[39m \u001b[38;5;28mint\u001b[39m(window_samples \u001b[38;5;241m/\u001b[39m\u001b[38;5;241m/\u001b[39m \u001b[38;5;241m20\u001b[39m)\n\u001b[1;32m     41\u001b[0m )[\u001b[38;5;241m0\u001b[39m]\n\u001b[1;32m     43\u001b[0m \u001b[38;5;66;03m# Use the complement to minimize the problem\u001b[39;00m\n",
      "File \u001b[0;32m~/Documents/GitHub/art-eqi-p300-validation/Functions/artifact_removal_tool.py:88\u001b[0m, in \u001b[0;36mART.remove_artifacts\u001b[0;34m(self, eeg_data, srate)\u001b[0m\n\u001b[1;32m     86\u001b[0m \u001b[38;5;28mself\u001b[39m\u001b[38;5;241m.\u001b[39meeg_clean \u001b[38;5;241m=\u001b[39m np\u001b[38;5;241m.\u001b[39mzeros_like(\u001b[38;5;28mself\u001b[39m\u001b[38;5;241m.\u001b[39m_eeg_data)\n\u001b[1;32m     87\u001b[0m \u001b[38;5;28;01mfor\u001b[39;00m channel \u001b[38;5;129;01min\u001b[39;00m \u001b[38;5;28mrange\u001b[39m(nchans):\n\u001b[0;32m---> 88\u001b[0m     \u001b[38;5;28mself\u001b[39m\u001b[38;5;241m.\u001b[39meeg_clean[channel,:] \u001b[38;5;241m=\u001b[39m \u001b[38;5;28mself\u001b[39m\u001b[38;5;241m.\u001b[39msingle_channel_artifact_removal(\n\u001b[1;32m     89\u001b[0m         \u001b[38;5;28mself\u001b[39m\u001b[38;5;241m.\u001b[39m_eeg_data[channel,:],\n\u001b[1;32m     90\u001b[0m     )\n\u001b[1;32m     92\u001b[0m \u001b[38;5;28;01mreturn\u001b[39;00m \u001b[38;5;28mself\u001b[39m\u001b[38;5;241m.\u001b[39meeg_clean\n",
      "File \u001b[0;32m~/Documents/GitHub/art-eqi-p300-validation/Functions/artifact_removal_tool.py:109\u001b[0m, in \u001b[0;36mART.single_channel_artifact_removal\u001b[0;34m(self, eeg_data)\u001b[0m\n\u001b[1;32m    106\u001b[0m eeg_features \u001b[38;5;241m=\u001b[39m \u001b[38;5;28mself\u001b[39m\u001b[38;5;241m.\u001b[39mcompute_features(eeg_embedded)\n\u001b[1;32m    108\u001b[0m \u001b[38;5;66;03m# Kmeans decomposition\u001b[39;00m\n\u001b[0;32m--> 109\u001b[0m eeg_components \u001b[38;5;241m=\u001b[39m \u001b[38;5;28mself\u001b[39m\u001b[38;5;241m.\u001b[39mcompute_kmeans(\n\u001b[1;32m    110\u001b[0m     eeg_embedded,\n\u001b[1;32m    111\u001b[0m     eeg_features\n\u001b[1;32m    112\u001b[0m )\n\u001b[1;32m    114\u001b[0m \u001b[38;5;66;03m# Fractal dimension \u001b[39;00m\n\u001b[1;32m    115\u001b[0m fd_mask \u001b[38;5;241m=\u001b[39m \u001b[38;5;28mself\u001b[39m\u001b[38;5;241m.\u001b[39mcompute_fd_mask(eeg_components)\n",
      "File \u001b[0;32m~/Documents/GitHub/art-eqi-p300-validation/Functions/artifact_removal_tool.py:223\u001b[0m, in \u001b[0;36mART.compute_kmeans\u001b[0;34m(self, eeg_embedded, eeg_features)\u001b[0m\n\u001b[1;32m    220\u001b[0m     eeg_decomposed[:,copy_index] \u001b[38;5;241m=\u001b[39m eeg_embedded[:,copy_index]\n\u001b[1;32m    222\u001b[0m     \u001b[38;5;66;03m# Reconstruct signal from antidiagonal averages\u001b[39;00m\n\u001b[0;32m--> 223\u001b[0m     eeg_component[cluster, :] \u001b[38;5;241m=\u001b[39m \u001b[38;5;28mself\u001b[39m\u001b[38;5;241m.\u001b[39mmean_antidiag(\n\u001b[1;32m    224\u001b[0m         eeg_decomposed,\n\u001b[1;32m    225\u001b[0m         \u001b[38;5;28mself\u001b[39m\u001b[38;5;241m.\u001b[39mantidiag_method,\n\u001b[1;32m    226\u001b[0m         )\n\u001b[1;32m    228\u001b[0m \u001b[38;5;28;01mreturn\u001b[39;00m eeg_component\n",
      "File \u001b[0;32m~/Documents/GitHub/art-eqi-p300-validation/Functions/artifact_removal_tool.py:333\u001b[0m, in \u001b[0;36mART.mean_antidiag\u001b[0;34m(self, input_mat, method)\u001b[0m\n\u001b[1;32m    330\u001b[0m mask_mat \u001b[38;5;241m=\u001b[39m np\u001b[38;5;241m.\u001b[39mzeros((max_diag,\u001b[38;5;28mself\u001b[39m\u001b[38;5;241m.\u001b[39mn))               \u001b[38;5;66;03m# Empty matrix to store mask values\u001b[39;00m\n\u001b[1;32m    332\u001b[0m \u001b[38;5;28;01mfor\u001b[39;00m i, k_diag \u001b[38;5;129;01min\u001b[39;00m \u001b[38;5;28menumerate\u001b[39m(\u001b[38;5;28mrange\u001b[39m(\u001b[38;5;241m-\u001b[39minput_shape[\u001b[38;5;241m0\u001b[39m]\u001b[38;5;241m+\u001b[39m\u001b[38;5;241m1\u001b[39m, input_shape[\u001b[38;5;241m1\u001b[39m])):\n\u001b[0;32m--> 333\u001b[0m     diag_vals \u001b[38;5;241m=\u001b[39m input_flip\u001b[38;5;241m.\u001b[39mdiagonal(offset\u001b[38;5;241m=\u001b[39mk_diag)  \u001b[38;5;66;03m# Values of the k^th diagonal\u001b[39;00m\n\u001b[1;32m    334\u001b[0m     n_diag \u001b[38;5;241m=\u001b[39m diag_vals\u001b[38;5;241m.\u001b[39msize                         \u001b[38;5;66;03m# Length of values of the k^th diagonal\u001b[39;00m\n\u001b[1;32m    335\u001b[0m     diag_mat[\u001b[38;5;241m0\u001b[39m:n_diag,i] \u001b[38;5;241m=\u001b[39m diag_vals\n",
      "\u001b[0;31mKeyboardInterrupt\u001b[0m: "
     ]
    }
   ],
   "source": [
    "for a,artifact in enumerate(artifacts_chans):\n",
    "    # Get subset of channels based on artifact\n",
    "    subset_chans = [temple.ch_names.index(chan) for chan in artifact if chan in temple.ch_names]\n",
    "\n",
    "    n_clusters = (1, 10)\n",
    "    fd_threshold = (0.1, 10)\n",
    "    ssa_threshold = (0.001, 0.1)\n",
    "    bounds = (n_clusters, fd_threshold, ssa_threshold)\n",
    "    \n",
    "    optimization_results = []\n",
    "\n",
    "    args = (\n",
    "        clean_avg[subset_chans,:],\n",
    "        artifacts_data[a,:,:], \n",
    "        temple.srate,\n",
    "        window_length\n",
    "        )\n",
    "    \n",
    "    res_diff = optimize.differential_evolution(\n",
    "        optimization.maximize_eqi,\n",
    "        bounds = bounds,\n",
    "        args = args,\n",
    "        polish = True,\n",
    "        callback = lambda intermediate_result, **kwargs: optimization_results.append(intermediate_result),\n",
    "    )"
   ]
  },
  {
   "cell_type": "code",
   "execution_count": 142,
   "metadata": {},
   "outputs": [
    {
     "data": {
      "text/plain": [
       " message: Optimization terminated successfully.\n",
       " success: True\n",
       "     fun: 99.34210526315789\n",
       "       x: [ 9.234e+00  8.606e-01  4.185e-02]\n",
       "     nit: 1\n",
       "    nfev: 94"
      ]
     },
     "execution_count": 142,
     "metadata": {},
     "output_type": "execute_result"
    }
   ],
   "source": [
    "res_diff"
   ]
  },
  {
   "cell_type": "code",
   "execution_count": 56,
   "metadata": {},
   "outputs": [
    {
     "ename": "IndexError",
     "evalue": "list index out of range",
     "output_type": "error",
     "traceback": [
      "\u001b[0;31m---------------------------------------------------------------------------\u001b[0m",
      "\u001b[0;31mIndexError\u001b[0m                                Traceback (most recent call last)",
      "Cell \u001b[0;32mIn[56], line 1\u001b[0m\n\u001b[0;32m----> 1\u001b[0m optimization_results[\u001b[38;5;241m1\u001b[39m]\u001b[38;5;241m.\u001b[39mkeys()\n",
      "\u001b[0;31mIndexError\u001b[0m: list index out of range"
     ]
    }
   ],
   "source": [
    "optimization_results[1].keys()"
   ]
  },
  {
   "cell_type": "code",
   "execution_count": 57,
   "metadata": {},
   "outputs": [
    {
     "ename": "IndexError",
     "evalue": "only integers, slices (`:`), ellipsis (`...`), numpy.newaxis (`None`) and integer or boolean arrays are valid indices",
     "output_type": "error",
     "traceback": [
      "\u001b[0;31m---------------------------------------------------------------------------\u001b[0m",
      "\u001b[0;31mIndexError\u001b[0m                                Traceback (most recent call last)",
      "Cell \u001b[0;32mIn[57], line 2\u001b[0m\n\u001b[1;32m      1\u001b[0m \u001b[38;5;28;01mfor\u001b[39;00m iteration \u001b[38;5;129;01min\u001b[39;00m optimization_results:\n\u001b[0;32m----> 2\u001b[0m     nit \u001b[38;5;241m=\u001b[39m iteration[\u001b[38;5;124m\"\u001b[39m\u001b[38;5;124mnit\u001b[39m\u001b[38;5;124m\"\u001b[39m]\n\u001b[1;32m      3\u001b[0m     fun \u001b[38;5;241m=\u001b[39m iteration[\u001b[38;5;124m\"\u001b[39m\u001b[38;5;124mfun\u001b[39m\u001b[38;5;124m\"\u001b[39m]\n\u001b[1;32m      4\u001b[0m     message \u001b[38;5;241m=\u001b[39m iteration[\u001b[38;5;124m\"\u001b[39m\u001b[38;5;124mmessage\u001b[39m\u001b[38;5;124m\"\u001b[39m]\n",
      "\u001b[0;31mIndexError\u001b[0m: only integers, slices (`:`), ellipsis (`...`), numpy.newaxis (`None`) and integer or boolean arrays are valid indices"
     ]
    }
   ],
   "source": [
    "for iteration in optimization_results:\n",
    "    nit = iteration[\"nit\"]\n",
    "    fun = iteration[\"fun\"]\n",
    "    message = iteration[\"message\"]\n",
    "    print(f\"{message} {nit}: {fun}\")"
   ]
  }
 ],
 "metadata": {
  "kernelspec": {
   "display_name": "art-eqi",
   "language": "python",
   "name": "python3"
  },
  "language_info": {
   "codemirror_mode": {
    "name": "ipython",
    "version": 3
   },
   "file_extension": ".py",
   "mimetype": "text/x-python",
   "name": "python",
   "nbconvert_exporter": "python",
   "pygments_lexer": "ipython3",
   "version": "3.11.7"
  }
 },
 "nbformat": 4,
 "nbformat_minor": 2
}
